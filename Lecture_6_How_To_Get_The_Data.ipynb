{
 "cells": [
  {
   "cell_type": "markdown",
   "metadata": {},
   "source": [
    "# Lecture 6: How to get the data\n",
    "aka \"Why BeautifulSoup is cool\""
   ]
  },
  {
   "cell_type": "markdown",
   "metadata": {},
   "source": [
    "(The present lecture is inspired by the the webpage [here](https://www.dataquest.io/blog/web-scraping-beautifulsoup/))"
   ]
  },
  {
   "cell_type": "markdown",
   "metadata": {},
   "source": [
    "## Loading python modules"
   ]
  },
  {
   "cell_type": "markdown",
   "metadata": {},
   "source": [
    "[requests](http://docs.python-requests.org/en/master/) permits to get a webpage.\n",
    "[BeautifulSoup](https://www.crummy.com/software/BeautifulSoup/bs4/doc/) navigates it.\n",
    "<br>**PAY ATTENTION!** request**S** (request is a different module)"
   ]
  },
  {
   "cell_type": "code",
   "execution_count": 140,
   "metadata": {},
   "outputs": [],
   "source": [
    "from requests import get\n",
    "from bs4 import BeautifulSoup\n",
    "import bs4"
   ]
  },
  {
   "cell_type": "markdown",
   "metadata": {},
   "source": [
    "# IMDB"
   ]
  },
  {
   "cell_type": "markdown",
   "metadata": {},
   "source": [
    "What is [IMDB](https://en.wikipedia.org/wiki/IMDb)?"
   ]
  },
  {
   "cell_type": "markdown",
   "metadata": {},
   "source": [
    "The webpage of [IMDB search](https://www.imdb.com/search/title)"
   ]
  },
  {
   "cell_type": "markdown",
   "metadata": {},
   "source": [
    "## requests in action"
   ]
  },
  {
   "cell_type": "code",
   "execution_count": 6,
   "metadata": {},
   "outputs": [],
   "source": [
    "url = 'http://www.imdb.com/search/title?release_date=2018&sort=num_votes,desc&page=1'"
   ]
  },
  {
   "cell_type": "code",
   "execution_count": 7,
   "metadata": {},
   "outputs": [],
   "source": [
    "response = get(url,headers = {\"Accept-Language\": \"en-US, en;q=0.5\"})"
   ]
  },
  {
   "cell_type": "markdown",
   "metadata": {},
   "source": [
    "With the previous specification get accepts US English and generically English, with a strictness of 0.5 (I mean, quite weak)."
   ]
  },
  {
   "cell_type": "code",
   "execution_count": 5,
   "metadata": {},
   "outputs": [
    {
     "name": "stdout",
     "output_type": "stream",
     "text": [
      "\n",
      "\n",
      "<!DOCTYPE html>\n",
      "<html\n",
      "    xmlns:og=\"http://ogp.me/ns#\"\n",
      "    xmlns:fb=\"http://www.facebook.com/2008/fbml\">\n",
      "    <head>\n",
      "         \n",
      "        <meta charset=\"utf-8\">\n",
      "        <meta http-equiv=\"X-UA-Compatible\" content=\"IE=edge\">\n",
      "\n",
      "    <meta name=\"apple-itunes-app\" content=\"app-id=342792525, app-argument=imdb:///?src=mdot\">\n",
      "\n",
      "\n",
      "\n",
      "        <script type=\"text/javascript\">var IMDbTimer={starttime: new Date().getTime(),pt:'java'};</script>\n",
      "\n",
      "<script>\n",
      "    if (typeof uet == 'function') {\n",
      "      uet(\"bb\", \"LoadTitle\",\n"
     ]
    }
   ],
   "source": [
    "print response.text[:500]"
   ]
  },
  {
   "cell_type": "markdown",
   "metadata": {},
   "source": [
    "Cool, but as a text I cannot do something really interesting..."
   ]
  },
  {
   "cell_type": "markdown",
   "metadata": {},
   "source": [
    "## Beautiful Soup is indeed beautiful\n",
    "The interesting thing of BeautifulSoup is that it permits you to navigate the webpage"
   ]
  },
  {
   "cell_type": "markdown",
   "metadata": {},
   "source": [
    "### Getting a navigable webpage"
   ]
  },
  {
   "cell_type": "code",
   "execution_count": 8,
   "metadata": {},
   "outputs": [],
   "source": [
    "html_soup = BeautifulSoup(response.text, 'html.parser')"
   ]
  },
  {
   "cell_type": "markdown",
   "metadata": {},
   "source": [
    "Here we are using the default parser, but in principle there are [others](https://www.crummy.com/software/BeautifulSoup/bs4/doc/#installing-a-parser)."
   ]
  },
  {
   "cell_type": "code",
   "execution_count": 11,
   "metadata": {},
   "outputs": [
    {
     "data": {
      "text/plain": [
       "\\n<!DOCTYPE html>\\n\\n<html xmlns:fb=\"http://www.facebook.com/2008/fbml\" xmlns:og=\"http://ogp.me/ns#\">\\n<head>\\n<meta charset=\"unicode-escape\"/>\\n<meta content=\"IE=edge\" http-equiv=\"X-UA-Compatible\"/>\\n<meta content=\"app-id=342792525, app-argument=imdb:///?src=mdot\" name=\"apple-itunes-app\"/>\\n<script type=\"text/javascript\">var IMDbTimer={starttime: new Date().getTime(),pt:'java'};</script>\\n<script>\\n    if (typeof uet == 'function') {\\n      uet(\"bb\", \"LoadTitle\", {wb: 1});\\n    }\\n</script>\\n<script>(function(t){ (t.events = t.events || {})[\"csm_head_pre_title\"] = new Date().getTime(); })(IMDbTimer);</script>\\n<title>IMDb: Released between 2018-01-01 and 2018-12-31\\n(Sorted by Number of Votes Descending) - IMDb</title>\\n<script>(function(t){ (t.events = t.events || {})[\"csm_head_post_title\"] = new Date().getTime(); })(IMDbTimer);</script>\\n<script>\\n    if (typeof uet == 'function') {\\n      uet(\"be\", \"LoadTitle\", {wb: 1});\\n    }\\n</script>\\n<script>\\n    if (typeof uex == 'function') {\\n      uex(\"ld\", \"LoadTitle\", {wb: 1});\\n    }\\n</script>\\n<link href=\"https://www.imdb.com/search/title\" rel=\"canonical\"/>\\n<meta content=\"http://www.imdb.com/search/title\" property=\"og:url\">\\n<script>\\n    if (typeof uet == 'function') {\\n      uet(\"bb\", \"LoadIcons\", {wb: 1});\\n    }\\n</script>\\n<script>(function(t){ (t.events = t.events || {})[\"csm_head_pre_icon\"] = new Date().getTime(); })(IMDbTimer);</script>\\n<link href=\"https://m.media-amazon.com/images/G/01/imdb/images/safari-favicon-517611381._CB483525257_.svg\" mask=\"\" rel=\"icon\" sizes=\"any\"/>\\n<link href=\"https://m.media-amazon.com/images/G/01/imdb/images/favicon-2165806970._CB470047330_.ico\" rel=\"icon\" type=\"image/ico\">\\n<meta content=\"#000000\" name=\"theme-color\">\\n<link href=\"https://m.media-amazon.com/images/G/01/imdb/images/desktop-favicon-2165806970._CB484110913_.ico\" rel=\"shortcut icon\" type=\"image/x-icon\"/>\\n<link href=\"https://m.media-amazon.com/images/G/01/imdb/images/mobile/apple-touch-icon-web-4151659188._CB483525313_.png\" rel=\"apple-touch-icon\"/>\\n<link href=\"https://m.media-amazon.com/images/G/01/imdb/images/mobile/apple-touch-icon-web-76x76-53536248._CB484146059_.png\" rel=\"apple-touch-icon\" sizes=\"76x76\"/>\\n<link href=\"https://m.media-amazon.com/images/G/01/imdb/images/mobile/apple-touch-icon-web-120x120-2442878471._CB483525250_.png\" rel=\"apple-touch-icon\" sizes=\"120x120\"/>\\n<link href=\"https://m.media-amazon.com/images/G/01/imdb/images/mobile/apple-touch-icon-web-152x152-1475823641._CB470042035_.png\" rel=\"apple-touch-icon\" sizes=\"152x152\"/>\\n<link href=\"https://m.media-amazon.com/images/G/01/imdb/images/imdbsearch-3349468880._CB470047351_.xml\" rel=\"search\" title=\"IMDb\" type=\"application/opensearchdescription+xml\">\\n<script>(function(t){ (t.events = t.events || {})[\"csm_head_post_icon\"] = new Date().getTime(); })(IMDbTimer);</script>\\n<script>\\n    if (typeof uet == 'function') {\\n      uet(\"be\", \"LoadIcons\", {wb: 1});\\n    }\\n</script>\\n<script>\\n    if (typeof uex == 'function') {\\n      uex(\"ld\", \"LoadIcons\", {wb: 1});\\n    }\\n</script>\\n<meta content=\"search\" property=\"pageType\">\\n<meta content=\"title\" property=\"subpageType\"/>\\n<link href=\"https://m.media-amazon.com/images/G/01/imdb/images-ANDW73HA/imdb_fb_logo._CB1542065250_.png\" rel=\"image_src\"/>\\n<meta content=\"https://m.media-amazon.com/images/G/01/imdb/images-ANDW73HA/imdb_fb_logo._CB1542065250_.png\" property=\"og:image\"/>\\n<meta content=\"115109575169727\" property=\"fb:app_id\"/>\\n<meta content=\"IMDb: Released between 2018-01-01 and 2018-12-31\\n(Sorted by Number of Votes Descending)\" property=\"og:title\"/>\\n<meta content=\"IMDb\" property=\"og:site_name\"/>\\n<meta content=\"IMDb: Released between 2018-01-01 and 2018-12-31\\n(Sorted by Number of Votes Descending) - IMDb\" name=\"title\"/>\\n<meta content=\"IMDb's advanced search allows you to run extremely powerful queries over all people and titles in the database. Find exactly what you're looking for!\" name=\"description\"/>\\n<meta content=\"IMDb's advanced search allows you to run extremely powerful queries over all people and titles in the database. Find exactly what you're looking for!\" property=\"og:description\"/>\\n<meta content=\"RYZ95S11TRAHDNWW350Z\" name=\"request_id\"/>\\n<script>\\n    if (typeof uet == 'function') {\\n      uet(\"bb\", \"LoadCSS\", {wb: 1});\\n    }\\n</script>\\n<script>(function(t){ (t.events = t.events || {})[\"csm_head_pre_css\"] = new Date().getTime(); })(IMDbTimer);</script>\\n<link href=\"https://m.media-amazon.com/images/G/01/imdb/css/collections/consumersite-1494784295._CB460575318_.css\" rel=\"stylesheet\" type=\"text/css\">\\n<!-- h=ics-c42xl-1-1f-4de7a654.us-east-1 -->\\n<link href=\"https://m.media-amazon.com/images/G/01/imdb/css/site/consumer-navbar-mega-4236899592._CB479077956_.css\" rel=\"stylesheet\" type=\"text/css\">\\n<!--[if IE]><link rel=\"stylesheet\" type=\"text/css\" href=\"https://m.media-amazon.com/images/G/01/imdb/css/collections/ie-3579153447._CB470040875_.css\" /><![endif]-->\\n<link href=\"https://m.media-amazon.com/images/G/01/imdb/css/iui/lists-3710000030._CB470256113_.css\" rel=\"stylesheet\" type=\"text/css\">\\n<link href=\"https://m.media-amazon.com/images/G/01/imdb/css/collections/other-3276907539._CB480870133_.css\" rel=\"stylesheet\" type=\"text/css\">\\n<link href=\"https://m.media-amazon.com/images/G/01/imdb/css/collections/starbarwidget-2454701167._CB470040909_.css\" rel=\"stylesheet\" type=\"text/css\"/>\\n<link href=\"https://m.media-amazon.com/images/G/01/imdb/css/collections/watchlistButton-197279306._CB482060654_.css\" rel=\"stylesheet\" type=\"text/css\"/>\\n<noscript>\\n<link href=\"https://m.media-amazon.com/images/G/01/imdb/css/wheel/nojs-2827156349._CB470041026_.css\" rel=\"stylesheet\" type=\"text/css\"/>\\n</noscript>\\n<script>(function(t){ (t.events = t.events || {})[\"csm_head_post_css\"] = new Date().getTime(); })(IMDbTimer);</script>\\n<script>\\n    if (typeof uet == 'function') {\\n      uet(\"be\", \"LoadCSS\", {wb: 1});\\n    }\\n</script>\\n<script>\\n    if (typeof uex == 'function') {\\n      uex(\"ld\", \"LoadCSS\", {wb: 1});\\n    }\\n</script>\\n<script>\\n    if (typeof uet == 'function') {\\n      uet(\"bb\", \"LoadJS\", {wb: 1});\\n    }\\n</script>\\n<script>(function(t){ (t.events = t.events || {})[\"csm_head_pre_ads\"] = new Date().getTime(); })(IMDbTimer);</script>\\n<script type=\"text/javascript\">\\n            // ensures js doesn't die if ads service fails.  \\n            // Note that we need to define the js here, since ad js is being rendered inline after this.\\n            (function(f) {\\n                // Fallback javascript, when the ad Service call fails.  \\n                \\n                if((window.csm == null || window.generic == null || window.consoleLog == null)) {\\n                    if (window.console && console.log) {\\n                        console.log(\"one or more of window.csm, window.generic or window.consoleLog has been stubbed...\");\\n                    }\\n                }\\n                \\n                window.csm = window.csm || { measure:f, record:f, duration:f, listen:f, metrics:{} };\\n                window.generic = window.generic || { monitoring: { start_timing: f, stop_timing: f } };\\n                window.consoleLog = window.consoleLog || f;\\n            })(function() {});\\n        </script>\\n<script>\\n    if ('csm' in window) {\\n      csm.measure('csm_head_delivery_finished');\\n    }\\n  </script>\\n<script>\\n    if (typeof uet == 'function') {\\n      uet(\"be\", \"LoadJS\", {wb: 1});\\n    }\\n</script>\\n<script>\\n    if (typeof uex == 'function') {\\n      uex(\"ld\", \"LoadJS\", {wb: 1});\\n    }\\n</script>\\n</link></link></link></link></meta></link></meta></link></meta></head>\\n<body class=\"fixed\" id=\"styleguide-v2\">\\n<script>\\n    if (typeof uet == 'function') {\\n      uet(\"bb\");\\n    }\\n</script>\\n<script>\\n    if ('csm' in window) {\\n      csm.measure('csm_body_delivery_started');\\n    }\\n  </script>\\n<div id=\"wrapper\">\\n<div class=\"redesign\" id=\"root\">\\n<div class=\"navbarSprite\" id=\"nb20\">\\n<div id=\"supertab\">\\n<!-- no content received for slot: top_ad -->\\n</div>\\n<script>\\n    if (typeof uet == 'function') {\\n      uet(\"ns\");\\n    }\\n</script>\\n<div class=\"navbarSprite\" id=\"navbar\">\\n<noscript>\\n<style>\\n        #pagecontent{margin-top:-17px}\\n    </style>\\n</noscript>\\n<span id=\"home_img_holder\">\\n<a class=\"navbarSprite\" href=\"/?ref_=nv_home\" id=\"home_img\" title=\"Home\"></a> <span class=\"alt_logo\">\\n<a href=\"/?ref_=nv_home\" title=\"Home\">IMDb</a>\\n</span>\\n</span>\\n<form action=\"/find\" class=\"nav-searchbar-inner\" id=\"navbar-form\" method=\"get\">\\n<div id=\"nb_search\">\\n<noscript><div id=\"more_if_no_javascript\"><a href=\"/search/\">More</a></div></noscript>\\n<button aria-label=\"Submit Search\" class=\"primary btn\" id=\"navbar-submit-button\" type=\"submit\"><div class=\"magnifyingglass navbarSprite\"></div></button>\\n<input name=\"ref_\" type=\"hidden\" value=\"nv_sr_fn\"/>\\n<input autocomplete=\"off\" id=\"navbar-query\" name=\"q\" placeholder=\"Find Movies, TV shows, Celebrities and more...\" type=\"text\" value=\"\"/>\\n<div class=\"quicksearch_dropdown_wrapper\">\\n<select class=\"quicksearch_dropdown navbarSprite hidden\" id=\"quicksearch\" name=\"s\">\\n<option value=\"all\">All</option>\\n<option value=\"tt\">Titles</option>\\n<option value=\"ep\">TV Episodes</option>\\n<option value=\"nm\">Names</option>\\n<option value=\"co\">Companies</option>\\n<option value=\"kw\">Keywords</option>\\n</select>\\n</div>\\n<div cel_widget_id=\"SuggestionSearchWidget\" class=\"celwidget\" id=\"navbar-suggestionsearch\"></div>\\n</div>\\n</form>\\n<div id=\"megaMenu\">\\n<ul class=\"main_nav\" id=\"consumer_main_nav\">\\n<li class=\"spacer\"></li>\\n<li class=\"css_nav_item\" id=\"navTitleMenu\">\\n<p class=\"navCategory\">\\n<a href=\"/movies-in-theaters/?ref_=nv_tp_inth_1\">Movies</a>,\\n                <a href=\"/chart/toptv/?ref_=nv_tp_tv250_2\">TV</a><br/>\\n                &amp; <a href=\"/showtimes/?ref_=nv_tp_sh_3\">Showtimes</a></p>\\n<span class=\"downArrow\"></span>\\n<div class=\"sub_nav\" id=\"navMenu1\">\\n<div id=\"titleMenuImage\" style=\"background: url('https://ia.media-imdb.com/images/M/MV5BNDY1MzE3MTI0Nl5BMl5BanBnXkFtZTcwNDIwNTI5Mw@@._V1._SY315_CR0,0,410,315_.jpg')\">\\n<a class=\"fallback\" href=\"/title/tt0137523/?ref_=nv_mv_dflt_1\" title=\"                            Fight Club\\n, #10 on IMDb Top Rated Movies\">\\n</a>\\n<div class=\"overlay\">\\n<p>\\n<a href=\"/title/tt0137523/?ref_=nv_mv_dflt_2\" id=\"titleMenuImageClick\">\\n<strong>                            Fight Club\\n</strong> (1999)\\n                                </a>\\n<br/>\\n<a href=\"/chart/top?ref_=nv_mv_dflt_3\" id=\"titleMenuImageSecondaryClick\">\\n                                    #<strong>10</strong> on IMDb Top Rated Movies\\n                                </a> \\xbb\\n                            </p>\\n</div>\\n</div>\\n<div class=\"subNavListContainer\">\\n<h5>MOVIES</h5>\\n<ul>\\n<li><a href=\"/movies-in-theaters/?ref_=nv_mv_inth\">In Theaters</a></li>\\n<li><a href=\"/showtimes/?ref_=nv_mv_sh\">Showtimes &amp; Tickets</a></li>\\n<li><a href=\"/trailers/?ref_=nv_mv_tr\">Latest Trailers</a></li>\\n<li><a href=\"/movies-coming-soon/?ref_=nv_mv_cs\">Coming Soon</a></li>\\n<li><a href=\"/calendar/?ref_=nv_mv_cal\">Release Calendar</a></li>\\n<li><a href=\"/chart/top?ref_=nv_mv_250\">Top Rated Movies</a></li>\\n<li><a href=\"/india/top-rated-indian-movies?ref_=nv_mv_250_in\">Top Rated Indian Movies</a></li>\\n<li><a href=\"/chart/moviemeter?ref_=nv_mv_mpm\">Most Popular Movies</a></li>\\n</ul>\\n<h5>CHARTS &amp; TRENDS</h5>\\n<ul>\\n<li><a href=\"/chart/?ref_=nv_ch_cht\">Box Office</a></li>\\n<li><a href=\"/search/title?count=100&amp;groups=oscar_best_picture_winners&amp;sort=year,desc&amp;ref_=nv_ch_osc\">Oscar Winners</a></li>\\n<li><a href=\"/genre/?ref_=nv_ch_gr\">Most Popular by Genre</a></li>\\n</ul>\\n</div>\\n<div class=\"subNavListContainer\">\\n<h5>TV &amp; VIDEO</h5>\\n<ul>\\n<li><a href=\"/tv/?ref_=nv_tvv_tv\">IMDb TV</a></li>\\n<li><a href=\"/chart/toptv/?ref_=nv_tvv_250\">Top Rated TV Shows</a></li>\\n<li><a href=\"/chart/tvmeter?ref_=nv_tvv_mptv\">Most Popular TV Shows</a></li>\\n<li><a href=\"/sections/dvd/?ref_=nv_tvv_dvd\">DVD &amp; Blu-Ray</a></li>\\n</ul>\\n<h5>SPECIAL FEATURES</h5>\\n<ul>\\n<li><a href=\"/amazon-originals/?ref_=nv_sf_ams\">Amazon Originals</a></li>\\n<li><a href=\"/streaming/?ref_=nv_sf_str\">Streaming Now</a></li>\\n<li><a href=\"/scary-good/?ref_=nv_sf_sca\">Horror Guide</a></li>\\n<li><a href=\"/imdbpicks/?ref_=nv_sf_picks\">IMDb Picks</a></li>\\n<li><a href=\"/best-of/?ref_=nv_sf_bes\">Best of 2018</a></li>\\n<li><a href=\"/video-games/?ref_=nv_sf_vidg\">Video Games</a></li>\\n<li><a href=\"/marvel/?ref_=nv_sf_marvel\">Marvel</a></li>\\n</ul>\\n</div>\\n</div>\\n</li>\\n<li class=\"spacer\"></li>\\n<li class=\"css_nav_item\" id=\"navNameMenu\">\\n<p class=\"navCategory\">\\n<a href=\"/search/name?gender=male,female&amp;ref_=nv_tp_cel\">Celebs</a>,\\n                <a href=\"/awards-central/?ref_=nv_tp_awrd\">Events</a><br/>\\n                &amp; <a href=\"/gallery/rg1859820288?ref_=nv_tp_ph\">Photos</a></p>\\n<span class=\"downArrow\"></span>\\n<div class=\"sub_nav\" id=\"navMenu2\">\\n<div id=\"nameMenuImage\" style=\"background: url('https://ia.media-imdb.com/images/M/MV5BODE3Mzk4NDkyM15BMl5BanBnXkFtZTcwNjczMTg1Ng@@._V1._SX350_CR45,10,250,315_.jpg')\">\\n<a class=\"fallback\" href=\"/name/nm1212722/?ref_=nv_cel_dflt_1\" title=\"Benedict Cumberbatch, #154 on STARmeter\">\\n</a>\\n<div class=\"overlay\">\\n<p>\\n<a href=\"/name/nm1212722/?ref_=nv_cel_dflt_2\" id=\"nameAdClick\">\\n<strong>Benedict Cumberbatch</strong>\\n</a> \\xbb\\n                                <br/>\\n                                #<strong>154</strong> on STARmeter\\n                            </p>\\n</div>\\n</div>\\n<div class=\"subNavListContainer\">\\n<h5>CELEBS</h5>\\n<ul>\\n<li><a href=\"/search/name?birth_monthday=12-03&amp;refine=birth_monthday&amp;ref_=nv_cel_brn\">Born Today</a></li>\\n<li><a href=\"/news/celebrity?ref_=nv_cel_nw\">Celebrity News</a></li>\\n<li><a href=\"/search/name?gender=male,female&amp;ref_=nv_cel_m\">Most Popular Celebs</a></li>\\n</ul>\\n<h5>PHOTOS</h5>\\n<ul>\\n<li><a href=\"/gallery/rg1859820288?ref_=nv_ph_ls\">Latest Stills</a></li>\\n<li><a href=\"/gallery/rg1624939264?ref_=nv_ph_lp\">Latest Posters</a></li>\\n<li><a href=\"/gallery/rg1641716480?ref_=nv_ph_lv\">Photos We Love</a></li>\\n</ul>\\n</div>\\n<div class=\"subNavListContainer\">\\n<h5>EVENTS</h5>\\n<ul>\\n<li><a href=\"/awards-central/?ref_=nv_ev_awrd\">Awards Central</a></li>\\n<li><a href=\"/festival-central/?ref_=nv_ev_fc\">Festival Central</a></li>\\n<li><a href=\"/oscars/?ref_=nv_ev_acd\">Oscars</a></li>\\n<li><a href=\"/golden-globes/?ref_=nv_ev_gg\">Golden Globes</a></li>\\n<li><a href=\"/sundance/?ref_=nv_ev_sun\">Sundance</a></li>\\n<li><a href=\"/cannes/?ref_=nv_ev_can\">Cannes</a></li>\\n<li><a href=\"/comic-con/?ref_=nv_ev_comic\">San Diego Comic-Con</a></li>\\n<li><a href=\"/emmys/?ref_=nv_ev_rte\">Emmy Awards</a></li>\\n<li><a href=\"/venice/?ref_=nv_ev_venice\">Venice Film Festival</a></li>\\n<li><a href=\"/toronto/?ref_=nv_ev_tor\">Toronto Film Festival</a></li>\\n<li><a href=\"/festival-central/tribeca?ref_=nv_ev_trb\">Tribeca</a></li>\\n<li><a href=\"/lafilmfest/?ref_=nv_ev_laff\">LA Film Festival</a></li>\\n<li><a href=\"/event/all/?ref_=nv_ev_all\">All Events</a></li>\\n</ul>\\n</div>\\n</div>\\n</li>\\n<li class=\"spacer\"></li>\\n<li class=\"css_nav_item\" id=\"navNewsMenu\">\\n<p class=\"navCategory\">\\n<a href=\"/news/top?ref_=nv_tp_nw\">News</a> &amp;<br/>\\n<a href=\"/czone/?ref_=nv_cm_cz\">Community</a>\\n</p>\\n<span class=\"downArrow\"></span>\\n<div class=\"sub_nav\" id=\"navMenu3\">\\n<div id=\"latestHeadlines\">\\n<div class=\"subNavListContainer\">\\n<h5>LATEST HEADLINES</h5>\\n<ul class=\"ipl-simple-list\">\\n<li class=\"news_item\">\\n<a href=\"/news/ni62298925?ref_=nv_nw_tn_1\"> \\u2018The Favourite\\u2019 Dominates the British Independent Film Awards\\n</a><br/>\\n<small>\\n<span>10 hours ago</span>\\n<span>|</span>\\n<span>The Wrap</span>\\n</small>\\n</li>\\n<li class=\"news_item\">\\n<a href=\"/news/ni62292688?ref_=nv_nw_tn_2\"> \\u2018Aquaman\\u2019 Wins Rave Early Reactions: \\u2018Most Ambitious DC Film to Date\\u2019\\n</a><br/>\\n<small>\\n<span>1 day ago</span>\\n<span>|</span>\\n<span>The Wrap</span>\\n</small>\\n</li>\\n<li class=\"news_item\">\\n<a href=\"/news/ni62298833?ref_=nv_nw_tn_3\"> \\u2018Saturday Night Live\\u2019 Ratings Slip With Host Claire Foy\\n</a><br/>\\n<small>\\n<span>13 hours ago</span>\\n<span>|</span>\\n<span>Deadline</span>\\n</small>\\n</li>\\n</ul>\\n</div>\\n</div>\\n<div class=\"subNavListContainer\">\\n<h5>NEWS</h5>\\n<ul>\\n<li><a href=\"/news/top?ref_=nv_nw_tp\">Top News</a></li>\\n<li><a href=\"/news/movie?ref_=nv_nw_mv\">Movie News</a></li>\\n<li><a href=\"/news/tv?ref_=nv_nw_tv\">TV News</a></li>\\n<li><a href=\"/news/celebrity?ref_=nv_nw_cel\">Celebrity News</a></li>\\n<li><a href=\"/news/indie?ref_=nv_nw_ind\">Indie News</a></li>\\n</ul>\\n<h5>COMMUNITY</h5>\\n<ul>\\n<li><a href=\"/czone/?ref_=nv_cm_cz\">Contributor Zone</a></li>\\n<li><a href=\"/poll/?ref_=nv_cm_pl\">Polls</a></li>\\n</ul>\\n</div>\\n</div>\\n</li>\\n<li class=\"spacer\"></li>\\n<li class=\"css_nav_item\" id=\"navWatchlistMenu\">\\n<p class=\"navCategory singleLine watchlist\">\\n<a href=\"/list/watchlist?ref_=nv_wl_all_0\">Watchlist</a>\\n</p>\\n<span class=\"downArrow\"></span>\\n<div class=\"sub_nav\" id=\"navMenu4\">\\n<h5>\\n            YOUR WATCHLIST\\n    </h5>\\n<ul id=\"navWatchlist\">\\n</ul>\\n<script>\\n    if (!('imdb' in window)) { window.imdb = {}; }\\n    window.imdb.watchlistTeaserData = [\\n                {\\n                        href : \"/list/watchlist\",\\n                src : \"https://m.media-amazon.com/images/G/01/wprs/images/navbar/watchlist_slot1_logged_out._CB484021159_.jpg\"\\n                },\\n                {\\n                    href : \"/search/title?count=100&title_type=feature,tv_series\",\\n                src : \"https://m.media-amazon.com/images/G/01/wprs/images/navbar/watchlist_slot2_popular._CB484021159_.jpg\"\\n                },\\n                {\\n                    href : \"/chart/top\",\\n                src : \"https://m.media-amazon.com/images/G/01/wprs/images/navbar/watchlist_slot3_top250._CB484021159_.jpg\"\\n                }\\n    ];\\n    </script>\\n</div>\\n</li>\\n<li class=\"spacer\"></li>\\n</ul>\\n</div>\\n<div id=\"nb_extra\">\\n<ul class=\"main_nav\" id=\"nb_extra_nav\">\\n<li class=\"css_nav_item\" id=\"navProMenu\">\\n<p class=\"navCategory\">\\n<a href=\"https://pro.imdb.com/login/ap?u=/login/lwa&amp;imdbPageAction=signUp&amp;rf=cons_nb_hm&amp;ref_=cons_nb_hm\"> <img alt=\"IMDbPro Menu\" src=\"https://m.media-amazon.com/images/G/01/wprs/images/navbar/imdbpro_logo_nb._CB484021162_.png\"/>\\n</a> </p>\\n<span class=\"downArrow\"></span>\\n<div class=\"imdb-pro-ad-shared imdb-pro-ad-redesign sub_nav\" id=\"navMenuPro\">\\n<a class=\"imdb-pro-ad__link\" href=\"https://pro.imdb.com/login/ap?u=/login/lwa&amp;imdbPageAction=signUp&amp;rf=cons_nb_hm&amp;ref_=cons_nb_hm\"> <div class=\"imdb-pro-ad__image\" id=\"proAd\">\\n<img alt=\"Go to IMDbPro\" height=\"145\" src=\"https://m.media-amazon.com/images/G/01/wprs/images/navbar/imdbpro_navbar_menu_user._CB484021156_.png\" srcset=\"https://m.media-amazon.com/images/G/01/wprs/images/navbar/imdbpro_navbar_menu_user._CB484021156_.png 1x, https://m.media-amazon.com/images/G/01/wprs/images/navbar/imdbpro_navbar_menu_user_2x._CB484021157_.png 2x\" width=\"127\"/>\\n</div>\\n<section class=\"imdb-pro-ad__content\">\\n<div class=\"imdb-pro-ad__title\">The essential resource for entertainment professionals</div>\\n<p class=\"imdb-pro-ad__line\">Find industry contacts &amp; talent representation</p>\\n<p class=\"imdb-pro-ad__line\">Access in-development titles not available on IMDb</p>\\n<p class=\"imdb-pro-ad__line\">Get the latest news from leading industry trades</p>\\n<p class=\"imdb-pro-ad__line\">Claim your page and control your brand across IMDb &amp; Amazon</p>\\n<div class=\"imdb-pro-new__button\">\\n<svg height=\"30px\" version=\"1.1\" viewbox=\"0 0 172 29\" width=\"175px\" xmlns=\"http://www.w3.org/2000/svg\" xmlns:xlink=\"http://www.w3.org/1999/xlink\">\\n<title>TryIMDbProFree</title>\\n<g fill=\"none\" fill-rule=\"evenodd\" id=\"tryIMDbProFree\" stroke=\"none\" stroke-width=\"1\">\\n<rect fill=\"#F1C241\" height=\"28\" id=\"tryIMDbProFreeButton\" rx=\"3\" stroke=\"#A88734\" width=\"170\" x=\"1\" y=\"1\"></rect>\\n<text id=\"tryIMDbProFreeText\">\\n<tspan x=\"33\" y=\"19\">Try IMDbPro Free</tspan>\\n</text>\\n</g>\\n</svg>\\n</div>\\n</section>\\n</a></div>\\n</li>\\n<li class=\"spacer\"><span class=\"ghost\">|</span></li>\\n<li>\\n<a href=\"https://help.imdb.com/imdb?ref_=cons_nb_hlp\">Help</a>\\n</li>\\n<li class=\"spacer\"><span class=\"ghost\">|</span></li>\\n<li class=\"nb-social-links\">\\n<a class=\"nb-social-links__link\" href=\"/offsite/?page-action=fol_fb&amp;token=BCYnynBbGGO-w6sz8-XgC2fl1jr-Zycl3tf-BzyJtrAVkXf9Cm2wOtNBrUa62-hNRjMN4Qg_ZEyn%0D%0AbBlfeJfFs8bwSlH3bBANQJN7rHTa1vPG02ASRnezQEhwpOC4la66snvu4QYoCVqaU8sCXrkANv34%0D%0AYToeVRVkKF5VqeCMlgbRUaN-oNthzKos--g80uYy9Hbp%0D%0A&amp;ref_=nv_fol_fb\" target=\"_blank\" title=\"Follow IMDb on Facebook\"> <svg class=\"ipl-icon ipl-facebook-icon ipl-icon--inherit-color ipl-icon--inline\" fill=\"#000000\" height=\"24\" viewbox=\"0 0 24 24\" width=\"24\" xmlns=\"http://www.w3.org/2000/svg\">\\n<path d=\"M20.896 2H3.104C2.494 2 2 2.494 2 3.104v17.792C2 21.506 2.494 22 3.104 22h9.579v-7.745h-2.607v-3.018h2.607V9.01c0-2.584 1.577-3.99 3.882-3.99 1.104 0 2.052.082 2.329.119v2.7h-1.598c-1.254 0-1.496.595-1.496 1.47v1.927h2.989l-.39 3.018h-2.6V22h5.097c.61 0 1.104-.494 1.104-1.104V3.104C22 2.494 21.506 2 20.896 2\"></path>\\n</svg>\\n</a>\\n<a class=\"nb-social-links__link\" href=\"/offsite/?page-action=fol_inst&amp;token=BCYqCAgSZWHCvqryGeEr9SF_An3L2cxCRdNWWIY6mcWCOHiyX4IBJsu142EX0qwyEclaStpobOWR%0D%0AXJnNW3fq-eK0Jg-BVpLic2R-b5J_RjOcIH2WV-IRyPOoo_9jsgiJZ9ALr6pdH8PZjB8vxwYxuBhz%0D%0A_xvuV0F0h2vgVbhh2SHbY7t7GN9Bgu_gzJ6LVzK3X142%0D%0A&amp;ref_=nv_fol_inst\" target=\"_blank\" title=\"Follow IMDb on Instagram\"> <svg class=\"ipl-icon ipl-instagram-icon ipl-icon--inherit-color ipl-icon--inline\" fill=\"#000000\" height=\"24\" viewbox=\"0 0 24 24\" width=\"24\" xmlns=\"http://www.w3.org/2000/svg\">\\n<path d=\"M11.997 2.04c-2.715 0-3.056.011-4.122.06-1.064.048-1.79.217-2.426.463a4.901 4.901 0 0 0-1.771 1.151 4.89 4.89 0 0 0-1.153 1.767c-.247.635-.416 1.36-.465 2.422C2.011 8.967 2 9.307 2 12.017s.011 3.049.06 4.113c.049 1.062.218 1.787.465 2.422a4.89 4.89 0 0 0 1.153 1.767 4.901 4.901 0 0 0 1.77 1.15c.636.248 1.363.416 2.427.465 1.066.048 1.407.06 4.122.06s3.055-.012 4.122-.06c1.064-.049 1.79-.217 2.426-.464a4.901 4.901 0 0 0 1.77-1.15 4.89 4.89 0 0 0 1.154-1.768c.247-.635.416-1.36.465-2.422.048-1.064.06-1.404.06-4.113 0-2.71-.012-3.05-.06-4.114-.049-1.062-.218-1.787-.465-2.422a4.89 4.89 0 0 0-1.153-1.767 4.901 4.901 0 0 0-1.77-1.15c-.637-.247-1.363-.416-2.427-.464-1.067-.049-1.407-.06-4.122-.06m0 1.797c2.67 0 2.985.01 4.04.058.974.045 1.503.207 1.856.344.466.181.8.397 1.15.746.349.35.566.682.747 1.147.137.352.3.88.344 1.853.048 1.052.058 1.368.058 4.032 0 2.664-.01 2.98-.058 4.031-.044.973-.207 1.501-.344 1.853a3.09 3.09 0 0 1-.748 1.147c-.35.35-.683.565-1.15.746-.352.137-.88.3-1.856.344-1.054.048-1.37.058-4.04.058-2.669 0-2.985-.01-4.039-.058-.974-.044-1.504-.207-1.856-.344a3.098 3.098 0 0 1-1.15-.746 3.09 3.09 0 0 1-.747-1.147c-.137-.352-.3-.88-.344-1.853-.049-1.052-.059-1.367-.059-4.031 0-2.664.01-2.98.059-4.032.044-.973.207-1.501.344-1.853a3.09 3.09 0 0 1 .748-1.147c.35-.349.682-.565 1.149-.746.352-.137.882-.3 1.856-.344 1.054-.048 1.37-.058 4.04-.058\"></path><path d=\"M11.997 15.342a3.329 3.329 0 0 1-3.332-3.325 3.329 3.329 0 0 1 3.332-3.326 3.329 3.329 0 0 1 3.332 3.326 3.329 3.329 0 0 1-3.332 3.325m0-8.449a5.128 5.128 0 0 0-5.134 5.124 5.128 5.128 0 0 0 5.134 5.123 5.128 5.128 0 0 0 5.133-5.123 5.128 5.128 0 0 0-5.133-5.124M18.533 6.69c0 .662-.537 1.198-1.2 1.198a1.198 1.198 0 1 1 1.2-1.197\"></path>\\n</svg>\\n</a>\\n<a class=\"nb-social-links__link\" href=\"/offsite/?page-action=fol_twch&amp;token=BCYiPoLw5mtxh06t08hYv8PDqRX9-fMWLkjj_cKtR7Yrd1QStKShYDIyspgcXZnIerI5jaJHeOfs%0D%0AnMRrwe88lsgFrxNrANSDgxm29B7SSGAqR2U0ArmuZo57p7uK152Lctm--51IEZq902REfKbfTjLe%0D%0AwVsDfrP1bBzLQ6VmmyTv_POeC5HhDi4JfXmxZocwn73E%0D%0A&amp;ref_=nv_fol_twch\" target=\"_blank\" title=\"Follow IMDb on Twitch\"> <svg class=\"ipl-icon ipl-twitch-icon ipl-icon--inherit-color ipl-icon--inline\" fill=\"#000000\" height=\"24\" viewbox=\"0 0 24 24\" width=\"24\" xmlns=\"http://www.w3.org/2000/svg\">\\n<g><path d=\"M3.40641795,2 L22.0023886,2 L22.0023886,14.8140302 L16.5329854,20.2834333 L12.4700003,20.2834333 L9.81343304,22.9400005 L7.00059714,22.9400005 L7.00059714,20.2834333 L2,20.2834333 L2,5.5941792 L3.40641795,2 Z M20.1271646,13.8764182 L20.1271646,3.87522393 L5.12537321,3.87522393 L5.12537321,17.0017914 L9.34462705,17.0017914 L9.34462705,19.6583587 L12.0011943,17.0017914 L17.0017914,17.0017914 L20.1271646,13.8764182 Z\"></path><polygon points=\"17.0017914 7.46940312 17.0017914 12.9388062 15.1265675 12.9388062 15.1265675 7.46940312\"></polygon><polygon points=\"12.0011943 7.46940312 12.0011943 12.9388062 10.1259704 12.9388062 10.1259704 7.46940312\"></polygon></g>\\n<path d=\"M0 0h24v24H0z\" fill=\"none\"></path>\\n</svg>\\n</a>\\n<a class=\"nb-social-links__link\" href=\"/offsite/?page-action=fol_tw&amp;token=BCYvFtwZXNIt_Qx3oEoW2-8uCvAEgZ8e_VufsIyNGFqsBvW1kP8O3gLD_54Xr-0CfbJ1y5To_Goi%0D%0AVEzFvzfNBXxcVa03mSK2XNQI4rjSbltUB48ssKdoYeBtBl3sn3-Y5Oaq1wskUTOsukL3c1PppFmO%0D%0AcVkpjfwf4skdS9pbdtj4pzm5p_gf1PrFfta8MYTZMV5L%0D%0A&amp;ref_=nv_fol_tw\" target=\"_blank\" title=\"Follow IMDb on Twitter\"> <svg class=\"ipl-icon ipl-twitter-icon ipl-icon--inherit-color ipl-icon--inline\" fill=\"#000000\" height=\"24\" viewbox=\"0 0 24 24\" width=\"24\" xmlns=\"http://www.w3.org/2000/svg\">\\n<path d=\"M8.29 19.936c7.547 0 11.675-6.13 11.675-11.446 0-.175-.004-.348-.012-.52A8.259 8.259 0 0 0 22 5.886a8.319 8.319 0 0 1-2.356.633 4.052 4.052 0 0 0 1.804-2.225c-.793.46-1.67.796-2.606.976A4.138 4.138 0 0 0 15.847 4c-2.266 0-4.104 1.802-4.104 4.023 0 .315.036.622.107.917a11.728 11.728 0 0 1-8.458-4.203 3.949 3.949 0 0 0-.556 2.022 4 4 0 0 0 1.826 3.348 4.136 4.136 0 0 1-1.858-.503l-.001.051c0 1.949 1.415 3.575 3.292 3.944a4.193 4.193 0 0 1-1.853.07c.522 1.597 2.037 2.76 3.833 2.793a8.34 8.34 0 0 1-5.096 1.722A8.51 8.51 0 0 1 2 18.13a11.785 11.785 0 0 0 6.29 1.807\"></path>\\n</svg>\\n</a>\\n<a class=\"nb-social-links__link\" href=\"/offsite/?page-action=fol_yt&amp;token=BCYkWNriiuqwVsD3YXVyiHKdwg95-8MZAQZxr5gpq3fQg230fc6uO6Mdo6bDlubjkhTU1S8A9LBk%0D%0A4TpxEmwGtGGWf2PkOqT3hm2bYkh9bgJTxtIZFTnUVa3tyoXQDopIiWj-VqJctakziKbNvFlaqU6w%0D%0AUncJWo8ucgvI_HrMvSIArLvhzBFbGyaki-unJ2zBg0NT%0D%0A&amp;ref_=nv_fol_yt\" target=\"_blank\" title=\"Follow IMDb on YouTube\"> <svg class=\"ipl-icon ipl-youtube-icon ipl-icon--inherit-color ipl-icon--inline\" fill=\"#000000\" height=\"24\" viewbox=\"0 0 24 24\" width=\"24\" xmlns=\"http://www.w3.org/2000/svg\">\\n<path d=\"M9.955 14.955v-5.91L15.182 12l-5.227 2.955zm11.627-7.769a2.505 2.505 0 0 0-1.768-1.768C18.254 5 12 5 12 5s-6.254 0-7.814.418c-.86.23-1.538.908-1.768 1.768C2 8.746 2 12 2 12s0 3.254.418 4.814c.23.86.908 1.538 1.768 1.768C5.746 19 12 19 12 19s6.254 0 7.814-.418a2.505 2.505 0 0 0 1.768-1.768C22 15.254 22 12 22 12s0-3.254-.418-4.814z\"></path>\\n<path d=\"M0 0h24v24H0z\" fill=\"none\"></path>\\n</svg>\\n</a>\\n</li>\\n</ul>\\n</div>\\n<div id=\"nb_personal\">\\n<ul class=\"main_nav\" id=\"consumer_user_nav\">\\n<li class=\"css_nav_menu no_arrow\" id=\"navUserMenu\">\\n<p class=\"navCategory singleLine\">\\n<a class=\"signin-button\" href=\"https://www.imdb.com/ap/signin?openid.pape.max_auth_age=0&amp;openid.return_to=https%3A%2F%2Fwww.imdb.com%2Fap-signin-handler&amp;openid.identity=http%3A%2F%2Fspecs.openid.net%2Fauth%2F2.0%2Fidentifier_select&amp;openid.assoc_handle=imdb_fb&amp;openid.mode=checkid_setup&amp;siteState=eyJvcGVuaWQuYXNzb2NfaGFuZGxlIjoiaW1kYl9mYiIsInJlZGlyZWN0VG8iOiJodHRwczovL3d3dy5pbWRiLmNvbS9zZWFyY2gvdGl0bGU_cmVmXz1udl9mYl9sZ2luIn0&amp;openid.claimed_id=http%3A%2F%2Fspecs.openid.net%2Fauth%2F2.0%2Fidentifier_select&amp;openid.ns=http%3A%2F%2Fspecs.openid.net%2Fauth%2F2.0&amp;identityProvider=FACEBOOK&amp;relyingParty=IMDbPool&amp;idpOptions=%7B%22scope%22%3A%22email%2Cuser_gender%2Cuser_birthday%22%2C%22openid.return_to%22%3A%22https%3A%2F%2Fwww.imdb.com%2Fap-signin-handler%22%7D\" id=\"facebook-signin-link\">\\n<span class=\"facebook-logo\"></span>\\n<span class=\"signin-facebook-text\">Sign in with Facebook</span></a>\\n<a class=\"signin-other-options-text\" href=\"/registration/signin?u=/search/title%3Frelease_date%3D2018%26sort%3Dnum_votes,desc%26page%3D1&amp;ref_=nv_usr_lgin_1\" id=\"nblogin\" rel=\"login\">Other Sign in options</a>\\n</p>\\n</li>\\n</ul>\\n</div>\\n</div>\\n<script>\\n    if (typeof uet == 'function') {\\n      uet(\"ne\");\\n    }\\n</script>\\n<!-- no content received for slot: navstrip -->\\n<!-- no content received for slot: injected_navstrip -->\\n</div>\\n<div class=\"pagecontent\" id=\"pagecontent\">\\n<!-- no content received for slot: injected_billboard -->\\n<style type=\"text/css\">\\n  .companyBanner {\\n    padding: 0px 12px;\\n  }\\n</style>\\n<div class=\"redesign\" id=\"content-2-wide\">\\n<div id=\"main\">\\n<div class=\"article\">\\n<h1 class=\"header\">Released between 2018-01-01 and 2018-12-31\\n(Sorted by Number of Votes Descending) </h1>\\n<div class=\"nav\">\\n<br class=\"clear\"/>\\n<div class=\"display-mode float-right\">\\n        View Mode:\\n<a class=\"compact\" href=\"/search/title?release_date=2018-01-01,2018-12-31&amp;sort=num_votes,desc&amp;view=simple\"> Compact\\n</a> <span class=\"ghost\">|</span><a class=\"detailed\" href=\"/search/title?release_date=2018-01-01,2018-12-31&amp;sort=num_votes,desc&amp;view=advanced\"> <strong>Detailed</strong>\\n</a> </div>\\n<div class=\"desc\">\\n<span>1-50 of 241,730 titles.</span>\\n<span class=\"ghost\">|</span> <a class=\"lister-page-next next-page\" href=\"/search/title?release_date=2018-01-01,2018-12-31&amp;sort=num_votes,desc&amp;start=51&amp;ref_=adv_nxt\">Next \\xbb</a>\\n</div>\\n</div>\\n<br class=\"clear\"/>\\n<div class=\"sorting\">\\n       Sort by:\\n           <a href=\"/search/title?release_date=2018-01-01,2018-12-31\">Popularity</a>\\n<span class=\"ghost\">|</span> <a href=\"/search/title?release_date=2018-01-01,2018-12-31&amp;sort=alpha,asc\">A-Z</a>\\n<span class=\"ghost\">|</span> <a href=\"/search/title?release_date=2018-01-01,2018-12-31&amp;sort=user_rating,asc\">User Rating</a>\\n<span class=\"ghost\">|</span> <a href=\"/search/title?release_date=2018-01-01,2018-12-31&amp;sort=num_votes,asc\"><strong>Number of Votes</strong>\\u25bc</a>\\n<span class=\"ghost\">|</span> <a href=\"/search/title?release_date=2018-01-01,2018-12-31&amp;sort=boxoffice_gross_us,asc\">US Box Office</a>\\n<span class=\"ghost\">|</span> <a href=\"/search/title?release_date=2018-01-01,2018-12-31&amp;sort=runtime,asc\">Runtime</a>\\n<span class=\"ghost\">|</span> <a href=\"/search/title?release_date=2018-01-01,2018-12-31&amp;sort=year,asc\">Year</a>\\n<span class=\"ghost\">|</span> <a href=\"/search/title?release_date=2018-01-01,2018-12-31&amp;sort=release_date,asc\">Release Date</a>\\n<span class=\"ghost\">|</span> <a href=\"/search/title?release_date=2018-01-01,2018-12-31&amp;sort=your_rating_date,asc\">Date of Your Rating</a>\\n<span class=\"ghost\">|</span> <a href=\"/search/title?release_date=2018-01-01,2018-12-31&amp;sort=my_ratings,asc\">Your Rating</a>\\n</div>\\n<br class=\"clear\"/>\\n<div class=\"lister list detail sub-list\">\\n<div class=\"lister-list\">\\n<div class=\"lister-item mode-advanced\">\\n<div class=\"lister-top-right\">\\n<div class=\"ribbonize\" data-caller=\"filmosearch\" data-tconst=\"tt4154756\"></div>\\n</div>\\n<div class=\"lister-item-image float-left\">\\n<a href=\"/title/tt4154756/?ref_=adv_li_i\"> <img alt=\"Avengers: Infinity War\" class=\"loadlate\" data-tconst=\"tt4154756\" height=\"98\" loadlate=\"https://m.media-amazon.com/images/M/MV5BMjMxNjY2MDU1OV5BMl5BanBnXkFtZTgwNzY1MTUwNTM@._V1_UX67_CR0,0,67,98_AL_.jpg\" src=\"https://m.media-amazon.com/images/G/01/imdb/images/nopicture/large/film-184890147._CB470041630_.png\" width=\"67\"/>\\n</a> </div>\\n<div class=\"lister-item-content\">\\n<h3 class=\"lister-item-header\">\\n<span class=\"lister-item-index unbold text-primary\">1.</span>\\n<a href=\"/title/tt4154756/?ref_=adv_li_tt\">Avengers: Infinity War</a>\\n<span class=\"lister-item-year text-muted unbold\">(2018)</span>\\n</h3>\\n<p class=\"text-muted \">\\n<span class=\"certificate\">PG-13</span>\\n<span class=\"ghost\">|</span>\\n<span class=\"runtime\">149 min</span>\\n<span class=\"ghost\">|</span>\\n<span class=\"genre\">\\nAction, Adventure, Fantasy            </span>\\n</p>\\n<div class=\"ratings-bar\">\\n<div class=\"inline-block ratings-imdb-rating\" data-value=\"8.5\" name=\"ir\">\\n<span class=\"global-sprite rating-star imdb-rating\"></span>\\n<strong>8.5</strong>\\n</div>\\n<div class=\"inline-block ratings-user-rating\">\\n<span class=\"userRatingValue\" data-tconst=\"tt4154756\" id=\"urv_tt4154756\">\\n<span class=\"global-sprite rating-star no-rating\"></span>\\n<span class=\"rate\" data-no-rating=\"Rate this\" data-value=\"0\" name=\"ur\">Rate this</span>\\n</span>\\n<div class=\"starBarWidget\" id=\"sb_tt4154756\">\\n<div class=\"rating rating-list\" data-auth=\"\" data-ga-identifier=\"\" data-starbar-class=\"rating-list\" data-user=\"\" id=\"tt4154756|imdb|8.5|8.5|||search|title\" itemprop=\"aggregateRating\" itemscope=\"\" itemtype=\"http://schema.org/AggregateRating\" title=\"Users rated this 8.5/10 (530,929 votes) - click stars to rate\">\\n<meta content=\"8.5\" itemprop=\"ratingValue\"/>\\n<meta content=\"10\" itemprop=\"bestRating\"/>\\n<meta content=\"530929\" itemprop=\"ratingCount\"/>\\n<span class=\"rating-bg\">\\xa0</span>\\n<span class=\"rating-imdb \" style=\"width: 119px\">\\xa0</span>\\n<span class=\"rating-stars\">\\n<a href=\"/register/login?why=vote&amp;ref_=tt_ov_rt\" rel=\"nofollow\" title=\"Register or login to rate this title\"><span>1</span></a>\\n<a href=\"/register/login?why=vote&amp;ref_=tt_ov_rt\" rel=\"nofollow\" title=\"Register or login to rate this title\"><span>2</span></a>\\n<a href=\"/register/login?why=vote&amp;ref_=tt_ov_rt\" rel=\"nofollow\" title=\"Register or login to rate this title\"><span>3</span></a>\\n<a href=\"/register/login?why=vote&amp;ref_=tt_ov_rt\" rel=\"nofollow\" title=\"Register or login to rate this title\"><span>4</span></a>\\n<a href=\"/register/login?why=vote&amp;ref_=tt_ov_rt\" rel=\"nofollow\" title=\"Register or login to rate this title\"><span>5</span></a>\\n<a href=\"/register/login?why=vote&amp;ref_=tt_ov_rt\" rel=\"nofollow\" title=\"Register or login to rate this title\"><span>6</span></a>\\n<a href=\"/register/login?why=vote&amp;ref_=tt_ov_rt\" rel=\"nofollow\" title=\"Register or login to rate this title\"><span>7</span></a>\\n<a href=\"/register/login?why=vote&amp;ref_=tt_ov_rt\" rel=\"nofollow\" title=\"Register or login to rate this title\"><span>8</span></a>\\n<a href=\"/register/login?why=vote&amp;ref_=tt_ov_rt\" rel=\"nofollow\" title=\"Register or login to rate this title\"><span>9</span></a>\\n<a href=\"/register/login?why=vote&amp;ref_=tt_ov_rt\" rel=\"nofollow\" title=\"Register or login to rate this title\"><span>10</span></a>\\n</span>\\n<span class=\"rating-rating \"><span class=\"value\">8.5</span><span class=\"grey\">/</span><span class=\"grey\">10</span></span>\\n<span class=\"rating-cancel \"><a href=\"/title/tt4154756/vote?v=X;k=\" rel=\"nofollow\" title=\"Delete\"><span>X</span></a></span>\\n\\xa0</div>\\n</div>\\n</div>\\n<div class=\"inline-block ratings-metascore\">\\n<span class=\"metascore favorable\">68        </span>\\n        Metascore\\n            </div>\\n</div>\\n<p class=\"text-muted\">\\n    The Avengers and their allies must be willing to sacrifice all in an attempt to defeat the powerful Thanos before his blitz of devastation and ruin puts an end to the universe.</p>\\n<p class=\"\">\\n    Directors:\\n<a href=\"/name/nm0751577/?ref_=adv_li_dr_0\">Anthony Russo</a>, \\n<a href=\"/name/nm0751648/?ref_=adv_li_dr_1\">Joe Russo</a>\\n<span class=\"ghost\">|</span> \\n    Stars:\\n<a href=\"/name/nm0000375/?ref_=adv_li_st_0\">Robert Downey Jr.</a>, \\n<a href=\"/name/nm1165110/?ref_=adv_li_st_1\">Chris Hemsworth</a>, \\n<a href=\"/name/nm0749263/?ref_=adv_li_st_2\">Mark Ruffalo</a>, \\n<a href=\"/name/nm0262635/?ref_=adv_li_st_3\">Chris Evans</a>\\n</p>\\n<p class=\"sort-num_votes-visible\">\\n<span class=\"text-muted\">Votes:</span>\\n<span data-value=\"530929\" name=\"nv\">530,929</span>\\n<span class=\"ghost\">|</span> <span class=\"text-muted\">Gross:</span>\\n<span data-value=\"678,815,482\" name=\"nv\">$678.82M</span>\\n</p>\\n</div>\\n</div>\\n<div class=\"lister-item mode-advanced\">\\n<div class=\"lister-top-right\">\\n<div class=\"ribbonize\" data-caller=\"filmosearch\" data-tconst=\"tt1825683\"></div>\\n</div>\\n<div class=\"lister-item-image float-left\">\\n<a href=\"/title/tt1825683/?ref_=adv_li_i\"> <img alt=\"Black Panther\" class=\"loadlate\" data-tconst=\"tt1825683\" height=\"98\" loadlate=\"https://m.media-amazon.com/images/M/MV5BMTg1MTY2MjYzNV5BMl5BanBnXkFtZTgwMTc4NTMwNDI@._V1_UX67_CR0,0,67,98_AL_.jpg\" src=\"https://m.media-amazon.com/images/G/01/imdb/images/nopicture/large/film-184890147._CB470041630_.png\" width=\"67\"/>\\n</a> </div>\\n<div class=\"lister-item-content\">\\n<h3 class=\"lister-item-header\">\\n<span class=\"lister-item-index unbold text-primary\">2.</span>\\n<a href=\"/title/tt1825683/?ref_=adv_li_tt\">Black Panther</a>\\n<span class=\"lister-item-year text-muted unbold\">(2018)</span>\\n</h3>\\n<p class=\"text-muted \">\\n<span class=\"certificate\">PG-13</span>\\n<span class=\"ghost\">|</span>\\n<span class=\"runtime\">134 min</span>\\n<span class=\"ghost\">|</span>\\n<span class=\"genre\">\\nAction, Adventure, Sci-Fi            </span>\\n</p>\\n<div class=\"ratings-bar\">\\n<div class=\"inline-block ratings-imdb-rating\" data-value=\"7.4\" name=\"ir\">\\n<span class=\"global-sprite rating-star imdb-rating\"></span>\\n<strong>7.4</strong>\\n</div>\\n<div class=\"inline-block ratings-user-rating\">\\n<span class=\"userRatingValue\" data-tconst=\"tt1825683\" id=\"urv_tt1825683\">\\n<span class=\"global-sprite rating-star no-rating\"></span>\\n<span class=\"rate\" data-no-rating=\"Rate this\" data-value=\"0\" name=\"ur\">Rate this</span>\\n</span>\\n<div class=\"starBarWidget\" id=\"sb_tt1825683\">\\n<div class=\"rating rating-list\" data-auth=\"\" data-ga-identifier=\"\" data-starbar-class=\"rating-list\" data-user=\"\" id=\"tt1825683|imdb|7.4|7.4|||search|title\" itemprop=\"aggregateRating\" itemscope=\"\" itemtype=\"http://schema.org/AggregateRating\" title=\"Users rated this 7.4/10 (419,361 votes) - click stars to rate\">\\n<meta content=\"7.4\" itemprop=\"ratingValue\"/>\\n<meta content=\"10\" itemprop=\"bestRating\"/>\\n<meta content=\"419361\" itemprop=\"ratingCount\"/>\\n<span class=\"rating-bg\">\\xa0</span>\\n<span class=\"rating-imdb \" style=\"width: 103.6px\">\\xa0</span>\\n<span class=\"rating-stars\">\\n<a href=\"/register/login?why=vote&amp;ref_=tt_ov_rt\" rel=\"nofollow\" title=\"Register or login to rate this title\"><span>1</span></a>\\n<a href=\"/register/login?why=vote&amp;ref_=tt_ov_rt\" rel=\"nofollow\" title=\"Register or login to rate this title\"><span>2</span></a>\\n<a href=\"/register/login?why=vote&amp;ref_=tt_ov_rt\" rel=\"nofollow\" title=\"Register or login to rate this title\"><span>3</span></a>\\n<a href=\"/register/login?why=vote&amp;ref_=tt_ov_rt\" rel=\"nofollow\" title=\"Register or login to rate this title\"><span>4</span></a>\\n<a href=\"/register/login?why=vote&amp;ref_=tt_ov_rt\" rel=\"nofollow\" title=\"Register or login to rate this title\"><span>5</span></a>\\n<a href=\"/register/login?why=vote&amp;ref_=tt_ov_rt\" rel=\"nofollow\" title=\"Register or login to rate this title\"><span>6</span></a>\\n<a href=\"/register/login?why=vote&amp;ref_=tt_ov_rt\" rel=\"nofollow\" title=\"Register or login to rate this title\"><span>7</span></a>\\n<a href=\"/register/login?why=vote&amp;ref_=tt_ov_rt\" rel=\"nofollow\" title=\"Register or login to rate this title\"><span>8</span></a>\\n<a href=\"/register/login?why=vote&amp;ref_=tt_ov_rt\" rel=\"nofollow\" title=\"Register or login to rate this title\"><span>9</span></a>\\n<a href=\"/register/login?why=vote&amp;ref_=tt_ov_rt\" rel=\"nofollow\" title=\"Register or login to rate this title\"><span>10</span></a>\\n</span>\\n<span class=\"rating-rating \"><span class=\"value\">7.4</span><span class=\"grey\">/</span><span class=\"grey\">10</span></span>\\n<span class=\"rating-cancel \"><a href=\"/title/tt1825683/vote?v=X;k=\" rel=\"nofollow\" title=\"Delete\"><span>X</span></a></span>\\n\\xa0</div>\\n</div>\\n</div>\\n<div class=\"inline-block ratings-metascore\">\\n<span class=\"metascore favorable\">88        </span>\\n        Metascore\\n            </div>\\n</div>\\n<p class=\"text-muted\">\\n    T'Challa, heir to the hidden but advanced kingdom of Wakanda, must step forward to lead his people into a new future and must confront a challenger from his country's past.</p>\\n<p class=\"\">\\n    Director:\\n<a href=\"/name/nm3363032/?ref_=adv_li_dr_0\">Ryan Coogler</a>\\n<span class=\"ghost\">|</span> \\n    Stars:\\n<a href=\"/name/nm1569276/?ref_=adv_li_st_0\">Chadwick Boseman</a>, \\n<a href=\"/name/nm0430107/?ref_=adv_li_st_1\">Michael B. Jordan</a>, \\n<a href=\"/name/nm2143282/?ref_=adv_li_st_2\">Lupita Nyong'o</a>, \\n<a href=\"/name/nm1775091/?ref_=adv_li_st_3\">Danai Gurira</a>\\n</p>\\n<p class=\"sort-num_votes-visible\">\\n<span class=\"text-muted\">Votes:</span>\\n<span data-value=\"419361\" name=\"nv\">419,361</span>\\n<span class=\"ghost\">|</span> <span class=\"text-muted\">Gross:</span>\\n<span data-value=\"700,059,566\" name=\"nv\">$700.06M</span>\\n</p>\\n</div>\\n</div>\\n<div class=\"lister-item mode-advanced\">\\n<div class=\"lister-top-right\">\\n<div class=\"ribbonize\" data-caller=\"filmosearch\" data-tconst=\"tt5463162\"></div>\\n</div>\\n<div class=\"lister-item-image float-left\">\\n<a href=\"/title/tt5463162/?ref_=adv_li_i\"> <img alt=\"Deadpool 2\" class=\"loadlate\" data-tconst=\"tt5463162\" height=\"98\" loadlate=\"https://m.media-amazon.com/images/M/MV5BNjk1Njk3YjctMmMyYS00Y2I4LThhMzktN2U0MTMyZTFlYWQ5XkEyXkFqcGdeQXVyODM2ODEzMDA@._V1_UY98_CR15,0,67,98_AL_.jpg\" src=\"https://m.media-amazon.com/images/G/01/imdb/images/nopicture/large/film-184890147._CB470041630_.png\" width=\"67\"/>\\n</a> </div>\\n<div class=\"lister-item-content\">\\n<h3 class=\"lister-item-header\">\\n<span class=\"lister-item-index unbold text-primary\">3.</span>\\n<a href=\"/title/tt5463162/?ref_=adv_li_tt\">Deadpool 2</a>\\n<span class=\"lister-item-year text-muted unbold\">(2018)</span>\\n</h3>\\n<p class=\"text-muted \">\\n<span class=\"certificate\">R</span>\\n<span class=\"ghost\">|</span>\\n<span class=\"runtime\">119 min</span>\\n<span class=\"ghost\">|</span>\\n<span class=\"genre\">\\nAction, Adventure, Comedy            </span>\\n</p>\\n<div class=\"ratings-bar\">\\n<div class=\"inline-block ratings-imdb-rating\" data-value=\"7.8\" name=\"ir\">\\n<span class=\"global-sprite rating-star imdb-rating\"></span>\\n<strong>7.8</strong>\\n</div>\\n<div class=\"inline-block ratings-user-rating\">\\n<span class=\"userRatingValue\" data-tconst=\"tt5463162\" id=\"urv_tt5463162\">\\n<span class=\"global-sprite rating-star no-rating\"></span>\\n<span class=\"rate\" data-no-rating=\"Rate this\" data-value=\"0\" name=\"ur\">Rate this</span>\\n</span>\\n<div class=\"starBarWidget\" id=\"sb_tt5463162\">\\n<div class=\"rating rating-list\" data-auth=\"\" data-ga-identifier=\"\" data-starbar-class=\"rating-list\" data-user=\"\" id=\"tt5463162|imdb|7.8|7.8|||search|title\" itemprop=\"aggregateRating\" itemscope=\"\" itemtype=\"http://schema.org/AggregateRating\" title=\"Users rated this 7.8/10 (307,680 votes) - click stars to rate\">\\n<meta content=\"7.8\" itemprop=\"ratingValue\"/>\\n<meta content=\"10\" itemprop=\"bestRating\"/>\\n<meta content=\"307680\" itemprop=\"ratingCount\"/>\\n<span class=\"rating-bg\">\\xa0</span>\\n<span class=\"rating-imdb \" style=\"width: 109.2px\">\\xa0</span>\\n<span class=\"rating-stars\">\\n<a href=\"/register/login?why=vote&amp;ref_=tt_ov_rt\" rel=\"nofollow\" title=\"Register or login to rate this title\"><span>1</span></a>\\n<a href=\"/register/login?why=vote&amp;ref_=tt_ov_rt\" rel=\"nofollow\" title=\"Register or login to rate this title\"><span>2</span></a>\\n<a href=\"/register/login?why=vote&amp;ref_=tt_ov_rt\" rel=\"nofollow\" title=\"Register or login to rate this title\"><span>3</span></a>\\n<a href=\"/register/login?why=vote&amp;ref_=tt_ov_rt\" rel=\"nofollow\" title=\"Register or login to rate this title\"><span>4</span></a>\\n<a href=\"/register/login?why=vote&amp;ref_=tt_ov_rt\" rel=\"nofollow\" title=\"Register or login to rate this title\"><span>5</span></a>\\n<a href=\"/register/login?why=vote&amp;ref_=tt_ov_rt\" rel=\"nofollow\" title=\"Register or login to rate this title\"><span>6</span></a>\\n<a href=\"/register/login?why=vote&amp;ref_=tt_ov_rt\" rel=\"nofollow\" title=\"Register or login to rate this title\"><span>7</span></a>\\n<a href=\"/register/login?why=vote&amp;ref_=tt_ov_rt\" rel=\"nofollow\" title=\"Register or login to rate this title\"><span>8</span></a>\\n<a href=\"/register/login?why=vote&amp;ref_=tt_ov_rt\" rel=\"nofollow\" title=\"Register or login to rate this title\"><span>9</span></a>\\n<a href=\"/register/login?why=vote&amp;ref_=tt_ov_rt\" rel=\"nofollow\" title=\"Register or login to rate this title\"><span>10</span></a>\\n</span>\\n<span class=\"rating-rating \"><span class=\"value\">7.8</span><span class=\"grey\">/</span><span class=\"grey\">10</span></span>\\n<span class=\"rating-cancel \"><a href=\"/title/tt5463162/vote?v=X;k=\" rel=\"nofollow\" title=\"Delete\"><span>X</span></a></span>\\n\\xa0</div>\\n</div>\\n</div>\\n<div class=\"inline-block ratings-metascore\">\\n<span class=\"metascore favorable\">66        </span>\\n        Metascore\\n            </div>\\n</div>\\n<p class=\"text-muted\">\\n    Foul-mouthed mutant mercenary Wade Wilson (AKA. Deadpool), brings together a team of fellow mutant rogues to protect a young boy with supernatural abilities from the brutal, time-traveling cyborg, Cable.</p>\\n<p class=\"\">\\n    Director:\\n<a href=\"/name/nm0500610/?ref_=adv_li_dr_0\">David Leitch</a>\\n<span class=\"ghost\">|</span> \\n    Stars:\\n<a href=\"/name/nm0005351/?ref_=adv_li_st_0\">Ryan Reynolds</a>, \\n<a href=\"/name/nm0000982/?ref_=adv_li_st_1\">Josh Brolin</a>, \\n<a href=\"/name/nm1072555/?ref_=adv_li_st_2\">Morena Baccarin</a>, \\n<a href=\"/name/nm5421877/?ref_=adv_li_st_3\">Julian Dennison</a>\\n</p>\\n<p class=\"sort-num_votes-visible\">\\n<span class=\"text-muted\">Votes:</span>\\n<span data-value=\"307680\" name=\"nv\">307,680</span>\\n<span class=\"ghost\">|</span> <span class=\"text-muted\">Gross:</span>\\n<span data-value=\"318,491,426\" name=\"nv\">$318.49M</span>\\n</p>\\n</div>\\n</div>\\n<div class=\"lister-item mode-advanced\">\\n<div class=\"lister-top-right\">\\n<div class=\"ribbonize\" data-caller=\"filmosearch\" data-tconst=\"tt1677720\"></div>\\n</div>\\n<div class=\"lister-item-image float-left\">\\n<a href=\"/title/tt1677720/?ref_=adv_li_i\"> <img alt=\"Ready Player One\" class=\"loadlate\" data-tconst=\"tt1677720\" height=\"98\" loadlate=\"https://m.media-amazon.com/images/M/MV5BY2JiYTNmZTctYTQ1OC00YjU4LWEwMjYtZjkwY2Y5MDI0OTU3XkEyXkFqcGdeQXVyNTI4MzE4MDU@._V1_UX67_CR0,0,67,98_AL_.jpg\" src=\"https://m.media-amazon.com/images/G/01/imdb/images/nopicture/large/film-184890147._CB470041630_.png\" width=\"67\"/>\\n</a> </div>\\n<div class=\"lister-item-content\">\\n<h3 class=\"lister-item-header\">\\n<span class=\"lister-item-index unbold text-primary\">4.</span>\\n<a href=\"/title/tt1677720/?ref_=adv_li_tt\">Ready Player One</a>\\n<span class=\"lister-item-year text-muted unbold\">(2018)</span>\\n</h3>\\n<p class=\"text-muted \">\\n<span class=\"certificate\">PG-13</span>\\n<span class=\"ghost\">|</span>\\n<span class=\"runtime\">140 min</span>\\n<span class=\"ghost\">|</span>\\n<span class=\"genre\">\\nAction, Adventure, Sci-Fi            </span>\\n</p>\\n<div class=\"ratings-bar\">\\n<div class=\"inline-block ratings-imdb-rating\" data-value=\"7.6\" name=\"ir\">\\n<span class=\"global-sprite rating-star imdb-rating\"></span>\\n<strong>7.6</strong>\\n</div>\\n<div class=\"inline-block ratings-user-rating\">\\n<span class=\"userRatingValue\" data-tconst=\"tt1677720\" id=\"urv_tt1677720\">\\n<span class=\"global-sprite rating-star no-rating\"></span>\\n<span class=\"rate\" data-no-rating=\"Rate this\" data-value=\"0\" name=\"ur\">Rate this</span>\\n</span>\\n<div class=\"starBarWidget\" id=\"sb_tt1677720\">\\n<div class=\"rating rating-list\" data-auth=\"\" data-ga-identifier=\"\" data-starbar-class=\"rating-list\" data-user=\"\" id=\"tt1677720|imdb|7.6|7.6|||search|title\" itemprop=\"aggregateRating\" itemscope=\"\" itemtype=\"http://schema.org/AggregateRating\" title=\"Users rated this 7.6/10 (244,608 votes) - click stars to rate\">\\n<meta content=\"7.6\" itemprop=\"ratingValue\"/>\\n<meta content=\"10\" itemprop=\"bestRating\"/>\\n<meta content=\"244608\" itemprop=\"ratingCount\"/>\\n<span class=\"rating-bg\">\\xa0</span>\\n<span class=\"rating-imdb \" style=\"width: 106.4px\">\\xa0</span>\\n<span class=\"rating-stars\">\\n<a href=\"/register/login?why=vote&amp;ref_=tt_ov_rt\" rel=\"nofollow\" title=\"Register or login to rate this title\"><span>1</span></a>\\n<a href=\"/register/login?why=vote&amp;ref_=tt_ov_rt\" rel=\"nofollow\" title=\"Register or login to rate this title\"><span>2</span></a>\\n<a href=\"/register/login?why=vote&amp;ref_=tt_ov_rt\" rel=\"nofollow\" title=\"Register or login to rate this title\"><span>3</span></a>\\n<a href=\"/register/login?why=vote&amp;ref_=tt_ov_rt\" rel=\"nofollow\" title=\"Register or login to rate this title\"><span>4</span></a>\\n<a href=\"/register/login?why=vote&amp;ref_=tt_ov_rt\" rel=\"nofollow\" title=\"Register or login to rate this title\"><span>5</span></a>\\n<a href=\"/register/login?why=vote&amp;ref_=tt_ov_rt\" rel=\"nofollow\" title=\"Register or login to rate this title\"><span>6</span></a>\\n<a href=\"/register/login?why=vote&amp;ref_=tt_ov_rt\" rel=\"nofollow\" title=\"Register or login to rate this title\"><span>7</span></a>\\n<a href=\"/register/login?why=vote&amp;ref_=tt_ov_rt\" rel=\"nofollow\" title=\"Register or login to rate this title\"><span>8</span></a>\\n<a href=\"/register/login?why=vote&amp;ref_=tt_ov_rt\" rel=\"nofollow\" title=\"Register or login to rate this title\"><span>9</span></a>\\n<a href=\"/register/login?why=vote&amp;ref_=tt_ov_rt\" rel=\"nofollow\" title=\"Register or login to rate this title\"><span>10</span></a>\\n</span>\\n<span class=\"rating-rating \"><span class=\"value\">7.6</span><span class=\"grey\">/</span><span class=\"grey\">10</span></span>\\n<span class=\"rating-cancel \"><a href=\"/title/tt1677720/vote?v=X;k=\" rel=\"nofollow\" title=\"Delete\"><span>X</span></a></span>\\n\\xa0</div>\\n</div>\\n</div>\\n<div class=\"inline-block ratings-metascore\">\\n<span class=\"metascore favorable\">64        </span>\\n        Metascore\\n            </div>\\n</div>\\n<p class=\"text-muted\">\\n    When the creator of a virtual reality world called the OASIS dies, he releases a video in which he challenges all OASIS users to find his Easter Egg, which will give the finder his fortune.</p>\\n<p class=\"\">\\n    Director:\\n<a href=\"/name/nm0000229/?ref_=adv_li_dr_0\">Steven Spielberg</a>\\n<span class=\"ghost\">|</span> \\n    Stars:\\n<a href=\"/name/nm4446467/?ref_=adv_li_st_0\">Tye Sheridan</a>, \\n<a href=\"/name/nm4972453/?ref_=adv_li_st_1\">Olivia Cooke</a>, \\n<a href=\"/name/nm0578853/?ref_=adv_li_st_2\">Ben Mendelsohn</a>, \\n<a href=\"/name/nm2913119/?ref_=adv_li_st_3\">Lena Waithe</a>\\n</p>\\n<p class=\"sort-num_votes-visible\">\\n<span class=\"text-muted\">Votes:</span>\\n<span data-value=\"244608\" name=\"nv\">244,608</span>\\n<span class=\"ghost\">|</span> <span class=\"text-muted\">Gross:</span>\\n<span data-value=\"137,018,455\" name=\"nv\">$137.02M</span>\\n</p>\\n</div>\\n</div>\\n<div class=\"lister-item mode-advanced\">\\n<div class=\"lister-top-right\">\\n<div class=\"ribbonize\" data-caller=\"filmosearch\" data-tconst=\"tt6644200\"></div>\\n</div>\\n<div class=\"lister-item-image float-left\">\\n<a href=\"/title/tt6644200/?ref_=adv_li_i\"> <img alt=\"A Quiet Place\" class=\"loadlate\" data-tconst=\"tt6644200\" height=\"98\" loadlate=\"https://m.media-amazon.com/images/M/MV5BMjI0MDMzNTQ0M15BMl5BanBnXkFtZTgwMTM5NzM3NDM@._V1_UX67_CR0,0,67,98_AL_.jpg\" src=\"https://m.media-amazon.com/images/G/01/imdb/images/nopicture/large/film-184890147._CB470041630_.png\" width=\"67\"/>\\n</a> </div>\\n<div class=\"lister-item-content\">\\n<h3 class=\"lister-item-header\">\\n<span class=\"lister-item-index unbold text-primary\">5.</span>\\n<a href=\"/title/tt6644200/?ref_=adv_li_tt\">A Quiet Place</a>\\n<span class=\"lister-item-year text-muted unbold\">(2018)</span>\\n</h3>\\n<p class=\"text-muted \">\\n<span class=\"certificate\">PG-13</span>\\n<span class=\"ghost\">|</span>\\n<span class=\"runtime\">90 min</span>\\n<span class=\"ghost\">|</span>\\n<span class=\"genre\">\\nDrama, Horror, Mystery            </span>\\n</p>\\n<div class=\"ratings-bar\">\\n<div class=\"inline-block ratings-imdb-rating\" data-value=\"7.6\" name=\"ir\">\\n<span class=\"global-sprite rating-star imdb-rating\"></span>\\n<strong>7.6</strong>\\n</div>\\n<div class=\"inline-block ratings-user-rating\">\\n<span class=\"userRatingValue\" data-tconst=\"tt6644200\" id=\"urv_tt6644200\">\\n<span class=\"global-sprite rating-star no-rating\"></span>\\n<span class=\"rate\" data-no-rating=\"Rate this\" data-value=\"0\" name=\"ur\">Rate this</span>\\n</span>\\n<div class=\"starBarWidget\" id=\"sb_tt6644200\">\\n<div class=\"rating rating-list\" data-auth=\"\" data-ga-identifier=\"\" data-starbar-class=\"rating-list\" data-user=\"\" id=\"tt6644200|imdb|7.6|7.6|||search|title\" itemprop=\"aggregateRating\" itemscope=\"\" itemtype=\"http://schema.org/AggregateRating\" title=\"Users rated this 7.6/10 (234,321 votes) - click stars to rate\">\\n<meta content=\"7.6\" itemprop=\"ratingValue\"/>\\n<meta content=\"10\" itemprop=\"bestRating\"/>\\n<meta content=\"234321\" itemprop=\"ratingCount\"/>\\n<span class=\"rating-bg\">\\xa0</span>\\n<span class=\"rating-imdb \" style=\"width: 106.4px\">\\xa0</span>\\n<span class=\"rating-stars\">\\n<a href=\"/register/login?why=vote&amp;ref_=tt_ov_rt\" rel=\"nofollow\" title=\"Register or login to rate this title\"><span>1</span></a>\\n<a href=\"/register/login?why=vote&amp;ref_=tt_ov_rt\" rel=\"nofollow\" title=\"Register or login to rate this title\"><span>2</span></a>\\n<a href=\"/register/login?why=vote&amp;ref_=tt_ov_rt\" rel=\"nofollow\" title=\"Register or login to rate this title\"><span>3</span></a>\\n<a href=\"/register/login?why=vote&amp;ref_=tt_ov_rt\" rel=\"nofollow\" title=\"Register or login to rate this title\"><span>4</span></a>\\n<a href=\"/register/login?why=vote&amp;ref_=tt_ov_rt\" rel=\"nofollow\" title=\"Register or login to rate this title\"><span>5</span></a>\\n<a href=\"/register/login?why=vote&amp;ref_=tt_ov_rt\" rel=\"nofollow\" title=\"Register or login to rate this title\"><span>6</span></a>\\n<a href=\"/register/login?why=vote&amp;ref_=tt_ov_rt\" rel=\"nofollow\" title=\"Register or login to rate this title\"><span>7</span></a>\\n<a href=\"/register/login?why=vote&amp;ref_=tt_ov_rt\" rel=\"nofollow\" title=\"Register or login to rate this title\"><span>8</span></a>\\n<a href=\"/register/login?why=vote&amp;ref_=tt_ov_rt\" rel=\"nofollow\" title=\"Register or login to rate this title\"><span>9</span></a>\\n<a href=\"/register/login?why=vote&amp;ref_=tt_ov_rt\" rel=\"nofollow\" title=\"Register or login to rate this title\"><span>10</span></a>\\n</span>\\n<span class=\"rating-rating \"><span class=\"value\">7.6</span><span class=\"grey\">/</span><span class=\"grey\">10</span></span>\\n<span class=\"rating-cancel \"><a href=\"/title/tt6644200/vote?v=X;k=\" rel=\"nofollow\" title=\"Delete\"><span>X</span></a></span>\\n\\xa0</div>\\n</div>\\n</div>\\n<div class=\"inline-block ratings-metascore\">\\n<span class=\"metascore favorable\">82        </span>\\n        Metascore\\n            </div>\\n</div>\\n<p class=\"text-muted\">\\n    In a post-apocalyptic world, a family is forced to live in silence while hiding from monsters with ultra-sensitive hearing.</p>\\n<p class=\"\">\\n    Director:\\n<a href=\"/name/nm1024677/?ref_=adv_li_dr_0\">John Krasinski</a>\\n<span class=\"ghost\">|</span> \\n    Stars:\\n<a href=\"/name/nm1289434/?ref_=adv_li_st_0\">Emily Blunt</a>, \\n<a href=\"/name/nm1024677/?ref_=adv_li_st_1\">John Krasinski</a>, \\n<a href=\"/name/nm8075925/?ref_=adv_li_st_2\">Millicent Simmonds</a>, \\n<a href=\"/name/nm7415871/?ref_=adv_li_st_3\">Noah Jupe</a>\\n</p>\\n<p class=\"sort-num_votes-visible\">\\n<span class=\"text-muted\">Votes:</span>\\n<span data-value=\"234321\" name=\"nv\">234,321</span>\\n<span class=\"ghost\">|</span> <span class=\"text-muted\">Gross:</span>\\n<span data-value=\"188,024,361\" name=\"nv\">$188.02M</span>\\n</p>\\n</div>\\n</div>\\n<div class=\"lister-item mode-advanced\">\\n<div class=\"lister-top-right\">\\n<div class=\"ribbonize\" data-caller=\"filmosearch\" data-tconst=\"tt2798920\"></div>\\n</div>\\n<div class=\"lister-item-image float-left\">\\n<a href=\"/title/tt2798920/?ref_=adv_li_i\"> <img alt=\"Annihilation\" class=\"loadlate\" data-tconst=\"tt2798920\" height=\"98\" loadlate=\"https://m.media-amazon.com/images/M/MV5BMTk2Mjc2NzYxNl5BMl5BanBnXkFtZTgwMTA2OTA1NDM@._V1_UX67_CR0,0,67,98_AL_.jpg\" src=\"https://m.media-amazon.com/images/G/01/imdb/images/nopicture/large/film-184890147._CB470041630_.png\" width=\"67\"/>\\n</a> </div>\\n<div class=\"lister-item-content\">\\n<h3 class=\"lister-item-header\">\\n<span class=\"lister-item-index unbold text-primary\">6.</span>\\n<a href=\"/title/tt2798920/?ref_=adv_li_tt\">Annihilation</a>\\n<span class=\"lister-item-year text-muted unbold\">(2018)</span>\\n</h3>\\n<p class=\"text-muted \">\\n<span class=\"certificate\">R</span>\\n<span class=\"ghost\">|</span>\\n<span class=\"runtime\">115 min</span>\\n<span class=\"ghost\">|</span>\\n<span class=\"genre\">\\nAdventure, Drama, Horror            </span>\\n</p>\\n<div class=\"ratings-bar\">\\n<div class=\"inline-block ratings-imdb-rating\" data-value=\"6.9\" name=\"ir\">\\n<span class=\"global-sprite rating-star imdb-rating\"></span>\\n<strong>6.9</strong>\\n</div>\\n<div class=\"inline-block ratings-user-rating\">\\n<span class=\"userRatingValue\" data-tconst=\"tt2798920\" id=\"urv_tt2798920\">\\n<span class=\"global-sprite rating-star no-rating\"></span>\\n<span class=\"rate\" data-no-rating=\"Rate this\" data-value=\"0\" name=\"ur\">Rate this</span>\\n</span>\\n<div class=\"starBarWidget\" id=\"sb_tt2798920\">\\n<div class=\"rating rating-list\" data-auth=\"\" data-ga-identifier=\"\" data-starbar-class=\"rating-list\" data-user=\"\" id=\"tt2798920|imdb|6.9|6.9|||search|title\" itemprop=\"aggregateRating\" itemscope=\"\" itemtype=\"http://schema.org/AggregateRating\" title=\"Users rated this 6.9/10 (185,083 votes) - click stars to rate\">\\n<meta content=\"6.9\" itemprop=\"ratingValue\"/>\\n<meta content=\"10\" itemprop=\"bestRating\"/>\\n<meta content=\"185083\" itemprop=\"ratingCount\"/>\\n<span class=\"rating-bg\">\\xa0</span>\\n<span class=\"rating-imdb \" style=\"width: 96.6px\">\\xa0</span>\\n<span class=\"rating-stars\">\\n<a href=\"/register/login?why=vote&amp;ref_=tt_ov_rt\" rel=\"nofollow\" title=\"Register or login to rate this title\"><span>1</span></a>\\n<a href=\"/register/login?why=vote&amp;ref_=tt_ov_rt\" rel=\"nofollow\" title=\"Register or login to rate this title\"><span>2</span></a>\\n<a href=\"/register/login?why=vote&amp;ref_=tt_ov_rt\" rel=\"nofollow\" title=\"Register or login to rate this title\"><span>3</span></a>\\n<a href=\"/register/login?why=vote&amp;ref_=tt_ov_rt\" rel=\"nofollow\" title=\"Register or login to rate this title\"><span>4</span></a>\\n<a href=\"/register/login?why=vote&amp;ref_=tt_ov_rt\" rel=\"nofollow\" title=\"Register or login to rate this title\"><span>5</span></a>\\n<a href=\"/register/login?why=vote&amp;ref_=tt_ov_rt\" rel=\"nofollow\" title=\"Register or login to rate this title\"><span>6</span></a>\\n<a href=\"/register/login?why=vote&amp;ref_=tt_ov_rt\" rel=\"nofollow\" title=\"Register or login to rate this title\"><span>7</span></a>\\n<a href=\"/register/login?why=vote&amp;ref_=tt_ov_rt\" rel=\"nofollow\" title=\"Register or login to rate this title\"><span>8</span></a>\\n<a href=\"/register/login?why=vote&amp;ref_=tt_ov_rt\" rel=\"nofollow\" title=\"Register or login to rate this title\"><span>9</span></a>\\n<a href=\"/register/login?why=vote&amp;ref_=tt_ov_rt\" rel=\"nofollow\" title=\"Register or login to rate this title\"><span>10</span></a>\\n</span>\\n<span class=\"rating-rating \"><span class=\"value\">6.9</span><span class=\"grey\">/</span><span class=\"grey\">10</span></span>\\n<span class=\"rating-cancel \"><a href=\"/title/tt2798920/vote?v=X;k=\" rel=\"nofollow\" title=\"Delete\"><span>X</span></a></span>\\n\\xa0</div>\\n</div>\\n</div>\\n<div class=\"inline-block ratings-metascore\">\\n<span class=\"metascore favorable\">79        </span>\\n        Metascore\\n            </div>\\n</div>\\n<p class=\"text-muted\">\\n    A biologist signs up for a dangerous, secret expedition into a mysterious zone where the laws of nature don't apply.</p>\\n<p class=\"\">\\n    Director:\\n<a href=\"/name/nm0307497/?ref_=adv_li_dr_0\">Alex Garland</a>\\n<span class=\"ghost\">|</span> \\n    Stars:\\n<a href=\"/name/nm0000204/?ref_=adv_li_st_0\">Natalie Portman</a>, \\n<a href=\"/name/nm0000492/?ref_=adv_li_st_1\">Jennifer Jason Leigh</a>, \\n<a href=\"/name/nm1935086/?ref_=adv_li_st_2\">Tessa Thompson</a>, \\n<a href=\"/name/nm0938950/?ref_=adv_li_st_3\">Benedict Wong</a>\\n</p>\\n<p class=\"sort-num_votes-visible\">\\n<span class=\"text-muted\">Votes:</span>\\n<span data-value=\"185083\" name=\"nv\">185,083</span>\\n<span class=\"ghost\">|</span> <span class=\"text-muted\">Gross:</span>\\n<span data-value=\"32,732,301\" name=\"nv\">$32.73M</span>\\n</p>\\n</div>\\n</div>\\n<div class=\"lister-item mode-advanced\">\\n<div class=\"lister-top-right\">\\n<div class=\"ribbonize\" data-caller=\"filmosearch\" data-tconst=\"tt4881806\"></div>\\n</div>\\n<div class=\"lister-item-image float-left\">\\n<a href=\"/title/tt4881806/?ref_=adv_li_i\"> <img alt=\"Jurassic World: Fallen Kingdom\" class=\"loadlate\" data-tconst=\"tt4881806\" height=\"98\" loadlate=\"https://m.media-amazon.com/images/M/MV5BNzIxMjYwNDEwN15BMl5BanBnXkFtZTgwMzk5MDI3NTM@._V1_UX67_CR0,0,67,98_AL_.jpg\" src=\"https://m.media-amazon.com/images/G/01/imdb/images/nopicture/large/film-184890147._CB470041630_.png\" width=\"67\"/>\\n</a> </div>\\n<div class=\"lister-item-content\">\\n<h3 class=\"lister-item-header\">\\n<span class=\"lister-item-index unbold text-primary\">7.</span>\\n<a href=\"/title/tt4881806/?ref_=adv_li_tt\">Jurassic World: Fallen Kingdom</a>\\n<span class=\"lister-item-year text-muted unbold\">(2018)</span>\\n</h3>\\n<p class=\"text-muted \">\\n<span class=\"certificate\">PG-13</span>\\n<span class=\"ghost\">|</span>\\n<span class=\"runtime\">128 min</span>\\n<span class=\"ghost\">|</span>\\n<span class=\"genre\">\\nAction, Adventure, Sci-Fi            </span>\\n</p>\\n<div class=\"ratings-bar\">\\n<div class=\"inline-block ratings-imdb-rating\" data-value=\"6.2\" name=\"ir\">\\n<span class=\"global-sprite rating-star imdb-rating\"></span>\\n<strong>6.2</strong>\\n</div>\\n<div class=\"inline-block ratings-user-rating\">\\n<span class=\"userRatingValue\" data-tconst=\"tt4881806\" id=\"urv_tt4881806\">\\n<span class=\"global-sprite rating-star no-rating\"></span>\\n<span class=\"rate\" data-no-rating=\"Rate this\" data-value=\"0\" name=\"ur\">Rate this</span>\\n</span>\\n<div class=\"starBarWidget\" id=\"sb_tt4881806\">\\n<div class=\"rating rating-list\" data-auth=\"\" data-ga-identifier=\"\" data-starbar-class=\"rating-list\" data-user=\"\" id=\"tt4881806|imdb|6.2|6.2|||search|title\" itemprop=\"aggregateRating\" itemscope=\"\" itemtype=\"http://schema.org/AggregateRating\" title=\"Users rated this 6.2/10 (177,387 votes) - click stars to rate\">\\n<meta content=\"6.2\" itemprop=\"ratingValue\"/>\\n<meta content=\"10\" itemprop=\"bestRating\"/>\\n<meta content=\"177387\" itemprop=\"ratingCount\"/>\\n<span class=\"rating-bg\">\\xa0</span>\\n<span class=\"rating-imdb \" style=\"width: 86.8px\">\\xa0</span>\\n<span class=\"rating-stars\">\\n<a href=\"/register/login?why=vote&amp;ref_=tt_ov_rt\" rel=\"nofollow\" title=\"Register or login to rate this title\"><span>1</span></a>\\n<a href=\"/register/login?why=vote&amp;ref_=tt_ov_rt\" rel=\"nofollow\" title=\"Register or login to rate this title\"><span>2</span></a>\\n<a href=\"/register/login?why=vote&amp;ref_=tt_ov_rt\" rel=\"nofollow\" title=\"Register or login to rate this title\"><span>3</span></a>\\n<a href=\"/register/login?why=vote&amp;ref_=tt_ov_rt\" rel=\"nofollow\" title=\"Register or login to rate this title\"><span>4</span></a>\\n<a href=\"/register/login?why=vote&amp;ref_=tt_ov_rt\" rel=\"nofollow\" title=\"Register or login to rate this title\"><span>5</span></a>\\n<a href=\"/register/login?why=vote&amp;ref_=tt_ov_rt\" rel=\"nofollow\" title=\"Register or login to rate this title\"><span>6</span></a>\\n<a href=\"/register/login?why=vote&amp;ref_=tt_ov_rt\" rel=\"nofollow\" title=\"Register or login to rate this title\"><span>7</span></a>\\n<a href=\"/register/login?why=vote&amp;ref_=tt_ov_rt\" rel=\"nofollow\" title=\"Register or login to rate this title\"><span>8</span></a>\\n<a href=\"/register/login?why=vote&amp;ref_=tt_ov_rt\" rel=\"nofollow\" title=\"Register or login to rate this title\"><span>9</span></a>\\n<a href=\"/register/login?why=vote&amp;ref_=tt_ov_rt\" rel=\"nofollow\" title=\"Register or login to rate this title\"><span>10</span></a>\\n</span>\\n<span class=\"rating-rating \"><span class=\"value\">6.2</span><span class=\"grey\">/</span><span class=\"grey\">10</span></span>\\n<span class=\"rating-cancel \"><a href=\"/title/tt4881806/vote?v=X;k=\" rel=\"nofollow\" title=\"Delete\"><span>X</span></a></span>\\n\\xa0</div>\\n</div>\\n</div>\\n<div class=\"inline-block ratings-metascore\">\\n<span class=\"metascore mixed\">51        </span>\\n        Metascore\\n            </div>\\n</div>\\n<p class=\"text-muted\">\\n    When the island's dormant volcano begins roaring to life, Owen and Claire mount a campaign to rescue the remaining dinosaurs from this extinction-level event.</p>\\n<p class=\"\">\\n    Director:\\n<a href=\"/name/nm1291105/?ref_=adv_li_dr_0\">J.A. Bayona</a>\\n<span class=\"ghost\">|</span> \\n    Stars:\\n<a href=\"/name/nm0695435/?ref_=adv_li_st_0\">Chris Pratt</a>, \\n<a href=\"/name/nm0397171/?ref_=adv_li_st_1\">Bryce Dallas Howard</a>, \\n<a href=\"/name/nm1245863/?ref_=adv_li_st_2\">Rafe Spall</a>, \\n<a href=\"/name/nm6819854/?ref_=adv_li_st_3\">Justice Smith</a>\\n</p>\\n<p class=\"sort-num_votes-visible\">\\n<span class=\"text-muted\">Votes:</span>\\n<span data-value=\"177387\" name=\"nv\">177,387</span>\\n<span class=\"ghost\">|</span> <span class=\"text-muted\">Gross:</span>\\n<span data-value=\"416,769,345\" name=\"nv\">$416.77M</span>\\n</p>\\n</div>\\n</div>\\n<div class=\"lister-item mode-advanced\">\\n<div class=\"lister-top-right\">\\n<div class=\"ribbonize\" data-caller=\"filmosearch\" data-tconst=\"tt3778644\"></div>\\n</div>\\n<div class=\"lister-item-image float-left\">\\n<a href=\"/title/tt3778644/?ref_=adv_li_i\"> <img alt=\"Solo: A Star Wars Story\" class=\"loadlate\" data-tconst=\"tt3778644\" height=\"98\" loadlate=\"https://m.media-amazon.com/images/M/MV5BOTM2NTI3NTc3Nl5BMl5BanBnXkFtZTgwNzM1OTQyNTM@._V1_UX67_CR0,0,67,98_AL_.jpg\" src=\"https://m.media-amazon.com/images/G/01/imdb/images/nopicture/large/film-184890147._CB470041630_.png\" width=\"67\"/>\\n</a> </div>\\n<div class=\"lister-item-content\">\\n<h3 class=\"lister-item-header\">\\n<span class=\"lister-item-index unbold text-primary\">8.</span>\\n<a href=\"/title/tt3778644/?ref_=adv_li_tt\">Solo: A Star Wars Story</a>\\n<span class=\"lister-item-year text-muted unbold\">(2018)</span>\\n</h3>\\n<p class=\"text-muted \">\\n<span class=\"certificate\">PG-13</span>\\n<span class=\"ghost\">|</span>\\n<span class=\"runtime\">135 min</span>\\n<span class=\"ghost\">|</span>\\n<span class=\"genre\">\\nAction, Adventure, Fantasy            </span>\\n</p>\\n<div class=\"ratings-bar\">\\n<div class=\"inline-block ratings-imdb-rating\" data-value=\"7\" name=\"ir\">\\n<span class=\"global-sprite rating-star imdb-rating\"></span>\\n<strong>7.0</strong>\\n</div>\\n<div class=\"inline-block ratings-user-rating\">\\n<span class=\"userRatingValue\" data-tconst=\"tt3778644\" id=\"urv_tt3778644\">\\n<span class=\"global-sprite rating-star no-rating\"></span>\\n<span class=\"rate\" data-no-rating=\"Rate this\" data-value=\"0\" name=\"ur\">Rate this</span>\\n</span>\\n<div class=\"starBarWidget\" id=\"sb_tt3778644\">\\n<div class=\"rating rating-list\" data-auth=\"\" data-ga-identifier=\"\" data-starbar-class=\"rating-list\" data-user=\"\" id=\"tt3778644|imdb|7|7|||search|title\" itemprop=\"aggregateRating\" itemscope=\"\" itemtype=\"http://schema.org/AggregateRating\" title=\"Users rated this 7/10 (176,389 votes) - click stars to rate\">\\n<meta content=\"7\" itemprop=\"ratingValue\"/>\\n<meta content=\"10\" itemprop=\"bestRating\"/>\\n<meta content=\"176389\" itemprop=\"ratingCount\"/>\\n<span class=\"rating-bg\">\\xa0</span>\\n<span class=\"rating-imdb \" style=\"width: 98px\">\\xa0</span>\\n<span class=\"rating-stars\">\\n<a href=\"/register/login?why=vote&amp;ref_=tt_ov_rt\" rel=\"nofollow\" title=\"Register or login to rate this title\"><span>1</span></a>\\n<a href=\"/register/login?why=vote&amp;ref_=tt_ov_rt\" rel=\"nofollow\" title=\"Register or login to rate this title\"><span>2</span></a>\\n<a href=\"/register/login?why=vote&amp;ref_=tt_ov_rt\" rel=\"nofollow\" title=\"Register or login to rate this title\"><span>3</span></a>\\n<a href=\"/register/login?why=vote&amp;ref_=tt_ov_rt\" rel=\"nofollow\" title=\"Register or login to rate this title\"><span>4</span></a>\\n<a href=\"/register/login?why=vote&amp;ref_=tt_ov_rt\" rel=\"nofollow\" title=\"Register or login to rate this title\"><span>5</span></a>\\n<a href=\"/register/login?why=vote&amp;ref_=tt_ov_rt\" rel=\"nofollow\" title=\"Register or login to rate this title\"><span>6</span></a>\\n<a href=\"/register/login?why=vote&amp;ref_=tt_ov_rt\" rel=\"nofollow\" title=\"Register or login to rate this title\"><span>7</span></a>\\n<a href=\"/register/login?why=vote&amp;ref_=tt_ov_rt\" rel=\"nofollow\" title=\"Register or login to rate this title\"><span>8</span></a>\\n<a href=\"/register/login?why=vote&amp;ref_=tt_ov_rt\" rel=\"nofollow\" title=\"Register or login to rate this title\"><span>9</span></a>\\n<a href=\"/register/login?why=vote&amp;ref_=tt_ov_rt\" rel=\"nofollow\" title=\"Register or login to rate this title\"><span>10</span></a>\\n</span>\\n<span class=\"rating-rating \"><span class=\"value\">7</span><span class=\"grey\">/</span><span class=\"grey\">10</span></span>\\n<span class=\"rating-cancel \"><a href=\"/title/tt3778644/vote?v=X;k=\" rel=\"nofollow\" title=\"Delete\"><span>X</span></a></span>\\n\\xa0</div>\\n</div>\\n</div>\\n<div class=\"inline-block ratings-metascore\">\\n<span class=\"metascore favorable\">62        </span>\\n        Metascore\\n            </div>\\n</div>\\n<p class=\"text-muted\">\\n    During an adventure into the criminal underworld, Han Solo meets his future co-pilot Chewbacca and encounters Lando Calrissian years before joining the Rebellion.</p>\\n<p class=\"\">\\n    Director:\\n<a href=\"/name/nm0000165/?ref_=adv_li_dr_0\">Ron Howard</a>\\n<span class=\"ghost\">|</span> \\n    Stars:\\n<a href=\"/name/nm2403277/?ref_=adv_li_st_0\">Alden Ehrenreich</a>, \\n<a href=\"/name/nm0000437/?ref_=adv_li_st_1\">Woody Harrelson</a>, \\n<a href=\"/name/nm3592338/?ref_=adv_li_st_2\">Emilia Clarke</a>, \\n<a href=\"/name/nm2255973/?ref_=adv_li_st_3\">Donald Glover</a>\\n</p>\\n<p class=\"sort-num_votes-visible\">\\n<span class=\"text-muted\">Votes:</span>\\n<span data-value=\"176389\" name=\"nv\">176,389</span>\\n<span class=\"ghost\">|</span> <span class=\"text-muted\">Gross:</span>\\n<span data-value=\"213,767,512\" name=\"nv\">$213.77M</span>\\n</p>\\n</div>\\n</div>\\n<div class=\"lister-item mode-advanced\">\\n<div class=\"lister-top-right\">\\n<div class=\"ribbonize\" data-caller=\"filmosearch\" data-tconst=\"tt4912910\"></div>\\n</div>\\n<div class=\"lister-item-image float-left\">\\n<a href=\"/title/tt4912910/?ref_=adv_li_i\"> <img alt=\"Mission: Impossible - Fallout\" class=\"loadlate\" data-tconst=\"tt4912910\" height=\"98\" loadlate=\"https://m.media-amazon.com/images/M/MV5BNjRlZmM0ODktY2RjNS00ZDdjLWJhZGYtNDljNWZkMGM5MTg0XkEyXkFqcGdeQXVyNjAwMjI5MDk@._V1_UX67_CR0,0,67,98_AL_.jpg\" src=\"https://m.media-amazon.com/images/G/01/imdb/images/nopicture/large/film-184890147._CB470041630_.png\" width=\"67\"/>\\n</a> </div>\\n<div class=\"lister-item-content\">\\n<h3 class=\"lister-item-header\">\\n<span class=\"lister-item-index unbold text-primary\">9.</span>\\n<a href=\"/title/tt4912910/?ref_=adv_li_tt\">Mission: Impossible - Fallout</a>\\n<span class=\"lister-item-year text-muted unbold\">(2018)</span>\\n</h3>\\n<p class=\"text-muted \">\\n<span class=\"certificate\">PG-13</span>\\n<span class=\"ghost\">|</span>\\n<span class=\"runtime\">147 min</span>\\n<span class=\"ghost\">|</span>\\n<span class=\"genre\">\\nAction, Adventure, Thriller            </span>\\n</p>\\n<div class=\"ratings-bar\">\\n<div class=\"inline-block ratings-imdb-rating\" data-value=\"7.9\" name=\"ir\">\\n<span class=\"global-sprite rating-star imdb-rating\"></span>\\n<strong>7.9</strong>\\n</div>\\n<div class=\"inline-block ratings-user-rating\">\\n<span class=\"userRatingValue\" data-tconst=\"tt4912910\" id=\"urv_tt4912910\">\\n<span class=\"global-sprite rating-star no-rating\"></span>\\n<span class=\"rate\" data-no-rating=\"Rate this\" data-value=\"0\" name=\"ur\">Rate this</span>\\n</span>\\n<div class=\"starBarWidget\" id=\"sb_tt4912910\">\\n<div class=\"rating rating-list\" data-auth=\"\" data-ga-identifier=\"\" data-starbar-class=\"rating-list\" data-user=\"\" id=\"tt4912910|imdb|7.9|7.9|||search|title\" itemprop=\"aggregateRating\" itemscope=\"\" itemtype=\"http://schema.org/AggregateRating\" title=\"Users rated this 7.9/10 (174,271 votes) - click stars to rate\">\\n<meta content=\"7.9\" itemprop=\"ratingValue\"/>\\n<meta content=\"10\" itemprop=\"bestRating\"/>\\n<meta content=\"174271\" itemprop=\"ratingCount\"/>\\n<span class=\"rating-bg\">\\xa0</span>\\n<span class=\"rating-imdb \" style=\"width: 110.6px\">\\xa0</span>\\n<span class=\"rating-stars\">\\n<a href=\"/register/login?why=vote&amp;ref_=tt_ov_rt\" rel=\"nofollow\" title=\"Register or login to rate this title\"><span>1</span></a>\\n<a href=\"/register/login?why=vote&amp;ref_=tt_ov_rt\" rel=\"nofollow\" title=\"Register or login to rate this title\"><span>2</span></a>\\n<a href=\"/register/login?why=vote&amp;ref_=tt_ov_rt\" rel=\"nofollow\" title=\"Register or login to rate this title\"><span>3</span></a>\\n<a href=\"/register/login?why=vote&amp;ref_=tt_ov_rt\" rel=\"nofollow\" title=\"Register or login to rate this title\"><span>4</span></a>\\n<a href=\"/register/login?why=vote&amp;ref_=tt_ov_rt\" rel=\"nofollow\" title=\"Register or login to rate this title\"><span>5</span></a>\\n<a href=\"/register/login?why=vote&amp;ref_=tt_ov_rt\" rel=\"nofollow\" title=\"Register or login to rate this title\"><span>6</span></a>\\n<a href=\"/register/login?why=vote&amp;ref_=tt_ov_rt\" rel=\"nofollow\" title=\"Register or login to rate this title\"><span>7</span></a>\\n<a href=\"/register/login?why=vote&amp;ref_=tt_ov_rt\" rel=\"nofollow\" title=\"Register or login to rate this title\"><span>8</span></a>\\n<a href=\"/register/login?why=vote&amp;ref_=tt_ov_rt\" rel=\"nofollow\" title=\"Register or login to rate this title\"><span>9</span></a>\\n<a href=\"/register/login?why=vote&amp;ref_=tt_ov_rt\" rel=\"nofollow\" title=\"Register or login to rate this title\"><span>10</span></a>\\n</span>\\n<span class=\"rating-rating \"><span class=\"value\">7.9</span><span class=\"grey\">/</span><span class=\"grey\">10</span></span>\\n<span class=\"rating-cancel \"><a href=\"/title/tt4912910/vote?v=X;k=\" rel=\"nofollow\" title=\"Delete\"><span>X</span></a></span>\\n\\xa0</div>\\n</div>\\n</div>\\n<div class=\"inline-block ratings-metascore\">\\n<span class=\"metascore favorable\">86        </span>\\n        Metascore\\n            </div>\\n</div>\\n<p class=\"text-muted\">\\n    Ethan Hunt and his IMF team, along with some familiar allies, race against time after a mission gone wrong.</p>\\n<p class=\"\">\\n    Director:\\n<a href=\"/name/nm0003160/?ref_=adv_li_dr_0\">Christopher McQuarrie</a>\\n<span class=\"ghost\">|</span> \\n    Stars:\\n<a href=\"/name/nm0000129/?ref_=adv_li_st_0\">Tom Cruise</a>, \\n<a href=\"/name/nm0147147/?ref_=adv_li_st_1\">Henry Cavill</a>, \\n<a href=\"/name/nm0000609/?ref_=adv_li_st_2\">Ving Rhames</a>, \\n<a href=\"/name/nm0670408/?ref_=adv_li_st_3\">Simon Pegg</a>\\n</p>\\n<p class=\"sort-num_votes-visible\">\\n<span class=\"text-muted\">Votes:</span>\\n<span data-value=\"174271\" name=\"nv\">174,271</span>\\n<span class=\"ghost\">|</span> <span class=\"text-muted\">Gross:</span>\\n<span data-value=\"220,159,104\" name=\"nv\">$220.16M</span>\\n</p>\\n</div>\\n</div>\\n<div class=\"lister-item mode-advanced\">\\n<div class=\"lister-top-right\">\\n<div class=\"ribbonize\" data-caller=\"filmosearch\" data-tconst=\"tt5095030\"></div>\\n</div>\\n<div class=\"lister-item-image float-left\">\\n<a href=\"/title/tt5095030/?ref_=adv_li_i\"> <img alt=\"Ant-Man and the Wasp\" class=\"loadlate\" data-tconst=\"tt5095030\" height=\"98\" loadlate=\"https://m.media-amazon.com/images/M/MV5BYjcyYTk0N2YtMzc4ZC00Y2E0LWFkNDgtNjE1MzZmMGE1YjY1XkEyXkFqcGdeQXVyMTMxODk2OTU@._V1_UX67_CR0,0,67,98_AL_.jpg\" src=\"https://m.media-amazon.com/images/G/01/imdb/images/nopicture/large/film-184890147._CB470041630_.png\" width=\"67\"/>\\n</a> </div>\\n<div class=\"lister-item-content\">\\n<h3 class=\"lister-item-header\">\\n<span class=\"lister-item-index unbold text-primary\">10.</span>\\n<a href=\"/title/tt5095030/?ref_=adv_li_tt\">Ant-Man and the Wasp</a>\\n<span class=\"lister-item-year text-muted unbold\">(2018)</span>\\n</h3>\\n<p class=\"text-muted \">\\n<span class=\"certificate\">PG-13</span>\\n<span class=\"ghost\">|</span>\\n<span class=\"runtime\">118 min</span>\\n<span class=\"ghost\">|</span>\\n<span class=\"genre\">\\nAction, Adventure, Comedy            </span>\\n</p>\\n<div class=\"ratings-bar\">\\n<div class=\"inline-block ratings-imdb-rating\" data-value=\"7.2\" name=\"ir\">\\n<span class=\"global-sprite rating-star imdb-rating\"></span>\\n<strong>7.2</strong>\\n</div>\\n<div class=\"inline-block ratings-user-rating\">\\n<span class=\"userRatingValue\" data-tconst=\"tt5095030\" id=\"urv_tt5095030\">\\n<span class=\"global-sprite rating-star no-rating\"></span>\\n<span class=\"rate\" data-no-rating=\"Rate this\" data-value=\"0\" name=\"ur\">Rate this</span>\\n</span>\\n<div class=\"starBarWidget\" id=\"sb_tt5095030\">\\n<div class=\"rating rating-list\" data-auth=\"\" data-ga-identifier=\"\" data-starbar-class=\"rating-list\" data-user=\"\" id=\"tt5095030|imdb|7.2|7.2|||search|title\" itemprop=\"aggregateRating\" itemscope=\"\" itemtype=\"http://schema.org/AggregateRating\" title=\"Users rated this 7.2/10 (156,820 votes) - click stars to rate\">\\n<meta content=\"7.2\" itemprop=\"ratingValue\"/>\\n<meta content=\"10\" itemprop=\"bestRating\"/>\\n<meta content=\"156820\" itemprop=\"ratingCount\"/>\\n<span class=\"rating-bg\">\\xa0</span>\\n<span class=\"rating-imdb \" style=\"width: 100.8px\">\\xa0</span>\\n<span class=\"rating-stars\">\\n<a href=\"/register/login?why=vote&amp;ref_=tt_ov_rt\" rel=\"nofollow\" title=\"Register or login to rate this title\"><span>1</span></a>\\n<a href=\"/register/login?why=vote&amp;ref_=tt_ov_rt\" rel=\"nofollow\" title=\"Register or login to rate this title\"><span>2</span></a>\\n<a href=\"/register/login?why=vote&amp;ref_=tt_ov_rt\" rel=\"nofollow\" title=\"Register or login to rate this title\"><span>3</span></a>\\n<a href=\"/register/login?why=vote&amp;ref_=tt_ov_rt\" rel=\"nofollow\" title=\"Register or login to rate this title\"><span>4</span></a>\\n<a href=\"/register/login?why=vote&amp;ref_=tt_ov_rt\" rel=\"nofollow\" title=\"Register or login to rate this title\"><span>5</span></a>\\n<a href=\"/register/login?why=vote&amp;ref_=tt_ov_rt\" rel=\"nofollow\" title=\"Register or login to rate this title\"><span>6</span></a>\\n<a href=\"/register/login?why=vote&amp;ref_=tt_ov_rt\" rel=\"nofollow\" title=\"Register or login to rate this title\"><span>7</span></a>\\n<a href=\"/register/login?why=vote&amp;ref_=tt_ov_rt\" rel=\"nofollow\" title=\"Register or login to rate this title\"><span>8</span></a>\\n<a href=\"/register/login?why=vote&amp;ref_=tt_ov_rt\" rel=\"nofollow\" title=\"Register or login to rate this title\"><span>9</span></a>\\n<a href=\"/register/login?why=vote&amp;ref_=tt_ov_rt\" rel=\"nofollow\" title=\"Register or login to rate this title\"><span>10</span></a>\\n</span>\\n<span class=\"rating-rating \"><span class=\"value\">7.2</span><span class=\"grey\">/</span><span class=\"grey\">10</span></span>\\n<span class=\"rating-cancel \"><a href=\"/title/tt5095030/vote?v=X;k=\" rel=\"nofollow\" title=\"Delete\"><span>X</span></a></span>\\n\\xa0</div>\\n</div>\\n</div>\\n<div class=\"inline-block ratings-metascore\">\\n<span class=\"metascore favorable\">70        </span>\\n        Metascore\\n            </div>\\n</div>\\n<p class=\"text-muted\">\\n    As Scott Lang balances being both a Super Hero and a father, Hope van Dyne and Dr. Hank Pym present an urgent new mission that finds the Ant-Man fighting alongside The Wasp to uncover secrets from their past.</p>\\n<p class=\"\">\\n    Director:\\n<a href=\"/name/nm0715636/?ref_=adv_li_dr_0\">Peyton Reed</a>\\n<span class=\"ghost\">|</span> \\n    Stars:\\n<a href=\"/name/nm0748620/?ref_=adv_li_st_0\">Paul Rudd</a>, \\n<a href=\"/name/nm1431940/?ref_=adv_li_st_1\">Evangeline Lilly</a>, \\n<a href=\"/name/nm0671567/?ref_=adv_li_st_2\">Michael Pe\\xf1a</a>, \\n<a href=\"/name/nm0324658/?ref_=adv_li_st_3\">Walton Goggins</a>\\n</p>\\n<p class=\"sort-num_votes-visible\">\\n<span class=\"text-muted\">Votes:</span>\\n<span data-value=\"156820\" name=\"nv\">156,820</span>\\n<span class=\"ghost\">|</span> <span class=\"text-muted\">Gross:</span>\\n<span data-value=\"216,648,740\" name=\"nv\">$216.65M</span>\\n</p>\\n</div>\\n</div>\\n<div class=\"lister-item mode-advanced\">\\n<div class=\"lister-top-right\">\\n<div class=\"ribbonize\" data-caller=\"filmosearch\" data-tconst=\"tt1270797\"></div>\\n</div>\\n<div class=\"lister-item-image float-left\">\\n<a href=\"/title/tt1270797/?ref_=adv_li_i\"> <img alt=\"Venom\" class=\"loadlate\" data-tconst=\"tt1270797\" height=\"98\" loadlate=\"https://m.media-amazon.com/images/M/MV5BNzAwNzUzNjY4MV5BMl5BanBnXkFtZTgwMTQ5MzM0NjM@._V1_UX67_CR0,0,67,98_AL_.jpg\" src=\"https://m.media-amazon.com/images/G/01/imdb/images/nopicture/large/film-184890147._CB470041630_.png\" width=\"67\"/>\\n</a> </div>\\n<div class=\"lister-item-content\">\\n<h3 class=\"lister-item-header\">\\n<span class=\"lister-item-index unbold text-primary\">11.</span>\\n<a href=\"/title/tt1270797/?ref_=adv_li_tt\">Venom</a>\\n<span class=\"lister-item-year text-muted unbold\">(2018)</span>\\n</h3>\\n<p class=\"text-muted \">\\n<span class=\"certificate\">PG-13</span>\\n<span class=\"ghost\">|</span>\\n<span class=\"runtime\">112 min</span>\\n<span class=\"ghost\">|</span>\\n<span class=\"genre\">\\nAction, Sci-Fi            </span>\\n</p>\\n<div class=\"ratings-bar\">\\n<div class=\"inline-block ratings-imdb-rating\" data-value=\"7\" name=\"ir\">\\n<span class=\"global-sprite rating-star imdb-rating\"></span>\\n<strong>7.0</strong>\\n</div>\\n<div class=\"inline-block ratings-user-rating\">\\n<span class=\"userRatingValue\" data-tconst=\"tt1270797\" id=\"urv_tt1270797\">\\n<span class=\"global-sprite rating-star no-rating\"></span>\\n<span class=\"rate\" data-no-rating=\"Rate this\" data-value=\"0\" name=\"ur\">Rate this</span>\\n</span>\\n<div class=\"starBarWidget\" id=\"sb_tt1270797\">\\n<div class=\"rating rating-list\" data-auth=\"\" data-ga-identifier=\"\" data-starbar-class=\"rating-list\" data-user=\"\" id=\"tt1270797|imdb|7|7|||search|title\" itemprop=\"aggregateRating\" itemscope=\"\" itemtype=\"http://schema.org/AggregateRating\" title=\"Users rated this 7/10 (144,934 votes) - click stars to rate\">\\n<meta content=\"7\" itemprop=\"ratingValue\"/>\\n<meta content=\"10\" itemprop=\"bestRating\"/>\\n<meta content=\"144934\" itemprop=\"ratingCount\"/>\\n<span class=\"rating-bg\">\\xa0</span>\\n<span class=\"rating-imdb \" style=\"width: 98px\">\\xa0</span>\\n<span class=\"rating-stars\">\\n<a href=\"/register/login?why=vote&amp;ref_=tt_ov_rt\" rel=\"nofollow\" title=\"Register or login to rate this title\"><span>1</span></a>\\n<a href=\"/register/login?why=vote&amp;ref_=tt_ov_rt\" rel=\"nofollow\" title=\"Register or login to rate this title\"><span>2</span></a>\\n<a href=\"/register/login?why=vote&amp;ref_=tt_ov_rt\" rel=\"nofollow\" title=\"Register or login to rate this title\"><span>3</span></a>\\n<a href=\"/register/login?why=vote&amp;ref_=tt_ov_rt\" rel=\"nofollow\" title=\"Register or login to rate this title\"><span>4</span></a>\\n<a href=\"/register/login?why=vote&amp;ref_=tt_ov_rt\" rel=\"nofollow\" title=\"Register or login to rate this title\"><span>5</span></a>\\n<a href=\"/register/login?why=vote&amp;ref_=tt_ov_rt\" rel=\"nofollow\" title=\"Register or login to rate this title\"><span>6</span></a>\\n<a href=\"/register/login?why=vote&amp;ref_=tt_ov_rt\" rel=\"nofollow\" title=\"Register or login to rate this title\"><span>7</span></a>\\n<a href=\"/register/login?why=vote&amp;ref_=tt_ov_rt\" rel=\"nofollow\" title=\"Register or login to rate this title\"><span>8</span></a>\\n<a href=\"/register/login?why=vote&amp;ref_=tt_ov_rt\" rel=\"nofollow\" title=\"Register or login to rate this title\"><span>9</span></a>\\n<a href=\"/register/login?why=vote&amp;ref_=tt_ov_rt\" rel=\"nofollow\" title=\"Register or login to rate this title\"><span>10</span></a>\\n</span>\\n<span class=\"rating-rating \"><span class=\"value\">7</span><span class=\"grey\">/</span><span class=\"grey\">10</span></span>\\n<span class=\"rating-cancel \"><a href=\"/title/tt1270797/vote?v=X;k=\" rel=\"nofollow\" title=\"Delete\"><span>X</span></a></span>\\n\\xa0</div>\\n</div>\\n</div>\\n<div class=\"inline-block ratings-metascore\">\\n<span class=\"metascore unfavorable\">35        </span>\\n        Metascore\\n            </div>\\n</div>\\n<p class=\"text-muted\">\\n    When Eddie Brock acquires the powers of a symbiote, he will have to release his alter-ego \"Venom\" to save his life.</p>\\n<p class=\"\">\\n    Director:\\n<a href=\"/name/nm0281508/?ref_=adv_li_dr_0\">Ruben Fleischer</a>\\n<span class=\"ghost\">|</span> \\n    Stars:\\n<a href=\"/name/nm0362766/?ref_=adv_li_st_0\">Tom Hardy</a>, \\n<a href=\"/name/nm0931329/?ref_=adv_li_st_1\">Michelle Williams</a>, \\n<a href=\"/name/nm1981893/?ref_=adv_li_st_2\">Riz Ahmed</a>, \\n<a href=\"/name/nm2020278/?ref_=adv_li_st_3\">Scott Haze</a>\\n</p>\\n<p class=\"sort-num_votes-visible\">\\n<span class=\"text-muted\">Votes:</span>\\n<span data-value=\"144934\" name=\"nv\">144,934</span>\\n<span class=\"ghost\">|</span> <span class=\"text-muted\">Gross:</span>\\n<span data-value=\"211,890,652\" name=\"nv\">$211.89M</span>\\n</p>\\n</div>\\n</div>\\n<div class=\"lister-item mode-advanced\">\\n<div class=\"lister-top-right\">\\n<div class=\"ribbonize\" data-caller=\"filmosearch\" data-tconst=\"tt3606756\"></div>\\n</div>\\n<div class=\"lister-item-image float-left\">\\n<a href=\"/title/tt3606756/?ref_=adv_li_i\"> <img alt=\"Incredibles 2\" class=\"loadlate\" data-tconst=\"tt3606756\" height=\"98\" loadlate=\"https://m.media-amazon.com/images/M/MV5BMTEzNzY0OTg0NTdeQTJeQWpwZ15BbWU4MDU3OTg3MjUz._V1_UX67_CR0,0,67,98_AL_.jpg\" src=\"https://m.media-amazon.com/images/G/01/imdb/images/nopicture/large/film-184890147._CB470041630_.png\" width=\"67\"/>\\n</a> </div>\\n<div class=\"lister-item-content\">\\n<h3 class=\"lister-item-header\">\\n<span class=\"lister-item-index unbold text-primary\">12.</span>\\n<a href=\"/title/tt3606756/?ref_=adv_li_tt\">Incredibles 2</a>\\n<span class=\"lister-item-year text-muted unbold\">(2018)</span>\\n</h3>\\n<p class=\"text-muted \">\\n<span class=\"certificate\">PG</span>\\n<span class=\"ghost\">|</span>\\n<span class=\"runtime\">118 min</span>\\n<span class=\"ghost\">|</span>\\n<span class=\"genre\">\\nAnimation, Action, Adventure            </span>\\n</p>\\n<div class=\"ratings-bar\">\\n<div class=\"inline-block ratings-imdb-rating\" data-value=\"7.9\" name=\"ir\">\\n<span class=\"global-sprite rating-star imdb-rating\"></span>\\n<strong>7.9</strong>\\n</div>\\n<div class=\"inline-block ratings-user-rating\">\\n<span class=\"userRatingValue\" data-tconst=\"tt3606756\" id=\"urv_tt3606756\">\\n<span class=\"global-sprite rating-star no-rating\"></span>\\n<span class=\"rate\" data-no-rating=\"Rate this\" data-value=\"0\" name=\"ur\">Rate this</span>\\n</span>\\n<div class=\"starBarWidget\" id=\"sb_tt3606756\">\\n<div class=\"rating rating-list\" data-auth=\"\" data-ga-identifier=\"\" data-starbar-class=\"rating-list\" data-user=\"\" id=\"tt3606756|imdb|7.9|7.9|||search|title\" itemprop=\"aggregateRating\" itemscope=\"\" itemtype=\"http://schema.org/AggregateRating\" title=\"Users rated this 7.9/10 (143,112 votes) - click stars to rate\">\\n<meta content=\"7.9\" itemprop=\"ratingValue\"/>\\n<meta content=\"10\" itemprop=\"bestRating\"/>\\n<meta content=\"143112\" itemprop=\"ratingCount\"/>\\n<span class=\"rating-bg\">\\xa0</span>\\n<span class=\"rating-imdb \" style=\"width: 110.6px\">\\xa0</span>\\n<span class=\"rating-stars\">\\n<a href=\"/register/login?why=vote&amp;ref_=tt_ov_rt\" rel=\"nofollow\" title=\"Register or login to rate this title\"><span>1</span></a>\\n<a href=\"/register/login?why=vote&amp;ref_=tt_ov_rt\" rel=\"nofollow\" title=\"Register or login to rate this title\"><span>2</span></a>\\n<a href=\"/register/login?why=vote&amp;ref_=tt_ov_rt\" rel=\"nofollow\" title=\"Register or login to rate this title\"><span>3</span></a>\\n<a href=\"/register/login?why=vote&amp;ref_=tt_ov_rt\" rel=\"nofollow\" title=\"Register or login to rate this title\"><span>4</span></a>\\n<a href=\"/register/login?why=vote&amp;ref_=tt_ov_rt\" rel=\"nofollow\" title=\"Register or login to rate this title\"><span>5</span></a>\\n<a href=\"/register/login?why=vote&amp;ref_=tt_ov_rt\" rel=\"nofollow\" title=\"Register or login to rate this title\"><span>6</span></a>\\n<a href=\"/register/login?why=vote&amp;ref_=tt_ov_rt\" rel=\"nofollow\" title=\"Register or login to rate this title\"><span>7</span></a>\\n<a href=\"/register/login?why=vote&amp;ref_=tt_ov_rt\" rel=\"nofollow\" title=\"Register or login to rate this title\"><span>8</span></a>\\n<a href=\"/register/login?why=vote&amp;ref_=tt_ov_rt\" rel=\"nofollow\" title=\"Register or login to rate this title\"><span>9</span></a>\\n<a href=\"/register/login?why=vote&amp;ref_=tt_ov_rt\" rel=\"nofollow\" title=\"Register or login to rate this title\"><span>10</span></a>\\n</span>\\n<span class=\"rating-rating \"><span class=\"value\">7.9</span><span class=\"grey\">/</span><span class=\"grey\">10</span></span>\\n<span class=\"rating-cancel \"><a href=\"/title/tt3606756/vote?v=X;k=\" rel=\"nofollow\" title=\"Delete\"><span>X</span></a></span>\\n\\xa0</div>\\n</div>\\n</div>\\n<div class=\"inline-block ratings-metascore\">\\n<span class=\"metascore favorable\">80        </span>\\n        Metascore\\n            </div>\\n</div>\\n<p class=\"text-muted\">\\n    Bob Parr (Mr. Incredible) is left to care for the kids while Helen (Elastigirl) is out saving the world.</p>\\n<p class=\"\">\\n    Director:\\n<a href=\"/name/nm0083348/?ref_=adv_li_dr_0\">Brad Bird</a>\\n<span class=\"ghost\">|</span> \\n    Stars:\\n<a href=\"/name/nm0005266/?ref_=adv_li_st_0\">Craig T. Nelson</a>, \\n<a href=\"/name/nm0000456/?ref_=adv_li_st_1\">Holly Hunter</a>, \\n<a href=\"/name/nm1102970/?ref_=adv_li_st_2\">Sarah Vowell</a>, \\n<a href=\"/name/nm9133740/?ref_=adv_li_st_3\">Huck Milner</a>\\n</p>\\n<p class=\"sort-num_votes-visible\">\\n<span class=\"text-muted\">Votes:</span>\\n<span data-value=\"143112\" name=\"nv\">143,112</span>\\n<span class=\"ghost\">|</span> <span class=\"text-muted\">Gross:</span>\\n<span data-value=\"608,517,638\" name=\"nv\">$608.52M</span>\\n</p>\\n</div>\\n</div>\\n<div class=\"lister-item mode-advanced\">\\n<div class=\"lister-top-right\">\\n<div class=\"ribbonize\" data-caller=\"filmosearch\" data-tconst=\"tt1365519\"></div>\\n</div>\\n<div class=\"lister-item-image float-left\">\\n<a href=\"/title/tt1365519/?ref_=adv_li_i\"> <img alt=\"Tomb Raider\" class=\"loadlate\" data-tconst=\"tt1365519\" height=\"98\" loadlate=\"https://m.media-amazon.com/images/M/MV5BOTY4NDcyZGQtYmVlNy00ODgwLTljYTMtYzQ2OTE3NDhjODMwXkEyXkFqcGdeQXVyNzYzODM3Mzg@._V1_UX67_CR0,0,67,98_AL_.jpg\" src=\"https://m.media-amazon.com/images/G/01/imdb/images/nopicture/large/film-184890147._CB470041630_.png\" width=\"67\"/>\\n</a> </div>\\n<div class=\"lister-item-content\">\\n<h3 class=\"lister-item-header\">\\n<span class=\"lister-item-index unbold text-primary\">13.</span>\\n<a href=\"/title/tt1365519/?ref_=adv_li_tt\">Tomb Raider</a>\\n<span class=\"lister-item-year text-muted unbold\">(2018)</span>\\n</h3>\\n<p class=\"text-muted \">\\n<span class=\"certificate\">PG-13</span>\\n<span class=\"ghost\">|</span>\\n<span class=\"runtime\">118 min</span>\\n<span class=\"ghost\">|</span>\\n<span class=\"genre\">\\nAction, Adventure, Fantasy            </span>\\n</p>\\n<div class=\"ratings-bar\">\\n<div class=\"inline-block ratings-imdb-rating\" data-value=\"6.4\" name=\"ir\">\\n<span class=\"global-sprite rating-star imdb-rating\"></span>\\n<strong>6.4</strong>\\n</div>\\n<div class=\"inline-block ratings-user-rating\">\\n<span class=\"userRatingValue\" data-tconst=\"tt1365519\" id=\"urv_tt1365519\">\\n<span class=\"global-sprite rating-star no-rating\"></span>\\n<span class=\"rate\" data-no-rating=\"Rate this\" data-value=\"0\" name=\"ur\">Rate this</span>\\n</span>\\n<div class=\"starBarWidget\" id=\"sb_tt1365519\">\\n<div class=\"rating rating-list\" data-auth=\"\" data-ga-identifier=\"\" data-starbar-class=\"rating-list\" data-user=\"\" id=\"tt1365519|imdb|6.4|6.4|||search|title\" itemprop=\"aggregateRating\" itemscope=\"\" itemtype=\"http://schema.org/AggregateRating\" title=\"Users rated this 6.4/10 (139,655 votes) - click stars to rate\">\\n<meta content=\"6.4\" itemprop=\"ratingValue\"/>\\n<meta content=\"10\" itemprop=\"bestRating\"/>\\n<meta content=\"139655\" itemprop=\"ratingCount\"/>\\n<span class=\"rating-bg\">\\xa0</span>\\n<span class=\"rating-imdb \" style=\"width: 89.6px\">\\xa0</span>\\n<span class=\"rating-stars\">\\n<a href=\"/register/login?why=vote&amp;ref_=tt_ov_rt\" rel=\"nofollow\" title=\"Register or login to rate this title\"><span>1</span></a>\\n<a href=\"/register/login?why=vote&amp;ref_=tt_ov_rt\" rel=\"nofollow\" title=\"Register or login to rate this title\"><span>2</span></a>\\n<a href=\"/register/login?why=vote&amp;ref_=tt_ov_rt\" rel=\"nofollow\" title=\"Register or login to rate this title\"><span>3</span></a>\\n<a href=\"/register/login?why=vote&amp;ref_=tt_ov_rt\" rel=\"nofollow\" title=\"Register or login to rate this title\"><span>4</span></a>\\n<a href=\"/register/login?why=vote&amp;ref_=tt_ov_rt\" rel=\"nofollow\" title=\"Register or login to rate this title\"><span>5</span></a>\\n<a href=\"/register/login?why=vote&amp;ref_=tt_ov_rt\" rel=\"nofollow\" title=\"Register or login to rate this title\"><span>6</span></a>\\n<a href=\"/register/login?why=vote&amp;ref_=tt_ov_rt\" rel=\"nofollow\" title=\"Register or login to rate this title\"><span>7</span></a>\\n<a href=\"/register/login?why=vote&amp;ref_=tt_ov_rt\" rel=\"nofollow\" title=\"Register or login to rate this title\"><span>8</span></a>\\n<a href=\"/register/login?why=vote&amp;ref_=tt_ov_rt\" rel=\"nofollow\" title=\"Register or login to rate this title\"><span>9</span></a>\\n<a href=\"/register/login?why=vote&amp;ref_=tt_ov_rt\" rel=\"nofollow\" title=\"Register or login to rate this title\"><span>10</span></a>\\n</span>\\n<span class=\"rating-rating \"><span class=\"value\">6.4</span><span class=\"grey\">/</span><span class=\"grey\">10</span></span>\\n<span class=\"rating-cancel \"><a href=\"/title/tt1365519/vote?v=X;k=\" rel=\"nofollow\" title=\"Delete\"><span>X</span></a></span>\\n\\xa0</div>\\n</div>\\n</div>\\n<div class=\"inline-block ratings-metascore\">\\n<span class=\"metascore mixed\">48        </span>\\n        Metascore\\n            </div>\\n</div>\\n<p class=\"text-muted\">\\n    Lara Croft, the fiercely independent daughter of a missing adventurer, must push herself beyond her limits when she discovers the island where her father disappeared.</p>\\n<p class=\"\">\\n    Director:\\n<a href=\"/name/nm1012385/?ref_=adv_li_dr_0\">Roar Uthaug</a>\\n<span class=\"ghost\">|</span> \\n    Stars:\\n<a href=\"/name/nm2539953/?ref_=adv_li_st_0\">Alicia Vikander</a>, \\n<a href=\"/name/nm0922035/?ref_=adv_li_st_1\">Dominic West</a>, \\n<a href=\"/name/nm0324658/?ref_=adv_li_st_2\">Walton Goggins</a>, \\n<a href=\"/name/nm0943079/?ref_=adv_li_st_3\">Daniel Wu</a>\\n</p>\\n<p class=\"sort-num_votes-visible\">\\n<span class=\"text-muted\">Votes:</span>\\n<span data-value=\"139655\" name=\"nv\">139,655</span>\\n<span class=\"ghost\">|</span> <span class=\"text-muted\">Gross:</span>\\n<span data-value=\"57,421,715\" name=\"nv\">$57.42M</span>\\n</p>\\n</div>\\n</div>\\n<div class=\"lister-item mode-advanced\">\\n<div class=\"lister-top-right\">\\n<div class=\"ribbonize\" data-caller=\"filmosearch\" data-tconst=\"tt1727824\"></div>\\n</div>\\n<div class=\"lister-item-image float-left\">\\n<a href=\"/title/tt1727824/?ref_=adv_li_i\"> <img alt=\"Bohemian Rhapsody\" class=\"loadlate\" data-tconst=\"tt1727824\" height=\"98\" loadlate=\"https://m.media-amazon.com/images/M/MV5BNDg2NjIxMDUyNF5BMl5BanBnXkFtZTgwMzEzNTE1NTM@._V1_UX67_CR0,0,67,98_AL_.jpg\" src=\"https://m.media-amazon.com/images/G/01/imdb/images/nopicture/large/film-184890147._CB470041630_.png\" width=\"67\"/>\\n</a> </div>\\n<div class=\"lister-item-content\">\\n<h3 class=\"lister-item-header\">\\n<span class=\"lister-item-index unbold text-primary\">14.</span>\\n<a href=\"/title/tt1727824/?ref_=adv_li_tt\">Bohemian Rhapsody</a>\\n<span class=\"lister-item-year text-muted unbold\">(2018)</span>\\n</h3>\\n<p class=\"text-muted \">\\n<span class=\"certificate\">PG-13</span>\\n<span class=\"ghost\">|</span>\\n<span class=\"runtime\">134 min</span>\\n<span class=\"ghost\">|</span>\\n<span class=\"genre\">\\nBiography, Drama, Music            </span>\\n</p>\\n<div class=\"ratings-bar\">\\n<div class=\"inline-block ratings-imdb-rating\" data-value=\"8.4\" name=\"ir\">\\n<span class=\"global-sprite rating-star imdb-rating\"></span>\\n<strong>8.4</strong>\\n</div>\\n<div class=\"inline-block ratings-user-rating\">\\n<span class=\"userRatingValue\" data-tconst=\"tt1727824\" id=\"urv_tt1727824\">\\n<span class=\"global-sprite rating-star no-rating\"></span>\\n<span class=\"rate\" data-no-rating=\"Rate this\" data-value=\"0\" name=\"ur\">Rate this</span>\\n</span>\\n<div class=\"starBarWidget\" id=\"sb_tt1727824\">\\n<div class=\"rating rating-list\" data-auth=\"\" data-ga-identifier=\"\" data-starbar-class=\"rating-list\" data-user=\"\" id=\"tt1727824|imdb|8.4|8.4|||search|title\" itemprop=\"aggregateRating\" itemscope=\"\" itemtype=\"http://schema.org/AggregateRating\" title=\"Users rated this 8.4/10 (133,731 votes) - click stars to rate\">\\n<meta content=\"8.4\" itemprop=\"ratingValue\"/>\\n<meta content=\"10\" itemprop=\"bestRating\"/>\\n<meta content=\"133731\" itemprop=\"ratingCount\"/>\\n<span class=\"rating-bg\">\\xa0</span>\\n<span class=\"rating-imdb \" style=\"width: 117.6px\">\\xa0</span>\\n<span class=\"rating-stars\">\\n<a href=\"/register/login?why=vote&amp;ref_=tt_ov_rt\" rel=\"nofollow\" title=\"Register or login to rate this title\"><span>1</span></a>\\n<a href=\"/register/login?why=vote&amp;ref_=tt_ov_rt\" rel=\"nofollow\" title=\"Register or login to rate this title\"><span>2</span></a>\\n<a href=\"/register/login?why=vote&amp;ref_=tt_ov_rt\" rel=\"nofollow\" title=\"Register or login to rate this title\"><span>3</span></a>\\n<a href=\"/register/login?why=vote&amp;ref_=tt_ov_rt\" rel=\"nofollow\" title=\"Register or login to rate this title\"><span>4</span></a>\\n<a href=\"/register/login?why=vote&amp;ref_=tt_ov_rt\" rel=\"nofollow\" title=\"Register or login to rate this title\"><span>5</span></a>\\n<a href=\"/register/login?why=vote&amp;ref_=tt_ov_rt\" rel=\"nofollow\" title=\"Register or login to rate this title\"><span>6</span></a>\\n<a href=\"/register/login?why=vote&amp;ref_=tt_ov_rt\" rel=\"nofollow\" title=\"Register or login to rate this title\"><span>7</span></a>\\n<a href=\"/register/login?why=vote&amp;ref_=tt_ov_rt\" rel=\"nofollow\" title=\"Register or login to rate this title\"><span>8</span></a>\\n<a href=\"/register/login?why=vote&amp;ref_=tt_ov_rt\" rel=\"nofollow\" title=\"Register or login to rate this title\"><span>9</span></a>\\n<a href=\"/register/login?why=vote&amp;ref_=tt_ov_rt\" rel=\"nofollow\" title=\"Register or login to rate this title\"><span>10</span></a>\\n</span>\\n<span class=\"rating-rating \"><span class=\"value\">8.4</span><span class=\"grey\">/</span><span class=\"grey\">10</span></span>\\n<span class=\"rating-cancel \"><a href=\"/title/tt1727824/vote?v=X;k=\" rel=\"nofollow\" title=\"Delete\"><span>X</span></a></span>\\n\\xa0</div>\\n</div>\\n</div>\\n<div class=\"inline-block ratings-metascore\">\\n<span class=\"metascore mixed\">49        </span>\\n        Metascore\\n            </div>\\n</div>\\n<p class=\"text-muted\">\\n    A chronicle of the years leading up to <a href=\"/name/nm1277102\">Queen</a>'s legendary appearance at the <a href=\"/title/tt0261024\">Live Aid</a> (1985) concert.</p>\\n<p class=\"\">\\n    Director:\\n<a href=\"/name/nm0001741/?ref_=adv_li_dr_0\">Bryan Singer</a>\\n<span class=\"ghost\">|</span> \\n    Stars:\\n<a href=\"/name/nm1785339/?ref_=adv_li_st_0\">Rami Malek</a>, \\n<a href=\"/name/nm2377903/?ref_=adv_li_st_1\">Lucy Boynton</a>, \\n<a href=\"/name/nm3152605/?ref_=adv_li_st_2\">Gwilym Lee</a>, \\n<a href=\"/name/nm5228887/?ref_=adv_li_st_3\">Ben Hardy</a>\\n</p>\\n<p class=\"sort-num_votes-visible\">\\n<span class=\"text-muted\">Votes:</span>\\n<span data-value=\"133731\" name=\"nv\">133,731</span>\\n<span class=\"ghost\">|</span> <span class=\"text-muted\">Gross:</span>\\n<span data-value=\"156,323,150\" name=\"nv\">$156.32M</span>\\n</p>\\n</div>\\n</div>\\n<div class=\"lister-item mode-advanced\">\\n<div class=\"lister-top-right\">\\n<div class=\"ribbonize\" data-caller=\"filmosearch\" data-tconst=\"tt2704998\"></div>\\n</div>\\n<div class=\"lister-item-image float-left\">\\n<a href=\"/title/tt2704998/?ref_=adv_li_i\"> <img alt=\"Game Night\" class=\"loadlate\" data-tconst=\"tt2704998\" height=\"98\" loadlate=\"https://m.media-amazon.com/images/M/MV5BMjI3ODkzNDk5MF5BMl5BanBnXkFtZTgwNTEyNjY2NDM@._V1_UX67_CR0,0,67,98_AL_.jpg\" src=\"https://m.media-amazon.com/images/G/01/imdb/images/nopicture/large/film-184890147._CB470041630_.png\" width=\"67\"/>\\n</a> </div>\\n<div class=\"lister-item-content\">\\n<h3 class=\"lister-item-header\">\\n<span class=\"lister-item-index unbold text-primary\">15.</span>\\n<a href=\"/title/tt2704998/?ref_=adv_li_tt\">Game Night</a>\\n<span class=\"lister-item-year text-muted unbold\">(I) (2018)</span>\\n</h3>\\n<p class=\"text-muted \">\\n<span class=\"certificate\">R</span>\\n<span class=\"ghost\">|</span>\\n<span class=\"runtime\">100 min</span>\\n<span class=\"ghost\">|</span>\\n<span class=\"genre\">\\nAction, Comedy, Crime            </span>\\n</p>\\n<div class=\"ratings-bar\">\\n<div class=\"inline-block ratings-imdb-rating\" data-value=\"7\" name=\"ir\">\\n<span class=\"global-sprite rating-star imdb-rating\"></span>\\n<strong>7.0</strong>\\n</div>\\n<div class=\"inline-block ratings-user-rating\">\\n<span class=\"userRatingValue\" data-tconst=\"tt2704998\" id=\"urv_tt2704998\">\\n<span class=\"global-sprite rating-star no-rating\"></span>\\n<span class=\"rate\" data-no-rating=\"Rate this\" data-value=\"0\" name=\"ur\">Rate this</span>\\n</span>\\n<div class=\"starBarWidget\" id=\"sb_tt2704998\">\\n<div class=\"rating rating-list\" data-auth=\"\" data-ga-identifier=\"\" data-starbar-class=\"rating-list\" data-user=\"\" id=\"tt2704998|imdb|7|7|||search|title\" itemprop=\"aggregateRating\" itemscope=\"\" itemtype=\"http://schema.org/AggregateRating\" title=\"Users rated this 7/10 (130,857 votes) - click stars to rate\">\\n<meta content=\"7\" itemprop=\"ratingValue\"/>\\n<meta content=\"10\" itemprop=\"bestRating\"/>\\n<meta content=\"130857\" itemprop=\"ratingCount\"/>\\n<span class=\"rating-bg\">\\xa0</span>\\n<span class=\"rating-imdb \" style=\"width: 98px\">\\xa0</span>\\n<span class=\"rating-stars\">\\n<a href=\"/register/login?why=vote&amp;ref_=tt_ov_rt\" rel=\"nofollow\" title=\"Register or login to rate this title\"><span>1</span></a>\\n<a href=\"/register/login?why=vote&amp;ref_=tt_ov_rt\" rel=\"nofollow\" title=\"Register or login to rate this title\"><span>2</span></a>\\n<a href=\"/register/login?why=vote&amp;ref_=tt_ov_rt\" rel=\"nofollow\" title=\"Register or login to rate this title\"><span>3</span></a>\\n<a href=\"/register/login?why=vote&amp;ref_=tt_ov_rt\" rel=\"nofollow\" title=\"Register or login to rate this title\"><span>4</span></a>\\n<a href=\"/register/login?why=vote&amp;ref_=tt_ov_rt\" rel=\"nofollow\" title=\"Register or login to rate this title\"><span>5</span></a>\\n<a href=\"/register/login?why=vote&amp;ref_=tt_ov_rt\" rel=\"nofollow\" title=\"Register or login to rate this title\"><span>6</span></a>\\n<a href=\"/register/login?why=vote&amp;ref_=tt_ov_rt\" rel=\"nofollow\" title=\"Register or login to rate this title\"><span>7</span></a>\\n<a href=\"/register/login?why=vote&amp;ref_=tt_ov_rt\" rel=\"nofollow\" title=\"Register or login to rate this title\"><span>8</span></a>\\n<a href=\"/register/login?why=vote&amp;ref_=tt_ov_rt\" rel=\"nofollow\" title=\"Register or login to rate this title\"><span>9</span></a>\\n<a href=\"/register/login?why=vote&amp;ref_=tt_ov_rt\" rel=\"nofollow\" title=\"Register or login to rate this title\"><span>10</span></a>\\n</span>\\n<span class=\"rating-rating \"><span class=\"value\">7</span><span class=\"grey\">/</span><span class=\"grey\">10</span></span>\\n<span class=\"rating-cancel \"><a href=\"/title/tt2704998/vote?v=X;k=\" rel=\"nofollow\" title=\"Delete\"><span>X</span></a></span>\\n\\xa0</div>\\n</div>\\n</div>\\n<div class=\"inline-block ratings-metascore\">\\n<span class=\"metascore favorable\">66        </span>\\n        Metascore\\n            </div>\\n</div>\\n<p class=\"text-muted\">\\n    A group of friends who meet regularly for game nights find themselves entangled in a real-life mystery when the shady brother of one of them is seemingly kidnapped by dangerous gangsters.</p>\\n<p class=\"\">\\n    Directors:\\n<a href=\"/name/nm0197855/?ref_=adv_li_dr_0\">John Francis Daley</a>, \\n<a href=\"/name/nm0326246/?ref_=adv_li_dr_1\">Jonathan Goldstein</a>\\n<span class=\"ghost\">|</span> \\n    Stars:\\n<a href=\"/name/nm0000867/?ref_=adv_li_st_0\">Jason Bateman</a>, \\n<a href=\"/name/nm1046097/?ref_=adv_li_st_1\">Rachel McAdams</a>, \\n<a href=\"/name/nm0151419/?ref_=adv_li_st_2\">Kyle Chandler</a>, \\n<a href=\"/name/nm1279721/?ref_=adv_li_st_3\">Sharon Horgan</a>\\n</p>\\n<p class=\"sort-num_votes-visible\">\\n<span class=\"text-muted\">Votes:</span>\\n<span data-value=\"130857\" name=\"nv\">130,857</span>\\n<span class=\"ghost\">|</span> <span class=\"text-muted\">Gross:</span>\\n<span data-value=\"69,001,013\" name=\"nv\">$69.00M</span>\\n</p>\\n</div>\\n</div>\\n<div class=\"lister-item mode-advanced\">\\n<div class=\"lister-top-right\">\\n<div class=\"ribbonize\" data-caller=\"filmosearch\" data-tconst=\"tt2873282\"></div>\\n</div>\\n<div class=\"lister-item-image float-left\">\\n<a href=\"/title/tt2873282/?ref_=adv_li_i\"> <img alt=\"Red Sparrow\" class=\"loadlate\" data-tconst=\"tt2873282\" height=\"98\" loadlate=\"https://m.media-amazon.com/images/M/MV5BMTA3MDkxOTc4NDdeQTJeQWpwZ15BbWU4MDAxNzgyNTQz._V1_UX67_CR0,0,67,98_AL_.jpg\" src=\"https://m.media-amazon.com/images/G/01/imdb/images/nopicture/large/film-184890147._CB470041630_.png\" width=\"67\"/>\\n</a> </div>\\n<div class=\"lister-item-content\">\\n<h3 class=\"lister-item-header\">\\n<span class=\"lister-item-index unbold text-primary\">16.</span>\\n<a href=\"/title/tt2873282/?ref_=adv_li_tt\">Red Sparrow</a>\\n<span class=\"lister-item-year text-muted unbold\">(2018)</span>\\n</h3>\\n<p class=\"text-muted \">\\n<span class=\"certificate\">R</span>\\n<span class=\"ghost\">|</span>\\n<span class=\"runtime\">140 min</span>\\n<span class=\"ghost\">|</span>\\n<span class=\"genre\">\\nAction, Drama, Thriller            </span>\\n</p>\\n<div class=\"ratings-bar\">\\n<div class=\"inline-block ratings-imdb-rating\" data-value=\"6.6\" name=\"ir\">\\n<span class=\"global-sprite rating-star imdb-rating\"></span>\\n<strong>6.6</strong>\\n</div>\\n<div class=\"inline-block ratings-user-rating\">\\n<span class=\"userRatingValue\" data-tconst=\"tt2873282\" id=\"urv_tt2873282\">\\n<span class=\"global-sprite rating-star no-rating\"></span>\\n<span class=\"rate\" data-no-rating=\"Rate this\" data-value=\"0\" name=\"ur\">Rate this</span>\\n</span>\\n<div class=\"starBarWidget\" id=\"sb_tt2873282\">\\n<div class=\"rating rating-list\" data-auth=\"\" data-ga-identifier=\"\" data-starbar-class=\"rating-list\" data-user=\"\" id=\"tt2873282|imdb|6.6|6.6|||search|title\" itemprop=\"aggregateRating\" itemscope=\"\" itemtype=\"http://schema.org/AggregateRating\" title=\"Users rated this 6.6/10 (114,363 votes) - click stars to rate\">\\n<meta content=\"6.6\" itemprop=\"ratingValue\"/>\\n<meta content=\"10\" itemprop=\"bestRating\"/>\\n<meta content=\"114363\" itemprop=\"ratingCount\"/>\\n<span class=\"rating-bg\">\\xa0</span>\\n<span class=\"rating-imdb \" style=\"width: 92.4px\">\\xa0</span>\\n<span class=\"rating-stars\">\\n<a href=\"/register/login?why=vote&amp;ref_=tt_ov_rt\" rel=\"nofollow\" title=\"Register or login to rate this title\"><span>1</span></a>\\n<a href=\"/register/login?why=vote&amp;ref_=tt_ov_rt\" rel=\"nofollow\" title=\"Register or login to rate this title\"><span>2</span></a>\\n<a href=\"/register/login?why=vote&amp;ref_=tt_ov_rt\" rel=\"nofollow\" title=\"Register or login to rate this title\"><span>3</span></a>\\n<a href=\"/register/login?why=vote&amp;ref_=tt_ov_rt\" rel=\"nofollow\" title=\"Register or login to rate this title\"><span>4</span></a>\\n<a href=\"/register/login?why=vote&amp;ref_=tt_ov_rt\" rel=\"nofollow\" title=\"Register or login to rate this title\"><span>5</span></a>\\n<a href=\"/register/login?why=vote&amp;ref_=tt_ov_rt\" rel=\"nofollow\" title=\"Register or login to rate this title\"><span>6</span></a>\\n<a href=\"/register/login?why=vote&amp;ref_=tt_ov_rt\" rel=\"nofollow\" title=\"Register or login to rate this title\"><span>7</span></a>\\n<a href=\"/register/login?why=vote&amp;ref_=tt_ov_rt\" rel=\"nofollow\" title=\"Register or login to rate this title\"><span>8</span></a>\\n<a href=\"/register/login?why=vote&amp;ref_=tt_ov_rt\" rel=\"nofollow\" title=\"Register or login to rate this title\"><span>9</span></a>\\n<a href=\"/register/login?why=vote&amp;ref_=tt_ov_rt\" rel=\"nofollow\" title=\"Register or login to rate this title\"><span>10</span></a>\\n</span>\\n<span class=\"rating-rating \"><span class=\"value\">6.6</span><span class=\"grey\">/</span><span class=\"grey\">10</span></span>\\n<span class=\"rating-cancel \"><a href=\"/title/tt2873282/vote?v=X;k=\" rel=\"nofollow\" title=\"Delete\"><span>X</span></a></span>\\n\\xa0</div>\\n</div>\\n</div>\\n<div class=\"inline-block ratings-metascore\">\\n<span class=\"metascore mixed\">53        </span>\\n        Metascore\\n            </div>\\n</div>\\n<p class=\"text-muted\">\\n    Ballerina Dominika Egorova is recruited to 'Sparrow School,' a Russian intelligence service where she is forced to use her body as a weapon. Her first mission, targeting a C.I.A. agent, threatens to unravel the security of both nations.</p>\\n<p class=\"\">\\n    Director:\\n<a href=\"/name/nm1349376/?ref_=adv_li_dr_0\">Francis Lawrence</a>\\n<span class=\"ghost\">|</span> \\n    Stars:\\n<a href=\"/name/nm2225369/?ref_=adv_li_st_0\">Jennifer Lawrence</a>, \\n<a href=\"/name/nm0249291/?ref_=adv_li_st_1\">Joel Edgerton</a>, \\n<a href=\"/name/nm0774386/?ref_=adv_li_st_2\">Matthias Schoenaerts</a>, \\n<a href=\"/name/nm0001648/?ref_=adv_li_st_3\">Charlotte Rampling</a>\\n</p>\\n<p class=\"sort-num_votes-visible\">\\n<span class=\"text-muted\">Votes:</span>\\n<span data-value=\"114363\" name=\"nv\">114,363</span>\\n<span class=\"ghost\">|</span> <span class=\"text-muted\">Gross:</span>\\n<span data-value=\"46,874,505\" name=\"nv\">$46.87M</span>\\n</p>\\n</div>\\n</div>\\n<div class=\"lister-item mode-advanced\">\\n<div class=\"lister-top-right\">\\n<div class=\"ribbonize\" data-caller=\"filmosearch\" data-tconst=\"tt1517451\"></div>\\n</div>\\n<div class=\"lister-item-image float-left\">\\n<a href=\"/title/tt1517451/?ref_=adv_li_i\"> <img alt=\"A Star Is Born\" class=\"loadlate\" data-tconst=\"tt1517451\" height=\"98\" loadlate=\"https://m.media-amazon.com/images/M/MV5BMjE3MDQ0MTA3M15BMl5BanBnXkFtZTgwMDMwNDY2NTM@._V1_UX67_CR0,0,67,98_AL_.jpg\" src=\"https://m.media-amazon.com/images/G/01/imdb/images/nopicture/large/film-184890147._CB470041630_.png\" width=\"67\"/>\\n</a> </div>\\n<div class=\"lister-item-content\">\\n<h3 class=\"lister-item-header\">\\n<span class=\"lister-item-index unbold text-primary\">17.</span>\\n<a href=\"/title/tt1517451/?ref_=adv_li_tt\">A Star Is Born</a>\\n<span class=\"lister-item-year text-muted unbold\">(2018)</span>\\n</h3>\\n<p class=\"text-muted \">\\n<span class=\"certificate\">R</span>\\n<span class=\"ghost\">|</span>\\n<span class=\"runtime\">136 min</span>\\n<span class=\"ghost\">|</span>\\n<span class=\"genre\">\\nDrama, Music, Romance            </span>\\n</p>\\n<div class=\"ratings-bar\">\\n<div class=\"inline-block ratings-imdb-rating\" data-value=\"8.2\" name=\"ir\">\\n<span class=\"global-sprite rating-star imdb-rating\"></span>\\n<strong>8.2</strong>\\n</div>\\n<div class=\"inline-block ratings-user-rating\">\\n<span class=\"userRatingValue\" data-tconst=\"tt1517451\" id=\"urv_tt1517451\">\\n<span class=\"global-sprite rating-star no-rating\"></span>\\n<span class=\"rate\" data-no-rating=\"Rate this\" data-value=\"0\" name=\"ur\">Rate this</span>\\n</span>\\n<div class=\"starBarWidget\" id=\"sb_tt1517451\">\\n<div class=\"rating rating-list\" data-auth=\"\" data-ga-identifier=\"\" data-starbar-class=\"rating-list\" data-user=\"\" id=\"tt1517451|imdb|8.2|8.2|||search|title\" itemprop=\"aggregateRating\" itemscope=\"\" itemtype=\"http://schema.org/AggregateRating\" title=\"Users rated this 8.2/10 (107,618 votes) - click stars to rate\">\\n<meta content=\"8.2\" itemprop=\"ratingValue\"/>\\n<meta content=\"10\" itemprop=\"bestRating\"/>\\n<meta content=\"107618\" itemprop=\"ratingCount\"/>\\n<span class=\"rating-bg\">\\xa0</span>\\n<span class=\"rating-imdb \" style=\"width: 114.8px\">\\xa0</span>\\n<span class=\"rating-stars\">\\n<a href=\"/register/login?why=vote&amp;ref_=tt_ov_rt\" rel=\"nofollow\" title=\"Register or login to rate this title\"><span>1</span></a>\\n<a href=\"/register/login?why=vote&amp;ref_=tt_ov_rt\" rel=\"nofollow\" title=\"Register or login to rate this title\"><span>2</span></a>\\n<a href=\"/register/login?why=vote&amp;ref_=tt_ov_rt\" rel=\"nofollow\" title=\"Register or login to rate this title\"><span>3</span></a>\\n<a href=\"/register/login?why=vote&amp;ref_=tt_ov_rt\" rel=\"nofollow\" title=\"Register or login to rate this title\"><span>4</span></a>\\n<a href=\"/register/login?why=vote&amp;ref_=tt_ov_rt\" rel=\"nofollow\" title=\"Register or login to rate this title\"><span>5</span></a>\\n<a href=\"/register/login?why=vote&amp;ref_=tt_ov_rt\" rel=\"nofollow\" title=\"Register or login to rate this title\"><span>6</span></a>\\n<a href=\"/register/login?why=vote&amp;ref_=tt_ov_rt\" rel=\"nofollow\" title=\"Register or login to rate this title\"><span>7</span></a>\\n<a href=\"/register/login?why=vote&amp;ref_=tt_ov_rt\" rel=\"nofollow\" title=\"Register or login to rate this title\"><span>8</span></a>\\n<a href=\"/register/login?why=vote&amp;ref_=tt_ov_rt\" rel=\"nofollow\" title=\"Register or login to rate this title\"><span>9</span></a>\\n<a href=\"/register/login?why=vote&amp;ref_=tt_ov_rt\" rel=\"nofollow\" title=\"Register or login to rate this title\"><span>10</span></a>\\n</span>\\n<span class=\"rating-rating \"><span class=\"value\">8.2</span><span class=\"grey\">/</span><span class=\"grey\">10</span></span>\\n<span class=\"rating-cancel \"><a href=\"/title/tt1517451/vote?v=X;k=\" rel=\"nofollow\" title=\"Delete\"><span>X</span></a></span>\\n\\xa0</div>\\n</div>\\n</div>\\n<div class=\"inline-block ratings-metascore\">\\n<span class=\"metascore favorable\">88        </span>\\n        Metascore\\n            </div>\\n</div>\\n<p class=\"text-muted\">\\n    A musician helps a young singer find fame, even as age and alcoholism send his own career into a downward spiral.</p>\\n<p class=\"\">\\n    Director:\\n<a href=\"/name/nm0177896/?ref_=adv_li_dr_0\">Bradley Cooper</a>\\n<span class=\"ghost\">|</span> \\n    Stars:\\n<a href=\"/name/nm3078932/?ref_=adv_li_st_0\">Lady Gaga</a>, \\n<a href=\"/name/nm0177896/?ref_=adv_li_st_1\">Bradley Cooper</a>, \\n<a href=\"/name/nm0000385/?ref_=adv_li_st_2\">Sam Elliott</a>, \\n<a href=\"/name/nm0342399/?ref_=adv_li_st_3\">Greg Grunberg</a>\\n</p>\\n<p class=\"sort-num_votes-visible\">\\n<span class=\"text-muted\">Votes:</span>\\n<span data-value=\"107618\" name=\"nv\">107,618</span>\\n<span class=\"ghost\">|</span> <span class=\"text-muted\">Gross:</span>\\n<span data-value=\"191,917,436\" name=\"nv\">$191.92M</span>\\n</p>\\n</div>\\n</div>\\n<div class=\"lister-item mode-advanced\">\\n<div class=\"lister-top-right\">\\n<div class=\"ribbonize\" data-caller=\"filmosearch\" data-tconst=\"tt5164214\"></div>\\n</div>\\n<div class=\"lister-item-image float-left\">\\n<a href=\"/title/tt5164214/?ref_=adv_li_i\"> <img alt=\"Ocean's Eight\" class=\"loadlate\" data-tconst=\"tt5164214\" height=\"98\" loadlate=\"https://m.media-amazon.com/images/M/MV5BMjAyNDEyMzc4Ml5BMl5BanBnXkFtZTgwMjEzNjM0NTM@._V1_UX67_CR0,0,67,98_AL_.jpg\" src=\"https://m.media-amazon.com/images/G/01/imdb/images/nopicture/large/film-184890147._CB470041630_.png\" width=\"67\"/>\\n</a> </div>\\n<div class=\"lister-item-content\">\\n<h3 class=\"lister-item-header\">\\n<span class=\"lister-item-index unbold text-primary\">18.</span>\\n<a href=\"/title/tt5164214/?ref_=adv_li_tt\">Ocean's Eight</a>\\n<span class=\"lister-item-year text-muted unbold\">(2018)</span>\\n</h3>\\n<p class=\"text-muted \">\\n<span class=\"certificate\">PG-13</span>\\n<span class=\"ghost\">|</span>\\n<span class=\"runtime\">110 min</span>\\n<span class=\"ghost\">|</span>\\n<span class=\"genre\">\\nAction, Comedy, Crime            </span>\\n</p>\\n<div class=\"ratings-bar\">\\n<div class=\"inline-block ratings-imdb-rating\" data-value=\"6.2\" name=\"ir\">\\n<span class=\"global-sprite rating-star imdb-rating\"></span>\\n<strong>6.2</strong>\\n</div>\\n<div class=\"inline-block ratings-user-rating\">\\n<span class=\"userRatingValue\" data-tconst=\"tt5164214\" id=\"urv_tt5164214\">\\n<span class=\"global-sprite rating-star no-rating\"></span>\\n<span class=\"rate\" data-no-rating=\"Rate this\" data-value=\"0\" name=\"ur\">Rate this</span>\\n</span>\\n<div class=\"starBarWidget\" id=\"sb_tt5164214\">\\n<div class=\"rating rating-list\" data-auth=\"\" data-ga-identifier=\"\" data-starbar-class=\"rating-list\" data-user=\"\" id=\"tt5164214|imdb|6.2|6.2|||search|title\" itemprop=\"aggregateRating\" itemscope=\"\" itemtype=\"http://schema.org/AggregateRating\" title=\"Users rated this 6.2/10 (107,225 votes) - click stars to rate\">\\n<meta content=\"6.2\" itemprop=\"ratingValue\"/>\\n<meta content=\"10\" itemprop=\"bestRating\"/>\\n<meta content=\"107225\" itemprop=\"ratingCount\"/>\\n<span class=\"rating-bg\">\\xa0</span>\\n<span class=\"rating-imdb \" style=\"width: 86.8px\">\\xa0</span>\\n<span class=\"rating-stars\">\\n<a href=\"/register/login?why=vote&amp;ref_=tt_ov_rt\" rel=\"nofollow\" title=\"Register or login to rate this title\"><span>1</span></a>\\n<a href=\"/register/login?why=vote&amp;ref_=tt_ov_rt\" rel=\"nofollow\" title=\"Register or login to rate this title\"><span>2</span></a>\\n<a href=\"/register/login?why=vote&amp;ref_=tt_ov_rt\" rel=\"nofollow\" title=\"Register or login to rate this title\"><span>3</span></a>\\n<a href=\"/register/login?why=vote&amp;ref_=tt_ov_rt\" rel=\"nofollow\" title=\"Register or login to rate this title\"><span>4</span></a>\\n<a href=\"/register/login?why=vote&amp;ref_=tt_ov_rt\" rel=\"nofollow\" title=\"Register or login to rate this title\"><span>5</span></a>\\n<a href=\"/register/login?why=vote&amp;ref_=tt_ov_rt\" rel=\"nofollow\" title=\"Register or login to rate this title\"><span>6</span></a>\\n<a href=\"/register/login?why=vote&amp;ref_=tt_ov_rt\" rel=\"nofollow\" title=\"Register or login to rate this title\"><span>7</span></a>\\n<a href=\"/register/login?why=vote&amp;ref_=tt_ov_rt\" rel=\"nofollow\" title=\"Register or login to rate this title\"><span>8</span></a>\\n<a href=\"/register/login?why=vote&amp;ref_=tt_ov_rt\" rel=\"nofollow\" title=\"Register or login to rate this title\"><span>9</span></a>\\n<a href=\"/register/login?why=vote&amp;ref_=tt_ov_rt\" rel=\"nofollow\" title=\"Register or login to rate this title\"><span>10</span></a>\\n</span>\\n<span class=\"rating-rating \"><span class=\"value\">6.2</span><span class=\"grey\">/</span><span class=\"grey\">10</span></span>\\n<span class=\"rating-cancel \"><a href=\"/title/tt5164214/vote?v=X;k=\" rel=\"nofollow\" title=\"Delete\"><span>X</span></a></span>\\n\\xa0</div>\\n</div>\\n</div>\\n<div class=\"inline-block ratings-metascore\">\\n<span class=\"metascore favorable\">61        </span>\\n        Metascore\\n            </div>\\n</div>\\n<p class=\"text-muted\">\\n    Debbie Ocean gathers an all-female crew to attempt an impossible heist at New York City's yearly Met Gala.</p>\\n<p class=\"\">\\n    Director:\\n<a href=\"/name/nm0002657/?ref_=adv_li_dr_0\">Gary Ross</a>\\n<span class=\"ghost\">|</span> \\n    Stars:\\n<a href=\"/name/nm0000113/?ref_=adv_li_st_0\">Sandra Bullock</a>, \\n<a href=\"/name/nm0000949/?ref_=adv_li_st_1\">Cate Blanchett</a>, \\n<a href=\"/name/nm0004266/?ref_=adv_li_st_2\">Anne Hathaway</a>, \\n<a href=\"/name/nm1411676/?ref_=adv_li_st_3\">Mindy Kaling</a>\\n</p>\\n<p class=\"sort-num_votes-visible\">\\n<span class=\"text-muted\">Votes:</span>\\n<span data-value=\"107225\" name=\"nv\">107,225</span>\\n<span class=\"ghost\">|</span> <span class=\"text-muted\">Gross:</span>\\n<span data-value=\"139,377,762\" name=\"nv\">$139.38M</span>\\n</p>\\n</div>\\n</div>\\n<div class=\"lister-item mode-advanced\">\\n<div class=\"lister-top-right\">\\n<div class=\"ribbonize\" data-caller=\"filmosearch\" data-tconst=\"tt7784604\"></div>\\n</div>\\n<div class=\"lister-item-image float-left\">\\n<a href=\"/title/tt7784604/?ref_=adv_li_i\"> <img alt=\"Hereditary\" class=\"loadlate\" data-tconst=\"tt7784604\" height=\"98\" loadlate=\"https://m.media-amazon.com/images/M/MV5BOTU5MDg3OGItZWQ1Ny00ZGVmLTg2YTUtMzBkYzQ1YWIwZjlhXkEyXkFqcGdeQXVyNTAzMTY4MDA@._V1_UX67_CR0,0,67,98_AL_.jpg\" src=\"https://m.media-amazon.com/images/G/01/imdb/images/nopicture/large/film-184890147._CB470041630_.png\" width=\"67\"/>\\n</a> </div>\\n<div class=\"lister-item-content\">\\n<h3 class=\"lister-item-header\">\\n<span class=\"lister-item-index unbold text-primary\">19.</span>\\n<a href=\"/title/tt7784604/?ref_=adv_li_tt\">Hereditary</a>\\n<span class=\"lister-item-year text-muted unbold\">(2018)</span>\\n</h3>\\n<p class=\"text-muted \">\\n<span class=\"certificate\">R</span>\\n<span class=\"ghost\">|</span>\\n<span class=\"runtime\">127 min</span>\\n<span class=\"ghost\">|</span>\\n<span class=\"genre\">\\nDrama, Horror, Mystery            </span>\\n</p>\\n<div class=\"ratings-bar\">\\n<div class=\"inline-block ratings-imdb-rating\" data-value=\"7.3\" name=\"ir\">\\n<span class=\"global-sprite rating-star imdb-rating\"></span>\\n<strong>7.3</strong>\\n</div>\\n<div class=\"inline-block ratings-user-rating\">\\n<span class=\"userRatingValue\" data-tconst=\"tt7784604\" id=\"urv_tt7784604\">\\n<span class=\"global-sprite rating-star no-rating\"></span>\\n<span class=\"rate\" data-no-rating=\"Rate this\" data-value=\"0\" name=\"ur\">Rate this</span>\\n</span>\\n<div class=\"starBarWidget\" id=\"sb_tt7784604\">\\n<div class=\"rating rating-list\" data-auth=\"\" data-ga-identifier=\"\" data-starbar-class=\"rating-list\" data-user=\"\" id=\"tt7784604|imdb|7.3|7.3|||search|title\" itemprop=\"aggregateRating\" itemscope=\"\" itemtype=\"http://schema.org/AggregateRating\" title=\"Users rated this 7.3/10 (106,954 votes) - click stars to rate\">\\n<meta content=\"7.3\" itemprop=\"ratingValue\"/>\\n<meta content=\"10\" itemprop=\"bestRating\"/>\\n<meta content=\"106954\" itemprop=\"ratingCount\"/>\\n<span class=\"rating-bg\">\\xa0</span>\\n<span class=\"rating-imdb \" style=\"width: 102.2px\">\\xa0</span>\\n<span class=\"rating-stars\">\\n<a href=\"/register/login?why=vote&amp;ref_=tt_ov_rt\" rel=\"nofollow\" title=\"Register or login to rate this title\"><span>1</span></a>\\n<a href=\"/register/login?why=vote&amp;ref_=tt_ov_rt\" rel=\"nofollow\" title=\"Register or login to rate this title\"><span>2</span></a>\\n<a href=\"/register/login?why=vote&amp;ref_=tt_ov_rt\" rel=\"nofollow\" title=\"Register or login to rate this title\"><span>3</span></a>\\n<a href=\"/register/login?why=vote&amp;ref_=tt_ov_rt\" rel=\"nofollow\" title=\"Register or login to rate this title\"><span>4</span></a>\\n<a href=\"/register/login?why=vote&amp;ref_=tt_ov_rt\" rel=\"nofollow\" title=\"Register or login to rate this title\"><span>5</span></a>\\n<a href=\"/register/login?why=vote&amp;ref_=tt_ov_rt\" rel=\"nofollow\" title=\"Register or login to rate this title\"><span>6</span></a>\\n<a href=\"/register/login?why=vote&amp;ref_=tt_ov_rt\" rel=\"nofollow\" title=\"Register or login to rate this title\"><span>7</span></a>\\n<a href=\"/register/login?why=vote&amp;ref_=tt_ov_rt\" rel=\"nofollow\" title=\"Register or login to rate this title\"><span>8</span></a>\\n<a href=\"/register/login?why=vote&amp;ref_=tt_ov_rt\" rel=\"nofollow\" title=\"Register or login to rate this title\"><span>9</span></a>\\n<a href=\"/register/login?why=vote&amp;ref_=tt_ov_rt\" rel=\"nofollow\" title=\"Register or login to rate this title\"><span>10</span></a>\\n</span>\\n<span class=\"rating-rating \"><span class=\"value\">7.3</span><span class=\"grey\">/</span><span class=\"grey\">10</span></span>\\n<span class=\"rating-cancel \"><a href=\"/title/tt7784604/vote?v=X;k=\" rel=\"nofollow\" title=\"Delete\"><span>X</span></a></span>\\n\\xa0</div>\\n</div>\\n</div>\\n<div class=\"inline-block ratings-metascore\">\\n<span class=\"metascore favorable\">87        </span>\\n        Metascore\\n            </div>\\n</div>\\n<p class=\"text-muted\">\\n    After the family matriarch passes away, a grieving family is haunted by tragic and disturbing occurrences, and begin to unravel dark secrets.</p>\\n<p class=\"\">\\n    Director:\\n<a href=\"/name/nm4170048/?ref_=adv_li_dr_0\">Ari Aster</a>\\n<span class=\"ghost\">|</span> \\n    Stars:\\n<a href=\"/name/nm0001057/?ref_=adv_li_st_0\">Toni Collette</a>, \\n<a href=\"/name/nm8412536/?ref_=adv_li_st_1\">Milly Shapiro</a>, \\n<a href=\"/name/nm0000321/?ref_=adv_li_st_2\">Gabriel Byrne</a>, \\n<a href=\"/name/nm1842974/?ref_=adv_li_st_3\">Alex Wolff</a>\\n</p>\\n<p class=\"sort-num_votes-visible\">\\n<span class=\"text-muted\">Votes:</span>\\n<span data-value=\"106954\" name=\"nv\">106,954</span>\\n<span class=\"ghost\">|</span> <span class=\"text-muted\">Gross:</span>\\n<span data-value=\"44,069,456\" name=\"nv\">$44.07M</span>\\n</p>\\n</div>\\n</div>\\n<div class=\"lister-item mode-advanced\">\\n<div class=\"lister-top-right\">\\n<div class=\"ribbonize\" data-caller=\"filmosearch\" data-tconst=\"tt2231461\"></div>\\n</div>\\n<div class=\"lister-item-image float-left\">\\n<a href=\"/title/tt2231461/?ref_=adv_li_i\"> <img alt=\"Rampage\" class=\"loadlate\" data-tconst=\"tt2231461\" height=\"98\" loadlate=\"https://m.media-amazon.com/images/M/MV5BNDA1NjA3ODU3OV5BMl5BanBnXkFtZTgwOTg3MTIwNTM@._V1_UX67_CR0,0,67,98_AL_.jpg\" src=\"https://m.media-amazon.com/images/G/01/imdb/images/nopicture/large/film-184890147._CB470041630_.png\" width=\"67\"/>\\n</a> </div>\\n<div class=\"lister-item-content\">\\n<h3 class=\"lister-item-header\">\\n<span class=\"lister-item-index unbold text-primary\">20.</span>\\n<a href=\"/title/tt2231461/?ref_=adv_li_tt\">Rampage</a>\\n<span class=\"lister-item-year text-muted unbold\">(2018)</span>\\n</h3>\\n<p class=\"text-muted \">\\n<span class=\"certificate\">PG-13</span>\\n<span class=\"ghost\">|</span>\\n<span class=\"runtime\">107 min</span>\\n<span class=\"ghost\">|</span>\\n<span class=\"genre\">\\nAction, Adventure, Sci-Fi            </span>\\n</p>\\n<div class=\"ratings-bar\">\\n<div class=\"inline-block ratings-imdb-rating\" data-value=\"6.2\" name=\"ir\">\\n<span class=\"global-sprite rating-star imdb-rating\"></span>\\n<strong>6.2</strong>\\n</div>\\n<div class=\"inline-block ratings-user-rating\">\\n<span class=\"userRatingValue\" data-tconst=\"tt2231461\" id=\"urv_tt2231461\">\\n<span class=\"global-sprite rating-star no-rating\"></span>\\n<span class=\"rate\" data-no-rating=\"Rate this\" data-value=\"0\" name=\"ur\">Rate this</span>\\n</span>\\n<div class=\"starBarWidget\" id=\"sb_tt2231461\">\\n<div class=\"rating rating-list\" data-auth=\"\" data-ga-identifier=\"\" data-starbar-class=\"rating-list\" data-user=\"\" id=\"tt2231461|imdb|6.2|6.2|||search|title\" itemprop=\"aggregateRating\" itemscope=\"\" itemtype=\"http://schema.org/AggregateRating\" title=\"Users rated this 6.2/10 (93,023 votes) - click stars to rate\">\\n<meta content=\"6.2\" itemprop=\"ratingValue\"/>\\n<meta content=\"10\" itemprop=\"bestRating\"/>\\n<meta content=\"93023\" itemprop=\"ratingCount\"/>\\n<span class=\"rating-bg\">\\xa0</span>\\n<span class=\"rating-imdb \" style=\"width: 86.8px\">\\xa0</span>\\n<span class=\"rating-stars\">\\n<a href=\"/register/login?why=vote&amp;ref_=tt_ov_rt\" rel=\"nofollow\" title=\"Register or login to rate this title\"><span>1</span></a>\\n<a href=\"/register/login?why=vote&amp;ref_=tt_ov_rt\" rel=\"nofollow\" title=\"Register or login to rate this title\"><span>2</span></a>\\n<a href=\"/register/login?why=vote&amp;ref_=tt_ov_rt\" rel=\"nofollow\" title=\"Register or login to rate this title\"><span>3</span></a>\\n<a href=\"/register/login?why=vote&amp;ref_=tt_ov_rt\" rel=\"nofollow\" title=\"Register or login to rate this title\"><span>4</span></a>\\n<a href=\"/register/login?why=vote&amp;ref_=tt_ov_rt\" rel=\"nofollow\" title=\"Register or login to rate this title\"><span>5</span></a>\\n<a href=\"/register/login?why=vote&amp;ref_=tt_ov_rt\" rel=\"nofollow\" title=\"Register or login to rate this title\"><span>6</span></a>\\n<a href=\"/register/login?why=vote&amp;ref_=tt_ov_rt\" rel=\"nofollow\" title=\"Register or login to rate this title\"><span>7</span></a>\\n<a href=\"/register/login?why=vote&amp;ref_=tt_ov_rt\" rel=\"nofollow\" title=\"Register or login to rate this title\"><span>8</span></a>\\n<a href=\"/register/login?why=vote&amp;ref_=tt_ov_rt\" rel=\"nofollow\" title=\"Register or login to rate this title\"><span>9</span></a>\\n<a href=\"/register/login?why=vote&amp;ref_=tt_ov_rt\" rel=\"nofollow\" title=\"Register or login to rate this title\"><span>10</span></a>\\n</span>\\n<span class=\"rating-rating \"><span class=\"value\">6.2</span><span class=\"grey\">/</span><span class=\"grey\">10</span></span>\\n<span class=\"rating-cancel \"><a href=\"/title/tt2231461/vote?v=X;k=\" rel=\"nofollow\" title=\"Delete\"><span>X</span></a></span>\\n\\xa0</div>\\n</div>\\n</div>\\n<div class=\"inline-block ratings-metascore\">\\n<span class=\"metascore mixed\">45        </span>\\n        Metascore\\n            </div>\\n</div>\\n<p class=\"text-muted\">\\n    When three different animals become infected with a dangerous pathogen, a primatologist and a geneticist team up to stop them from destroying Chicago.</p>\\n<p class=\"\">\\n    Director:\\n<a href=\"/name/nm0679031/?ref_=adv_li_dr_0\">Brad Peyton</a>\\n<span class=\"ghost\">|</span> \\n    Stars:\\n<a href=\"/name/nm0425005/?ref_=adv_li_st_0\">Dwayne Johnson</a>, \\n<a href=\"/name/nm0365140/?ref_=adv_li_st_1\">Naomie Harris</a>, \\n<a href=\"/name/nm0015196/?ref_=adv_li_st_2\">Malin Akerman</a>, \\n<a href=\"/name/nm0604742/?ref_=adv_li_st_3\">Jeffrey Dean Morgan</a>\\n</p>\\n<p class=\"sort-num_votes-visible\">\\n<span class=\"text-muted\">Votes:</span>\\n<span data-value=\"93023\" name=\"nv\">93,023</span>\\n<span class=\"ghost\">|</span> <span class=\"text-muted\">Gross:</span>\\n<span data-value=\"99,345,950\" name=\"nv\">$99.35M</span>\\n</p>\\n</div>\\n</div>\\n<div class=\"lister-item mode-advanced\">\\n<div class=\"lister-top-right\">\\n<div class=\"ribbonize\" data-caller=\"filmosearch\" data-tconst=\"tt2261227\"></div>\\n</div>\\n<div class=\"lister-item-image float-left\">\\n<a href=\"/title/tt2261227/?ref_=adv_li_i\"> <img alt=\"Altered Carbon\" class=\"loadlate\" data-tconst=\"tt2261227\" height=\"98\" loadlate=\"https://m.media-amazon.com/images/M/MV5BMjQyOTE4NjE0M15BMl5BanBnXkFtZTgwMzcxMzY1NDM@._V1_UX67_CR0,0,67,98_AL_.jpg\" src=\"https://m.media-amazon.com/images/G/01/imdb/images/nopicture/large/film-184890147._CB470041630_.png\" width=\"67\"/>\\n</a> </div>\\n<div class=\"lister-item-content\">\\n<h3 class=\"lister-item-header\">\\n<span class=\"lister-item-index unbold text-primary\">21.</span>\\n<a href=\"/title/tt2261227/?ref_=adv_li_tt\">Altered Carbon</a>\\n<span class=\"lister-item-year text-muted unbold\">(2018\\u2013 )</span>\\n</h3>\\n<p class=\"text-muted \">\\n<span class=\"certificate\">TV-MA</span>\\n<span class=\"ghost\">|</span>\\n<span class=\"runtime\">60 min</span>\\n<span class=\"ghost\">|</span>\\n<span class=\"genre\">\\nAction, Drama, Sci-Fi            </span>\\n</p>\\n<div class=\"ratings-bar\">\\n<div class=\"inline-block ratings-imdb-rating\" data-value=\"8.2\" name=\"ir\">\\n<span class=\"global-sprite rating-star imdb-rating\"></span>\\n<strong>8.2</strong>\\n</div>\\n<div class=\"inline-block ratings-user-rating\">\\n<span class=\"userRatingValue\" data-tconst=\"tt2261227\" id=\"urv_tt2261227\">\\n<span class=\"global-sprite rating-star no-rating\"></span>\\n<span class=\"rate\" data-no-rating=\"Rate this\" data-value=\"0\" name=\"ur\">Rate this</span>\\n</span>\\n<div class=\"starBarWidget\" id=\"sb_tt2261227\">\\n<div class=\"rating rating-list\" data-auth=\"\" data-ga-identifier=\"\" data-starbar-class=\"rating-list\" data-user=\"\" id=\"tt2261227|imdb|8.2|8.2|||search|title\" itemprop=\"aggregateRating\" itemscope=\"\" itemtype=\"http://schema.org/AggregateRating\" title=\"Users rated this 8.2/10 (89,826 votes) - click stars to rate\">\\n<meta content=\"8.2\" itemprop=\"ratingValue\"/>\\n<meta content=\"10\" itemprop=\"bestRating\"/>\\n<meta content=\"89826\" itemprop=\"ratingCount\"/>\\n<span class=\"rating-bg\">\\xa0</span>\\n<span class=\"rating-imdb \" style=\"width: 114.8px\">\\xa0</span>\\n<span class=\"rating-stars\">\\n<a href=\"/register/login?why=vote&amp;ref_=tt_ov_rt\" rel=\"nofollow\" title=\"Register or login to rate this title\"><span>1</span></a>\\n<a href=\"/register/login?why=vote&amp;ref_=tt_ov_rt\" rel=\"nofollow\" title=\"Register or login to rate this title\"><span>2</span></a>\\n<a href=\"/register/login?why=vote&amp;ref_=tt_ov_rt\" rel=\"nofollow\" title=\"Register or login to rate this title\"><span>3</span></a>\\n<a href=\"/register/login?why=vote&amp;ref_=tt_ov_rt\" rel=\"nofollow\" title=\"Register or login to rate this title\"><span>4</span></a>\\n<a href=\"/register/login?why=vote&amp;ref_=tt_ov_rt\" rel=\"nofollow\" title=\"Register or login to rate this title\"><span>5</span></a>\\n<a href=\"/register/login?why=vote&amp;ref_=tt_ov_rt\" rel=\"nofollow\" title=\"Register or login to rate this title\"><span>6</span></a>\\n<a href=\"/register/login?why=vote&amp;ref_=tt_ov_rt\" rel=\"nofollow\" title=\"Register or login to rate this title\"><span>7</span></a>\\n<a href=\"/register/login?why=vote&amp;ref_=tt_ov_rt\" rel=\"nofollow\" title=\"Register or login to rate this title\"><span>8</span></a>\\n<a href=\"/register/login?why=vote&amp;ref_=tt_ov_rt\" rel=\"nofollow\" title=\"Register or login to rate this title\"><span>9</span></a>\\n<a href=\"/register/login?why=vote&amp;ref_=tt_ov_rt\" rel=\"nofollow\" title=\"Register or login to rate this title\"><span>10</span></a>\\n</span>\\n<span class=\"rating-rating \"><span class=\"value\">8.2</span><span class=\"grey\">/</span><span class=\"grey\">10</span></span>\\n<span class=\"rating-cancel \"><a href=\"/title/tt2261227/vote?v=X;k=\" rel=\"nofollow\" title=\"Delete\"><span>X</span></a></span>\\n\\xa0</div>\\n</div>\\n</div>\\n</div>\\n<p class=\"text-muted\">\\n    Set in a future where consciousness is digitized and stored, a prisoner returns to life in a new body and must solve a mind-bending murder to win his freedom.</p>\\n<p class=\"\">\\n            \\n    Stars:\\n<a href=\"/name/nm1172478/?ref_=adv_li_st_0\">Joel Kinnaman</a>, \\n<a href=\"/name/nm0700856/?ref_=adv_li_st_1\">James Purefoy</a>, \\n<a href=\"/name/nm1172285/?ref_=adv_li_st_2\">Martha Higareda</a>, \\n<a href=\"/name/nm0175134/?ref_=adv_li_st_3\">Chris Conner</a>\\n</p>\\n<p class=\"sort-num_votes-visible\">\\n<span class=\"text-muted\">Votes:</span>\\n<span data-value=\"89826\" name=\"nv\">89,826</span>\\n</p>\\n</div>\\n</div>\\n<div class=\"lister-item mode-advanced\">\\n<div class=\"lister-top-right\">\\n<div class=\"ribbonize\" data-caller=\"filmosearch\" data-tconst=\"tt5104604\"></div>\\n</div>\\n<div class=\"lister-item-image float-left\">\\n<a href=\"/title/tt5104604/?ref_=adv_li_i\"> <img alt=\"Isle of Dogs\" class=\"loadlate\" data-tconst=\"tt5104604\" height=\"98\" loadlate=\"https://m.media-amazon.com/images/M/MV5BMTYyOTUwNjAxM15BMl5BanBnXkFtZTgwODcyMzE0NDM@._V1_UX67_CR0,0,67,98_AL_.jpg\" src=\"https://m.media-amazon.com/images/G/01/imdb/images/nopicture/large/film-184890147._CB470041630_.png\" width=\"67\"/>\\n</a> </div>\\n<div class=\"lister-item-content\">\\n<h3 class=\"lister-item-header\">\\n<span class=\"lister-item-index unbold text-primary\">22.</span>\\n<a href=\"/title/tt5104604/?ref_=adv_li_tt\">Isle of Dogs</a>\\n<span class=\"lister-item-year text-muted unbold\">(2018)</span>\\n</h3>\\n<p class=\"text-muted \">\\n<span class=\"certificate\">PG-13</span>\\n<span class=\"ghost\">|</span>\\n<span class=\"runtime\">101 min</span>\\n<span class=\"ghost\">|</span>\\n<span class=\"genre\">\\nAnimation, Adventure, Comedy            </span>\\n</p>\\n<div class=\"ratings-bar\">\\n<div class=\"inline-block ratings-imdb-rating\" data-value=\"7.9\" name=\"ir\">\\n<span class=\"global-sprite rating-star imdb-rating\"></span>\\n<strong>7.9</strong>\\n</div>\\n<div class=\"inline-block ratings-user-rating\">\\n<span class=\"userRatingValue\" data-tconst=\"tt5104604\" id=\"urv_tt5104604\">\\n<span class=\"global-sprite rating-star no-rating\"></span>\\n<span class=\"rate\" data-no-rating=\"Rate this\" data-value=\"0\" name=\"ur\">Rate this</span>\\n</span>\\n<div class=\"starBarWidget\" id=\"sb_tt5104604\">\\n<div class=\"rating rating-list\" data-auth=\"\" data-ga-identifier=\"\" data-starbar-class=\"rating-list\" data-user=\"\" id=\"tt5104604|imdb|7.9|7.9|||search|title\" itemprop=\"aggregateRating\" itemscope=\"\" itemtype=\"http://schema.org/AggregateRating\" title=\"Users rated this 7.9/10 (81,046 votes) - click stars to rate\">\\n<meta content=\"7.9\" itemprop=\"ratingValue\"/>\\n<meta content=\"10\" itemprop=\"bestRating\"/>\\n<meta content=\"81046\" itemprop=\"ratingCount\"/>\\n<span class=\"rating-bg\">\\xa0</span>\\n<span class=\"rating-imdb \" style=\"width: 110.6px\">\\xa0</span>\\n<span class=\"rating-stars\">\\n<a href=\"/register/login?why=vote&amp;ref_=tt_ov_rt\" rel=\"nofollow\" title=\"Register or login to rate this title\"><span>1</span></a>\\n<a href=\"/register/login?why=vote&amp;ref_=tt_ov_rt\" rel=\"nofollow\" title=\"Register or login to rate this title\"><span>2</span></a>\\n<a href=\"/register/login?why=vote&amp;ref_=tt_ov_rt\" rel=\"nofollow\" title=\"Register or login to rate this title\"><span>3</span></a>\\n<a href=\"/register/login?why=vote&amp;ref_=tt_ov_rt\" rel=\"nofollow\" title=\"Register or login to rate this title\"><span>4</span></a>\\n<a href=\"/register/login?why=vote&amp;ref_=tt_ov_rt\" rel=\"nofollow\" title=\"Register or login to rate this title\"><span>5</span></a>\\n<a href=\"/register/login?why=vote&amp;ref_=tt_ov_rt\" rel=\"nofollow\" title=\"Register or login to rate this title\"><span>6</span></a>\\n<a href=\"/register/login?why=vote&amp;ref_=tt_ov_rt\" rel=\"nofollow\" title=\"Register or login to rate this title\"><span>7</span></a>\\n<a href=\"/register/login?why=vote&amp;ref_=tt_ov_rt\" rel=\"nofollow\" title=\"Register or login to rate this title\"><span>8</span></a>\\n<a href=\"/register/login?why=vote&amp;ref_=tt_ov_rt\" rel=\"nofollow\" title=\"Register or login to rate this title\"><span>9</span></a>\\n<a href=\"/register/login?why=vote&amp;ref_=tt_ov_rt\" rel=\"nofollow\" title=\"Register or login to rate this title\"><span>10</span></a>\\n</span>\\n<span class=\"rating-rating \"><span class=\"value\">7.9</span><span class=\"grey\">/</span><span class=\"grey\">10</span></span>\\n<span class=\"rating-cancel \"><a href=\"/title/tt5104604/vote?v=X;k=\" rel=\"nofollow\" title=\"Delete\"><span>X</span></a></span>\\n\\xa0</div>\\n</div>\\n</div>\\n<div class=\"inline-block ratings-metascore\">\\n<span class=\"metascore favorable\">82        </span>\\n        Metascore\\n            </div>\\n</div>\\n<p class=\"text-muted\">\\n    Set in Japan, Isle of Dogs follows a boy's odyssey in search of his lost dog.</p>\\n<p class=\"\">\\n    Director:\\n<a href=\"/name/nm0027572/?ref_=adv_li_dr_0\">Wes Anderson</a>\\n<span class=\"ghost\">|</span> \\n    Stars:\\n<a href=\"/name/nm0186505/?ref_=adv_li_st_0\">Bryan Cranston</a>, \\n<a href=\"/name/nm8659025/?ref_=adv_li_st_1\">Koyu Rankin</a>, \\n<a href=\"/name/nm0001570/?ref_=adv_li_st_2\">Edward Norton</a>, \\n<a href=\"/name/nm0000837/?ref_=adv_li_st_3\">Bob Balaban</a>\\n</p>\\n<p class=\"sort-num_votes-visible\">\\n<span class=\"text-muted\">Votes:</span>\\n<span data-value=\"81046\" name=\"nv\">81,046</span>\\n<span class=\"ghost\">|</span> <span class=\"text-muted\">Gross:</span>\\n<span data-value=\"32,015,231\" name=\"nv\">$32.02M</span>\\n</p>\\n</div>\\n</div>\\n<div class=\"lister-item mode-advanced\">\\n<div class=\"lister-top-right\">\\n<div class=\"ribbonize\" data-caller=\"filmosearch\" data-tconst=\"tt6763664\"></div>\\n</div>\\n<div class=\"lister-item-image float-left\">\\n<a href=\"/title/tt6763664/?ref_=adv_li_i\"> <img alt=\"The Haunting of Hill House\" class=\"loadlate\" data-tconst=\"tt6763664\" height=\"98\" loadlate=\"https://m.media-amazon.com/images/M/MV5BMTU4NzA4MDEwNF5BMl5BanBnXkFtZTgwMTQxODYzNjM@._V1_UX67_CR0,0,67,98_AL_.jpg\" src=\"https://m.media-amazon.com/images/G/01/imdb/images/nopicture/large/film-184890147._CB470041630_.png\" width=\"67\"/>\\n</a> </div>\\n<div class=\"lister-item-content\">\\n<h3 class=\"lister-item-header\">\\n<span class=\"lister-item-index unbold text-primary\">23.</span>\\n<a href=\"/title/tt6763664/?ref_=adv_li_tt\">The Haunting of Hill House</a>\\n<span class=\"lister-item-year text-muted unbold\">(2018\\u2013 )</span>\\n</h3>\\n<p class=\"text-muted \">\\n<span class=\"certificate\">TV-MA</span>\\n<span class=\"ghost\">|</span>\\n<span class=\"runtime\">50 min</span>\\n<span class=\"ghost\">|</span>\\n<span class=\"genre\">\\nDrama, Horror, Mystery            </span>\\n</p>\\n<div class=\"ratings-bar\">\\n<div class=\"inline-block ratings-imdb-rating\" data-value=\"8.9\" name=\"ir\">\\n<span class=\"global-sprite rating-star imdb-rating\"></span>\\n<strong>8.9</strong>\\n</div>\\n<div class=\"inline-block ratings-user-rating\">\\n<span class=\"userRatingValue\" data-tconst=\"tt6763664\" id=\"urv_tt6763664\">\\n<span class=\"global-sprite rating-star no-rating\"></span>\\n<span class=\"rate\" data-no-rating=\"Rate this\" data-value=\"0\" name=\"ur\">Rate this</span>\\n</span>\\n<div class=\"starBarWidget\" id=\"sb_tt6763664\">\\n<div class=\"rating rating-list\" data-auth=\"\" data-ga-identifier=\"\" data-starbar-class=\"rating-list\" data-user=\"\" id=\"tt6763664|imdb|8.9|8.9|||search|title\" itemprop=\"aggregateRating\" itemscope=\"\" itemtype=\"http://schema.org/AggregateRating\" title=\"Users rated this 8.9/10 (79,525 votes) - click stars to rate\">\\n<meta content=\"8.9\" itemprop=\"ratingValue\"/>\\n<meta content=\"10\" itemprop=\"bestRating\"/>\\n<meta content=\"79525\" itemprop=\"ratingCount\"/>\\n<span class=\"rating-bg\">\\xa0</span>\\n<span class=\"rating-imdb \" style=\"width: 124.6px\">\\xa0</span>\\n<span class=\"rating-stars\">\\n<a href=\"/register/login?why=vote&amp;ref_=tt_ov_rt\" rel=\"nofollow\" title=\"Register or login to rate this title\"><span>1</span></a>\\n<a href=\"/register/login?why=vote&amp;ref_=tt_ov_rt\" rel=\"nofollow\" title=\"Register or login to rate this title\"><span>2</span></a>\\n<a href=\"/register/login?why=vote&amp;ref_=tt_ov_rt\" rel=\"nofollow\" title=\"Register or login to rate this title\"><span>3</span></a>\\n<a href=\"/register/login?why=vote&amp;ref_=tt_ov_rt\" rel=\"nofollow\" title=\"Register or login to rate this title\"><span>4</span></a>\\n<a href=\"/register/login?why=vote&amp;ref_=tt_ov_rt\" rel=\"nofollow\" title=\"Register or login to rate this title\"><span>5</span></a>\\n<a href=\"/register/login?why=vote&amp;ref_=tt_ov_rt\" rel=\"nofollow\" title=\"Register or login to rate this title\"><span>6</span></a>\\n<a href=\"/register/login?why=vote&amp;ref_=tt_ov_rt\" rel=\"nofollow\" title=\"Register or login to rate this title\"><span>7</span></a>\\n<a href=\"/register/login?why=vote&amp;ref_=tt_ov_rt\" rel=\"nofollow\" title=\"Register or login to rate this title\"><span>8</span></a>\\n<a href=\"/register/login?why=vote&amp;ref_=tt_ov_rt\" rel=\"nofollow\" title=\"Register or login to rate this title\"><span>9</span></a>\\n<a href=\"/register/login?why=vote&amp;ref_=tt_ov_rt\" rel=\"nofollow\" title=\"Register or login to rate this title\"><span>10</span></a>\\n</span>\\n<span class=\"rating-rating \"><span class=\"value\">8.9</span><span class=\"grey\">/</span><span class=\"grey\">10</span></span>\\n<span class=\"rating-cancel \"><a href=\"/title/tt6763664/vote?v=X;k=\" rel=\"nofollow\" title=\"Delete\"><span>X</span></a></span>\\n\\xa0</div>\\n</div>\\n</div>\\n</div>\\n<p class=\"text-muted\">\\n    Flashing between past and present, a fractured family confronts haunting memories of their old home and the terrifying events that drove them from it.</p>\\n<p class=\"\">\\n            \\n    Stars:\\n<a href=\"/name/nm0401264/?ref_=adv_li_st_0\">Michiel Huisman</a>, \\n<a href=\"/name/nm0001303/?ref_=adv_li_st_1\">Carla Gugino</a>, \\n<a href=\"/name/nm0001794/?ref_=adv_li_st_2\">Henry Thomas</a>, \\n<a href=\"/name/nm0714147/?ref_=adv_li_st_3\">Elizabeth Reaser</a>\\n</p>\\n<p class=\"sort-num_votes-visible\">\\n<span class=\"text-muted\">Votes:</span>\\n<span data-value=\"79525\" name=\"nv\">79,525</span>\\n</p>\\n</div>\\n</div>\\n<div class=\"lister-item mode-advanced\">\\n<div class=\"lister-top-right\">\\n<div class=\"ribbonize\" data-caller=\"filmosearch\" data-tconst=\"tt4500922\"></div>\\n</div>\\n<div class=\"lister-item-image float-left\">\\n<a href=\"/title/tt4500922/?ref_=adv_li_i\"> <img alt=\"Maze Runner: The Death Cure\" class=\"loadlate\" data-tconst=\"tt4500922\" height=\"98\" loadlate=\"https://m.media-amazon.com/images/M/MV5BMTYyNzk3MDc2NF5BMl5BanBnXkFtZTgwMDk3OTM1NDM@._V1_UX67_CR0,0,67,98_AL_.jpg\" src=\"https://m.media-amazon.com/images/G/01/imdb/images/nopicture/large/film-184890147._CB470041630_.png\" width=\"67\"/>\\n</a> </div>\\n<div class=\"lister-item-content\">\\n<h3 class=\"lister-item-header\">\\n<span class=\"lister-item-index unbold text-primary\">24.</span>\\n<a href=\"/title/tt4500922/?ref_=adv_li_tt\">Maze Runner: The Death Cure</a>\\n<span class=\"lister-item-year text-muted unbold\">(2018)</span>\\n</h3>\\n<p class=\"text-muted \">\\n<span class=\"certificate\">PG-13</span>\\n<span class=\"ghost\">|</span>\\n<span class=\"runtime\">143 min</span>\\n<span class=\"ghost\">|</span>\\n<span class=\"genre\">\\nAction, Sci-Fi, Thriller            </span>\\n</p>\\n<div class=\"ratings-bar\">\\n<div class=\"inline-block ratings-imdb-rating\" data-value=\"6.3\" name=\"ir\">\\n<span class=\"global-sprite rating-star imdb-rating\"></span>\\n<strong>6.3</strong>\\n</div>\\n<div class=\"inline-block ratings-user-rating\">\\n<span class=\"userRatingValue\" data-tconst=\"tt4500922\" id=\"urv_tt4500922\">\\n<span class=\"global-sprite rating-star no-rating\"></span>\\n<span class=\"rate\" data-no-rating=\"Rate this\" data-value=\"0\" name=\"ur\">Rate this</span>\\n</span>\\n<div class=\"starBarWidget\" id=\"sb_tt4500922\">\\n<div class=\"rating rating-list\" data-auth=\"\" data-ga-identifier=\"\" data-starbar-class=\"rating-list\" data-user=\"\" id=\"tt4500922|imdb|6.3|6.3|||search|title\" itemprop=\"aggregateRating\" itemscope=\"\" itemtype=\"http://schema.org/AggregateRating\" title=\"Users rated this 6.3/10 (78,204 votes) - click stars to rate\">\\n<meta content=\"6.3\" itemprop=\"ratingValue\"/>\\n<meta content=\"10\" itemprop=\"bestRating\"/>\\n<meta content=\"78204\" itemprop=\"ratingCount\"/>\\n<span class=\"rating-bg\">\\xa0</span>\\n<span class=\"rating-imdb \" style=\"width: 88.2px\">\\xa0</span>\\n<span class=\"rating-stars\">\\n<a href=\"/register/login?why=vote&amp;ref_=tt_ov_rt\" rel=\"nofollow\" title=\"Register or login to rate this title\"><span>1</span></a>\\n<a href=\"/register/login?why=vote&amp;ref_=tt_ov_rt\" rel=\"nofollow\" title=\"Register or login to rate this title\"><span>2</span></a>\\n<a href=\"/register/login?why=vote&amp;ref_=tt_ov_rt\" rel=\"nofollow\" title=\"Register or login to rate this title\"><span>3</span></a>\\n<a href=\"/register/login?why=vote&amp;ref_=tt_ov_rt\" rel=\"nofollow\" title=\"Register or login to rate this title\"><span>4</span></a>\\n<a href=\"/register/login?why=vote&amp;ref_=tt_ov_rt\" rel=\"nofollow\" title=\"Register or login to rate this title\"><span>5</span></a>\\n<a href=\"/register/login?why=vote&amp;ref_=tt_ov_rt\" rel=\"nofollow\" title=\"Register or login to rate this title\"><span>6</span></a>\\n<a href=\"/register/login?why=vote&amp;ref_=tt_ov_rt\" rel=\"nofollow\" title=\"Register or login to rate this title\"><span>7</span></a>\\n<a href=\"/register/login?why=vote&amp;ref_=tt_ov_rt\" rel=\"nofollow\" title=\"Register or login to rate this title\"><span>8</span></a>\\n<a href=\"/register/login?why=vote&amp;ref_=tt_ov_rt\" rel=\"nofollow\" title=\"Register or login to rate this title\"><span>9</span></a>\\n<a href=\"/register/login?why=vote&amp;ref_=tt_ov_rt\" rel=\"nofollow\" title=\"Register or login to rate this title\"><span>10</span></a>\\n</span>\\n<span class=\"rating-rating \"><span class=\"value\">6.3</span><span class=\"grey\">/</span><span class=\"grey\">10</span></span>\\n<span class=\"rating-cancel \"><a href=\"/title/tt4500922/vote?v=X;k=\" rel=\"nofollow\" title=\"Delete\"><span>X</span></a></span>\\n\\xa0</div>\\n</div>\\n</div>\\n<div class=\"inline-block ratings-metascore\">\\n<span class=\"metascore mixed\">51        </span>\\n        Metascore\\n            </div>\\n</div>\\n<p class=\"text-muted\">\\n    Young hero Thomas embarks on a mission to find a cure for a deadly disease known as \"The Flare\".</p>\\n<p class=\"\">\\n    Director:\\n<a href=\"/name/nm1226871/?ref_=adv_li_dr_0\">Wes Ball</a>\\n<span class=\"ghost\">|</span> \\n    Stars:\\n<a href=\"/name/nm3729721/?ref_=adv_li_st_0\">Dylan O'Brien</a>, \\n<a href=\"/name/nm3859624/?ref_=adv_li_st_1\">Ki Hong Lee</a>, \\n<a href=\"/name/nm2546012/?ref_=adv_li_st_2\">Kaya Scodelario</a>, \\n<a href=\"/name/nm1032473/?ref_=adv_li_st_3\">Thomas Brodie-Sangster</a>\\n</p>\\n<p class=\"sort-num_votes-visible\">\\n<span class=\"text-muted\">Votes:</span>\\n<span data-value=\"78204\" name=\"nv\">78,204</span>\\n<span class=\"ghost\">|</span> <span class=\"text-muted\">Gross:</span>\\n<span data-value=\"58,032,443\" name=\"nv\">$58.03M</span>\\n</p>\\n</div>\\n</div>\\n<div class=\"lister-item mode-advanced\">\\n<div class=\"lister-top-right\">\\n<div class=\"ribbonize\" data-caller=\"filmosearch\" data-tconst=\"tt2557478\"></div>\\n</div>\\n<div class=\"lister-item-image float-left\">\\n<a href=\"/title/tt2557478/?ref_=adv_li_i\"> <img alt=\"Pacific Rim: Uprising\" class=\"loadlate\" data-tconst=\"tt2557478\" height=\"98\" loadlate=\"https://m.media-amazon.com/images/M/MV5BMjI3Nzg0MTM5NF5BMl5BanBnXkFtZTgwOTE2MTgwNTM@._V1_UX67_CR0,0,67,98_AL_.jpg\" src=\"https://m.media-amazon.com/images/G/01/imdb/images/nopicture/large/film-184890147._CB470041630_.png\" width=\"67\"/>\\n</a> </div>\\n<div class=\"lister-item-content\">\\n<h3 class=\"lister-item-header\">\\n<span class=\"lister-item-index unbold text-primary\">25.</span>\\n<a href=\"/title/tt2557478/?ref_=adv_li_tt\">Pacific Rim: Uprising</a>\\n<span class=\"lister-item-year text-muted unbold\">(2018)</span>\\n</h3>\\n<p class=\"text-muted \">\\n<span class=\"certificate\">PG-13</span>\\n<span class=\"ghost\">|</span>\\n<span class=\"runtime\">111 min</span>\\n<span class=\"ghost\">|</span>\\n<span class=\"genre\">\\nAction, Adventure, Sci-Fi            </span>\\n</p>\\n<div class=\"ratings-bar\">\\n<div class=\"inline-block ratings-imdb-rating\" data-value=\"5.6\" name=\"ir\">\\n<span class=\"global-sprite rating-star imdb-rating\"></span>\\n<strong>5.6</strong>\\n</div>\\n<div class=\"inline-block ratings-user-rating\">\\n<span class=\"userRatingValue\" data-tconst=\"tt2557478\" id=\"urv_tt2557478\">\\n<span class=\"global-sprite rating-star no-rating\"></span>\\n<span class=\"rate\" data-no-rating=\"Rate this\" data-value=\"0\" name=\"ur\">Rate this</span>\\n</span>\\n<div class=\"starBarWidget\" id=\"sb_tt2557478\">\\n<div class=\"rating rating-list\" data-auth=\"\" data-ga-identifier=\"\" data-starbar-class=\"rating-list\" data-user=\"\" id=\"tt2557478|imdb|5.6|5.6|||search|title\" itemprop=\"aggregateRating\" itemscope=\"\" itemtype=\"http://schema.org/AggregateRating\" title=\"Users rated this 5.6/10 (76,930 votes) - click stars to rate\">\\n<meta content=\"5.6\" itemprop=\"ratingValue\"/>\\n<meta content=\"10\" itemprop=\"bestRating\"/>\\n<meta content=\"76930\" itemprop=\"ratingCount\"/>\\n<span class=\"rating-bg\">\\xa0</span>\\n<span class=\"rating-imdb \" style=\"width: 78.4px\">\\xa0</span>\\n<span class=\"rating-stars\">\\n<a href=\"/register/login?why=vote&amp;ref_=tt_ov_rt\" rel=\"nofollow\" title=\"Register or login to rate this title\"><span>1</span></a>\\n<a href=\"/register/login?why=vote&amp;ref_=tt_ov_rt\" rel=\"nofollow\" title=\"Register or login to rate this title\"><span>2</span></a>\\n<a href=\"/register/login?why=vote&amp;ref_=tt_ov_rt\" rel=\"nofollow\" title=\"Register or login to rate this title\"><span>3</span></a>\\n<a href=\"/register/login?why=vote&amp;ref_=tt_ov_rt\" rel=\"nofollow\" title=\"Register or login to rate this title\"><span>4</span></a>\\n<a href=\"/register/login?why=vote&amp;ref_=tt_ov_rt\" rel=\"nofollow\" title=\"Register or login to rate this title\"><span>5</span></a>\\n<a href=\"/register/login?why=vote&amp;ref_=tt_ov_rt\" rel=\"nofollow\" title=\"Register or login to rate this title\"><span>6</span></a>\\n<a href=\"/register/login?why=vote&amp;ref_=tt_ov_rt\" rel=\"nofollow\" title=\"Register or login to rate this title\"><span>7</span></a>\\n<a href=\"/register/login?why=vote&amp;ref_=tt_ov_rt\" rel=\"nofollow\" title=\"Register or login to rate this title\"><span>8</span></a>\\n<a href=\"/register/login?why=vote&amp;ref_=tt_ov_rt\" rel=\"nofollow\" title=\"Register or login to rate this title\"><span>9</span></a>\\n<a href=\"/register/login?why=vote&amp;ref_=tt_ov_rt\" rel=\"nofollow\" title=\"Register or login to rate this title\"><span>10</span></a>\\n</span>\\n<span class=\"rating-rating \"><span class=\"value\">5.6</span><span class=\"grey\">/</span><span class=\"grey\">10</span></span>\\n<span class=\"rating-cancel \"><a href=\"/title/tt2557478/vote?v=X;k=\" rel=\"nofollow\" title=\"Delete\"><span>X</span></a></span>\\n\\xa0</div>\\n</div>\\n</div>\\n<div class=\"inline-block ratings-metascore\">\\n<span class=\"metascore mixed\">44        </span>\\n        Metascore\\n            </div>\\n</div>\\n<p class=\"text-muted\">\\n    Jake Pentecost, son of Stacker Pentecost, reunites with Mako Mori to lead a new generation of Jaeger pilots, including rival Lambert and 15-year-old hacker Amara, against a new Kaiju threat.</p>\\n<p class=\"\">\\n    Director:\\n<a href=\"/name/nm0215299/?ref_=adv_li_dr_0\">Steven S. DeKnight</a>\\n<span class=\"ghost\">|</span> \\n    Stars:\\n<a href=\"/name/nm3915784/?ref_=adv_li_st_0\">John Boyega</a>, \\n<a href=\"/name/nm2207222/?ref_=adv_li_st_1\">Scott Eastwood</a>, \\n<a href=\"/name/nm8314228/?ref_=adv_li_st_2\">Cailee Spaeny</a>, \\n<a href=\"/name/nm1218607/?ref_=adv_li_st_3\">Burn Gorman</a>\\n</p>\\n<p class=\"sort-num_votes-visible\">\\n<span class=\"text-muted\">Votes:</span>\\n<span data-value=\"76930\" name=\"nv\">76,930</span>\\n<span class=\"ghost\">|</span> <span class=\"text-muted\">Gross:</span>\\n<span data-value=\"59,185,715\" name=\"nv\">$59.19M</span>\\n</p>\\n</div>\\n</div>\\n<div class=\"lister-item mode-advanced\">\\n<div class=\"lister-top-right\">\\n<div class=\"ribbonize\" data-caller=\"filmosearch\" data-tconst=\"tt4779682\"></div>\\n</div>\\n<div class=\"lister-item-image float-left\">\\n<a href=\"/title/tt4779682/?ref_=adv_li_i\"> <img alt=\"The Meg\" class=\"loadlate\" data-tconst=\"tt4779682\" height=\"98\" loadlate=\"https://m.media-amazon.com/images/M/MV5BMjg0MzA4MDE0N15BMl5BanBnXkFtZTgwMzk3MzAwNjM@._V1_UX67_CR0,0,67,98_AL_.jpg\" src=\"https://m.media-amazon.com/images/G/01/imdb/images/nopicture/large/film-184890147._CB470041630_.png\" width=\"67\"/>\\n</a> </div>\\n<div class=\"lister-item-content\">\\n<h3 class=\"lister-item-header\">\\n<span class=\"lister-item-index unbold text-primary\">26.</span>\\n<a href=\"/title/tt4779682/?ref_=adv_li_tt\">The Meg</a>\\n<span class=\"lister-item-year text-muted unbold\">(2018)</span>\\n</h3>\\n<p class=\"text-muted \">\\n<span class=\"certificate\">PG-13</span>\\n<span class=\"ghost\">|</span>\\n<span class=\"runtime\">113 min</span>\\n<span class=\"ghost\">|</span>\\n<span class=\"genre\">\\nAction, Horror, Sci-Fi            </span>\\n</p>\\n<div class=\"ratings-bar\">\\n<div class=\"inline-block ratings-imdb-rating\" data-value=\"5.8\" name=\"ir\">\\n<span class=\"global-sprite rating-star imdb-rating\"></span>\\n<strong>5.8</strong>\\n</div>\\n<div class=\"inline-block ratings-user-rating\">\\n<span class=\"userRatingValue\" data-tconst=\"tt4779682\" id=\"urv_tt4779682\">\\n<span class=\"global-sprite rating-star no-rating\"></span>\\n<span class=\"rate\" data-no-rating=\"Rate this\" data-value=\"0\" name=\"ur\">Rate this</span>\\n</span>\\n<div class=\"starBarWidget\" id=\"sb_tt4779682\">\\n<div class=\"rating rating-list\" data-auth=\"\" data-ga-identifier=\"\" data-starbar-class=\"rating-list\" data-user=\"\" id=\"tt4779682|imdb|5.8|5.8|||search|title\" itemprop=\"aggregateRating\" itemscope=\"\" itemtype=\"http://schema.org/AggregateRating\" title=\"Users rated this 5.8/10 (76,853 votes) - click stars to rate\">\\n<meta content=\"5.8\" itemprop=\"ratingValue\"/>\\n<meta content=\"10\" itemprop=\"bestRating\"/>\\n<meta content=\"76853\" itemprop=\"ratingCount\"/>\\n<span class=\"rating-bg\">\\xa0</span>\\n<span class=\"rating-imdb \" style=\"width: 81.2px\">\\xa0</span>\\n<span class=\"rating-stars\">\\n<a href=\"/register/login?why=vote&amp;ref_=tt_ov_rt\" rel=\"nofollow\" title=\"Register or login to rate this title\"><span>1</span></a>\\n<a href=\"/register/login?why=vote&amp;ref_=tt_ov_rt\" rel=\"nofollow\" title=\"Register or login to rate this title\"><span>2</span></a>\\n<a href=\"/register/login?why=vote&amp;ref_=tt_ov_rt\" rel=\"nofollow\" title=\"Register or login to rate this title\"><span>3</span></a>\\n<a href=\"/register/login?why=vote&amp;ref_=tt_ov_rt\" rel=\"nofollow\" title=\"Register or login to rate this title\"><span>4</span></a>\\n<a href=\"/register/login?why=vote&amp;ref_=tt_ov_rt\" rel=\"nofollow\" title=\"Register or login to rate this title\"><span>5</span></a>\\n<a href=\"/register/login?why=vote&amp;ref_=tt_ov_rt\" rel=\"nofollow\" title=\"Register or login to rate this title\"><span>6</span></a>\\n<a href=\"/register/login?why=vote&amp;ref_=tt_ov_rt\" rel=\"nofollow\" title=\"Register or login to rate this title\"><span>7</span></a>\\n<a href=\"/register/login?why=vote&amp;ref_=tt_ov_rt\" rel=\"nofollow\" title=\"Register or login to rate this title\"><span>8</span></a>\\n<a href=\"/register/login?why=vote&amp;ref_=tt_ov_rt\" rel=\"nofollow\" title=\"Register or login to rate this title\"><span>9</span></a>\\n<a href=\"/register/login?why=vote&amp;ref_=tt_ov_rt\" rel=\"nofollow\" title=\"Register or login to rate this title\"><span>10</span></a>\\n</span>\\n<span class=\"rating-rating \"><span class=\"value\">5.8</span><span class=\"grey\">/</span><span class=\"grey\">10</span></span>\\n<span class=\"rating-cancel \"><a href=\"/title/tt4779682/vote?v=X;k=\" rel=\"nofollow\" title=\"Delete\"><span>X</span></a></span>\\n\\xa0</div>\\n</div>\\n</div>\\n<div class=\"inline-block ratings-metascore\">\\n<span class=\"metascore mixed\">46        </span>\\n        Metascore\\n            </div>\\n</div>\\n<p class=\"text-muted\">\\n    After escaping an attack by what he claims was a 70-foot shark, Jonas Taylor must confront his fears to save those trapped in a sunken submersible.</p>\\n<p class=\"\">\\n    Director:\\n<a href=\"/name/nm0005509/?ref_=adv_li_dr_0\">Jon Turteltaub</a>\\n<span class=\"ghost\">|</span> \\n    Stars:\\n<a href=\"/name/nm0005458/?ref_=adv_li_st_0\">Jason Statham</a>, \\n<a href=\"/name/nm0508356/?ref_=adv_li_st_1\">Bingbing Li</a>, \\n<a href=\"/name/nm0933988/?ref_=adv_li_st_2\">Rainn Wilson</a>, \\n<a href=\"/name/nm0193295/?ref_=adv_li_st_3\">Cliff Curtis</a>\\n</p>\\n<p class=\"sort-num_votes-visible\">\\n<span class=\"text-muted\">Votes:</span>\\n<span data-value=\"76853\" name=\"nv\">76,853</span>\\n<span class=\"ghost\">|</span> <span class=\"text-muted\">Gross:</span>\\n<span data-value=\"143,005,856\" name=\"nv\">$143.01M</span>\\n</p>\\n</div>\\n</div>\\n<div class=\"lister-item mode-advanced\">\\n<div class=\"lister-top-right\">\\n<div class=\"ribbonize\" data-caller=\"filmosearch\" data-tconst=\"tt2548396\"></div>\\n</div>\\n<div class=\"lister-item-image float-left\">\\n<a href=\"/title/tt2548396/?ref_=adv_li_i\"> <img alt=\"The Cloverfield Paradox\" class=\"loadlate\" data-tconst=\"tt2548396\" height=\"98\" loadlate=\"https://m.media-amazon.com/images/M/MV5BMTAwOTIxMDA0MjZeQTJeQWpwZ15BbWU4MDg1MjgzNzQz._V1_UX67_CR0,0,67,98_AL_.jpg\" src=\"https://m.media-amazon.com/images/G/01/imdb/images/nopicture/large/film-184890147._CB470041630_.png\" width=\"67\"/>\\n</a> </div>\\n<div class=\"lister-item-content\">\\n<h3 class=\"lister-item-header\">\\n<span class=\"lister-item-index unbold text-primary\">27.</span>\\n<a href=\"/title/tt2548396/?ref_=adv_li_tt\">The Cloverfield Paradox</a>\\n<span class=\"lister-item-year text-muted unbold\">(2018)</span>\\n</h3>\\n<p class=\"text-muted \">\\n<span class=\"certificate\">PG-13</span>\\n<span class=\"ghost\">|</span>\\n<span class=\"runtime\">102 min</span>\\n<span class=\"ghost\">|</span>\\n<span class=\"genre\">\\nHorror, Mystery, Sci-Fi            </span>\\n</p>\\n<div class=\"ratings-bar\">\\n<div class=\"inline-block ratings-imdb-rating\" data-value=\"5.6\" name=\"ir\">\\n<span class=\"global-sprite rating-star imdb-rating\"></span>\\n<strong>5.6</strong>\\n</div>\\n<div class=\"inline-block ratings-user-rating\">\\n<span class=\"userRatingValue\" data-tconst=\"tt2548396\" id=\"urv_tt2548396\">\\n<span class=\"global-sprite rating-star no-rating\"></span>\\n<span class=\"rate\" data-no-rating=\"Rate this\" data-value=\"0\" name=\"ur\">Rate this</span>\\n</span>\\n<div class=\"starBarWidget\" id=\"sb_tt2548396\">\\n<div class=\"rating rating-list\" data-auth=\"\" data-ga-identifier=\"\" data-starbar-class=\"rating-list\" data-user=\"\" id=\"tt2548396|imdb|5.6|5.6|||search|title\" itemprop=\"aggregateRating\" itemscope=\"\" itemtype=\"http://schema.org/AggregateRating\" title=\"Users rated this 5.6/10 (74,706 votes) - click stars to rate\">\\n<meta content=\"5.6\" itemprop=\"ratingValue\"/>\\n<meta content=\"10\" itemprop=\"bestRating\"/>\\n<meta content=\"74706\" itemprop=\"ratingCount\"/>\\n<span class=\"rating-bg\">\\xa0</span>\\n<span class=\"rating-imdb \" style=\"width: 78.4px\">\\xa0</span>\\n<span class=\"rating-stars\">\\n<a href=\"/register/login?why=vote&amp;ref_=tt_ov_rt\" rel=\"nofollow\" title=\"Register or login to rate this title\"><span>1</span></a>\\n<a href=\"/register/login?why=vote&amp;ref_=tt_ov_rt\" rel=\"nofollow\" title=\"Register or login to rate this title\"><span>2</span></a>\\n<a href=\"/register/login?why=vote&amp;ref_=tt_ov_rt\" rel=\"nofollow\" title=\"Register or login to rate this title\"><span>3</span></a>\\n<a href=\"/register/login?why=vote&amp;ref_=tt_ov_rt\" rel=\"nofollow\" title=\"Register or login to rate this title\"><span>4</span></a>\\n<a href=\"/register/login?why=vote&amp;ref_=tt_ov_rt\" rel=\"nofollow\" title=\"Register or login to rate this title\"><span>5</span></a>\\n<a href=\"/register/login?why=vote&amp;ref_=tt_ov_rt\" rel=\"nofollow\" title=\"Register or login to rate this title\"><span>6</span></a>\\n<a href=\"/register/login?why=vote&amp;ref_=tt_ov_rt\" rel=\"nofollow\" title=\"Register or login to rate this title\"><span>7</span></a>\\n<a href=\"/register/login?why=vote&amp;ref_=tt_ov_rt\" rel=\"nofollow\" title=\"Register or login to rate this title\"><span>8</span></a>\\n<a href=\"/register/login?why=vote&amp;ref_=tt_ov_rt\" rel=\"nofollow\" title=\"Register or login to rate this title\"><span>9</span></a>\\n<a href=\"/register/login?why=vote&amp;ref_=tt_ov_rt\" rel=\"nofollow\" title=\"Register or login to rate this title\"><span>10</span></a>\\n</span>\\n<span class=\"rating-rating \"><span class=\"value\">5.6</span><span class=\"grey\">/</span><span class=\"grey\">10</span></span>\\n<span class=\"rating-cancel \"><a href=\"/title/tt2548396/vote?v=X;k=\" rel=\"nofollow\" title=\"Delete\"><span>X</span></a></span>\\n\\xa0</div>\\n</div>\\n</div>\\n<div class=\"inline-block ratings-metascore\">\\n<span class=\"metascore unfavorable\">37        </span>\\n        Metascore\\n            </div>\\n</div>\\n<p class=\"text-muted\">\\n    Orbiting a planet on the brink of war, scientists test a device to solve an energy crisis, and end up face-to-face with a dark alternate reality.</p>\\n<p class=\"\">\\n    Director:\\n<a href=\"/name/nm1564809/?ref_=adv_li_dr_0\">Julius Onah</a>\\n<span class=\"ghost\">|</span> \\n    Stars:\\n<a href=\"/name/nm1813221/?ref_=adv_li_st_0\">Gugu Mbatha-Raw</a>, \\n<a href=\"/name/nm0654648/?ref_=adv_li_st_1\">David Oyelowo</a>, \\n<a href=\"/name/nm0117709/?ref_=adv_li_st_2\">Daniel Br\\xfchl</a>, \\n<a href=\"/name/nm0651159/?ref_=adv_li_st_3\">John Ortiz</a>\\n</p>\\n<p class=\"sort-num_votes-visible\">\\n<span class=\"text-muted\">Votes:</span>\\n<span data-value=\"74706\" name=\"nv\">74,706</span>\\n</p>\\n</div>\\n</div>\\n<div class=\"lister-item mode-advanced\">\\n<div class=\"lister-top-right\">\\n<div class=\"ribbonize\" data-caller=\"filmosearch\" data-tconst=\"tt6499752\"></div>\\n</div>\\n<div class=\"lister-item-image float-left\">\\n<a href=\"/title/tt6499752/?ref_=adv_li_i\"> <img alt=\"Upgrade\" class=\"loadlate\" data-tconst=\"tt6499752\" height=\"98\" loadlate=\"https://m.media-amazon.com/images/M/MV5BMjI0NzcyMjM5Ml5BMl5BanBnXkFtZTgwMzk2NzAyNTM@._V1_UX67_CR0,0,67,98_AL_.jpg\" src=\"https://m.media-amazon.com/images/G/01/imdb/images/nopicture/large/film-184890147._CB470041630_.png\" width=\"67\"/>\\n</a> </div>\\n<div class=\"lister-item-content\">\\n<h3 class=\"lister-item-header\">\\n<span class=\"lister-item-index unbold text-primary\">28.</span>\\n<a href=\"/title/tt6499752/?ref_=adv_li_tt\">Upgrade</a>\\n<span class=\"lister-item-year text-muted unbold\">(2018)</span>\\n</h3>\\n<p class=\"text-muted \">\\n<span class=\"certificate\">R</span>\\n<span class=\"ghost\">|</span>\\n<span class=\"runtime\">100 min</span>\\n<span class=\"ghost\">|</span>\\n<span class=\"genre\">\\nAction, Sci-Fi, Thriller            </span>\\n</p>\\n<div class=\"ratings-bar\">\\n<div class=\"inline-block ratings-imdb-rating\" data-value=\"7.6\" name=\"ir\">\\n<span class=\"global-sprite rating-star imdb-rating\"></span>\\n<strong>7.6</strong>\\n</div>\\n<div class=\"inline-block ratings-user-rating\">\\n<span class=\"userRatingValue\" data-tconst=\"tt6499752\" id=\"urv_tt6499752\">\\n<span class=\"global-sprite rating-star no-rating\"></span>\\n<span class=\"rate\" data-no-rating=\"Rate this\" data-value=\"0\" name=\"ur\">Rate this</span>\\n</span>\\n<div class=\"starBarWidget\" id=\"sb_tt6499752\">\\n<div class=\"rating rating-list\" data-auth=\"\" data-ga-identifier=\"\" data-starbar-class=\"rating-list\" data-user=\"\" id=\"tt6499752|imdb|7.6|7.6|||search|title\" itemprop=\"aggregateRating\" itemscope=\"\" itemtype=\"http://schema.org/AggregateRating\" title=\"Users rated this 7.6/10 (70,955 votes) - click stars to rate\">\\n<meta content=\"7.6\" itemprop=\"ratingValue\"/>\\n<meta content=\"10\" itemprop=\"bestRating\"/>\\n<meta content=\"70955\" itemprop=\"ratingCount\"/>\\n<span class=\"rating-bg\">\\xa0</span>\\n<span class=\"rating-imdb \" style=\"width: 106.4px\">\\xa0</span>\\n<span class=\"rating-stars\">\\n<a href=\"/register/login?why=vote&amp;ref_=tt_ov_rt\" rel=\"nofollow\" title=\"Register or login to rate this title\"><span>1</span></a>\\n<a href=\"/register/login?why=vote&amp;ref_=tt_ov_rt\" rel=\"nofollow\" title=\"Register or login to rate this title\"><span>2</span></a>\\n<a href=\"/register/login?why=vote&amp;ref_=tt_ov_rt\" rel=\"nofollow\" title=\"Register or login to rate this title\"><span>3</span></a>\\n<a href=\"/register/login?why=vote&amp;ref_=tt_ov_rt\" rel=\"nofollow\" title=\"Register or login to rate this title\"><span>4</span></a>\\n<a href=\"/register/login?why=vote&amp;ref_=tt_ov_rt\" rel=\"nofollow\" title=\"Register or login to rate this title\"><span>5</span></a>\\n<a href=\"/register/login?why=vote&amp;ref_=tt_ov_rt\" rel=\"nofollow\" title=\"Register or login to rate this title\"><span>6</span></a>\\n<a href=\"/register/login?why=vote&amp;ref_=tt_ov_rt\" rel=\"nofollow\" title=\"Register or login to rate this title\"><span>7</span></a>\\n<a href=\"/register/login?why=vote&amp;ref_=tt_ov_rt\" rel=\"nofollow\" title=\"Register or login to rate this title\"><span>8</span></a>\\n<a href=\"/register/login?why=vote&amp;ref_=tt_ov_rt\" rel=\"nofollow\" title=\"Register or login to rate this title\"><span>9</span></a>\\n<a href=\"/register/login?why=vote&amp;ref_=tt_ov_rt\" rel=\"nofollow\" title=\"Register or login to rate this title\"><span>10</span></a>\\n</span>\\n<span class=\"rating-rating \"><span class=\"value\">7.6</span><span class=\"grey\">/</span><span class=\"grey\">10</span></span>\\n<span class=\"rating-cancel \"><a href=\"/title/tt6499752/vote?v=X;k=\" rel=\"nofollow\" title=\"Delete\"><span>X</span></a></span>\\n\\xa0</div>\\n</div>\\n</div>\\n<div class=\"inline-block ratings-metascore\">\\n<span class=\"metascore favorable\">67        </span>\\n        Metascore\\n            </div>\\n</div>\\n<p class=\"text-muted\">\\n    Set in the near-future, technology controls nearly all aspects of life. But when Grey, a self-identified technophobe, has his world turned upside down, his only hope for revenge is an experimental computer chip implant called Stem.</p>\\n<p class=\"\">\\n    Director:\\n<a href=\"/name/nm1191481/?ref_=adv_li_dr_0\">Leigh Whannell</a>\\n<span class=\"ghost\">|</span> \\n    Stars:\\n<a href=\"/name/nm1334869/?ref_=adv_li_st_0\">Logan Marshall-Green</a>, \\n<a href=\"/name/nm2177933/?ref_=adv_li_st_1\">Melanie Vallejo</a>, \\n<a href=\"/name/nm2114889/?ref_=adv_li_st_2\">Steve Danielsen</a>, \\n<a href=\"/name/nm1980534/?ref_=adv_li_st_3\">Abby Craden</a>\\n</p>\\n<p class=\"sort-num_votes-visible\">\\n<span class=\"text-muted\">Votes:</span>\\n<span data-value=\"70955\" name=\"nv\">70,955</span>\\n<span class=\"ghost\">|</span> <span class=\"text-muted\">Gross:</span>\\n<span data-value=\"11,871,365\" name=\"nv\">$11.87M</span>\\n</p>\\n</div>\\n</div>\\n<div class=\"lister-item mode-advanced\">\\n<div class=\"lister-top-right\">\\n<div class=\"ribbonize\" data-caller=\"filmosearch\" data-tconst=\"tt4123430\"></div>\\n</div>\\n<div class=\"lister-item-image float-left\">\\n<a href=\"/title/tt4123430/?ref_=adv_li_i\"> <img alt=\"Fantastic Beasts: The Crimes of Grindelwald\" class=\"loadlate\" data-tconst=\"tt4123430\" height=\"98\" loadlate=\"https://m.media-amazon.com/images/M/MV5BZjFiMGUzMTAtNDAwMC00ZjRhLTk0OTUtMmJiMzM5ZmVjODQxXkEyXkFqcGdeQXVyMDM2NDM2MQ@@._V1_UX67_CR0,0,67,98_AL_.jpg\" src=\"https://m.media-amazon.com/images/G/01/imdb/images/nopicture/large/film-184890147._CB470041630_.png\" width=\"67\"/>\\n</a> </div>\\n<div class=\"lister-item-content\">\\n<h3 class=\"lister-item-header\">\\n<span class=\"lister-item-index unbold text-primary\">29.</span>\\n<a href=\"/title/tt4123430/?ref_=adv_li_tt\">Fantastic Beasts: The Crimes of Grindelwald</a>\\n<span class=\"lister-item-year text-muted unbold\">(2018)</span>\\n</h3>\\n<p class=\"text-muted \">\\n<span class=\"certificate\">PG-13</span>\\n<span class=\"ghost\">|</span>\\n<span class=\"runtime\">134 min</span>\\n<span class=\"ghost\">|</span>\\n<span class=\"genre\">\\nAdventure, Family, Fantasy            </span>\\n</p>\\n<div class=\"ratings-bar\">\\n<div class=\"inline-block ratings-imdb-rating\" data-value=\"6.9\" name=\"ir\">\\n<span class=\"global-sprite rating-star imdb-rating\"></span>\\n<strong>6.9</strong>\\n</div>\\n<div class=\"inline-block ratings-user-rating\">\\n<span class=\"userRatingValue\" data-tconst=\"tt4123430\" id=\"urv_tt4123430\">\\n<span class=\"global-sprite rating-star no-rating\"></span>\\n<span class=\"rate\" data-no-rating=\"Rate this\" data-value=\"0\" name=\"ur\">Rate this</span>\\n</span>\\n<div class=\"starBarWidget\" id=\"sb_tt4123430\">\\n<div class=\"rating rating-list\" data-auth=\"\" data-ga-identifier=\"\" data-starbar-class=\"rating-list\" data-user=\"\" id=\"tt4123430|imdb|6.9|6.9|||search|title\" itemprop=\"aggregateRating\" itemscope=\"\" itemtype=\"http://schema.org/AggregateRating\" title=\"Users rated this 6.9/10 (70,904 votes) - click stars to rate\">\\n<meta content=\"6.9\" itemprop=\"ratingValue\"/>\\n<meta content=\"10\" itemprop=\"bestRating\"/>\\n<meta content=\"70904\" itemprop=\"ratingCount\"/>\\n<span class=\"rating-bg\">\\xa0</span>\\n<span class=\"rating-imdb \" style=\"width: 96.6px\">\\xa0</span>\\n<span class=\"rating-stars\">\\n<a href=\"/register/login?why=vote&amp;ref_=tt_ov_rt\" rel=\"nofollow\" title=\"Register or login to rate this title\"><span>1</span></a>\\n<a href=\"/register/login?why=vote&amp;ref_=tt_ov_rt\" rel=\"nofollow\" title=\"Register or login to rate this title\"><span>2</span></a>\\n<a href=\"/register/login?why=vote&amp;ref_=tt_ov_rt\" rel=\"nofollow\" title=\"Register or login to rate this title\"><span>3</span></a>\\n<a href=\"/register/login?why=vote&amp;ref_=tt_ov_rt\" rel=\"nofollow\" title=\"Register or login to rate this title\"><span>4</span></a>\\n<a href=\"/register/login?why=vote&amp;ref_=tt_ov_rt\" rel=\"nofollow\" title=\"Register or login to rate this title\"><span>5</span></a>\\n<a href=\"/register/login?why=vote&amp;ref_=tt_ov_rt\" rel=\"nofollow\" title=\"Register or login to rate this title\"><span>6</span></a>\\n<a href=\"/register/login?why=vote&amp;ref_=tt_ov_rt\" rel=\"nofollow\" title=\"Register or login to rate this title\"><span>7</span></a>\\n<a href=\"/register/login?why=vote&amp;ref_=tt_ov_rt\" rel=\"nofollow\" title=\"Register or login to rate this title\"><span>8</span></a>\\n<a href=\"/register/login?why=vote&amp;ref_=tt_ov_rt\" rel=\"nofollow\" title=\"Register or login to rate this title\"><span>9</span></a>\\n<a href=\"/register/login?why=vote&amp;ref_=tt_ov_rt\" rel=\"nofollow\" title=\"Register or login to rate this title\"><span>10</span></a>\\n</span>\\n<span class=\"rating-rating \"><span class=\"value\">6.9</span><span class=\"grey\">/</span><span class=\"grey\">10</span></span>\\n<span class=\"rating-cancel \"><a href=\"/title/tt4123430/vote?v=X;k=\" rel=\"nofollow\" title=\"Delete\"><span>X</span></a></span>\\n\\xa0</div>\\n</div>\\n</div>\\n<div class=\"inline-block ratings-metascore\">\\n<span class=\"metascore mixed\">53        </span>\\n        Metascore\\n            </div>\\n</div>\\n<p class=\"text-muted\">\\n    The second installment of the \"Fantastic Beasts\" series featuring the adventures of Magizoologist Newt Scamander.</p>\\n<p class=\"\">\\n    Director:\\n<a href=\"/name/nm0946734/?ref_=adv_li_dr_0\">David Yates</a>\\n<span class=\"ghost\">|</span> \\n    Stars:\\n<a href=\"/name/nm1519666/?ref_=adv_li_st_0\">Eddie Redmayne</a>, \\n<a href=\"/name/nm2239702/?ref_=adv_li_st_1\">Katherine Waterston</a>, \\n<a href=\"/name/nm0283945/?ref_=adv_li_st_2\">Dan Fogler</a>, \\n<a href=\"/name/nm0000136/?ref_=adv_li_st_3\">Johnny Depp</a>\\n</p>\\n<p class=\"sort-num_votes-visible\">\\n<span class=\"text-muted\">Votes:</span>\\n<span data-value=\"70904\" name=\"nv\">70,904</span>\\n<span class=\"ghost\">|</span> <span class=\"text-muted\">Gross:</span>\\n<span data-value=\"123,141,406\" name=\"nv\">$123.14M</span>\\n</p>\\n</div>\\n</div>\\n<div class=\"lister-item mode-advanced\">\\n<div class=\"lister-top-right\">\\n<div class=\"ribbonize\" data-caller=\"filmosearch\" data-tconst=\"tt1590193\"></div>\\n</div>\\n<div class=\"lister-item-image float-left\">\\n<a href=\"/title/tt1590193/?ref_=adv_li_i\"> <img alt=\"The Commuter\" class=\"loadlate\" data-tconst=\"tt1590193\" height=\"98\" loadlate=\"https://m.media-amazon.com/images/M/MV5BMTc0NDg1MjI4OV5BMl5BanBnXkFtZTgwMDIwMTEwNDI@._V1_UX67_CR0,0,67,98_AL_.jpg\" src=\"https://m.media-amazon.com/images/G/01/imdb/images/nopicture/large/film-184890147._CB470041630_.png\" width=\"67\"/>\\n</a> </div>\\n<div class=\"lister-item-content\">\\n<h3 class=\"lister-item-header\">\\n<span class=\"lister-item-index unbold text-primary\">30.</span>\\n<a href=\"/title/tt1590193/?ref_=adv_li_tt\">The Commuter</a>\\n<span class=\"lister-item-year text-muted unbold\">(I) (2018)</span>\\n</h3>\\n<p class=\"text-muted \">\\n<span class=\"certificate\">PG-13</span>\\n<span class=\"ghost\">|</span>\\n<span class=\"runtime\">105 min</span>\\n<span class=\"ghost\">|</span>\\n<span class=\"genre\">\\nAction, Crime, Drama            </span>\\n</p>\\n<div class=\"ratings-bar\">\\n<div class=\"inline-block ratings-imdb-rating\" data-value=\"6.3\" name=\"ir\">\\n<span class=\"global-sprite rating-star imdb-rating\"></span>\\n<strong>6.3</strong>\\n</div>\\n<div class=\"inline-block ratings-user-rating\">\\n<span class=\"userRatingValue\" data-tconst=\"tt1590193\" id=\"urv_tt1590193\">\\n<span class=\"global-sprite rating-star no-rating\"></span>\\n<span class=\"rate\" data-no-rating=\"Rate this\" data-value=\"0\" name=\"ur\">Rate this</span>\\n</span>\\n<div class=\"starBarWidget\" id=\"sb_tt1590193\">\\n<div class=\"rating rating-list\" data-auth=\"\" data-ga-identifier=\"\" data-starbar-class=\"rating-list\" data-user=\"\" id=\"tt1590193|imdb|6.3|6.3|||search|title\" itemprop=\"aggregateRating\" itemscope=\"\" itemtype=\"http://schema.org/AggregateRating\" title=\"Users rated this 6.3/10 (69,552 votes) - click stars to rate\">\\n<meta content=\"6.3\" itemprop=\"ratingValue\"/>\\n<meta content=\"10\" itemprop=\"bestRating\"/>\\n<meta content=\"69552\" itemprop=\"ratingCount\"/>\\n<span class=\"rating-bg\">\\xa0</span>\\n<span class=\"rating-imdb \" style=\"width: 88.2px\">\\xa0</span>\\n<span class=\"rating-stars\">\\n<a href=\"/register/login?why=vote&amp;ref_=tt_ov_rt\" rel=\"nofollow\" title=\"Register or login to rate this title\"><span>1</span></a>\\n<a href=\"/register/login?why=vote&amp;ref_=tt_ov_rt\" rel=\"nofollow\" title=\"Register or login to rate this title\"><span>2</span></a>\\n<a href=\"/register/login?why=vote&amp;ref_=tt_ov_rt\" rel=\"nofollow\" title=\"Register or login to rate this title\"><span>3</span></a>\\n<a href=\"/register/login?why=vote&amp;ref_=tt_ov_rt\" rel=\"nofollow\" title=\"Register or login to rate this title\"><span>4</span></a>\\n<a href=\"/register/login?why=vote&amp;ref_=tt_ov_rt\" rel=\"nofollow\" title=\"Register or login to rate this title\"><span>5</span></a>\\n<a href=\"/register/login?why=vote&amp;ref_=tt_ov_rt\" rel=\"nofollow\" title=\"Register or login to rate this title\"><span>6</span></a>\\n<a href=\"/register/login?why=vote&amp;ref_=tt_ov_rt\" rel=\"nofollow\" title=\"Register or login to rate this title\"><span>7</span></a>\\n<a href=\"/register/login?why=vote&amp;ref_=tt_ov_rt\" rel=\"nofollow\" title=\"Register or login to rate this title\"><span>8</span></a>\\n<a href=\"/register/login?why=vote&amp;ref_=tt_ov_rt\" rel=\"nofollow\" title=\"Register or login to rate this title\"><span>9</span></a>\\n<a href=\"/register/login?why=vote&amp;ref_=tt_ov_rt\" rel=\"nofollow\" title=\"Register or login to rate this title\"><span>10</span></a>\\n</span>\\n<span class=\"rating-rating \"><span class=\"value\">6.3</span><span class=\"grey\">/</span><span class=\"grey\">10</span></span>\\n<span class=\"rating-cancel \"><a href=\"/title/tt1590193/vote?v=X;k=\" rel=\"nofollow\" title=\"Delete\"><span>X</span></a></span>\\n\\xa0</div>\\n</div>\\n</div>\\n<div class=\"inline-block ratings-metascore\">\\n<span class=\"metascore mixed\">56        </span>\\n        Metascore\\n            </div>\\n</div>\\n<p class=\"text-muted\">\\n    An Insurance Salesman/Ex-Cop is caught up in a criminal conspiracy during his daily commute home.</p>\\n<p class=\"\">\\n    Director:\\n<a href=\"/name/nm1429471/?ref_=adv_li_dr_0\">Jaume Collet-Serra</a>\\n<span class=\"ghost\">|</span> \\n    Stars:\\n<a href=\"/name/nm0000553/?ref_=adv_li_st_0\">Liam Neeson</a>, \\n<a href=\"/name/nm0267812/?ref_=adv_li_st_1\">Vera Farmiga</a>, \\n<a href=\"/name/nm0933940/?ref_=adv_li_st_2\">Patrick Wilson</a>, \\n<a href=\"/name/nm0052186/?ref_=adv_li_st_3\">Jonathan Banks</a>\\n</p>\\n<p class=\"sort-num_votes-visible\">\\n<span class=\"text-muted\">Votes:</span>\\n<span data-value=\"69552\" name=\"nv\">69,552</span>\\n<span class=\"ghost\">|</span> <span class=\"text-muted\">Gross:</span>\\n<span data-value=\"36,343,858\" name=\"nv\">$36.34M</span>\\n</p>\\n</div>\\n</div>\\n<div class=\"lister-item mode-advanced\">\\n<div class=\"lister-top-right\">\\n<div class=\"ribbonize\" data-caller=\"filmosearch\" data-tconst=\"tt5052474\"></div>\\n</div>\\n<div class=\"lister-item-image float-left\">\\n<a href=\"/title/tt5052474/?ref_=adv_li_i\"> <img alt=\"Sicario: Day of the Soldado\" class=\"loadlate\" data-tconst=\"tt5052474\" height=\"98\" loadlate=\"https://m.media-amazon.com/images/M/MV5BMjgyOWRhMDctZTZlNC00M2I1LWI0NDQtYzlmODdmYjY2MThiXkEyXkFqcGdeQXVyMzY0MTE3NzU@._V1_UX67_CR0,0,67,98_AL_.jpg\" src=\"https://m.media-amazon.com/images/G/01/imdb/images/nopicture/large/film-184890147._CB470041630_.png\" width=\"67\"/>\\n</a> </div>\\n<div class=\"lister-item-content\">\\n<h3 class=\"lister-item-header\">\\n<span class=\"lister-item-index unbold text-primary\">31.</span>\\n<a href=\"/title/tt5052474/?ref_=adv_li_tt\">Sicario: Day of the Soldado</a>\\n<span class=\"lister-item-year text-muted unbold\">(2018)</span>\\n</h3>\\n<p class=\"text-muted \">\\n<span class=\"certificate\">R</span>\\n<span class=\"ghost\">|</span>\\n<span class=\"runtime\">122 min</span>\\n<span class=\"ghost\">|</span>\\n<span class=\"genre\">\\nAction, Crime, Drama            </span>\\n</p>\\n<div class=\"ratings-bar\">\\n<div class=\"inline-block ratings-imdb-rating\" data-value=\"7.1\" name=\"ir\">\\n<span class=\"global-sprite rating-star imdb-rating\"></span>\\n<strong>7.1</strong>\\n</div>\\n<div class=\"inline-block ratings-user-rating\">\\n<span class=\"userRatingValue\" data-tconst=\"tt5052474\" id=\"urv_tt5052474\">\\n<span class=\"global-sprite rating-star no-rating\"></span>\\n<span class=\"rate\" data-no-rating=\"Rate this\" data-value=\"0\" name=\"ur\">Rate this</span>\\n</span>\\n<div class=\"starBarWidget\" id=\"sb_tt5052474\">\\n<div class=\"rating rating-list\" data-auth=\"\" data-ga-identifier=\"\" data-starbar-class=\"rating-list\" data-user=\"\" id=\"tt5052474|imdb|7.1|7.1|||search|title\" itemprop=\"aggregateRating\" itemscope=\"\" itemtype=\"http://schema.org/AggregateRating\" title=\"Users rated this 7.1/10 (69,346 votes) - click stars to rate\">\\n<meta content=\"7.1\" itemprop=\"ratingValue\"/>\\n<meta content=\"10\" itemprop=\"bestRating\"/>\\n<meta content=\"69346\" itemprop=\"ratingCount\"/>\\n<span class=\"rating-bg\">\\xa0</span>\\n<span class=\"rating-imdb \" style=\"width: 99.4px\">\\xa0</span>\\n<span class=\"rating-stars\">\\n<a href=\"/register/login?why=vote&amp;ref_=tt_ov_rt\" rel=\"nofollow\" title=\"Register or login to rate this title\"><span>1</span></a>\\n<a href=\"/register/login?why=vote&amp;ref_=tt_ov_rt\" rel=\"nofollow\" title=\"Register or login to rate this title\"><span>2</span></a>\\n<a href=\"/register/login?why=vote&amp;ref_=tt_ov_rt\" rel=\"nofollow\" title=\"Register or login to rate this title\"><span>3</span></a>\\n<a href=\"/register/login?why=vote&amp;ref_=tt_ov_rt\" rel=\"nofollow\" title=\"Register or login to rate this title\"><span>4</span></a>\\n<a href=\"/register/login?why=vote&amp;ref_=tt_ov_rt\" rel=\"nofollow\" title=\"Register or login to rate this title\"><span>5</span></a>\\n<a href=\"/register/login?why=vote&amp;ref_=tt_ov_rt\" rel=\"nofollow\" title=\"Register or login to rate this title\"><span>6</span></a>\\n<a href=\"/register/login?why=vote&amp;ref_=tt_ov_rt\" rel=\"nofollow\" title=\"Register or login to rate this title\"><span>7</span></a>\\n<a href=\"/register/login?why=vote&amp;ref_=tt_ov_rt\" rel=\"nofollow\" title=\"Register or login to rate this title\"><span>8</span></a>\\n<a href=\"/register/login?why=vote&amp;ref_=tt_ov_rt\" rel=\"nofollow\" title=\"Register or login to rate this title\"><span>9</span></a>\\n<a href=\"/register/login?why=vote&amp;ref_=tt_ov_rt\" rel=\"nofollow\" title=\"Register or login to rate this title\"><span>10</span></a>\\n</span>\\n<span class=\"rating-rating \"><span class=\"value\">7.1</span><span class=\"grey\">/</span><span class=\"grey\">10</span></span>\\n<span class=\"rating-cancel \"><a href=\"/title/tt5052474/vote?v=X;k=\" rel=\"nofollow\" title=\"Delete\"><span>X</span></a></span>\\n\\xa0</div>\\n</div>\\n</div>\\n<div class=\"inline-block ratings-metascore\">\\n<span class=\"metascore favorable\">61        </span>\\n        Metascore\\n            </div>\\n</div>\\n<p class=\"text-muted\">\\n    The drug war on the U.S.-Mexico border has escalated as the cartels have begun trafficking terrorists across the US border. To fight the war, federal agent Matt Graver re-teams with the mercurial Alejandro.</p>\\n<p class=\"\">\\n    Director:\\n<a href=\"/name/nm1356588/?ref_=adv_li_dr_0\">Stefano Sollima</a>\\n<span class=\"ghost\">|</span> \\n    Stars:\\n<a href=\"/name/nm0001125/?ref_=adv_li_st_0\">Benicio Del Toro</a>, \\n<a href=\"/name/nm0000982/?ref_=adv_li_st_1\">Josh Brolin</a>, \\n<a href=\"/name/nm5097044/?ref_=adv_li_st_2\">Isabela Moner</a>, \\n<a href=\"/name/nm0232998/?ref_=adv_li_st_3\">Jeffrey Donovan</a>\\n</p>\\n<p class=\"sort-num_votes-visible\">\\n<span class=\"text-muted\">Votes:</span>\\n<span data-value=\"69346\" name=\"nv\">69,346</span>\\n<span class=\"ghost\">|</span> <span class=\"text-muted\">Gross:</span>\\n<span data-value=\"50,072,235\" name=\"nv\">$50.07M</span>\\n</p>\\n</div>\\n</div>\\n<div class=\"lister-item mode-advanced\">\\n<div class=\"lister-top-right\">\\n<div class=\"ribbonize\" data-caller=\"filmosearch\" data-tconst=\"tt5164432\"></div>\\n</div>\\n<div class=\"lister-item-image float-left\">\\n<a href=\"/title/tt5164432/?ref_=adv_li_i\"> <img alt=\"Love, Simon\" class=\"loadlate\" data-tconst=\"tt5164432\" height=\"98\" loadlate=\"https://m.media-amazon.com/images/M/MV5BNTMyZDdiMzUtZjcxNS00Mjc3LTljY2UtYjI4YmY5NzJlYjc1XkEyXkFqcGdeQXVyMTA5OTkwNTc@._V1_UX67_CR0,0,67,98_AL_.jpg\" src=\"https://m.media-amazon.com/images/G/01/imdb/images/nopicture/large/film-184890147._CB470041630_.png\" width=\"67\"/>\\n</a> </div>\\n<div class=\"lister-item-content\">\\n<h3 class=\"lister-item-header\">\\n<span class=\"lister-item-index unbold text-primary\">32.</span>\\n<a href=\"/title/tt5164432/?ref_=adv_li_tt\">Love, Simon</a>\\n<span class=\"lister-item-year text-muted unbold\">(2018)</span>\\n</h3>\\n<p class=\"text-muted \">\\n<span class=\"certificate\">PG-13</span>\\n<span class=\"ghost\">|</span>\\n<span class=\"runtime\">110 min</span>\\n<span class=\"ghost\">|</span>\\n<span class=\"genre\">\\nComedy, Drama, Romance            </span>\\n</p>\\n<div class=\"ratings-bar\">\\n<div class=\"inline-block ratings-imdb-rating\" data-value=\"7.7\" name=\"ir\">\\n<span class=\"global-sprite rating-star imdb-rating\"></span>\\n<strong>7.7</strong>\\n</div>\\n<div class=\"inline-block ratings-user-rating\">\\n<span class=\"userRatingValue\" data-tconst=\"tt5164432\" id=\"urv_tt5164432\">\\n<span class=\"global-sprite rating-star no-rating\"></span>\\n<span class=\"rate\" data-no-rating=\"Rate this\" data-value=\"0\" name=\"ur\">Rate this</span>\\n</span>\\n<div class=\"starBarWidget\" id=\"sb_tt5164432\">\\n<div class=\"rating rating-list\" data-auth=\"\" data-ga-identifier=\"\" data-starbar-class=\"rating-list\" data-user=\"\" id=\"tt5164432|imdb|7.7|7.7|||search|title\" itemprop=\"aggregateRating\" itemscope=\"\" itemtype=\"http://schema.org/AggregateRating\" title=\"Users rated this 7.7/10 (67,559 votes) - click stars to rate\">\\n<meta content=\"7.7\" itemprop=\"ratingValue\"/>\\n<meta content=\"10\" itemprop=\"bestRating\"/>\\n<meta content=\"67559\" itemprop=\"ratingCount\"/>\\n<span class=\"rating-bg\">\\xa0</span>\\n<span class=\"rating-imdb \" style=\"width: 107.8px\">\\xa0</span>\\n<span class=\"rating-stars\">\\n<a href=\"/register/login?why=vote&amp;ref_=tt_ov_rt\" rel=\"nofollow\" title=\"Register or login to rate this title\"><span>1</span></a>\\n<a href=\"/register/login?why=vote&amp;ref_=tt_ov_rt\" rel=\"nofollow\" title=\"Register or login to rate this title\"><span>2</span></a>\\n<a href=\"/register/login?why=vote&amp;ref_=tt_ov_rt\" rel=\"nofollow\" title=\"Register or login to rate this title\"><span>3</span></a>\\n<a href=\"/register/login?why=vote&amp;ref_=tt_ov_rt\" rel=\"nofollow\" title=\"Register or login to rate this title\"><span>4</span></a>\\n<a href=\"/register/login?why=vote&amp;ref_=tt_ov_rt\" rel=\"nofollow\" title=\"Register or login to rate this title\"><span>5</span></a>\\n<a href=\"/register/login?why=vote&amp;ref_=tt_ov_rt\" rel=\"nofollow\" title=\"Register or login to rate this title\"><span>6</span></a>\\n<a href=\"/register/login?why=vote&amp;ref_=tt_ov_rt\" rel=\"nofollow\" title=\"Register or login to rate this title\"><span>7</span></a>\\n<a href=\"/register/login?why=vote&amp;ref_=tt_ov_rt\" rel=\"nofollow\" title=\"Register or login to rate this title\"><span>8</span></a>\\n<a href=\"/register/login?why=vote&amp;ref_=tt_ov_rt\" rel=\"nofollow\" title=\"Register or login to rate this title\"><span>9</span></a>\\n<a href=\"/register/login?why=vote&amp;ref_=tt_ov_rt\" rel=\"nofollow\" title=\"Register or login to rate this title\"><span>10</span></a>\\n</span>\\n<span class=\"rating-rating \"><span class=\"value\">7.7</span><span class=\"grey\">/</span><span class=\"grey\">10</span></span>\\n<span class=\"rating-cancel \"><a href=\"/title/tt5164432/vote?v=X;k=\" rel=\"nofollow\" title=\"Delete\"><span>X</span></a></span>\\n\\xa0</div>\\n</div>\\n</div>\\n<div class=\"inline-block ratings-metascore\">\\n<span class=\"metascore favorable\">72        </span>\\n        Metascore\\n            </div>\\n</div>\\n<p class=\"text-muted\">\\n    Simon Spier keeps a huge secret from his family, his friends and all of his classmates: he's gay. When that secret is threatened, Simon must face everyone and come to terms with his identity.</p>\\n<p class=\"\">\\n    Director:\\n<a href=\"/name/nm0075528/?ref_=adv_li_dr_0\">Greg Berlanti</a>\\n<span class=\"ghost\">|</span> \\n    Stars:\\n<a href=\"/name/nm3538718/?ref_=adv_li_st_0\">Nick Robinson</a>, \\n<a href=\"/name/nm0004950/?ref_=adv_li_st_1\">Jennifer Garner</a>, \\n<a href=\"/name/nm0241049/?ref_=adv_li_st_2\">Josh Duhamel</a>, \\n<a href=\"/name/nm7692698/?ref_=adv_li_st_3\">Katherine Langford</a>\\n</p>\\n<p class=\"sort-num_votes-visible\">\\n<span class=\"text-muted\">Votes:</span>\\n<span data-value=\"67559\" name=\"nv\">67,559</span>\\n<span class=\"ghost\">|</span> <span class=\"text-muted\">Gross:</span>\\n<span data-value=\"40,826,341\" name=\"nv\">$40.83M</span>\\n</p>\\n</div>\\n</div>\\n<div class=\"lister-item mode-advanced\">\\n<div class=\"lister-top-right\">\\n<div class=\"ribbonize\" data-caller=\"filmosearch\" data-tconst=\"tt5814060\"></div>\\n</div>\\n<div class=\"lister-item-image float-left\">\\n<a href=\"/title/tt5814060/?ref_=adv_li_i\"> <img alt=\"The Nun\" class=\"loadlate\" data-tconst=\"tt5814060\" height=\"98\" loadlate=\"https://m.media-amazon.com/images/M/MV5BMjEwMDE1NzI3M15BMl5BanBnXkFtZTgwNjg2NjExNjM@._V1_UX67_CR0,0,67,98_AL_.jpg\" src=\"https://m.media-amazon.com/images/G/01/imdb/images/nopicture/large/film-184890147._CB470041630_.png\" width=\"67\"/>\\n</a> </div>\\n<div class=\"lister-item-content\">\\n<h3 class=\"lister-item-header\">\\n<span class=\"lister-item-index unbold text-primary\">33.</span>\\n<a href=\"/title/tt5814060/?ref_=adv_li_tt\">The Nun</a>\\n<span class=\"lister-item-year text-muted unbold\">(2018)</span>\\n</h3>\\n<p class=\"text-muted \">\\n<span class=\"certificate\">R</span>\\n<span class=\"ghost\">|</span>\\n<span class=\"runtime\">96 min</span>\\n<span class=\"ghost\">|</span>\\n<span class=\"genre\">\\nHorror, Mystery, Thriller            </span>\\n</p>\\n<div class=\"ratings-bar\">\\n<div class=\"inline-block ratings-imdb-rating\" data-value=\"5.5\" name=\"ir\">\\n<span class=\"global-sprite rating-star imdb-rating\"></span>\\n<strong>5.5</strong>\\n</div>\\n<div class=\"inline-block ratings-user-rating\">\\n<span class=\"userRatingValue\" data-tconst=\"tt5814060\" id=\"urv_tt5814060\">\\n<span class=\"global-sprite rating-star no-rating\"></span>\\n<span class=\"rate\" data-no-rating=\"Rate this\" data-value=\"0\" name=\"ur\">Rate this</span>\\n</span>\\n<div class=\"starBarWidget\" id=\"sb_tt5814060\">\\n<div class=\"rating rating-list\" data-auth=\"\" data-ga-identifier=\"\" data-starbar-class=\"rating-list\" data-user=\"\" id=\"tt5814060|imdb|5.5|5.5|||search|title\" itemprop=\"aggregateRating\" itemscope=\"\" itemtype=\"http://schema.org/AggregateRating\" title=\"Users rated this 5.5/10 (61,162 votes) - click stars to rate\">\\n<meta content=\"5.5\" itemprop=\"ratingValue\"/>\\n<meta content=\"10\" itemprop=\"bestRating\"/>\\n<meta content=\"61162\" itemprop=\"ratingCount\"/>\\n<span class=\"rating-bg\">\\xa0</span>\\n<span class=\"rating-imdb \" style=\"width: 77px\">\\xa0</span>\\n<span class=\"rating-stars\">\\n<a href=\"/register/login?why=vote&amp;ref_=tt_ov_rt\" rel=\"nofollow\" title=\"Register or login to rate this title\"><span>1</span></a>\\n<a href=\"/register/login?why=vote&amp;ref_=tt_ov_rt\" rel=\"nofollow\" title=\"Register or login to rate this title\"><span>2</span></a>\\n<a href=\"/register/login?why=vote&amp;ref_=tt_ov_rt\" rel=\"nofollow\" title=\"Register or login to rate this title\"><span>3</span></a>\\n<a href=\"/register/login?why=vote&amp;ref_=tt_ov_rt\" rel=\"nofollow\" title=\"Register or login to rate this title\"><span>4</span></a>\\n<a href=\"/register/login?why=vote&amp;ref_=tt_ov_rt\" rel=\"nofollow\" title=\"Register or login to rate this title\"><span>5</span></a>\\n<a href=\"/register/login?why=vote&amp;ref_=tt_ov_rt\" rel=\"nofollow\" title=\"Register or login to rate this title\"><span>6</span></a>\\n<a href=\"/register/login?why=vote&amp;ref_=tt_ov_rt\" rel=\"nofollow\" title=\"Register or login to rate this title\"><span>7</span></a>\\n<a href=\"/register/login?why=vote&amp;ref_=tt_ov_rt\" rel=\"nofollow\" title=\"Register or login to rate this title\"><span>8</span></a>\\n<a href=\"/register/login?why=vote&amp;ref_=tt_ov_rt\" rel=\"nofollow\" title=\"Register or login to rate this title\"><span>9</span></a>\\n<a href=\"/register/login?why=vote&amp;ref_=tt_ov_rt\" rel=\"nofollow\" title=\"Register or login to rate this title\"><span>10</span></a>\\n</span>\\n<span class=\"rating-rating \"><span class=\"value\">5.5</span><span class=\"grey\">/</span><span class=\"grey\">10</span></span>\\n<span class=\"rating-cancel \"><a href=\"/title/tt5814060/vote?v=X;k=\" rel=\"nofollow\" title=\"Delete\"><span>X</span></a></span>\\n\\xa0</div>\\n</div>\\n</div>\\n<div class=\"inline-block ratings-metascore\">\\n<span class=\"metascore mixed\">46        </span>\\n        Metascore\\n            </div>\\n</div>\\n<p class=\"text-muted\">\\n    A priest with a haunted past and a novice on the threshold of her final vows are sent by the Vatican to investigate the death of a young nun in Romania and confront a malevolent force in the form of a demonic nun.</p>\\n<p class=\"\">\\n    Director:\\n<a href=\"/name/nm2379028/?ref_=adv_li_dr_0\">Corin Hardy</a>\\n<span class=\"ghost\">|</span> \\n    Stars:\\n<a href=\"/name/nm0065007/?ref_=adv_li_st_0\">Demi\\xe1n Bichir</a>, \\n<a href=\"/name/nm3920288/?ref_=adv_li_st_1\">Taissa Farmiga</a>, \\n<a href=\"/name/nm2997552/?ref_=adv_li_st_2\">Jonas Bloquet</a>, \\n<a href=\"/name/nm0007491/?ref_=adv_li_st_3\">Bonnie Aarons</a>\\n</p>\\n<p class=\"sort-num_votes-visible\">\\n<span class=\"text-muted\">Votes:</span>\\n<span data-value=\"61162\" name=\"nv\">61,162</span>\\n<span class=\"ghost\">|</span> <span class=\"text-muted\">Gross:</span>\\n<span data-value=\"117,443,149\" name=\"nv\">$117.44M</span>\\n</p>\\n</div>\\n</div>\\n<div class=\"lister-item mode-advanced\">\\n<div class=\"lister-top-right\">\\n<div class=\"ribbonize\" data-caller=\"filmosearch\" data-tconst=\"tt7349662\"></div>\\n</div>\\n<div class=\"lister-item-image float-left\">\\n<a href=\"/title/tt7349662/?ref_=adv_li_i\"> <img alt=\"BlacKkKlansman\" class=\"loadlate\" data-tconst=\"tt7349662\" height=\"98\" loadlate=\"https://m.media-amazon.com/images/M/MV5BMjUyOTE1NjI0OF5BMl5BanBnXkFtZTgwMTM4ODQ5NTM@._V1_UX67_CR0,0,67,98_AL_.jpg\" src=\"https://m.media-amazon.com/images/G/01/imdb/images/nopicture/large/film-184890147._CB470041630_.png\" width=\"67\"/>\\n</a> </div>\\n<div class=\"lister-item-content\">\\n<h3 class=\"lister-item-header\">\\n<span class=\"lister-item-index unbold text-primary\">34.</span>\\n<a href=\"/title/tt7349662/?ref_=adv_li_tt\">BlacKkKlansman</a>\\n<span class=\"lister-item-year text-muted unbold\">(2018)</span>\\n</h3>\\n<p class=\"text-muted \">\\n<span class=\"certificate\">R</span>\\n<span class=\"ghost\">|</span>\\n<span class=\"runtime\">135 min</span>\\n<span class=\"ghost\">|</span>\\n<span class=\"genre\">\\nBiography, Crime, Drama            </span>\\n</p>\\n<div class=\"ratings-bar\">\\n<div class=\"inline-block ratings-imdb-rating\" data-value=\"7.6\" name=\"ir\">\\n<span class=\"global-sprite rating-star imdb-rating\"></span>\\n<strong>7.6</strong>\\n</div>\\n<div class=\"inline-block ratings-user-rating\">\\n<span class=\"userRatingValue\" data-tconst=\"tt7349662\" id=\"urv_tt7349662\">\\n<span class=\"global-sprite rating-star no-rating\"></span>\\n<span class=\"rate\" data-no-rating=\"Rate this\" data-value=\"0\" name=\"ur\">Rate this</span>\\n</span>\\n<div class=\"starBarWidget\" id=\"sb_tt7349662\">\\n<div class=\"rating rating-list\" data-auth=\"\" data-ga-identifier=\"\" data-starbar-class=\"rating-list\" data-user=\"\" id=\"tt7349662|imdb|7.6|7.6|||search|title\" itemprop=\"aggregateRating\" itemscope=\"\" itemtype=\"http://schema.org/AggregateRating\" title=\"Users rated this 7.6/10 (60,067 votes) - click stars to rate\">\\n<meta content=\"7.6\" itemprop=\"ratingValue\"/>\\n<meta content=\"10\" itemprop=\"bestRating\"/>\\n<meta content=\"60067\" itemprop=\"ratingCount\"/>\\n<span class=\"rating-bg\">\\xa0</span>\\n<span class=\"rating-imdb \" style=\"width: 106.4px\">\\xa0</span>\\n<span class=\"rating-stars\">\\n<a href=\"/register/login?why=vote&amp;ref_=tt_ov_rt\" rel=\"nofollow\" title=\"Register or login to rate this title\"><span>1</span></a>\\n<a href=\"/register/login?why=vote&amp;ref_=tt_ov_rt\" rel=\"nofollow\" title=\"Register or login to rate this title\"><span>2</span></a>\\n<a href=\"/register/login?why=vote&amp;ref_=tt_ov_rt\" rel=\"nofollow\" title=\"Register or login to rate this title\"><span>3</span></a>\\n<a href=\"/register/login?why=vote&amp;ref_=tt_ov_rt\" rel=\"nofollow\" title=\"Register or login to rate this title\"><span>4</span></a>\\n<a href=\"/register/login?why=vote&amp;ref_=tt_ov_rt\" rel=\"nofollow\" title=\"Register or login to rate this title\"><span>5</span></a>\\n<a href=\"/register/login?why=vote&amp;ref_=tt_ov_rt\" rel=\"nofollow\" title=\"Register or login to rate this title\"><span>6</span></a>\\n<a href=\"/register/login?why=vote&amp;ref_=tt_ov_rt\" rel=\"nofollow\" title=\"Register or login to rate this title\"><span>7</span></a>\\n<a href=\"/register/login?why=vote&amp;ref_=tt_ov_rt\" rel=\"nofollow\" title=\"Register or login to rate this title\"><span>8</span></a>\\n<a href=\"/register/login?why=vote&amp;ref_=tt_ov_rt\" rel=\"nofollow\" title=\"Register or login to rate this title\"><span>9</span></a>\\n<a href=\"/register/login?why=vote&amp;ref_=tt_ov_rt\" rel=\"nofollow\" title=\"Register or login to rate this title\"><span>10</span></a>\\n</span>\\n<span class=\"rating-rating \"><span class=\"value\">7.6</span><span class=\"grey\">/</span><span class=\"grey\">10</span></span>\\n<span class=\"rating-cancel \"><a href=\"/title/tt7349662/vote?v=X;k=\" rel=\"nofollow\" title=\"Delete\"><span>X</span></a></span>\\n\\xa0</div>\\n</div>\\n</div>\\n<div class=\"inline-block ratings-metascore\">\\n<span class=\"metascore favorable\">83        </span>\\n        Metascore\\n            </div>\\n</div>\\n<p class=\"text-muted\">\\n    Ron Stallworth, an African American police officer from Colorado Springs, CO, successfully manages to infiltrate the local Ku Klux Klan branch with the help of a Jewish surrogate who eventually becomes its leader. Based on actual events.</p>\\n<p class=\"\">\\n    Director:\\n<a href=\"/name/nm0000490/?ref_=adv_li_dr_0\">Spike Lee</a>\\n<span class=\"ghost\">|</span> \\n    Stars:\\n<a href=\"/name/nm0913475/?ref_=adv_li_st_0\">John David Washington</a>, \\n<a href=\"/name/nm3485845/?ref_=adv_li_st_1\">Adam Driver</a>, \\n<a href=\"/name/nm5637553/?ref_=adv_li_st_2\">Laura Harrier</a>, \\n<a href=\"/name/nm0333410/?ref_=adv_li_st_3\">Topher Grace</a>\\n</p>\\n<p class=\"sort-num_votes-visible\">\\n<span class=\"text-muted\">Votes:</span>\\n<span data-value=\"60067\" name=\"nv\">60,067</span>\\n<span class=\"ghost\">|</span> <span class=\"text-muted\">Gross:</span>\\n<span data-value=\"48,271,960\" name=\"nv\">$48.27M</span>\\n</p>\\n</div>\\n</div>\\n<div class=\"lister-item mode-advanced\">\\n<div class=\"lister-top-right\">\\n<div class=\"ribbonize\" data-caller=\"filmosearch\" data-tconst=\"tt5758778\"></div>\\n</div>\\n<div class=\"lister-item-image float-left\">\\n<a href=\"/title/tt5758778/?ref_=adv_li_i\"> <img alt=\"Skyscraper\" class=\"loadlate\" data-tconst=\"tt5758778\" height=\"98\" loadlate=\"https://m.media-amazon.com/images/M/MV5BOGM3MzQwYzItNDA1Ny00MzIyLTg5Y2QtYTAwMzNmMDU2ZDgxXkEyXkFqcGdeQXVyMjMxOTE0ODA@._V1_UX67_CR0,0,67,98_AL_.jpg\" src=\"https://m.media-amazon.com/images/G/01/imdb/images/nopicture/large/film-184890147._CB470041630_.png\" width=\"67\"/>\\n</a> </div>\\n<div class=\"lister-item-content\">\\n<h3 class=\"lister-item-header\">\\n<span class=\"lister-item-index unbold text-primary\">35.</span>\\n<a href=\"/title/tt5758778/?ref_=adv_li_tt\">Skyscraper</a>\\n<span class=\"lister-item-year text-muted unbold\">(2018)</span>\\n</h3>\\n<p class=\"text-muted \">\\n<span class=\"certificate\">PG-13</span>\\n<span class=\"ghost\">|</span>\\n<span class=\"runtime\">102 min</span>\\n<span class=\"ghost\">|</span>\\n<span class=\"genre\">\\nAction, Adventure, Thriller            </span>\\n</p>\\n<div class=\"ratings-bar\">\\n<div class=\"inline-block ratings-imdb-rating\" data-value=\"5.9\" name=\"ir\">\\n<span class=\"global-sprite rating-star imdb-rating\"></span>\\n<strong>5.9</strong>\\n</div>\\n<div class=\"inline-block ratings-user-rating\">\\n<span class=\"userRatingValue\" data-tconst=\"tt5758778\" id=\"urv_tt5758778\">\\n<span class=\"global-sprite rating-star no-rating\"></span>\\n<span class=\"rate\" data-no-rating=\"Rate this\" data-value=\"0\" name=\"ur\">Rate this</span>\\n</span>\\n<div class=\"starBarWidget\" id=\"sb_tt5758778\">\\n<div class=\"rating rating-list\" data-auth=\"\" data-ga-identifier=\"\" data-starbar-class=\"rating-list\" data-user=\"\" id=\"tt5758778|imdb|5.9|5.9|||search|title\" itemprop=\"aggregateRating\" itemscope=\"\" itemtype=\"http://schema.org/AggregateRating\" title=\"Users rated this 5.9/10 (59,959 votes) - click stars to rate\">\\n<meta content=\"5.9\" itemprop=\"ratingValue\"/>\\n<meta content=\"10\" itemprop=\"bestRating\"/>\\n<meta content=\"59959\" itemprop=\"ratingCount\"/>\\n<span class=\"rating-bg\">\\xa0</span>\\n<span class=\"rating-imdb \" style=\"width: 82.6px\">\\xa0</span>\\n<span class=\"rating-stars\">\\n<a href=\"/register/login?why=vote&amp;ref_=tt_ov_rt\" rel=\"nofollow\" title=\"Register or login to rate this title\"><span>1</span></a>\\n<a href=\"/register/login?why=vote&amp;ref_=tt_ov_rt\" rel=\"nofollow\" title=\"Register or login to rate this title\"><span>2</span></a>\\n<a href=\"/register/login?why=vote&amp;ref_=tt_ov_rt\" rel=\"nofollow\" title=\"Register or login to rate this title\"><span>3</span></a>\\n<a href=\"/register/login?why=vote&amp;ref_=tt_ov_rt\" rel=\"nofollow\" title=\"Register or login to rate this title\"><span>4</span></a>\\n<a href=\"/register/login?why=vote&amp;ref_=tt_ov_rt\" rel=\"nofollow\" title=\"Register or login to rate this title\"><span>5</span></a>\\n<a href=\"/register/login?why=vote&amp;ref_=tt_ov_rt\" rel=\"nofollow\" title=\"Register or login to rate this title\"><span>6</span></a>\\n<a href=\"/register/login?why=vote&amp;ref_=tt_ov_rt\" rel=\"nofollow\" title=\"Register or login to rate this title\"><span>7</span></a>\\n<a href=\"/register/login?why=vote&amp;ref_=tt_ov_rt\" rel=\"nofollow\" title=\"Register or login to rate this title\"><span>8</span></a>\\n<a href=\"/register/login?why=vote&amp;ref_=tt_ov_rt\" rel=\"nofollow\" title=\"Register or login to rate this title\"><span>9</span></a>\\n<a href=\"/register/login?why=vote&amp;ref_=tt_ov_rt\" rel=\"nofollow\" title=\"Register or login to rate this title\"><span>10</span></a>\\n</span>\\n<span class=\"rating-rating \"><span class=\"value\">5.9</span><span class=\"grey\">/</span><span class=\"grey\">10</span></span>\\n<span class=\"rating-cancel \"><a href=\"/title/tt5758778/vote?v=X;k=\" rel=\"nofollow\" title=\"Delete\"><span>X</span></a></span>\\n\\xa0</div>\\n</div>\\n</div>\\n<div class=\"inline-block ratings-metascore\">\\n<span class=\"metascore mixed\">51        </span>\\n        Metascore\\n            </div>\\n</div>\\n<p class=\"text-muted\">\\n    A security expert must infiltrate a burning skyscraper, 225 stories above ground, when his family is trapped inside by criminals.</p>\\n<p class=\"\">\\n    Director:\\n<a href=\"/name/nm1098493/?ref_=adv_li_dr_0\">Rawson Marshall Thurber</a>\\n<span class=\"ghost\">|</span> \\n    Stars:\\n<a href=\"/name/nm0425005/?ref_=adv_li_st_0\">Dwayne Johnson</a>, \\n<a href=\"/name/nm0000117/?ref_=adv_li_st_1\">Neve Campbell</a>, \\n<a href=\"/name/nm1977856/?ref_=adv_li_st_2\">Chin Han</a>, \\n<a href=\"/name/nm3435612/?ref_=adv_li_st_3\">Roland M\\xf8ller</a>\\n</p>\\n<p class=\"sort-num_votes-visible\">\\n<span class=\"text-muted\">Votes:</span>\\n<span data-value=\"59959\" name=\"nv\">59,959</span>\\n<span class=\"ghost\">|</span> <span class=\"text-muted\">Gross:</span>\\n<span data-value=\"67,796,355\" name=\"nv\">$67.80M</span>\\n</p>\\n</div>\\n</div>\\n<div class=\"lister-item mode-advanced\">\\n<div class=\"lister-top-right\">\\n<div class=\"ribbonize\" data-caller=\"filmosearch\" data-tconst=\"tt2854926\"></div>\\n</div>\\n<div class=\"lister-item-image float-left\">\\n<a href=\"/title/tt2854926/?ref_=adv_li_i\"> <img alt=\"Tag\" class=\"loadlate\" data-tconst=\"tt2854926\" height=\"98\" loadlate=\"https://m.media-amazon.com/images/M/MV5BNzk4NDM3NjkwNF5BMl5BanBnXkFtZTgwNTk5MzkzNTM@._V1_UX67_CR0,0,67,98_AL_.jpg\" src=\"https://m.media-amazon.com/images/G/01/imdb/images/nopicture/large/film-184890147._CB470041630_.png\" width=\"67\"/>\\n</a> </div>\\n<div class=\"lister-item-content\">\\n<h3 class=\"lister-item-header\">\\n<span class=\"lister-item-index unbold text-primary\">36.</span>\\n<a href=\"/title/tt2854926/?ref_=adv_li_tt\">Tag</a>\\n<span class=\"lister-item-year text-muted unbold\">(I) (2018)</span>\\n</h3>\\n<p class=\"text-muted \">\\n<span class=\"certificate\">R</span>\\n<span class=\"ghost\">|</span>\\n<span class=\"runtime\">100 min</span>\\n<span class=\"ghost\">|</span>\\n<span class=\"genre\">\\nComedy            </span>\\n</p>\\n<div class=\"ratings-bar\">\\n<div class=\"inline-block ratings-imdb-rating\" data-value=\"6.6\" name=\"ir\">\\n<span class=\"global-sprite rating-star imdb-rating\"></span>\\n<strong>6.6</strong>\\n</div>\\n<div class=\"inline-block ratings-user-rating\">\\n<span class=\"userRatingValue\" data-tconst=\"tt2854926\" id=\"urv_tt2854926\">\\n<span class=\"global-sprite rating-star no-rating\"></span>\\n<span class=\"rate\" data-no-rating=\"Rate this\" data-value=\"0\" name=\"ur\">Rate this</span>\\n</span>\\n<div class=\"starBarWidget\" id=\"sb_tt2854926\">\\n<div class=\"rating rating-list\" data-auth=\"\" data-ga-identifier=\"\" data-starbar-class=\"rating-list\" data-user=\"\" id=\"tt2854926|imdb|6.6|6.6|||search|title\" itemprop=\"aggregateRating\" itemscope=\"\" itemtype=\"http://schema.org/AggregateRating\" title=\"Users rated this 6.6/10 (59,340 votes) - click stars to rate\">\\n<meta content=\"6.6\" itemprop=\"ratingValue\"/>\\n<meta content=\"10\" itemprop=\"bestRating\"/>\\n<meta content=\"59340\" itemprop=\"ratingCount\"/>\\n<span class=\"rating-bg\">\\xa0</span>\\n<span class=\"rating-imdb \" style=\"width: 92.4px\">\\xa0</span>\\n<span class=\"rating-stars\">\\n<a href=\"/register/login?why=vote&amp;ref_=tt_ov_rt\" rel=\"nofollow\" title=\"Register or login to rate this title\"><span>1</span></a>\\n<a href=\"/register/login?why=vote&amp;ref_=tt_ov_rt\" rel=\"nofollow\" title=\"Register or login to rate this title\"><span>2</span></a>\\n<a href=\"/register/login?why=vote&amp;ref_=tt_ov_rt\" rel=\"nofollow\" title=\"Register or login to rate this title\"><span>3</span></a>\\n<a href=\"/register/login?why=vote&amp;ref_=tt_ov_rt\" rel=\"nofollow\" title=\"Register or login to rate this title\"><span>4</span></a>\\n<a href=\"/register/login?why=vote&amp;ref_=tt_ov_rt\" rel=\"nofollow\" title=\"Register or login to rate this title\"><span>5</span></a>\\n<a href=\"/register/login?why=vote&amp;ref_=tt_ov_rt\" rel=\"nofollow\" title=\"Register or login to rate this title\"><span>6</span></a>\\n<a href=\"/register/login?why=vote&amp;ref_=tt_ov_rt\" rel=\"nofollow\" title=\"Register or login to rate this title\"><span>7</span></a>\\n<a href=\"/register/login?why=vote&amp;ref_=tt_ov_rt\" rel=\"nofollow\" title=\"Register or login to rate this title\"><span>8</span></a>\\n<a href=\"/register/login?why=vote&amp;ref_=tt_ov_rt\" rel=\"nofollow\" title=\"Register or login to rate this title\"><span>9</span></a>\\n<a href=\"/register/login?why=vote&amp;ref_=tt_ov_rt\" rel=\"nofollow\" title=\"Register or login to rate this title\"><span>10</span></a>\\n</span>\\n<span class=\"rating-rating \"><span class=\"value\">6.6</span><span class=\"grey\">/</span><span class=\"grey\">10</span></span>\\n<span class=\"rating-cancel \"><a href=\"/title/tt2854926/vote?v=X;k=\" rel=\"nofollow\" title=\"Delete\"><span>X</span></a></span>\\n\\xa0</div>\\n</div>\\n</div>\\n<div class=\"inline-block ratings-metascore\">\\n<span class=\"metascore mixed\">56        </span>\\n        Metascore\\n            </div>\\n</div>\\n<p class=\"text-muted\">\\n    A small group of former classmates organize an elaborate, annual game of tag that requires some to travel all over the country.</p>\\n<p class=\"\">\\n    Director:\\n<a href=\"/name/nm1762961/?ref_=adv_li_dr_0\">Jeff Tomsic</a>\\n<span class=\"ghost\">|</span> \\n    Stars:\\n<a href=\"/name/nm0719637/?ref_=adv_li_st_0\">Jeremy Renner</a>, \\n<a href=\"/name/nm1159180/?ref_=adv_li_st_1\">Ed Helms</a>, \\n<a href=\"/name/nm2159926/?ref_=adv_li_st_2\">Jake Johnson</a>, \\n<a href=\"/name/nm0358316/?ref_=adv_li_st_3\">Jon Hamm</a>\\n</p>\\n<p class=\"sort-num_votes-visible\">\\n<span class=\"text-muted\">Votes:</span>\\n<span data-value=\"59340\" name=\"nv\">59,340</span>\\n<span class=\"ghost\">|</span> <span class=\"text-muted\">Gross:</span>\\n<span data-value=\"54,547,470\" name=\"nv\">$54.55M</span>\\n</p>\\n</div>\\n</div>\\n<div class=\"lister-item mode-advanced\">\\n<div class=\"lister-top-right\">\\n<div class=\"ribbonize\" data-caller=\"filmosearch\" data-tconst=\"tt3766354\"></div>\\n</div>\\n<div class=\"lister-item-image float-left\">\\n<a href=\"/title/tt3766354/?ref_=adv_li_i\"> <img alt=\"The Equalizer 2\" class=\"loadlate\" data-tconst=\"tt3766354\" height=\"98\" loadlate=\"https://m.media-amazon.com/images/M/MV5BMTU2OTYzODQyMF5BMl5BanBnXkFtZTgwNjU3Njk5NTM@._V1_UX67_CR0,0,67,98_AL_.jpg\" src=\"https://m.media-amazon.com/images/G/01/imdb/images/nopicture/large/film-184890147._CB470041630_.png\" width=\"67\"/>\\n</a> </div>\\n<div class=\"lister-item-content\">\\n<h3 class=\"lister-item-header\">\\n<span class=\"lister-item-index unbold text-primary\">37.</span>\\n<a href=\"/title/tt3766354/?ref_=adv_li_tt\">The Equalizer 2</a>\\n<span class=\"lister-item-year text-muted unbold\">(2018)</span>\\n</h3>\\n<p class=\"text-muted \">\\n<span class=\"certificate\">R</span>\\n<span class=\"ghost\">|</span>\\n<span class=\"runtime\">121 min</span>\\n<span class=\"ghost\">|</span>\\n<span class=\"genre\">\\nAction, Crime, Thriller            </span>\\n</p>\\n<div class=\"ratings-bar\">\\n<div class=\"inline-block ratings-imdb-rating\" data-value=\"6.8\" name=\"ir\">\\n<span class=\"global-sprite rating-star imdb-rating\"></span>\\n<strong>6.8</strong>\\n</div>\\n<div class=\"inline-block ratings-user-rating\">\\n<span class=\"userRatingValue\" data-tconst=\"tt3766354\" id=\"urv_tt3766354\">\\n<span class=\"global-sprite rating-star no-rating\"></span>\\n<span class=\"rate\" data-no-rating=\"Rate this\" data-value=\"0\" name=\"ur\">Rate this</span>\\n</span>\\n<div class=\"starBarWidget\" id=\"sb_tt3766354\">\\n<div class=\"rating rating-list\" data-auth=\"\" data-ga-identifier=\"\" data-starbar-class=\"rating-list\" data-user=\"\" id=\"tt3766354|imdb|6.8|6.8|||search|title\" itemprop=\"aggregateRating\" itemscope=\"\" itemtype=\"http://schema.org/AggregateRating\" title=\"Users rated this 6.8/10 (58,807 votes) - click stars to rate\">\\n<meta content=\"6.8\" itemprop=\"ratingValue\"/>\\n<meta content=\"10\" itemprop=\"bestRating\"/>\\n<meta content=\"58807\" itemprop=\"ratingCount\"/>\\n<span class=\"rating-bg\">\\xa0</span>\\n<span class=\"rating-imdb \" style=\"width: 95.2px\">\\xa0</span>\\n<span class=\"rating-stars\">\\n<a href=\"/register/login?why=vote&amp;ref_=tt_ov_rt\" rel=\"nofollow\" title=\"Register or login to rate this title\"><span>1</span></a>\\n<a href=\"/register/login?why=vote&amp;ref_=tt_ov_rt\" rel=\"nofollow\" title=\"Register or login to rate this title\"><span>2</span></a>\\n<a href=\"/register/login?why=vote&amp;ref_=tt_ov_rt\" rel=\"nofollow\" title=\"Register or login to rate this title\"><span>3</span></a>\\n<a href=\"/register/login?why=vote&amp;ref_=tt_ov_rt\" rel=\"nofollow\" title=\"Register or login to rate this title\"><span>4</span></a>\\n<a href=\"/register/login?why=vote&amp;ref_=tt_ov_rt\" rel=\"nofollow\" title=\"Register or login to rate this title\"><span>5</span></a>\\n<a href=\"/register/login?why=vote&amp;ref_=tt_ov_rt\" rel=\"nofollow\" title=\"Register or login to rate this title\"><span>6</span></a>\\n<a href=\"/register/login?why=vote&amp;ref_=tt_ov_rt\" rel=\"nofollow\" title=\"Register or login to rate this title\"><span>7</span></a>\\n<a href=\"/register/login?why=vote&amp;ref_=tt_ov_rt\" rel=\"nofollow\" title=\"Register or login to rate this title\"><span>8</span></a>\\n<a href=\"/register/login?why=vote&amp;ref_=tt_ov_rt\" rel=\"nofollow\" title=\"Register or login to rate this title\"><span>9</span></a>\\n<a href=\"/register/login?why=vote&amp;ref_=tt_ov_rt\" rel=\"nofollow\" title=\"Register or login to rate this title\"><span>10</span></a>\\n</span>\\n<span class=\"rating-rating \"><span class=\"value\">6.8</span><span class=\"grey\">/</span><span class=\"grey\">10</span></span>\\n<span class=\"rating-cancel \"><a href=\"/title/tt3766354/vote?v=X;k=\" rel=\"nofollow\" title=\"Delete\"><span>X</span></a></span>\\n\\xa0</div>\\n</div>\\n</div>\\n<div class=\"inline-block ratings-metascore\">\\n<span class=\"metascore mixed\">50        </span>\\n        Metascore\\n            </div>\\n</div>\\n<p class=\"text-muted\">\\n    Robert McCall serves an unflinching justice for the exploited and oppressed, but how far will he go when that is someone he loves?</p>\\n<p class=\"\">\\n    Director:\\n<a href=\"/name/nm0298807/?ref_=adv_li_dr_0\">Antoine Fuqua</a>\\n<span class=\"ghost\">|</span> \\n    Stars:\\n<a href=\"/name/nm0000243/?ref_=adv_li_st_0\">Denzel Washington</a>, \\n<a href=\"/name/nm0050959/?ref_=adv_li_st_1\">Pedro Pascal</a>, \\n<a href=\"/name/nm5480894/?ref_=adv_li_st_2\">Ashton Sanders</a>, \\n<a href=\"/name/nm0004730/?ref_=adv_li_st_3\">Orson Bean</a>\\n</p>\\n<p class=\"sort-num_votes-visible\">\\n<span class=\"text-muted\">Votes:</span>\\n<span data-value=\"58807\" name=\"nv\">58,807</span>\\n<span class=\"ghost\">|</span> <span class=\"text-muted\">Gross:</span>\\n<span data-value=\"102,084,362\" name=\"nv\">$102.08M</span>\\n</p>\\n</div>\\n</div>\\n<div class=\"lister-item mode-advanced\">\\n<div class=\"lister-top-right\">\\n<div class=\"ribbonize\" data-caller=\"filmosearch\" data-tconst=\"tt1259528\"></div>\\n</div>\\n<div class=\"lister-item-image float-left\">\\n<a href=\"/title/tt1259528/?ref_=adv_li_i\"> <img alt=\"Den of Thieves\" class=\"loadlate\" data-tconst=\"tt1259528\" height=\"98\" loadlate=\"https://m.media-amazon.com/images/M/MV5BMzYyODcwMDAyM15BMl5BanBnXkFtZTgwOTA4MjIwNDI@._V1_UX67_CR0,0,67,98_AL_.jpg\" src=\"https://m.media-amazon.com/images/G/01/imdb/images/nopicture/large/film-184890147._CB470041630_.png\" width=\"67\"/>\\n</a> </div>\\n<div class=\"lister-item-content\">\\n<h3 class=\"lister-item-header\">\\n<span class=\"lister-item-index unbold text-primary\">38.</span>\\n<a href=\"/title/tt1259528/?ref_=adv_li_tt\">Den of Thieves</a>\\n<span class=\"lister-item-year text-muted unbold\">(2018)</span>\\n</h3>\\n<p class=\"text-muted \">\\n<span class=\"certificate\">R</span>\\n<span class=\"ghost\">|</span>\\n<span class=\"runtime\">140 min</span>\\n<span class=\"ghost\">|</span>\\n<span class=\"genre\">\\nAction, Crime, Drama            </span>\\n</p>\\n<div class=\"ratings-bar\">\\n<div class=\"inline-block ratings-imdb-rating\" data-value=\"7\" name=\"ir\">\\n<span class=\"global-sprite rating-star imdb-rating\"></span>\\n<strong>7.0</strong>\\n</div>\\n<div class=\"inline-block ratings-user-rating\">\\n<span class=\"userRatingValue\" data-tconst=\"tt1259528\" id=\"urv_tt1259528\">\\n<span class=\"global-sprite rating-star no-rating\"></span>\\n<span class=\"rate\" data-no-rating=\"Rate this\" data-value=\"0\" name=\"ur\">Rate this</span>\\n</span>\\n<div class=\"starBarWidget\" id=\"sb_tt1259528\">\\n<div class=\"rating rating-list\" data-auth=\"\" data-ga-identifier=\"\" data-starbar-class=\"rating-list\" data-user=\"\" id=\"tt1259528|imdb|7|7|||search|title\" itemprop=\"aggregateRating\" itemscope=\"\" itemtype=\"http://schema.org/AggregateRating\" title=\"Users rated this 7/10 (57,760 votes) - click stars to rate\">\\n<meta content=\"7\" itemprop=\"ratingValue\"/>\\n<meta content=\"10\" itemprop=\"bestRating\"/>\\n<meta content=\"57760\" itemprop=\"ratingCount\"/>\\n<span class=\"rating-bg\">\\xa0</span>\\n<span class=\"rating-imdb \" style=\"width: 98px\">\\xa0</span>\\n<span class=\"rating-stars\">\\n<a href=\"/register/login?why=vote&amp;ref_=tt_ov_rt\" rel=\"nofollow\" title=\"Register or login to rate this title\"><span>1</span></a>\\n<a href=\"/register/login?why=vote&amp;ref_=tt_ov_rt\" rel=\"nofollow\" title=\"Register or login to rate this title\"><span>2</span></a>\\n<a href=\"/register/login?why=vote&amp;ref_=tt_ov_rt\" rel=\"nofollow\" title=\"Register or login to rate this title\"><span>3</span></a>\\n<a href=\"/register/login?why=vote&amp;ref_=tt_ov_rt\" rel=\"nofollow\" title=\"Register or login to rate this title\"><span>4</span></a>\\n<a href=\"/register/login?why=vote&amp;ref_=tt_ov_rt\" rel=\"nofollow\" title=\"Register or login to rate this title\"><span>5</span></a>\\n<a href=\"/register/login?why=vote&amp;ref_=tt_ov_rt\" rel=\"nofollow\" title=\"Register or login to rate this title\"><span>6</span></a>\\n<a href=\"/register/login?why=vote&amp;ref_=tt_ov_rt\" rel=\"nofollow\" title=\"Register or login to rate this title\"><span>7</span></a>\\n<a href=\"/register/login?why=vote&amp;ref_=tt_ov_rt\" rel=\"nofollow\" title=\"Register or login to rate this title\"><span>8</span></a>\\n<a href=\"/register/login?why=vote&amp;ref_=tt_ov_rt\" rel=\"nofollow\" title=\"Register or login to rate this title\"><span>9</span></a>\\n<a href=\"/register/login?why=vote&amp;ref_=tt_ov_rt\" rel=\"nofollow\" title=\"Register or login to rate this title\"><span>10</span></a>\\n</span>\\n<span class=\"rating-rating \"><span class=\"value\">7</span><span class=\"grey\">/</span><span class=\"grey\">10</span></span>\\n<span class=\"rating-cancel \"><a href=\"/title/tt1259528/vote?v=X;k=\" rel=\"nofollow\" title=\"Delete\"><span>X</span></a></span>\\n\\xa0</div>\\n</div>\\n</div>\\n<div class=\"inline-block ratings-metascore\">\\n<span class=\"metascore mixed\">49        </span>\\n        Metascore\\n            </div>\\n</div>\\n<p class=\"text-muted\">\\n    A gritty crime saga which follows the lives of an elite unit of the LA County Sheriff's Dept. and the state's most successful bank robbery crew as the outlaws plan a seemingly impossible heist on the Federal Reserve Bank.</p>\\n<p class=\"\">\\n    Director:\\n<a href=\"/name/nm0345615/?ref_=adv_li_dr_0\">Christian Gudegast</a>\\n<span class=\"ghost\">|</span> \\n    Stars:\\n<a href=\"/name/nm0124930/?ref_=adv_li_st_0\">Gerard Butler</a>, \\n<a href=\"/name/nm1032567/?ref_=adv_li_st_1\">Pablo Schreiber</a>, \\n<a href=\"/name/nm6578009/?ref_=adv_li_st_2\">O'Shea Jackson Jr.</a>, \\n<a href=\"/name/nm1265067/?ref_=adv_li_st_3\">50 Cent</a>\\n</p>\\n<p class=\"sort-num_votes-visible\">\\n<span class=\"text-muted\">Votes:</span>\\n<span data-value=\"57760\" name=\"nv\">57,760</span>\\n<span class=\"ghost\">|</span> <span class=\"text-muted\">Gross:</span>\\n<span data-value=\"44,947,622\" name=\"nv\">$44.95M</span>\\n</p>\\n</div>\\n</div>\\n<div class=\"lister-item mode-advanced\">\\n<div class=\"lister-top-right\">\\n<div class=\"ribbonize\" data-caller=\"filmosearch\" data-tconst=\"tt1213641\"></div>\\n</div>\\n<div class=\"lister-item-image float-left\">\\n<a href=\"/title/tt1213641/?ref_=adv_li_i\"> <img alt=\"First Man\" class=\"loadlate\" data-tconst=\"tt1213641\" height=\"98\" loadlate=\"https://m.media-amazon.com/images/M/MV5BMDBhOTMxN2UtYjllYS00NWNiLWE1MzAtZjg3NmExODliMDQ0XkEyXkFqcGdeQXVyMjMxOTE0ODA@._V1_UX67_CR0,0,67,98_AL_.jpg\" src=\"https://m.media-amazon.com/images/G/01/imdb/images/nopicture/large/film-184890147._CB470041630_.png\" width=\"67\"/>\\n</a> </div>\\n<div class=\"lister-item-content\">\\n<h3 class=\"lister-item-header\">\\n<span class=\"lister-item-index unbold text-primary\">39.</span>\\n<a href=\"/title/tt1213641/?ref_=adv_li_tt\">First Man</a>\\n<span class=\"lister-item-year text-muted unbold\">(2018)</span>\\n</h3>\\n<p class=\"text-muted \">\\n<span class=\"certificate\">PG-13</span>\\n<span class=\"ghost\">|</span>\\n<span class=\"runtime\">141 min</span>\\n<span class=\"ghost\">|</span>\\n<span class=\"genre\">\\nBiography, Drama, History            </span>\\n</p>\\n<div class=\"ratings-bar\">\\n<div class=\"inline-block ratings-imdb-rating\" data-value=\"7.6\" name=\"ir\">\\n<span class=\"global-sprite rating-star imdb-rating\"></span>\\n<strong>7.6</strong>\\n</div>\\n<div class=\"inline-block ratings-user-rating\">\\n<span class=\"userRatingValue\" data-tconst=\"tt1213641\" id=\"urv_tt1213641\">\\n<span class=\"global-sprite rating-star no-rating\"></span>\\n<span class=\"rate\" data-no-rating=\"Rate this\" data-value=\"0\" name=\"ur\">Rate this</span>\\n</span>\\n<div class=\"starBarWidget\" id=\"sb_tt1213641\">\\n<div class=\"rating rating-list\" data-auth=\"\" data-ga-identifier=\"\" data-starbar-class=\"rating-list\" data-user=\"\" id=\"tt1213641|imdb|7.6|7.6|||search|title\" itemprop=\"aggregateRating\" itemscope=\"\" itemtype=\"http://schema.org/AggregateRating\" title=\"Users rated this 7.6/10 (54,310 votes) - click stars to rate\">\\n<meta content=\"7.6\" itemprop=\"ratingValue\"/>\\n<meta content=\"10\" itemprop=\"bestRating\"/>\\n<meta content=\"54310\" itemprop=\"ratingCount\"/>\\n<span class=\"rating-bg\">\\xa0</span>\\n<span class=\"rating-imdb \" style=\"width: 106.4px\">\\xa0</span>\\n<span class=\"rating-stars\">\\n<a href=\"/register/login?why=vote&amp;ref_=tt_ov_rt\" rel=\"nofollow\" title=\"Register or login to rate this title\"><span>1</span></a>\\n<a href=\"/register/login?why=vote&amp;ref_=tt_ov_rt\" rel=\"nofollow\" title=\"Register or login to rate this title\"><span>2</span></a>\\n<a href=\"/register/login?why=vote&amp;ref_=tt_ov_rt\" rel=\"nofollow\" title=\"Register or login to rate this title\"><span>3</span></a>\\n<a href=\"/register/login?why=vote&amp;ref_=tt_ov_rt\" rel=\"nofollow\" title=\"Register or login to rate this title\"><span>4</span></a>\\n<a href=\"/register/login?why=vote&amp;ref_=tt_ov_rt\" rel=\"nofollow\" title=\"Register or login to rate this title\"><span>5</span></a>\\n<a href=\"/register/login?why=vote&amp;ref_=tt_ov_rt\" rel=\"nofollow\" title=\"Register or login to rate this title\"><span>6</span></a>\\n<a href=\"/register/login?why=vote&amp;ref_=tt_ov_rt\" rel=\"nofollow\" title=\"Register or login to rate this title\"><span>7</span></a>\\n<a href=\"/register/login?why=vote&amp;ref_=tt_ov_rt\" rel=\"nofollow\" title=\"Register or login to rate this title\"><span>8</span></a>\\n<a href=\"/register/login?why=vote&amp;ref_=tt_ov_rt\" rel=\"nofollow\" title=\"Register or login to rate this title\"><span>9</span></a>\\n<a href=\"/register/login?why=vote&amp;ref_=tt_ov_rt\" rel=\"nofollow\" title=\"Register or login to rate this title\"><span>10</span></a>\\n</span>\\n<span class=\"rating-rating \"><span class=\"value\">7.6</span><span class=\"grey\">/</span><span class=\"grey\">10</span></span>\\n<span class=\"rating-cancel \"><a href=\"/title/tt1213641/vote?v=X;k=\" rel=\"nofollow\" title=\"Delete\"><span>X</span></a></span>\\n\\xa0</div>\\n</div>\\n</div>\\n<div class=\"inline-block ratings-metascore\">\\n<span class=\"metascore favorable\">84        </span>\\n        Metascore\\n            </div>\\n</div>\\n<p class=\"text-muted\">\\n    A look at the life of the astronaut, <a href=\"/name/nm0035842\">Neil Armstrong</a>, and the legendary space mission that led him to become the first man to walk on the Moon on July 20, 1969.</p>\\n<p class=\"\">\\n    Director:\\n<a href=\"/name/nm3227090/?ref_=adv_li_dr_0\">Damien Chazelle</a>\\n<span class=\"ghost\">|</span> \\n    Stars:\\n<a href=\"/name/nm0331516/?ref_=adv_li_st_0\">Ryan Gosling</a>, \\n<a href=\"/name/nm2946516/?ref_=adv_li_st_1\">Claire Foy</a>, \\n<a href=\"/name/nm0164809/?ref_=adv_li_st_2\">Jason Clarke</a>, \\n<a href=\"/name/nm0151419/?ref_=adv_li_st_3\">Kyle Chandler</a>\\n</p>\\n<p class=\"sort-num_votes-visible\">\\n<span class=\"text-muted\">Votes:</span>\\n<span data-value=\"54310\" name=\"nv\">54,310</span>\\n<span class=\"ghost\">|</span> <span class=\"text-muted\">Gross:</span>\\n<span data-value=\"44,607,615\" name=\"nv\">$44.61M</span>\\n</p>\\n</div>\\n</div>\\n<div class=\"lister-item mode-advanced\">\\n<div class=\"lister-top-right\">\\n<div class=\"ribbonize\" data-caller=\"filmosearch\" data-tconst=\"tt3829266\"></div>\\n</div>\\n<div class=\"lister-item-image float-left\">\\n<a href=\"/title/tt3829266/?ref_=adv_li_i\"> <img alt=\"The Predator\" class=\"loadlate\" data-tconst=\"tt3829266\" height=\"98\" loadlate=\"https://m.media-amazon.com/images/M/MV5BMjM5MDk2NDIxMF5BMl5BanBnXkFtZTgwNjU5NDk3NTM@._V1_UX67_CR0,0,67,98_AL_.jpg\" src=\"https://m.media-amazon.com/images/G/01/imdb/images/nopicture/large/film-184890147._CB470041630_.png\" width=\"67\"/>\\n</a> </div>\\n<div class=\"lister-item-content\">\\n<h3 class=\"lister-item-header\">\\n<span class=\"lister-item-index unbold text-primary\">40.</span>\\n<a href=\"/title/tt3829266/?ref_=adv_li_tt\">The Predator</a>\\n<span class=\"lister-item-year text-muted unbold\">(2018)</span>\\n</h3>\\n<p class=\"text-muted \">\\n<span class=\"certificate\">R</span>\\n<span class=\"ghost\">|</span>\\n<span class=\"runtime\">107 min</span>\\n<span class=\"ghost\">|</span>\\n<span class=\"genre\">\\nAction, Adventure, Horror            </span>\\n</p>\\n<div class=\"ratings-bar\">\\n<div class=\"inline-block ratings-imdb-rating\" data-value=\"5.6\" name=\"ir\">\\n<span class=\"global-sprite rating-star imdb-rating\"></span>\\n<strong>5.6</strong>\\n</div>\\n<div class=\"inline-block ratings-user-rating\">\\n<span class=\"userRatingValue\" data-tconst=\"tt3829266\" id=\"urv_tt3829266\">\\n<span class=\"global-sprite rating-star no-rating\"></span>\\n<span class=\"rate\" data-no-rating=\"Rate this\" data-value=\"0\" name=\"ur\">Rate this</span>\\n</span>\\n<div class=\"starBarWidget\" id=\"sb_tt3829266\">\\n<div class=\"rating rating-list\" data-auth=\"\" data-ga-identifier=\"\" data-starbar-class=\"rating-list\" data-user=\"\" id=\"tt3829266|imdb|5.6|5.6|||search|title\" itemprop=\"aggregateRating\" itemscope=\"\" itemtype=\"http://schema.org/AggregateRating\" title=\"Users rated this 5.6/10 (51,897 votes) - click stars to rate\">\\n<meta content=\"5.6\" itemprop=\"ratingValue\"/>\\n<meta content=\"10\" itemprop=\"bestRating\"/>\\n<meta content=\"51897\" itemprop=\"ratingCount\"/>\\n<span class=\"rating-bg\">\\xa0</span>\\n<span class=\"rating-imdb \" style=\"width: 78.4px\">\\xa0</span>\\n<span class=\"rating-stars\">\\n<a href=\"/register/login?why=vote&amp;ref_=tt_ov_rt\" rel=\"nofollow\" title=\"Register or login to rate this title\"><span>1</span></a>\\n<a href=\"/register/login?why=vote&amp;ref_=tt_ov_rt\" rel=\"nofollow\" title=\"Register or login to rate this title\"><span>2</span></a>\\n<a href=\"/register/login?why=vote&amp;ref_=tt_ov_rt\" rel=\"nofollow\" title=\"Register or login to rate this title\"><span>3</span></a>\\n<a href=\"/register/login?why=vote&amp;ref_=tt_ov_rt\" rel=\"nofollow\" title=\"Register or login to rate this title\"><span>4</span></a>\\n<a href=\"/register/login?why=vote&amp;ref_=tt_ov_rt\" rel=\"nofollow\" title=\"Register or login to rate this title\"><span>5</span></a>\\n<a href=\"/register/login?why=vote&amp;ref_=tt_ov_rt\" rel=\"nofollow\" title=\"Register or login to rate this title\"><span>6</span></a>\\n<a href=\"/register/login?why=vote&amp;ref_=tt_ov_rt\" rel=\"nofollow\" title=\"Register or login to rate this title\"><span>7</span></a>\\n<a href=\"/register/login?why=vote&amp;ref_=tt_ov_rt\" rel=\"nofollow\" title=\"Register or login to rate this title\"><span>8</span></a>\\n<a href=\"/register/login?why=vote&amp;ref_=tt_ov_rt\" rel=\"nofollow\" title=\"Register or login to rate this title\"><span>9</span></a>\\n<a href=\"/register/login?why=vote&amp;ref_=tt_ov_rt\" rel=\"nofollow\" title=\"Register or login to rate this title\"><span>10</span></a>\\n</span>\\n<span class=\"rating-rating \"><span class=\"value\">5.6</span><span class=\"grey\">/</span><span class=\"grey\">10</span></span>\\n<span class=\"rating-cancel \"><a href=\"/title/tt3829266/vote?v=X;k=\" rel=\"nofollow\" title=\"Delete\"><span>X</span></a></span>\\n\\xa0</div>\\n</div>\\n</div>\\n<div class=\"inline-block ratings-metascore\">\\n<span class=\"metascore mixed\">48        </span>\\n        Metascore\\n            </div>\\n</div>\\n<p class=\"text-muted\">\\n    When a young boy accidentally triggers the universe's most lethal hunters' return to Earth, only a ragtag crew of ex-soldiers and a disgruntled scientist can prevent the end of the human race.</p>\\n<p class=\"\">\\n    Director:\\n<a href=\"/name/nm0000948/?ref_=adv_li_dr_0\">Shane Black</a>\\n<span class=\"ghost\">|</span> \\n    Stars:\\n<a href=\"/name/nm2933542/?ref_=adv_li_st_0\">Boyd Holbrook</a>, \\n<a href=\"/name/nm5218990/?ref_=adv_li_st_1\">Trevante Rhodes</a>, \\n<a href=\"/name/nm5016878/?ref_=adv_li_st_2\">Jacob Tremblay</a>, \\n<a href=\"/name/nm1221047/?ref_=adv_li_st_3\">Keegan-Michael Key</a>\\n</p>\\n<p class=\"sort-num_votes-visible\">\\n<span class=\"text-muted\">Votes:</span>\\n<span data-value=\"51897\" name=\"nv\">51,897</span>\\n<span class=\"ghost\">|</span> <span class=\"text-muted\">Gross:</span>\\n<span data-value=\"51,024,708\" name=\"nv\">$51.02M</span>\\n</p>\\n</div>\\n</div>\\n<div class=\"lister-item mode-advanced\">\\n<div class=\"lister-top-right\">\\n<div class=\"ribbonize\" data-caller=\"filmosearch\" data-tconst=\"tt1502407\"></div>\\n</div>\\n<div class=\"lister-item-image float-left\">\\n<a href=\"/title/tt1502407/?ref_=adv_li_i\"> <img alt=\"Halloween\" class=\"loadlate\" data-tconst=\"tt1502407\" height=\"98\" loadlate=\"https://m.media-amazon.com/images/M/MV5BMmMzNjJhYjUtNzFkZi00MWQ4LWJiMDEtYWM0NTAzNGZjMTI3XkEyXkFqcGdeQXVyOTE2OTMwNDk@._V1_UX67_CR0,0,67,98_AL_.jpg\" src=\"https://m.media-amazon.com/images/G/01/imdb/images/nopicture/large/film-184890147._CB470041630_.png\" width=\"67\"/>\\n</a> </div>\\n<div class=\"lister-item-content\">\\n<h3 class=\"lister-item-header\">\\n<span class=\"lister-item-index unbold text-primary\">41.</span>\\n<a href=\"/title/tt1502407/?ref_=adv_li_tt\">Halloween</a>\\n<span class=\"lister-item-year text-muted unbold\">(I) (2018)</span>\\n</h3>\\n<p class=\"text-muted \">\\n<span class=\"certificate\">R</span>\\n<span class=\"ghost\">|</span>\\n<span class=\"runtime\">106 min</span>\\n<span class=\"ghost\">|</span>\\n<span class=\"genre\">\\nHorror, Thriller            </span>\\n</p>\\n<div class=\"ratings-bar\">\\n<div class=\"inline-block ratings-imdb-rating\" data-value=\"7\" name=\"ir\">\\n<span class=\"global-sprite rating-star imdb-rating\"></span>\\n<strong>7.0</strong>\\n</div>\\n<div class=\"inline-block ratings-user-rating\">\\n<span class=\"userRatingValue\" data-tconst=\"tt1502407\" id=\"urv_tt1502407\">\\n<span class=\"global-sprite rating-star no-rating\"></span>\\n<span class=\"rate\" data-no-rating=\"Rate this\" data-value=\"0\" name=\"ur\">Rate this</span>\\n</span>\\n<div class=\"starBarWidget\" id=\"sb_tt1502407\">\\n<div class=\"rating rating-list\" data-auth=\"\" data-ga-identifier=\"\" data-starbar-class=\"rating-list\" data-user=\"\" id=\"tt1502407|imdb|7|7|||search|title\" itemprop=\"aggregateRating\" itemscope=\"\" itemtype=\"http://schema.org/AggregateRating\" title=\"Users rated this 7/10 (50,705 votes) - click stars to rate\">\\n<meta content=\"7\" itemprop=\"ratingValue\"/>\\n<meta content=\"10\" itemprop=\"bestRating\"/>\\n<meta content=\"50705\" itemprop=\"ratingCount\"/>\\n<span class=\"rating-bg\">\\xa0</span>\\n<span class=\"rating-imdb \" style=\"width: 98px\">\\xa0</span>\\n<span class=\"rating-stars\">\\n<a href=\"/register/login?why=vote&amp;ref_=tt_ov_rt\" rel=\"nofollow\" title=\"Register or login to rate this title\"><span>1</span></a>\\n<a href=\"/register/login?why=vote&amp;ref_=tt_ov_rt\" rel=\"nofollow\" title=\"Register or login to rate this title\"><span>2</span></a>\\n<a href=\"/register/login?why=vote&amp;ref_=tt_ov_rt\" rel=\"nofollow\" title=\"Register or login to rate this title\"><span>3</span></a>\\n<a href=\"/register/login?why=vote&amp;ref_=tt_ov_rt\" rel=\"nofollow\" title=\"Register or login to rate this title\"><span>4</span></a>\\n<a href=\"/register/login?why=vote&amp;ref_=tt_ov_rt\" rel=\"nofollow\" title=\"Register or login to rate this title\"><span>5</span></a>\\n<a href=\"/register/login?why=vote&amp;ref_=tt_ov_rt\" rel=\"nofollow\" title=\"Register or login to rate this title\"><span>6</span></a>\\n<a href=\"/register/login?why=vote&amp;ref_=tt_ov_rt\" rel=\"nofollow\" title=\"Register or login to rate this title\"><span>7</span></a>\\n<a href=\"/register/login?why=vote&amp;ref_=tt_ov_rt\" rel=\"nofollow\" title=\"Register or login to rate this title\"><span>8</span></a>\\n<a href=\"/register/login?why=vote&amp;ref_=tt_ov_rt\" rel=\"nofollow\" title=\"Register or login to rate this title\"><span>9</span></a>\\n<a href=\"/register/login?why=vote&amp;ref_=tt_ov_rt\" rel=\"nofollow\" title=\"Register or login to rate this title\"><span>10</span></a>\\n</span>\\n<span class=\"rating-rating \"><span class=\"value\">7</span><span class=\"grey\">/</span><span class=\"grey\">10</span></span>\\n<span class=\"rating-cancel \"><a href=\"/title/tt1502407/vote?v=X;k=\" rel=\"nofollow\" title=\"Delete\"><span>X</span></a></span>\\n\\xa0</div>\\n</div>\\n</div>\\n<div class=\"inline-block ratings-metascore\">\\n<span class=\"metascore favorable\">67        </span>\\n        Metascore\\n            </div>\\n</div>\\n<p class=\"text-muted\">\\n    Laurie Strode confronts her long-time foe Michael Myers, the masked figure who has haunted her since she narrowly escaped his killing spree on Halloween night four decades ago.</p>\\n<p class=\"\">\\n    Director:\\n<a href=\"/name/nm0337773/?ref_=adv_li_dr_0\">David Gordon Green</a>\\n<span class=\"ghost\">|</span> \\n    Stars:\\n<a href=\"/name/nm0000130/?ref_=adv_li_st_0\">Jamie Lee Curtis</a>, \\n<a href=\"/name/nm0339460/?ref_=adv_li_st_1\">Judy Greer</a>, \\n<a href=\"/name/nm5506858/?ref_=adv_li_st_2\">Andi Matichak</a>, \\n<a href=\"/name/nm0183921/?ref_=adv_li_st_3\">James Jude Courtney</a>\\n</p>\\n<p class=\"sort-num_votes-visible\">\\n<span class=\"text-muted\">Votes:</span>\\n<span data-value=\"50705\" name=\"nv\">50,705</span>\\n<span class=\"ghost\">|</span> <span class=\"text-muted\">Gross:</span>\\n<span data-value=\"159,136,450\" name=\"nv\">$159.14M</span>\\n</p>\\n</div>\\n</div>\\n<div class=\"lister-item mode-advanced\">\\n<div class=\"lister-top-right\">\\n<div class=\"ribbonize\" data-caller=\"filmosearch\" data-tconst=\"tt7668842\"></div>\\n</div>\\n<div class=\"lister-item-image float-left\">\\n<a href=\"/title/tt7668842/?ref_=adv_li_i\"> <img alt=\"Enes Batur Hayal mi Ger\\xe7ek mi?\" class=\"loadlate\" data-tconst=\"tt7668842\" height=\"98\" loadlate=\"https://m.media-amazon.com/images/M/MV5BZWVjMjA2NjctMDU0Zi00ZTkwLTg4NTItYjg2OGYzMmY1Zjg4XkEyXkFqcGdeQXVyNTM5NjkxMzM@._V1_UY98_CR3,0,67,98_AL_.jpg\" src=\"https://m.media-amazon.com/images/G/01/imdb/images/nopicture/large/film-184890147._CB470041630_.png\" width=\"67\"/>\\n</a> </div>\\n<div class=\"lister-item-content\">\\n<h3 class=\"lister-item-header\">\\n<span class=\"lister-item-index unbold text-primary\">42.</span>\\n<a href=\"/title/tt7668842/?ref_=adv_li_tt\">Enes Batur Hayal mi Ger\\xe7ek mi?</a>\\n<span class=\"lister-item-year text-muted unbold\">(2018)</span>\\n</h3>\\n<p class=\"text-muted \">\\n<span class=\"runtime\">110 min</span>\\n<span class=\"ghost\">|</span>\\n<span class=\"genre\">\\nComedy            </span>\\n</p>\\n<div class=\"ratings-bar\">\\n<div class=\"inline-block ratings-imdb-rating\" data-value=\"5.9\" name=\"ir\">\\n<span class=\"global-sprite rating-star imdb-rating\"></span>\\n<strong>5.9</strong>\\n</div>\\n<div class=\"inline-block ratings-user-rating\">\\n<span class=\"userRatingValue\" data-tconst=\"tt7668842\" id=\"urv_tt7668842\">\\n<span class=\"global-sprite rating-star no-rating\"></span>\\n<span class=\"rate\" data-no-rating=\"Rate this\" data-value=\"0\" name=\"ur\">Rate this</span>\\n</span>\\n<div class=\"starBarWidget\" id=\"sb_tt7668842\">\\n<div class=\"rating rating-list\" data-auth=\"\" data-ga-identifier=\"\" data-starbar-class=\"rating-list\" data-user=\"\" id=\"tt7668842|imdb|5.9|5.9|||search|title\" itemprop=\"aggregateRating\" itemscope=\"\" itemtype=\"http://schema.org/AggregateRating\" title=\"Users rated this 5.9/10 (50,485 votes) - click stars to rate\">\\n<meta content=\"5.9\" itemprop=\"ratingValue\"/>\\n<meta content=\"10\" itemprop=\"bestRating\"/>\\n<meta content=\"50485\" itemprop=\"ratingCount\"/>\\n<span class=\"rating-bg\">\\xa0</span>\\n<span class=\"rating-imdb \" style=\"width: 82.6px\">\\xa0</span>\\n<span class=\"rating-stars\">\\n<a href=\"/register/login?why=vote&amp;ref_=tt_ov_rt\" rel=\"nofollow\" title=\"Register or login to rate this title\"><span>1</span></a>\\n<a href=\"/register/login?why=vote&amp;ref_=tt_ov_rt\" rel=\"nofollow\" title=\"Register or login to rate this title\"><span>2</span></a>\\n<a href=\"/register/login?why=vote&amp;ref_=tt_ov_rt\" rel=\"nofollow\" title=\"Register or login to rate this title\"><span>3</span></a>\\n<a href=\"/register/login?why=vote&amp;ref_=tt_ov_rt\" rel=\"nofollow\" title=\"Register or login to rate this title\"><span>4</span></a>\\n<a href=\"/register/login?why=vote&amp;ref_=tt_ov_rt\" rel=\"nofollow\" title=\"Register or login to rate this title\"><span>5</span></a>\\n<a href=\"/register/login?why=vote&amp;ref_=tt_ov_rt\" rel=\"nofollow\" title=\"Register or login to rate this title\"><span>6</span></a>\\n<a href=\"/register/login?why=vote&amp;ref_=tt_ov_rt\" rel=\"nofollow\" title=\"Register or login to rate this title\"><span>7</span></a>\\n<a href=\"/register/login?why=vote&amp;ref_=tt_ov_rt\" rel=\"nofollow\" title=\"Register or login to rate this title\"><span>8</span></a>\\n<a href=\"/register/login?why=vote&amp;ref_=tt_ov_rt\" rel=\"nofollow\" title=\"Register or login to rate this title\"><span>9</span></a>\\n<a href=\"/register/login?why=vote&amp;ref_=tt_ov_rt\" rel=\"nofollow\" title=\"Register or login to rate this title\"><span>10</span></a>\\n</span>\\n<span class=\"rating-rating \"><span class=\"value\">5.9</span><span class=\"grey\">/</span><span class=\"grey\">10</span></span>\\n<span class=\"rating-cancel \"><a href=\"/title/tt7668842/vote?v=X;k=\" rel=\"nofollow\" title=\"Delete\"><span>X</span></a></span>\\n\\xa0</div>\\n</div>\\n</div>\\n</div>\\n<p class=\"text-muted\">\\n    Enes Batur has to decide between going to college or being a professional Youtuber.</p>\\n<p class=\"\">\\n    Director:\\n<a href=\"/name/nm0149131/?ref_=adv_li_dr_0\">Kamil Cetin</a>\\n<span class=\"ghost\">|</span> \\n    Stars:\\n<a href=\"/name/nm9442261/?ref_=adv_li_st_0\">Enes Batur</a>, \\n<a href=\"/name/nm9442262/?ref_=adv_li_st_1\">Bilal Hanci</a>, \\n<a href=\"/name/nm9442263/?ref_=adv_li_st_2\">Atakan \\xd6zyurt</a>, \\n<a href=\"/name/nm5679763/?ref_=adv_li_st_3\">Fatih Yasin</a>\\n</p>\\n<p class=\"sort-num_votes-visible\">\\n<span class=\"text-muted\">Votes:</span>\\n<span data-value=\"50485\" name=\"nv\">50,485</span>\\n</p>\\n</div>\\n</div>\\n<div class=\"lister-item mode-advanced\">\\n<div class=\"lister-top-right\">\\n<div class=\"ribbonize\" data-caller=\"filmosearch\" data-tconst=\"tt3104988\"></div>\\n</div>\\n<div class=\"lister-item-image float-left\">\\n<a href=\"/title/tt3104988/?ref_=adv_li_i\"> <img alt=\"Crazy Rich Asians\" class=\"loadlate\" data-tconst=\"tt3104988\" height=\"98\" loadlate=\"https://m.media-amazon.com/images/M/MV5BMTYxNDMyOTAxN15BMl5BanBnXkFtZTgwMDg1ODYzNTM@._V1_UX67_CR0,0,67,98_AL_.jpg\" src=\"https://m.media-amazon.com/images/G/01/imdb/images/nopicture/large/film-184890147._CB470041630_.png\" width=\"67\"/>\\n</a> </div>\\n<div class=\"lister-item-content\">\\n<h3 class=\"lister-item-header\">\\n<span class=\"lister-item-index unbold text-primary\">43.</span>\\n<a href=\"/title/tt3104988/?ref_=adv_li_tt\">Crazy Rich Asians</a>\\n<span class=\"lister-item-year text-muted unbold\">(2018)</span>\\n</h3>\\n<p class=\"text-muted \">\\n<span class=\"certificate\">PG-13</span>\\n<span class=\"ghost\">|</span>\\n<span class=\"runtime\">120 min</span>\\n<span class=\"ghost\">|</span>\\n<span class=\"genre\">\\nComedy, Romance            </span>\\n</p>\\n<div class=\"ratings-bar\">\\n<div class=\"inline-block ratings-imdb-rating\" data-value=\"7.2\" name=\"ir\">\\n<span class=\"global-sprite rating-star imdb-rating\"></span>\\n<strong>7.2</strong>\\n</div>\\n<div class=\"inline-block ratings-user-rating\">\\n<span class=\"userRatingValue\" data-tconst=\"tt3104988\" id=\"urv_tt3104988\">\\n<span class=\"global-sprite rating-star no-rating\"></span>\\n<span class=\"rate\" data-no-rating=\"Rate this\" data-value=\"0\" name=\"ur\">Rate this</span>\\n</span>\\n<div class=\"starBarWidget\" id=\"sb_tt3104988\">\\n<div class=\"rating rating-list\" data-auth=\"\" data-ga-identifier=\"\" data-starbar-class=\"rating-list\" data-user=\"\" id=\"tt3104988|imdb|7.2|7.2|||search|title\" itemprop=\"aggregateRating\" itemscope=\"\" itemtype=\"http://schema.org/AggregateRating\" title=\"Users rated this 7.2/10 (49,782 votes) - click stars to rate\">\\n<meta content=\"7.2\" itemprop=\"ratingValue\"/>\\n<meta content=\"10\" itemprop=\"bestRating\"/>\\n<meta content=\"49782\" itemprop=\"ratingCount\"/>\\n<span class=\"rating-bg\">\\xa0</span>\\n<span class=\"rating-imdb \" style=\"width: 100.8px\">\\xa0</span>\\n<span class=\"rating-stars\">\\n<a href=\"/register/login?why=vote&amp;ref_=tt_ov_rt\" rel=\"nofollow\" title=\"Register or login to rate this title\"><span>1</span></a>\\n<a href=\"/register/login?why=vote&amp;ref_=tt_ov_rt\" rel=\"nofollow\" title=\"Register or login to rate this title\"><span>2</span></a>\\n<a href=\"/register/login?why=vote&amp;ref_=tt_ov_rt\" rel=\"nofollow\" title=\"Register or login to rate this title\"><span>3</span></a>\\n<a href=\"/register/login?why=vote&amp;ref_=tt_ov_rt\" rel=\"nofollow\" title=\"Register or login to rate this title\"><span>4</span></a>\\n<a href=\"/register/login?why=vote&amp;ref_=tt_ov_rt\" rel=\"nofollow\" title=\"Register or login to rate this title\"><span>5</span></a>\\n<a href=\"/register/login?why=vote&amp;ref_=tt_ov_rt\" rel=\"nofollow\" title=\"Register or login to rate this title\"><span>6</span></a>\\n<a href=\"/register/login?why=vote&amp;ref_=tt_ov_rt\" rel=\"nofollow\" title=\"Register or login to rate this title\"><span>7</span></a>\\n<a href=\"/register/login?why=vote&amp;ref_=tt_ov_rt\" rel=\"nofollow\" title=\"Register or login to rate this title\"><span>8</span></a>\\n<a href=\"/register/login?why=vote&amp;ref_=tt_ov_rt\" rel=\"nofollow\" title=\"Register or login to rate this title\"><span>9</span></a>\\n<a href=\"/register/login?why=vote&amp;ref_=tt_ov_rt\" rel=\"nofollow\" title=\"Register or login to rate this title\"><span>10</span></a>\\n</span>\\n<span class=\"rating-rating \"><span class=\"value\">7.2</span><span class=\"grey\">/</span><span class=\"grey\">10</span></span>\\n<span class=\"rating-cancel \"><a href=\"/title/tt3104988/vote?v=X;k=\" rel=\"nofollow\" title=\"Delete\"><span>X</span></a></span>\\n\\xa0</div>\\n</div>\\n</div>\\n<div class=\"inline-block ratings-metascore\">\\n<span class=\"metascore favorable\">74        </span>\\n        Metascore\\n            </div>\\n</div>\\n<p class=\"text-muted\">\\n    This contemporary romantic comedy, based on a global bestseller, follows native New Yorker Rachel Chu to Singapore to meet her boyfriend's family.</p>\\n<p class=\"\">\\n    Director:\\n<a href=\"/name/nm0160840/?ref_=adv_li_dr_0\">Jon M. Chu</a>\\n<span class=\"ghost\">|</span> \\n    Stars:\\n<a href=\"/name/nm2090422/?ref_=adv_li_st_0\">Constance Wu</a>, \\n<a href=\"/name/nm6525901/?ref_=adv_li_st_1\">Henry Golding</a>, \\n<a href=\"/name/nm0000706/?ref_=adv_li_st_2\">Michelle Yeoh</a>, \\n<a href=\"/name/nm2110418/?ref_=adv_li_st_3\">Gemma Chan</a>\\n</p>\\n<p class=\"sort-num_votes-visible\">\\n<span class=\"text-muted\">Votes:</span>\\n<span data-value=\"49782\" name=\"nv\">49,782</span>\\n<span class=\"ghost\">|</span> <span class=\"text-muted\">Gross:</span>\\n<span data-value=\"173,907,689\" name=\"nv\">$173.91M</span>\\n</p>\\n</div>\\n</div>\\n<div class=\"lister-item mode-advanced\">\\n<div class=\"lister-top-right\">\\n<div class=\"ribbonize\" data-caller=\"filmosearch\" data-tconst=\"tt7668870\"></div>\\n</div>\\n<div class=\"lister-item-image float-left\">\\n<a href=\"/title/tt7668870/?ref_=adv_li_i\"> <img alt=\"Searching\" class=\"loadlate\" data-tconst=\"tt7668870\" height=\"98\" loadlate=\"https://m.media-amazon.com/images/M/MV5BMjIwOTA3NDI3MF5BMl5BanBnXkFtZTgwNzIzMzA5NTM@._V1_UX67_CR0,0,67,98_AL_.jpg\" src=\"https://m.media-amazon.com/images/G/01/imdb/images/nopicture/large/film-184890147._CB470041630_.png\" width=\"67\"/>\\n</a> </div>\\n<div class=\"lister-item-content\">\\n<h3 class=\"lister-item-header\">\\n<span class=\"lister-item-index unbold text-primary\">44.</span>\\n<a href=\"/title/tt7668870/?ref_=adv_li_tt\">Searching</a>\\n<span class=\"lister-item-year text-muted unbold\">(III) (2018)</span>\\n</h3>\\n<p class=\"text-muted \">\\n<span class=\"certificate\">PG-13</span>\\n<span class=\"ghost\">|</span>\\n<span class=\"runtime\">102 min</span>\\n<span class=\"ghost\">|</span>\\n<span class=\"genre\">\\nDrama, Mystery, Thriller            </span>\\n</p>\\n<div class=\"ratings-bar\">\\n<div class=\"inline-block ratings-imdb-rating\" data-value=\"7.8\" name=\"ir\">\\n<span class=\"global-sprite rating-star imdb-rating\"></span>\\n<strong>7.8</strong>\\n</div>\\n<div class=\"inline-block ratings-user-rating\">\\n<span class=\"userRatingValue\" data-tconst=\"tt7668870\" id=\"urv_tt7668870\">\\n<span class=\"global-sprite rating-star no-rating\"></span>\\n<span class=\"rate\" data-no-rating=\"Rate this\" data-value=\"0\" name=\"ur\">Rate this</span>\\n</span>\\n<div class=\"starBarWidget\" id=\"sb_tt7668870\">\\n<div class=\"rating rating-list\" data-auth=\"\" data-ga-identifier=\"\" data-starbar-class=\"rating-list\" data-user=\"\" id=\"tt7668870|imdb|7.8|7.8|||search|title\" itemprop=\"aggregateRating\" itemscope=\"\" itemtype=\"http://schema.org/AggregateRating\" title=\"Users rated this 7.8/10 (47,031 votes) - click stars to rate\">\\n<meta content=\"7.8\" itemprop=\"ratingValue\"/>\\n<meta content=\"10\" itemprop=\"bestRating\"/>\\n<meta content=\"47031\" itemprop=\"ratingCount\"/>\\n<span class=\"rating-bg\">\\xa0</span>\\n<span class=\"rating-imdb \" style=\"width: 109.2px\">\\xa0</span>\\n<span class=\"rating-stars\">\\n<a href=\"/register/login?why=vote&amp;ref_=tt_ov_rt\" rel=\"nofollow\" title=\"Register or login to rate this title\"><span>1</span></a>\\n<a href=\"/register/login?why=vote&amp;ref_=tt_ov_rt\" rel=\"nofollow\" title=\"Register or login to rate this title\"><span>2</span></a>\\n<a href=\"/register/login?why=vote&amp;ref_=tt_ov_rt\" rel=\"nofollow\" title=\"Register or login to rate this title\"><span>3</span></a>\\n<a href=\"/register/login?why=vote&amp;ref_=tt_ov_rt\" rel=\"nofollow\" title=\"Register or login to rate this title\"><span>4</span></a>\\n<a href=\"/register/login?why=vote&amp;ref_=tt_ov_rt\" rel=\"nofollow\" title=\"Register or login to rate this title\"><span>5</span></a>\\n<a href=\"/register/login?why=vote&amp;ref_=tt_ov_rt\" rel=\"nofollow\" title=\"Register or login to rate this title\"><span>6</span></a>\\n<a href=\"/register/login?why=vote&amp;ref_=tt_ov_rt\" rel=\"nofollow\" title=\"Register or login to rate this title\"><span>7</span></a>\\n<a href=\"/register/login?why=vote&amp;ref_=tt_ov_rt\" rel=\"nofollow\" title=\"Register or login to rate this title\"><span>8</span></a>\\n<a href=\"/register/login?why=vote&amp;ref_=tt_ov_rt\" rel=\"nofollow\" title=\"Register or login to rate this title\"><span>9</span></a>\\n<a href=\"/register/login?why=vote&amp;ref_=tt_ov_rt\" rel=\"nofollow\" title=\"Register or login to rate this title\"><span>10</span></a>\\n</span>\\n<span class=\"rating-rating \"><span class=\"value\">7.8</span><span class=\"grey\">/</span><span class=\"grey\">10</span></span>\\n<span class=\"rating-cancel \"><a href=\"/title/tt7668870/vote?v=X;k=\" rel=\"nofollow\" title=\"Delete\"><span>X</span></a></span>\\n\\xa0</div>\\n</div>\\n</div>\\n<div class=\"inline-block ratings-metascore\">\\n<span class=\"metascore favorable\">71        </span>\\n        Metascore\\n            </div>\\n</div>\\n<p class=\"text-muted\">\\n    After his 16-year-old daughter goes missing, a desperate father breaks into her laptop to look for clues to find her.</p>\\n<p class=\"\">\\n    Director:\\n<a href=\"/name/nm3792134/?ref_=adv_li_dr_0\">Aneesh Chaganty</a>\\n<span class=\"ghost\">|</span> \\n    Stars:\\n<a href=\"/name/nm0158626/?ref_=adv_li_st_0\">John Cho</a>, \\n<a href=\"/name/nm0005226/?ref_=adv_li_st_1\">Debra Messing</a>, \\n<a href=\"/name/nm4334711/?ref_=adv_li_st_2\">Joseph Lee</a>, \\n<a href=\"/name/nm8045046/?ref_=adv_li_st_3\">Michelle La</a>\\n</p>\\n<p class=\"sort-num_votes-visible\">\\n<span class=\"text-muted\">Votes:</span>\\n<span data-value=\"47031\" name=\"nv\">47,031</span>\\n<span class=\"ghost\">|</span> <span class=\"text-muted\">Gross:</span>\\n<span data-value=\"26,020,957\" name=\"nv\">$26.02M</span>\\n</p>\\n</div>\\n</div>\\n<div class=\"lister-item mode-advanced\">\\n<div class=\"lister-top-right\">\\n<div class=\"ribbonize\" data-caller=\"filmosearch\" data-tconst=\"tt6077448\"></div>\\n</div>\\n<div class=\"lister-item-image float-left\">\\n<a href=\"/title/tt6077448/?ref_=adv_li_i\"> <img alt=\"Sacred Games\" class=\"loadlate\" data-tconst=\"tt6077448\" height=\"98\" loadlate=\"https://m.media-amazon.com/images/M/MV5BNGUzYzFjYzgtNzMzYi00NmUwLTlhNDQtOTIyMjkyYmMyN2FiXkEyXkFqcGdeQXVyODE5NzE3OTE@._V1_UX67_CR0,0,67,98_AL_.jpg\" src=\"https://m.media-amazon.com/images/G/01/imdb/images/nopicture/large/film-184890147._CB470041630_.png\" width=\"67\"/>\\n</a> </div>\\n<div class=\"lister-item-content\">\\n<h3 class=\"lister-item-header\">\\n<span class=\"lister-item-index unbold text-primary\">45.</span>\\n<a href=\"/title/tt6077448/?ref_=adv_li_tt\">Sacred Games</a>\\n<span class=\"lister-item-year text-muted unbold\">(2018\\u2013 )</span>\\n</h3>\\n<p class=\"text-muted \">\\n<span class=\"certificate\">TV-MA</span>\\n<span class=\"ghost\">|</span>\\n<span class=\"runtime\">50 min</span>\\n<span class=\"ghost\">|</span>\\n<span class=\"genre\">\\nAction, Crime, Drama            </span>\\n</p>\\n<div class=\"ratings-bar\">\\n<div class=\"inline-block ratings-imdb-rating\" data-value=\"9\" name=\"ir\">\\n<span class=\"global-sprite rating-star imdb-rating\"></span>\\n<strong>9.0</strong>\\n</div>\\n<div class=\"inline-block ratings-user-rating\">\\n<span class=\"userRatingValue\" data-tconst=\"tt6077448\" id=\"urv_tt6077448\">\\n<span class=\"global-sprite rating-star no-rating\"></span>\\n<span class=\"rate\" data-no-rating=\"Rate this\" data-value=\"0\" name=\"ur\">Rate this</span>\\n</span>\\n<div class=\"starBarWidget\" id=\"sb_tt6077448\">\\n<div class=\"rating rating-list\" data-auth=\"\" data-ga-identifier=\"\" data-starbar-class=\"rating-list\" data-user=\"\" id=\"tt6077448|imdb|9|9|||search|title\" itemprop=\"aggregateRating\" itemscope=\"\" itemtype=\"http://schema.org/AggregateRating\" title=\"Users rated this 9/10 (45,937 votes) - click stars to rate\">\\n<meta content=\"9\" itemprop=\"ratingValue\"/>\\n<meta content=\"10\" itemprop=\"bestRating\"/>\\n<meta content=\"45937\" itemprop=\"ratingCount\"/>\\n<span class=\"rating-bg\">\\xa0</span>\\n<span class=\"rating-imdb \" style=\"width: 126px\">\\xa0</span>\\n<span class=\"rating-stars\">\\n<a href=\"/register/login?why=vote&amp;ref_=tt_ov_rt\" rel=\"nofollow\" title=\"Register or login to rate this title\"><span>1</span></a>\\n<a href=\"/register/login?why=vote&amp;ref_=tt_ov_rt\" rel=\"nofollow\" title=\"Register or login to rate this title\"><span>2</span></a>\\n<a href=\"/register/login?why=vote&amp;ref_=tt_ov_rt\" rel=\"nofollow\" title=\"Register or login to rate this title\"><span>3</span></a>\\n<a href=\"/register/login?why=vote&amp;ref_=tt_ov_rt\" rel=\"nofollow\" title=\"Register or login to rate this title\"><span>4</span></a>\\n<a href=\"/register/login?why=vote&amp;ref_=tt_ov_rt\" rel=\"nofollow\" title=\"Register or login to rate this title\"><span>5</span></a>\\n<a href=\"/register/login?why=vote&amp;ref_=tt_ov_rt\" rel=\"nofollow\" title=\"Register or login to rate this title\"><span>6</span></a>\\n<a href=\"/register/login?why=vote&amp;ref_=tt_ov_rt\" rel=\"nofollow\" title=\"Register or login to rate this title\"><span>7</span></a>\\n<a href=\"/register/login?why=vote&amp;ref_=tt_ov_rt\" rel=\"nofollow\" title=\"Register or login to rate this title\"><span>8</span></a>\\n<a href=\"/register/login?why=vote&amp;ref_=tt_ov_rt\" rel=\"nofollow\" title=\"Register or login to rate this title\"><span>9</span></a>\\n<a href=\"/register/login?why=vote&amp;ref_=tt_ov_rt\" rel=\"nofollow\" title=\"Register or login to rate this title\"><span>10</span></a>\\n</span>\\n<span class=\"rating-rating \"><span class=\"value\">9</span><span class=\"grey\">/</span><span class=\"grey\">10</span></span>\\n<span class=\"rating-cancel \"><a href=\"/title/tt6077448/vote?v=X;k=\" rel=\"nofollow\" title=\"Delete\"><span>X</span></a></span>\\n\\xa0</div>\\n</div>\\n</div>\\n</div>\\n<p class=\"text-muted\">\\n    A link in their pasts leads an honest cop to a fugitive gang boss, whose cryptic warning spurs the officer on a quest to save Mumbai from cataclysm.</p>\\n<p class=\"\">\\n            \\n    Stars:\\n<a href=\"/name/nm0451307/?ref_=adv_li_st_0\">Saif Ali Khan</a>, \\n<a href=\"/name/nm1596350/?ref_=adv_li_st_1\">Nawazuddin Siddiqui</a>, \\n<a href=\"/name/nm2331000/?ref_=adv_li_st_2\">Radhika Apte</a>, \\n<a href=\"/name/nm4173131/?ref_=adv_li_st_3\">Neeraj Kabi</a>\\n</p>\\n<p class=\"sort-num_votes-visible\">\\n<span class=\"text-muted\">Votes:</span>\\n<span data-value=\"45937\" name=\"nv\">45,937</span>\\n</p>\\n</div>\\n</div>\\n<div class=\"lister-item mode-advanced\">\\n<div class=\"lister-top-right\">\\n<div class=\"ribbonize\" data-caller=\"filmosearch\" data-tconst=\"tt5232792\"></div>\\n</div>\\n<div class=\"lister-item-image float-left\">\\n<a href=\"/title/tt5232792/?ref_=adv_li_i\"> <img alt=\"Lost in Space\" class=\"loadlate\" data-tconst=\"tt5232792\" height=\"98\" loadlate=\"https://m.media-amazon.com/images/M/MV5BMjI3MjI5OTczNV5BMl5BanBnXkFtZTgwODA4MTc5NDM@._V1_UX67_CR0,0,67,98_AL_.jpg\" src=\"https://m.media-amazon.com/images/G/01/imdb/images/nopicture/large/film-184890147._CB470041630_.png\" width=\"67\"/>\\n</a> </div>\\n<div class=\"lister-item-content\">\\n<h3 class=\"lister-item-header\">\\n<span class=\"lister-item-index unbold text-primary\">46.</span>\\n<a href=\"/title/tt5232792/?ref_=adv_li_tt\">Lost in Space</a>\\n<span class=\"lister-item-year text-muted unbold\">(2018\\u2013 )</span>\\n</h3>\\n<p class=\"text-muted \">\\n<span class=\"certificate\">TV-PG</span>\\n<span class=\"ghost\">|</span>\\n<span class=\"runtime\">60 min</span>\\n<span class=\"ghost\">|</span>\\n<span class=\"genre\">\\nAdventure, Drama, Family            </span>\\n</p>\\n<div class=\"ratings-bar\">\\n<div class=\"inline-block ratings-imdb-rating\" data-value=\"7.2\" name=\"ir\">\\n<span class=\"global-sprite rating-star imdb-rating\"></span>\\n<strong>7.2</strong>\\n</div>\\n<div class=\"inline-block ratings-user-rating\">\\n<span class=\"userRatingValue\" data-tconst=\"tt5232792\" id=\"urv_tt5232792\">\\n<span class=\"global-sprite rating-star no-rating\"></span>\\n<span class=\"rate\" data-no-rating=\"Rate this\" data-value=\"0\" name=\"ur\">Rate this</span>\\n</span>\\n<div class=\"starBarWidget\" id=\"sb_tt5232792\">\\n<div class=\"rating rating-list\" data-auth=\"\" data-ga-identifier=\"\" data-starbar-class=\"rating-list\" data-user=\"\" id=\"tt5232792|imdb|7.2|7.2|||search|title\" itemprop=\"aggregateRating\" itemscope=\"\" itemtype=\"http://schema.org/AggregateRating\" title=\"Users rated this 7.2/10 (45,725 votes) - click stars to rate\">\\n<meta content=\"7.2\" itemprop=\"ratingValue\"/>\\n<meta content=\"10\" itemprop=\"bestRating\"/>\\n<meta content=\"45725\" itemprop=\"ratingCount\"/>\\n<span class=\"rating-bg\">\\xa0</span>\\n<span class=\"rating-imdb \" style=\"width: 100.8px\">\\xa0</span>\\n<span class=\"rating-stars\">\\n<a href=\"/register/login?why=vote&amp;ref_=tt_ov_rt\" rel=\"nofollow\" title=\"Register or login to rate this title\"><span>1</span></a>\\n<a href=\"/register/login?why=vote&amp;ref_=tt_ov_rt\" rel=\"nofollow\" title=\"Register or login to rate this title\"><span>2</span></a>\\n<a href=\"/register/login?why=vote&amp;ref_=tt_ov_rt\" rel=\"nofollow\" title=\"Register or login to rate this title\"><span>3</span></a>\\n<a href=\"/register/login?why=vote&amp;ref_=tt_ov_rt\" rel=\"nofollow\" title=\"Register or login to rate this title\"><span>4</span></a>\\n<a href=\"/register/login?why=vote&amp;ref_=tt_ov_rt\" rel=\"nofollow\" title=\"Register or login to rate this title\"><span>5</span></a>\\n<a href=\"/register/login?why=vote&amp;ref_=tt_ov_rt\" rel=\"nofollow\" title=\"Register or login to rate this title\"><span>6</span></a>\\n<a href=\"/register/login?why=vote&amp;ref_=tt_ov_rt\" rel=\"nofollow\" title=\"Register or login to rate this title\"><span>7</span></a>\\n<a href=\"/register/login?why=vote&amp;ref_=tt_ov_rt\" rel=\"nofollow\" title=\"Register or login to rate this title\"><span>8</span></a>\\n<a href=\"/register/login?why=vote&amp;ref_=tt_ov_rt\" rel=\"nofollow\" title=\"Register or login to rate this title\"><span>9</span></a>\\n<a href=\"/register/login?why=vote&amp;ref_=tt_ov_rt\" rel=\"nofollow\" title=\"Register or login to rate this title\"><span>10</span></a>\\n</span>\\n<span class=\"rating-rating \"><span class=\"value\">7.2</span><span class=\"grey\">/</span><span class=\"grey\">10</span></span>\\n<span class=\"rating-cancel \"><a href=\"/title/tt5232792/vote?v=X;k=\" rel=\"nofollow\" title=\"Delete\"><span>X</span></a></span>\\n\\xa0</div>\\n</div>\\n</div>\\n</div>\\n<p class=\"text-muted\">\\n    After crash-landing on an alien planet, the Robinson family fight against all odds to survive and escape, but they're surrounded by hidden dangers.</p>\\n<p class=\"\">\\n            \\n    Stars:\\n<a href=\"/name/nm0662504/?ref_=adv_li_st_0\">Molly Parker</a>, \\n<a href=\"/name/nm0827170/?ref_=adv_li_st_1\">Toby Stephens</a>, \\n<a href=\"/name/nm3069420/?ref_=adv_li_st_2\">Maxwell Jenkins</a>, \\n<a href=\"/name/nm5347988/?ref_=adv_li_st_3\">Taylor Russell</a>\\n</p>\\n<p class=\"sort-num_votes-visible\">\\n<span class=\"text-muted\">Votes:</span>\\n<span data-value=\"45725\" name=\"nv\">45,725</span>\\n</p>\\n</div>\\n</div>\\n<div class=\"lister-item mode-advanced\">\\n<div class=\"lister-top-right\">\\n<div class=\"ribbonize\" data-caller=\"filmosearch\" data-tconst=\"tt3846674\"></div>\\n</div>\\n<div class=\"lister-item-image float-left\">\\n<a href=\"/title/tt3846674/?ref_=adv_li_i\"> <img alt=\"To All the Boys I've Loved Before\" class=\"loadlate\" data-tconst=\"tt3846674\" height=\"98\" loadlate=\"https://m.media-amazon.com/images/M/MV5BMjQ3NjM5MTAzN15BMl5BanBnXkFtZTgwODQzMDAwNjM@._V1_UX67_CR0,0,67,98_AL_.jpg\" src=\"https://m.media-amazon.com/images/G/01/imdb/images/nopicture/large/film-184890147._CB470041630_.png\" width=\"67\"/>\\n</a> </div>\\n<div class=\"lister-item-content\">\\n<h3 class=\"lister-item-header\">\\n<span class=\"lister-item-index unbold text-primary\">47.</span>\\n<a href=\"/title/tt3846674/?ref_=adv_li_tt\">To All the Boys I've Loved Before</a>\\n<span class=\"lister-item-year text-muted unbold\">(2018)</span>\\n</h3>\\n<p class=\"text-muted \">\\n<span class=\"certificate\">TV-14</span>\\n<span class=\"ghost\">|</span>\\n<span class=\"runtime\">99 min</span>\\n<span class=\"ghost\">|</span>\\n<span class=\"genre\">\\nDrama, Romance            </span>\\n</p>\\n<div class=\"ratings-bar\">\\n<div class=\"inline-block ratings-imdb-rating\" data-value=\"7.3\" name=\"ir\">\\n<span class=\"global-sprite rating-star imdb-rating\"></span>\\n<strong>7.3</strong>\\n</div>\\n<div class=\"inline-block ratings-user-rating\">\\n<span class=\"userRatingValue\" data-tconst=\"tt3846674\" id=\"urv_tt3846674\">\\n<span class=\"global-sprite rating-star no-rating\"></span>\\n<span class=\"rate\" data-no-rating=\"Rate this\" data-value=\"0\" name=\"ur\">Rate this</span>\\n</span>\\n<div class=\"starBarWidget\" id=\"sb_tt3846674\">\\n<div class=\"rating rating-list\" data-auth=\"\" data-ga-identifier=\"\" data-starbar-class=\"rating-list\" data-user=\"\" id=\"tt3846674|imdb|7.3|7.3|||search|title\" itemprop=\"aggregateRating\" itemscope=\"\" itemtype=\"http://schema.org/AggregateRating\" title=\"Users rated this 7.3/10 (45,369 votes) - click stars to rate\">\\n<meta content=\"7.3\" itemprop=\"ratingValue\"/>\\n<meta content=\"10\" itemprop=\"bestRating\"/>\\n<meta content=\"45369\" itemprop=\"ratingCount\"/>\\n<span class=\"rating-bg\">\\xa0</span>\\n<span class=\"rating-imdb \" style=\"width: 102.2px\">\\xa0</span>\\n<span class=\"rating-stars\">\\n<a href=\"/register/login?why=vote&amp;ref_=tt_ov_rt\" rel=\"nofollow\" title=\"Register or login to rate this title\"><span>1</span></a>\\n<a href=\"/register/login?why=vote&amp;ref_=tt_ov_rt\" rel=\"nofollow\" title=\"Register or login to rate this title\"><span>2</span></a>\\n<a href=\"/register/login?why=vote&amp;ref_=tt_ov_rt\" rel=\"nofollow\" title=\"Register or login to rate this title\"><span>3</span></a>\\n<a href=\"/register/login?why=vote&amp;ref_=tt_ov_rt\" rel=\"nofollow\" title=\"Register or login to rate this title\"><span>4</span></a>\\n<a href=\"/register/login?why=vote&amp;ref_=tt_ov_rt\" rel=\"nofollow\" title=\"Register or login to rate this title\"><span>5</span></a>\\n<a href=\"/register/login?why=vote&amp;ref_=tt_ov_rt\" rel=\"nofollow\" title=\"Register or login to rate this title\"><span>6</span></a>\\n<a href=\"/register/login?why=vote&amp;ref_=tt_ov_rt\" rel=\"nofollow\" title=\"Register or login to rate this title\"><span>7</span></a>\\n<a href=\"/register/login?why=vote&amp;ref_=tt_ov_rt\" rel=\"nofollow\" title=\"Register or login to rate this title\"><span>8</span></a>\\n<a href=\"/register/login?why=vote&amp;ref_=tt_ov_rt\" rel=\"nofollow\" title=\"Register or login to rate this title\"><span>9</span></a>\\n<a href=\"/register/login?why=vote&amp;ref_=tt_ov_rt\" rel=\"nofollow\" title=\"Register or login to rate this title\"><span>10</span></a>\\n</span>\\n<span class=\"rating-rating \"><span class=\"value\">7.3</span><span class=\"grey\">/</span><span class=\"grey\">10</span></span>\\n<span class=\"rating-cancel \"><a href=\"/title/tt3846674/vote?v=X;k=\" rel=\"nofollow\" title=\"Delete\"><span>X</span></a></span>\\n\\xa0</div>\\n</div>\\n</div>\\n<div class=\"inline-block ratings-metascore\">\\n<span class=\"metascore favorable\">64        </span>\\n        Metascore\\n            </div>\\n</div>\\n<p class=\"text-muted\">\\n    A teenage girl's secret love letters are exposed and wreak havoc on her love life.</p>\\n<p class=\"\">\\n    Director:\\n<a href=\"/name/nm0426287/?ref_=adv_li_dr_0\">Susan Johnson</a>\\n<span class=\"ghost\">|</span> \\n    Stars:\\n<a href=\"/name/nm7093076/?ref_=adv_li_st_0\">Lana Condor</a>, \\n<a href=\"/name/nm3170207/?ref_=adv_li_st_1\">Noah Centineo</a>, \\n<a href=\"/name/nm0663546/?ref_=adv_li_st_2\">Janel Parrish</a>, \\n<a href=\"/name/nm8264172/?ref_=adv_li_st_3\">Anna Cathcart</a>\\n</p>\\n<p class=\"sort-num_votes-visible\">\\n<span class=\"text-muted\">Votes:</span>\\n<span data-value=\"45369\" name=\"nv\">45,369</span>\\n</p>\\n</div>\\n</div>\\n<div class=\"lister-item mode-advanced\">\\n<div class=\"lister-top-right\">\\n<div class=\"ribbonize\" data-caller=\"filmosearch\" data-tconst=\"tt6911608\"></div>\\n</div>\\n<div class=\"lister-item-image float-left\">\\n<a href=\"/title/tt6911608/?ref_=adv_li_i\"> <img alt=\"Mamma Mia! Here We Go Again\" class=\"loadlate\" data-tconst=\"tt6911608\" height=\"98\" loadlate=\"https://m.media-amazon.com/images/M/MV5BMjEwMTM3OTI1NV5BMl5BanBnXkFtZTgwNDk5NTY0NTM@._V1_UX67_CR0,0,67,98_AL_.jpg\" src=\"https://m.media-amazon.com/images/G/01/imdb/images/nopicture/large/film-184890147._CB470041630_.png\" width=\"67\"/>\\n</a> </div>\\n<div class=\"lister-item-content\">\\n<h3 class=\"lister-item-header\">\\n<span class=\"lister-item-index unbold text-primary\">48.</span>\\n<a href=\"/title/tt6911608/?ref_=adv_li_tt\">Mamma Mia! Here We Go Again</a>\\n<span class=\"lister-item-year text-muted unbold\">(2018)</span>\\n</h3>\\n<p class=\"text-muted \">\\n<span class=\"certificate\">PG-13</span>\\n<span class=\"ghost\">|</span>\\n<span class=\"runtime\">114 min</span>\\n<span class=\"ghost\">|</span>\\n<span class=\"genre\">\\nComedy, Musical, Romance            </span>\\n</p>\\n<div class=\"ratings-bar\">\\n<div class=\"inline-block ratings-imdb-rating\" data-value=\"6.9\" name=\"ir\">\\n<span class=\"global-sprite rating-star imdb-rating\"></span>\\n<strong>6.9</strong>\\n</div>\\n<div class=\"inline-block ratings-user-rating\">\\n<span class=\"userRatingValue\" data-tconst=\"tt6911608\" id=\"urv_tt6911608\">\\n<span class=\"global-sprite rating-star no-rating\"></span>\\n<span class=\"rate\" data-no-rating=\"Rate this\" data-value=\"0\" name=\"ur\">Rate this</span>\\n</span>\\n<div class=\"starBarWidget\" id=\"sb_tt6911608\">\\n<div class=\"rating rating-list\" data-auth=\"\" data-ga-identifier=\"\" data-starbar-class=\"rating-list\" data-user=\"\" id=\"tt6911608|imdb|6.9|6.9|||search|title\" itemprop=\"aggregateRating\" itemscope=\"\" itemtype=\"http://schema.org/AggregateRating\" title=\"Users rated this 6.9/10 (44,799 votes) - click stars to rate\">\\n<meta content=\"6.9\" itemprop=\"ratingValue\"/>\\n<meta content=\"10\" itemprop=\"bestRating\"/>\\n<meta content=\"44799\" itemprop=\"ratingCount\"/>\\n<span class=\"rating-bg\">\\xa0</span>\\n<span class=\"rating-imdb \" style=\"width: 96.6px\">\\xa0</span>\\n<span class=\"rating-stars\">\\n<a href=\"/register/login?why=vote&amp;ref_=tt_ov_rt\" rel=\"nofollow\" title=\"Register or login to rate this title\"><span>1</span></a>\\n<a href=\"/register/login?why=vote&amp;ref_=tt_ov_rt\" rel=\"nofollow\" title=\"Register or login to rate this title\"><span>2</span></a>\\n<a href=\"/register/login?why=vote&amp;ref_=tt_ov_rt\" rel=\"nofollow\" title=\"Register or login to rate this title\"><span>3</span></a>\\n<a href=\"/register/login?why=vote&amp;ref_=tt_ov_rt\" rel=\"nofollow\" title=\"Register or login to rate this title\"><span>4</span></a>\\n<a href=\"/register/login?why=vote&amp;ref_=tt_ov_rt\" rel=\"nofollow\" title=\"Register or login to rate this title\"><span>5</span></a>\\n<a href=\"/register/login?why=vote&amp;ref_=tt_ov_rt\" rel=\"nofollow\" title=\"Register or login to rate this title\"><span>6</span></a>\\n<a href=\"/register/login?why=vote&amp;ref_=tt_ov_rt\" rel=\"nofollow\" title=\"Register or login to rate this title\"><span>7</span></a>\\n<a href=\"/register/login?why=vote&amp;ref_=tt_ov_rt\" rel=\"nofollow\" title=\"Register or login to rate this title\"><span>8</span></a>\\n<a href=\"/register/login?why=vote&amp;ref_=tt_ov_rt\" rel=\"nofollow\" title=\"Register or login to rate this title\"><span>9</span></a>\\n<a href=\"/register/login?why=vote&amp;ref_=tt_ov_rt\" rel=\"nofollow\" title=\"Register or login to rate this title\"><span>10</span></a>\\n</span>\\n<span class=\"rating-rating \"><span class=\"value\">6.9</span><span class=\"grey\">/</span><span class=\"grey\">10</span></span>\\n<span class=\"rating-cancel \"><a href=\"/title/tt6911608/vote?v=X;k=\" rel=\"nofollow\" title=\"Delete\"><span>X</span></a></span>\\n\\xa0</div>\\n</div>\\n</div>\\n<div class=\"inline-block ratings-metascore\">\\n<span class=\"metascore mixed\">60        </span>\\n        Metascore\\n            </div>\\n</div>\\n<p class=\"text-muted\">\\n    Five years after the events of <a href=\"/title/tt0795421\">Mamma Mia!</a> (2008), Sophie prepares for the grand reopening of the Hotel Bella Donna as she learns more about her mother's past.</p>\\n<p class=\"\">\\n    Director:\\n<a href=\"/name/nm0662530/?ref_=adv_li_dr_0\">Ol Parker</a>\\n<span class=\"ghost\">|</span> \\n    Stars:\\n<a href=\"/name/nm4141252/?ref_=adv_li_st_0\">Lily James</a>, \\n<a href=\"/name/nm1086543/?ref_=adv_li_st_1\">Amanda Seyfried</a>, \\n<a href=\"/name/nm0000658/?ref_=adv_li_st_2\">Meryl Streep</a>, \\n<a href=\"/name/nm0000333/?ref_=adv_li_st_3\">Cher</a>\\n</p>\\n<p class=\"sort-num_votes-visible\">\\n<span class=\"text-muted\">Votes:</span>\\n<span data-value=\"44799\" name=\"nv\">44,799</span>\\n<span class=\"ghost\">|</span> <span class=\"text-muted\">Gross:</span>\\n<span data-value=\"120,634,935\" name=\"nv\">$120.63M</span>\\n</p>\\n</div>\\n</div>\\n<div class=\"lister-item mode-advanced\">\\n<div class=\"lister-top-right\">\\n<div class=\"ribbonize\" data-caller=\"filmosearch\" data-tconst=\"tt2531344\"></div>\\n</div>\\n<div class=\"lister-item-image float-left\">\\n<a href=\"/title/tt2531344/?ref_=adv_li_i\"> <img alt=\"Blockers\" class=\"loadlate\" data-tconst=\"tt2531344\" height=\"98\" loadlate=\"https://m.media-amazon.com/images/M/MV5BMjE0ODIzNjkzMl5BMl5BanBnXkFtZTgwODQ3MzU4NDM@._V1_UX67_CR0,0,67,98_AL_.jpg\" src=\"https://m.media-amazon.com/images/G/01/imdb/images/nopicture/large/film-184890147._CB470041630_.png\" width=\"67\"/>\\n</a> </div>\\n<div class=\"lister-item-content\">\\n<h3 class=\"lister-item-header\">\\n<span class=\"lister-item-index unbold text-primary\">49.</span>\\n<a href=\"/title/tt2531344/?ref_=adv_li_tt\">Blockers</a>\\n<span class=\"lister-item-year text-muted unbold\">(2018)</span>\\n</h3>\\n<p class=\"text-muted \">\\n<span class=\"certificate\">R</span>\\n<span class=\"ghost\">|</span>\\n<span class=\"runtime\">102 min</span>\\n<span class=\"ghost\">|</span>\\n<span class=\"genre\">\\nComedy            </span>\\n</p>\\n<div class=\"ratings-bar\">\\n<div class=\"inline-block ratings-imdb-rating\" data-value=\"6.2\" name=\"ir\">\\n<span class=\"global-sprite rating-star imdb-rating\"></span>\\n<strong>6.2</strong>\\n</div>\\n<div class=\"inline-block ratings-user-rating\">\\n<span class=\"userRatingValue\" data-tconst=\"tt2531344\" id=\"urv_tt2531344\">\\n<span class=\"global-sprite rating-star no-rating\"></span>\\n<span class=\"rate\" data-no-rating=\"Rate this\" data-value=\"0\" name=\"ur\">Rate this</span>\\n</span>\\n<div class=\"starBarWidget\" id=\"sb_tt2531344\">\\n<div class=\"rating rating-list\" data-auth=\"\" data-ga-identifier=\"\" data-starbar-class=\"rating-list\" data-user=\"\" id=\"tt2531344|imdb|6.2|6.2|||search|title\" itemprop=\"aggregateRating\" itemscope=\"\" itemtype=\"http://schema.org/AggregateRating\" title=\"Users rated this 6.2/10 (44,416 votes) - click stars to rate\">\\n<meta content=\"6.2\" itemprop=\"ratingValue\"/>\\n<meta content=\"10\" itemprop=\"bestRating\"/>\\n<meta content=\"44416\" itemprop=\"ratingCount\"/>\\n<span class=\"rating-bg\">\\xa0</span>\\n<span class=\"rating-imdb \" style=\"width: 86.8px\">\\xa0</span>\\n<span class=\"rating-stars\">\\n<a href=\"/register/login?why=vote&amp;ref_=tt_ov_rt\" rel=\"nofollow\" title=\"Register or login to rate this title\"><span>1</span></a>\\n<a href=\"/register/login?why=vote&amp;ref_=tt_ov_rt\" rel=\"nofollow\" title=\"Register or login to rate this title\"><span>2</span></a>\\n<a href=\"/register/login?why=vote&amp;ref_=tt_ov_rt\" rel=\"nofollow\" title=\"Register or login to rate this title\"><span>3</span></a>\\n<a href=\"/register/login?why=vote&amp;ref_=tt_ov_rt\" rel=\"nofollow\" title=\"Register or login to rate this title\"><span>4</span></a>\\n<a href=\"/register/login?why=vote&amp;ref_=tt_ov_rt\" rel=\"nofollow\" title=\"Register or login to rate this title\"><span>5</span></a>\\n<a href=\"/register/login?why=vote&amp;ref_=tt_ov_rt\" rel=\"nofollow\" title=\"Register or login to rate this title\"><span>6</span></a>\\n<a href=\"/register/login?why=vote&amp;ref_=tt_ov_rt\" rel=\"nofollow\" title=\"Register or login to rate this title\"><span>7</span></a>\\n<a href=\"/register/login?why=vote&amp;ref_=tt_ov_rt\" rel=\"nofollow\" title=\"Register or login to rate this title\"><span>8</span></a>\\n<a href=\"/register/login?why=vote&amp;ref_=tt_ov_rt\" rel=\"nofollow\" title=\"Register or login to rate this title\"><span>9</span></a>\\n<a href=\"/register/login?why=vote&amp;ref_=tt_ov_rt\" rel=\"nofollow\" title=\"Register or login to rate this title\"><span>10</span></a>\\n</span>\\n<span class=\"rating-rating \"><span class=\"value\">6.2</span><span class=\"grey\">/</span><span class=\"grey\">10</span></span>\\n<span class=\"rating-cancel \"><a href=\"/title/tt2531344/vote?v=X;k=\" rel=\"nofollow\" title=\"Delete\"><span>X</span></a></span>\\n\\xa0</div>\\n</div>\\n</div>\\n<div class=\"inline-block ratings-metascore\">\\n<span class=\"metascore favorable\">69        </span>\\n        Metascore\\n            </div>\\n</div>\\n<p class=\"text-muted\">\\n    Three parents try to stop their daughters from losing their virginity on prom night.</p>\\n<p class=\"\">\\n    Director:\\n<a href=\"/name/nm0134224/?ref_=adv_li_dr_0\">Kay Cannon</a>\\n<span class=\"ghost\">|</span> \\n    Stars:\\n<a href=\"/name/nm0005182/?ref_=adv_li_st_0\">Leslie Mann</a>, \\n<a href=\"/name/nm1078479/?ref_=adv_li_st_1\">John Cena</a>, \\n<a href=\"/name/nm0054697/?ref_=adv_li_st_2\">Ike Barinholtz</a>, \\n<a href=\"/name/nm1105980/?ref_=adv_li_st_3\">Kathryn Newton</a>\\n</p>\\n<p class=\"sort-num_votes-visible\">\\n<span class=\"text-muted\">Votes:</span>\\n<span data-value=\"44416\" name=\"nv\">44,416</span>\\n<span class=\"ghost\">|</span> <span class=\"text-muted\">Gross:</span>\\n<span data-value=\"59,839,515\" name=\"nv\">$59.84M</span>\\n</p>\\n</div>\\n</div>\\n<div class=\"lister-item mode-advanced\">\\n<div class=\"lister-top-right\">\\n<div class=\"ribbonize\" data-caller=\"filmosearch\" data-tconst=\"tt1413492\"></div>\\n</div>\\n<div class=\"lister-item-image float-left\">\\n<a href=\"/title/tt1413492/?ref_=adv_li_i\"> <img alt=\"12 Strong\" class=\"loadlate\" data-tconst=\"tt1413492\" height=\"98\" loadlate=\"https://m.media-amazon.com/images/M/MV5BNTEzMjk3NzkxMV5BMl5BanBnXkFtZTgwNjY2NDczNDM@._V1_UX67_CR0,0,67,98_AL_.jpg\" src=\"https://m.media-amazon.com/images/G/01/imdb/images/nopicture/large/film-184890147._CB470041630_.png\" width=\"67\"/>\\n</a> </div>\\n<div class=\"lister-item-content\">\\n<h3 class=\"lister-item-header\">\\n<span class=\"lister-item-index unbold text-primary\">50.</span>\\n<a href=\"/title/tt1413492/?ref_=adv_li_tt\">12 Strong</a>\\n<span class=\"lister-item-year text-muted unbold\">(2018)</span>\\n</h3>\\n<p class=\"text-muted \">\\n<span class=\"certificate\">R</span>\\n<span class=\"ghost\">|</span>\\n<span class=\"runtime\">130 min</span>\\n<span class=\"ghost\">|</span>\\n<span class=\"genre\">\\nAction, Drama, History            </span>\\n</p>\\n<div class=\"ratings-bar\">\\n<div class=\"inline-block ratings-imdb-rating\" data-value=\"6.6\" name=\"ir\">\\n<span class=\"global-sprite rating-star imdb-rating\"></span>\\n<strong>6.6</strong>\\n</div>\\n<div class=\"inline-block ratings-user-rating\">\\n<span class=\"userRatingValue\" data-tconst=\"tt1413492\" id=\"urv_tt1413492\">\\n<span class=\"global-sprite rating-star no-rating\"></span>\\n<span class=\"rate\" data-no-rating=\"Rate this\" data-value=\"0\" name=\"ur\">Rate this</span>\\n</span>\\n<div class=\"starBarWidget\" id=\"sb_tt1413492\">\\n<div class=\"rating rating-list\" data-auth=\"\" data-ga-identifier=\"\" data-starbar-class=\"rating-list\" data-user=\"\" id=\"tt1413492|imdb|6.6|6.6|||search|title\" itemprop=\"aggregateRating\" itemscope=\"\" itemtype=\"http://schema.org/AggregateRating\" title=\"Users rated this 6.6/10 (41,443 votes) - click stars to rate\">\\n<meta content=\"6.6\" itemprop=\"ratingValue\"/>\\n<meta content=\"10\" itemprop=\"bestRating\"/>\\n<meta content=\"41443\" itemprop=\"ratingCount\"/>\\n<span class=\"rating-bg\">\\xa0</span>\\n<span class=\"rating-imdb \" style=\"width: 92.4px\">\\xa0</span>\\n<span class=\"rating-stars\">\\n<a href=\"/register/login?why=vote&amp;ref_=tt_ov_rt\" rel=\"nofollow\" title=\"Register or login to rate this title\"><span>1</span></a>\\n<a href=\"/register/login?why=vote&amp;ref_=tt_ov_rt\" rel=\"nofollow\" title=\"Register or login to rate this title\"><span>2</span></a>\\n<a href=\"/register/login?why=vote&amp;ref_=tt_ov_rt\" rel=\"nofollow\" title=\"Register or login to rate this title\"><span>3</span></a>\\n<a href=\"/register/login?why=vote&amp;ref_=tt_ov_rt\" rel=\"nofollow\" title=\"Register or login to rate this title\"><span>4</span></a>\\n<a href=\"/register/login?why=vote&amp;ref_=tt_ov_rt\" rel=\"nofollow\" title=\"Register or login to rate this title\"><span>5</span></a>\\n<a href=\"/register/login?why=vote&amp;ref_=tt_ov_rt\" rel=\"nofollow\" title=\"Register or login to rate this title\"><span>6</span></a>\\n<a href=\"/register/login?why=vote&amp;ref_=tt_ov_rt\" rel=\"nofollow\" title=\"Register or login to rate this title\"><span>7</span></a>\\n<a href=\"/register/login?why=vote&amp;ref_=tt_ov_rt\" rel=\"nofollow\" title=\"Register or login to rate this title\"><span>8</span></a>\\n<a href=\"/register/login?why=vote&amp;ref_=tt_ov_rt\" rel=\"nofollow\" title=\"Register or login to rate this title\"><span>9</span></a>\\n<a href=\"/register/login?why=vote&amp;ref_=tt_ov_rt\" rel=\"nofollow\" title=\"Register or login to rate this title\"><span>10</span></a>\\n</span>\\n<span class=\"rating-rating \"><span class=\"value\">6.6</span><span class=\"grey\">/</span><span class=\"grey\">10</span></span>\\n<span class=\"rating-cancel \"><a href=\"/title/tt1413492/vote?v=X;k=\" rel=\"nofollow\" title=\"Delete\"><span>X</span></a></span>\\n\\xa0</div>\\n</div>\\n</div>\\n<div class=\"inline-block ratings-metascore\">\\n<span class=\"metascore mixed\">54        </span>\\n        Metascore\\n            </div>\\n</div>\\n<p class=\"text-muted\">\\n    12 Strong tells the story of the first Special Forces team deployed to Afghanistan after 9/11; under the leadership of a new captain, the team must work with an Afghan warlord to take down the Taliban.</p>\\n<p class=\"\">\\n    Director:\\n<a href=\"/name/nm3350420/?ref_=adv_li_dr_0\">Nicolai Fuglsig</a>\\n<span class=\"ghost\">|</span> \\n    Stars:\\n<a href=\"/name/nm1165110/?ref_=adv_li_st_0\">Chris Hemsworth</a>, \\n<a href=\"/name/nm0788335/?ref_=adv_li_st_1\">Michael Shannon</a>, \\n<a href=\"/name/nm0671567/?ref_=adv_li_st_2\">Michael Pe\\xf1a</a>, \\n<a href=\"/name/nm1041023/?ref_=adv_li_st_3\">Navid Negahban</a>\\n</p>\\n<p class=\"sort-num_votes-visible\">\\n<span class=\"text-muted\">Votes:</span>\\n<span data-value=\"41443\" name=\"nv\">41,443</span>\\n<span class=\"ghost\">|</span> <span class=\"text-muted\">Gross:</span>\\n<span data-value=\"45,495,662\" name=\"nv\">$45.50M</span>\\n</p>\\n</div>\\n</div>\\n</div>\\n</div>\\n<br class=\"clear\"/>\\n<div class=\"desc\">\\n<span>1-50 of 241,730 titles.</span>\\n<span class=\"ghost\">|</span> <a class=\"lister-page-next next-page\" href=\"/search/title?release_date=2018-01-01,2018-12-31&amp;sort=num_votes,desc&amp;start=51&amp;ref_=adv_nxt\">Next \\xbb</a>\\n</div>\\n</div>\\n</div>\\n<div id=\"sidebar\">\\n<!-- no content received for slot: top_rhs -->\\n</div>\\n</div>\\n<br class=\"clear\"/>\\n</div>\\n<div id=\"rvi-div\">\\n<div class=\"recently-viewed\">\\n<div class=\"header\">\\n<div class=\"rhs\">\\n<a href=\"#\" id=\"clear_rvi\">Clear your history</a>\\n</div>\\n<h3>Recently Viewed</h3>\\n</div>\\n<div class=\"items\">\\xa0</div>\\n</div>\\n</div>\\n<!-- no content received for slot: bottom_ad -->\\n<script>\\n    if (typeof uet == 'function') {\\n      uet(\"bb\", \"desktopFooter\", {wb: 1});\\n    }\\n</script>\\n<div class=\"ft\" id=\"footer\">\\n<div class=\"container footer-grid-wrapper\">\\n<div class=\"row footer-row\">\\n<div class=\"col outside\">\\n<h3>IMDb Everywhere</h3>\\n<div class=\"app-links\">\\n<a href=\"/offsite/?page-action=ft_app_apple&amp;token=BCYtKGl-Wvs14IB7VxfPiLQmGeQGKXbr9tPW-AF7bFwB7BCsVF2IYyA3AtqRo9iWicIY0B17mVzm%0D%0ABEHtRAkFshXFgRbJAqITlzZepTyGeF5_Ws_bWCH_Jlp9gDYj8-aBGY6326jWolhVQ3pRtbGNDo23%0D%0AlOmDf5rA0a83DzYOjDKnw8smgZAt6W6YY5NotVc2nSzAtPIjdOkqW7D6PCnU6BArHw%0D%0A&amp;ref_=ft_app_apple\" target=\"_blank\" title=\"Get the IMDb App on the Apple App Store\"> <span class=\"desktop-sprite appstore-apple\"></span>\\n</a>\\n<a href=\"/offsite/?page-action=ft_app_google&amp;token=BCYi3IzWEyZrkUOSh0PZqxA-LlOwbJPH9_uZrpytitmLLwWyDvqcmAtyuGba-wP0xPZ-nG3Pm9AE%0D%0AM0R4IsZQkdn467ds093_Xv1MRa14bbWiy5e4blGO4F6k5EUcqwq_uenixxnxc7aYhfQHZkF6-UwB%0D%0AhvzBpXCcrZik6e3PnqJ9CZKZvx9spz-Gk2xpOCmWzzsTBk8y5gd66nSE2ljKz9MU7Q%0D%0A&amp;ref_=ft_app_google\" target=\"_blank\" title=\"Get the IMDb app on Google Play\"> <span class=\"desktop-sprite appstore-google\"></span>\\n</a>\\n<a href=\"/offsite/?page-action=ft_app_amazon&amp;token=BCYr6oVpRhsweWKN3OMt2dca5DfcYK-xQpizCxEmxqB1QPpgWP4nHJWYOAtNDZzSkua1y07EdHbM%0D%0AsfYzKm9ZiKpiU0dZTDaJkRSd0kvQbaWF0OdZ4nmFmNMk9NqoYqqGltrWZzRJ4nrwhenhPcDA_Wey%0D%0Al1dmsSvJfjldez24gyAE39fUcI2-6pzwpu6til0cztqruWRbryAWAdSt3bfGqN3U0xiS3fMQFUqO%0D%0AQg2FbGJ8LoAgeLEhsTsHv7hWlPaL6cHvd12MOPxfEMBW818pI4NjDpFOCGnO-B7hlw-EP7u7XXIl%0D%0AjeksmzjeGYDChPxW0kKznjgtcBWiI4Uz3g4PCQ-S7MhrW1JQO-qB-A9hXP0746MC0xaBzgzw0DC_%0D%0AfQGsi4VEI5yQV98D1xqP_nqrFFapgA%0D%0A&amp;ref_=ft_app_amazon\" target=\"_blank\" title=\"Get the IMDb app on Amazon Appstore for Android\"> <span class=\"desktop-sprite appstore-amazon\"></span>\\n</a>\\n</div>\\n<p>Find showtimes, watch trailers, browse photos, track your Watchlist and rate your favorite movies and TV shows on your phone or tablet!</p>\\n<a class=\"touchlink\" href=\"https://m.imdb.com?ref_=ft_mdot\">IMDb Mobile site</a>\\n</div>\\n<div class=\"col center\">\\n<h3>\\n      Follow IMDb on\\n      <div class=\"ft-social-links\">\\n<a class=\"ft-social-links__link\" href=\"/offsite/?page-action=fol_fb&amp;token=BCYqc8q5nicsPsVxxmxntp5Uje0MY3qzDQZ0Lbei5cBuzXhqwTYwU5dONaMAXkHHmWmfBvqqI3Va%0D%0AqwonMMYXCY0CH1BmiUPTF5FYze6vPmyE_aA7e_HsHnhvsJyR-KDlb31-eErC44tk2pFSZVBkeHwN%0D%0AkAoE6bFQUBstPg-ctC7I62LuUAeW0nQL_fEdFSESuOum%0D%0A&amp;ref_=ft_fol_fb\" target=\"_blank\" title=\"Follow IMDb on Facebook\"> <svg class=\"ipl-icon ipl-facebook-icon ipl-icon--inherit-color ipl-icon--inline\" fill=\"#000000\" height=\"24\" viewbox=\"0 0 24 24\" width=\"24\" xmlns=\"http://www.w3.org/2000/svg\">\\n<path d=\"M20.896 2H3.104C2.494 2 2 2.494 2 3.104v17.792C2 21.506 2.494 22 3.104 22h9.579v-7.745h-2.607v-3.018h2.607V9.01c0-2.584 1.577-3.99 3.882-3.99 1.104 0 2.052.082 2.329.119v2.7h-1.598c-1.254 0-1.496.595-1.496 1.47v1.927h2.989l-.39 3.018h-2.6V22h5.097c.61 0 1.104-.494 1.104-1.104V3.104C22 2.494 21.506 2 20.896 2\"></path>\\n</svg>\\n</a>\\n<a class=\"ft-social-links__link\" href=\"/offsite/?page-action=fol_inst&amp;token=BCYsuhQQg_4pth5LmmmElyAxRmCHsIr7ywQKM01NJ2PhzPMOr9n2AZMMqvcAubijw6ErU5-T9J2_%0D%0AyGqzMDGxii1MFp7QjD7Sr9nEz3Lsd8TgsKdrSRy6Erw_dBdQ6wiXCg88Eyprf5enXwlWdcIYZ6dw%0D%0Azzxuv5Gysjz_H6DSYRGDEdC84q5pfufpL29AL6h6MSaf%0D%0A&amp;ref_=ft_fol_inst\" target=\"_blank\" title=\"Follow IMDb on Instagram\"> <svg class=\"ipl-icon ipl-instagram-icon ipl-icon--inherit-color ipl-icon--inline\" fill=\"#000000\" height=\"24\" viewbox=\"0 0 24 24\" width=\"24\" xmlns=\"http://www.w3.org/2000/svg\">\\n<path d=\"M11.997 2.04c-2.715 0-3.056.011-4.122.06-1.064.048-1.79.217-2.426.463a4.901 4.901 0 0 0-1.771 1.151 4.89 4.89 0 0 0-1.153 1.767c-.247.635-.416 1.36-.465 2.422C2.011 8.967 2 9.307 2 12.017s.011 3.049.06 4.113c.049 1.062.218 1.787.465 2.422a4.89 4.89 0 0 0 1.153 1.767 4.901 4.901 0 0 0 1.77 1.15c.636.248 1.363.416 2.427.465 1.066.048 1.407.06 4.122.06s3.055-.012 4.122-.06c1.064-.049 1.79-.217 2.426-.464a4.901 4.901 0 0 0 1.77-1.15 4.89 4.89 0 0 0 1.154-1.768c.247-.635.416-1.36.465-2.422.048-1.064.06-1.404.06-4.113 0-2.71-.012-3.05-.06-4.114-.049-1.062-.218-1.787-.465-2.422a4.89 4.89 0 0 0-1.153-1.767 4.901 4.901 0 0 0-1.77-1.15c-.637-.247-1.363-.416-2.427-.464-1.067-.049-1.407-.06-4.122-.06m0 1.797c2.67 0 2.985.01 4.04.058.974.045 1.503.207 1.856.344.466.181.8.397 1.15.746.349.35.566.682.747 1.147.137.352.3.88.344 1.853.048 1.052.058 1.368.058 4.032 0 2.664-.01 2.98-.058 4.031-.044.973-.207 1.501-.344 1.853a3.09 3.09 0 0 1-.748 1.147c-.35.35-.683.565-1.15.746-.352.137-.88.3-1.856.344-1.054.048-1.37.058-4.04.058-2.669 0-2.985-.01-4.039-.058-.974-.044-1.504-.207-1.856-.344a3.098 3.098 0 0 1-1.15-.746 3.09 3.09 0 0 1-.747-1.147c-.137-.352-.3-.88-.344-1.853-.049-1.052-.059-1.367-.059-4.031 0-2.664.01-2.98.059-4.032.044-.973.207-1.501.344-1.853a3.09 3.09 0 0 1 .748-1.147c.35-.349.682-.565 1.149-.746.352-.137.882-.3 1.856-.344 1.054-.048 1.37-.058 4.04-.058\"></path><path d=\"M11.997 15.342a3.329 3.329 0 0 1-3.332-3.325 3.329 3.329 0 0 1 3.332-3.326 3.329 3.329 0 0 1 3.332 3.326 3.329 3.329 0 0 1-3.332 3.325m0-8.449a5.128 5.128 0 0 0-5.134 5.124 5.128 5.128 0 0 0 5.134 5.123 5.128 5.128 0 0 0 5.133-5.123 5.128 5.128 0 0 0-5.133-5.124M18.533 6.69c0 .662-.537 1.198-1.2 1.198a1.198 1.198 0 1 1 1.2-1.197\"></path>\\n</svg>\\n</a>\\n<a class=\"ft-social-links__link\" href=\"/offsite/?page-action=fol_twch&amp;token=BCYpZup38hchQyv0zJwyKkuxuAjOCSjOZ2ZI6dda-jOHXlz0sAsn1cPASpgRacCjvxs9Y4IImYzv%0D%0A5athS52HAA0EX2QbcbVbPTXyoYu0LYjPgErAqTAwBoOaE-3r3kU5rrnXt7YyUVWNTYRGSPnsMWUw%0D%0A8ER8z0L4DaJ2THCRc6xWyKKPg4ZJPg42chEu8QNkKC9w%0D%0A&amp;ref_=ft_fol_twch\" target=\"_blank\" title=\"Follow IMDb on Twitch\"> <svg class=\"ipl-icon ipl-twitch-icon ipl-icon--inherit-color ipl-icon--inline\" fill=\"#000000\" height=\"24\" viewbox=\"0 0 24 24\" width=\"24\" xmlns=\"http://www.w3.org/2000/svg\">\\n<g><path d=\"M3.40641795,2 L22.0023886,2 L22.0023886,14.8140302 L16.5329854,20.2834333 L12.4700003,20.2834333 L9.81343304,22.9400005 L7.00059714,22.9400005 L7.00059714,20.2834333 L2,20.2834333 L2,5.5941792 L3.40641795,2 Z M20.1271646,13.8764182 L20.1271646,3.87522393 L5.12537321,3.87522393 L5.12537321,17.0017914 L9.34462705,17.0017914 L9.34462705,19.6583587 L12.0011943,17.0017914 L17.0017914,17.0017914 L20.1271646,13.8764182 Z\"></path><polygon points=\"17.0017914 7.46940312 17.0017914 12.9388062 15.1265675 12.9388062 15.1265675 7.46940312\"></polygon><polygon points=\"12.0011943 7.46940312 12.0011943 12.9388062 10.1259704 12.9388062 10.1259704 7.46940312\"></polygon></g>\\n<path d=\"M0 0h24v24H0z\" fill=\"none\"></path>\\n</svg>\\n</a>\\n<a class=\"ft-social-links__link\" href=\"/offsite/?page-action=fol_tw&amp;token=BCYukOdX7FOTp_kQY4ql9s_ncwHlEJ0Xyx49EQYlga5D3DKR7l7wuQQsHxiGfkV_VlZaclImweq_%0D%0AbwffivW1DcDFV9Y6ipkOF1EOseiFeZ6QbkUJ4xaCEm2X_qhNn_Bkrelm9JUZOBT23TPy3j0ARtNc%0D%0AYFrM1FVcie1GVUih3pepfUWbSJ5w5vYkN5eoc2DMR-ny%0D%0A&amp;ref_=ft_fol_tw\" target=\"_blank\" title=\"Follow IMDb on Twitter\"> <svg class=\"ipl-icon ipl-twitter-icon ipl-icon--inherit-color ipl-icon--inline\" fill=\"#000000\" height=\"24\" viewbox=\"0 0 24 24\" width=\"24\" xmlns=\"http://www.w3.org/2000/svg\">\\n<path d=\"M8.29 19.936c7.547 0 11.675-6.13 11.675-11.446 0-.175-.004-.348-.012-.52A8.259 8.259 0 0 0 22 5.886a8.319 8.319 0 0 1-2.356.633 4.052 4.052 0 0 0 1.804-2.225c-.793.46-1.67.796-2.606.976A4.138 4.138 0 0 0 15.847 4c-2.266 0-4.104 1.802-4.104 4.023 0 .315.036.622.107.917a11.728 11.728 0 0 1-8.458-4.203 3.949 3.949 0 0 0-.556 2.022 4 4 0 0 0 1.826 3.348 4.136 4.136 0 0 1-1.858-.503l-.001.051c0 1.949 1.415 3.575 3.292 3.944a4.193 4.193 0 0 1-1.853.07c.522 1.597 2.037 2.76 3.833 2.793a8.34 8.34 0 0 1-5.096 1.722A8.51 8.51 0 0 1 2 18.13a11.785 11.785 0 0 0 6.29 1.807\"></path>\\n</svg>\\n</a>\\n<a class=\"ft-social-links__link\" href=\"/offsite/?page-action=fol_yt&amp;token=BCYmQoT6nzabCjMdkO4Hn8CTAD4Eg18RDQFByIc6ktYGIgSGyomEOq-he9ltty050xl_AKlm7XSf%0D%0A1uRLsZ_-EXzTPktesafk4s4ndS-BoFPnWcVitkspuI-39oFbygZOLC4hcxTmq2vxR43OIKaq9_CB%0D%0AQk5If3mX27g5S7A5dOpVLsg-KwuUUK5kS0iUb1NaC6gN%0D%0A&amp;ref_=ft_fol_yt\" target=\"_blank\" title=\"Follow IMDb on YouTube\"> <svg class=\"ipl-icon ipl-youtube-icon ipl-icon--inherit-color ipl-icon--inline\" fill=\"#000000\" height=\"24\" viewbox=\"0 0 24 24\" width=\"24\" xmlns=\"http://www.w3.org/2000/svg\">\\n<path d=\"M9.955 14.955v-5.91L15.182 12l-5.227 2.955zm11.627-7.769a2.505 2.505 0 0 0-1.768-1.768C18.254 5 12 5 12 5s-6.254 0-7.814.418c-.86.23-1.538.908-1.768 1.768C2 8.746 2 12 2 12s0 3.254.418 4.814c.23.86.908 1.538 1.768 1.768C5.746 19 12 19 12 19s6.254 0 7.814-.418a2.505 2.505 0 0 0 1.768-1.768C22 15.254 22 12 22 12s0-3.254-.418-4.814z\"></path>\\n<path d=\"M0 0h24v24H0z\" fill=\"none\"></path>\\n</svg>\\n</a>\\n</div>\\n</h3>\\n</div>\\n<div class=\"col outside\">\\n<div class=\"row\">\\n<div class=\"col col-4\">\\n<ul class=\"unstyled\">\\n<li><a href=\"/?ref_=ft_hm\">Home</a></li>\\n<li><a href=\"/chart/top?ref_=ft_250\">Top Rated Movies</a></li>\\n<li><a href=\"/chart/?ref_=ft_cht\">Box Office</a></li>\\n<li><a href=\"/tv/?ref_=ft_tv\">TV</a></li>\\n<li><a href=\"/movies-coming-soon/?ref_=ft_cs\">Coming Soon</a></li>\\n<li><a href=\"/a2z?ref_=ft_si\">Site Index</a></li>\\n<li><a href=\"/search?ref_=ft_sr\">Search</a></li>\\n<li><a href=\"/movies-in-theaters/?ref_=ft_inth\">In Theaters</a></li>\\n</ul>\\n</div>\\n<div class=\"col col-4\">\\n<ul class=\"unstyled\">\\n<li><a href=\"https://help.imdb.com/imdb?ref_=ft_con\">Contact Us</a></li>\\n<li> <a href=\"/registration/login?ref_=ft_reg\">Register</a>\\n</li>\\n<li><a href=\"/news/?ref_=ft_nw\">News</a></li>\\n<li class=\"spacer\"></li>\\n<li><a href=\"/pressroom/?ref_=ft_pr\">Press Room</a></li>\\n<li><a href=\"https://advertising.amazon.com/lp/imdb?ref_=ft_ad\">Advertising</a></li>\\n<li><a href=\"/jobs?ref_=ft_jb\">Jobs</a></li>\\n</ul>\\n</div>\\n<div class=\"col col-4\">\\n<ul class=\"unstyled\">\\n<li><a href=\"https://pro.imdb.com/signup/index.html?rf=cons_ft_hm&amp;ref_=cons_ft_hm\">IMDbPro</a></li>\\n<li> <a href=\"/offsite/?page-action=ft-mojo&amp;token=BCYnM8sdLmnwbksfbTmffv54OdCOjNUTMD_VkTc9f1xQLeDRtyavLqmGelYB6qPAgKlk1gYvpUlZ%0D%0A7O0G6hTfZkRF3O-FiA7_fQ7gTmRKc-DxfojdnEdt0PBVCXL4iSf4Fe0KU7WdGLDplBe36rZ-I_tF%0D%0AROxORdWRHXecbsfSVupPIEHge9essiZX6b_blzzaN3gO%0D%0A&amp;ref_=ft_bom\">Box Office Mojo</a>\\n</li>\\n<li> <a href=\"/offsite/?page-action=ft-wab&amp;token=BCYs88VaOywaXqIKyHUfj5XP-uQLJULFC-J6vZxQSyaeFI-nymjbKAKEdaLYN7IYidm9NEC8Mz4-%0D%0AnLoqQdYF2Ck5vv3gNWAdsQ4unAudl7UoMnfReEcwnH-pKelD0NUGlsCscAnykdDAWf5PRT1FcP38%0D%0Amrp5yDh7PggwMRsLYFC_qgQcukOBB7Fh3_mz-0bvyr8J%0D%0A&amp;ref_=ft_wab\">Withoutabox</a>\\n</li>\\n<li class=\"spacer\"></li>\\n<li><a href=\"/conditions?ref_=ft_cou\">Conditions of Use</a></li>\\n<li><a href=\"/privacy?ref_=ft_pvc\">Privacy Policy</a></li>\\n<li> <a href=\"/offsite/?page-action=ft-iba&amp;token=BCYoePVWUKK4YHtkzmNVOhKtONHgQUhTs9qmAzHwsLqFRRtvdbrVdM_L7_Jn-dGwd-CCiNqG3N-7%0D%0AcjnFg26kP9P4Ul4rcUlGhAQgFkxNv85rnAjUPCIo1WyHNcnzhYAUqekooK1RtLvxc3XG0I3CUIze%0D%0AU8771ggguK2v_hdlJclwtvOST6W8IaYQ0x8tSKsHBMEDncMKMg5LhLNvyJUNSflXFj0Bi7Cufhfr%0D%0AbVef7gEuJG0%0D%0A&amp;ref_=ft_iba\">Interest-Based Ads</a>\\n</li>\\n<li class=\"spacer\"></li>\\n</ul>\\n</div>\\n</div>\\n</div>\\n</div>\\n</div>\\n<div class=\"container\">\\n<div class=\"ft-copy float-right\">\\n<a href=\"/conditions\">Copyright \\xa9</a> 1990-2018\\n                <a href=\"https://help.imdb.com/imdb?ref_=cons_ftr_imdb\">IMDb.com, Inc.</a>\\n</div>\\n<div>\\n<span align=\"center\" class=\"footer_logo\">\\n<svg height=\"22\" version=\"1.1\" viewbox=\"0 0 267 28\" width=\"135\" xmlns=\"http://www.w3.org/2000/svg\" xmlns:xlink=\"http://www.w3.org/1999/xlink\">\\n<g fill=\"none\" fill-rule=\"evenodd\" stroke=\"none\" stroke-width=\"1\">\\n<path d=\"M97.231,21.898 C91.832,25.881 84.005,28 77.266,28 C67.821,28 59.314,24.508 52.878,18.696 C52.372,18.24 52.823,17.617 53.43,17.97 C60.375,22.011 68.963,24.445 77.833,24.445 C83.816,24.445 90.394,23.203 96.446,20.636 C97.359,20.249 98.123,21.237 97.231,21.898\" fill=\"#FF9900\"></path>\\n<path d=\"M99.477,19.332 C98.786,18.448 94.913,18.913 93.172,19.122 C92.645,19.186 92.564,18.725 93.038,18.391 C96.129,16.221 101.192,16.848 101.781,17.574 C102.373,18.308 101.625,23.384 98.73,25.806 C98.283,26.179 97.86,25.981 98.057,25.488 C98.71,23.86 100.168,20.217 99.477,19.332\" fill=\"#FF9900\"></path>\\n<path d=\"M93.324,3.058 L93.324,0.949 C93.326,0.628 93.567,0.414 93.859,0.415 L103.311,0.414 C103.614,0.414 103.856,0.634 103.856,0.946 L103.856,2.755 C103.853,3.059 103.597,3.454 103.144,4.082 L98.248,11.073 C100.065,11.031 101.988,11.304 103.64,12.232 C104.012,12.441 104.112,12.75 104.141,13.055 L104.141,15.306 C104.141,15.614 103.802,15.974 103.445,15.787 C100.536,14.263 96.675,14.097 93.457,15.806 C93.129,15.981 92.785,15.627 92.785,15.316 L92.785,13.178 C92.785,12.835 92.791,12.25 93.137,11.729 L98.81,3.59 L93.87,3.589 C93.568,3.589 93.326,3.374 93.324,3.058\" fill=\"#232F3E\"></path>\\n<path d=\"M58.843,16.231 L55.968,16.231 C55.694,16.213 55.476,16.007 55.453,15.744 L55.456,0.985 C55.456,0.69 55.703,0.454 56.01,0.454 L58.689,0.453 C58.968,0.468 59.194,0.68 59.212,0.949 L59.212,2.876 L59.265,2.876 C59.963,1.012 61.278,0.143 63.05,0.143 C64.848,0.143 65.976,1.012 66.781,2.876 C67.479,1.012 69.063,0.143 70.755,0.143 C71.962,0.143 73.278,0.639 74.083,1.758 C74.995,3 74.808,4.801 74.808,6.385 L74.805,15.699 C74.805,15.993 74.557,16.231 74.251,16.231 L71.379,16.231 C71.09,16.212 70.863,15.983 70.863,15.701 L70.862,7.875 C70.862,7.256 70.915,5.702 70.781,5.112 C70.566,4.117 69.922,3.838 69.09,3.838 C68.392,3.838 67.668,4.304 67.372,5.049 C67.077,5.795 67.103,7.037 67.103,7.875 L67.103,15.699 C67.103,15.993 66.855,16.231 66.549,16.231 L63.677,16.231 C63.388,16.212 63.16,15.983 63.16,15.701 L63.157,7.875 C63.157,6.23 63.426,3.808 61.385,3.808 C59.319,3.808 59.399,6.167 59.399,7.875 L59.398,15.699 C59.398,15.993 59.15,16.231 58.843,16.231\" fill=\"#232F3E\"></path>\\n<path d=\"M111.994,0.143 C116.262,0.143 118.57,3.808 118.57,8.466 C118.57,12.969 116.021,16.542 111.994,16.542 C107.806,16.542 105.525,12.876 105.525,8.312 C105.525,3.714 107.832,0.143 111.994,0.143 M112.02,3.155 C109.899,3.155 109.765,6.043 109.765,7.845 C109.765,9.647 109.739,13.497 111.994,13.497 C114.222,13.497 114.329,10.392 114.329,8.497 C114.329,7.255 114.276,5.764 113.899,4.584 C113.577,3.559 112.932,3.155 112.02,3.155\" fill=\"#232F3E\"></path>\\n<path d=\"M124.106,16.231 L121.24,16.231 C120.952,16.212 120.725,15.983 120.725,15.701 L120.719,0.936 C120.744,0.666 120.982,0.454 121.272,0.454 L123.94,0.453 C124.191,0.467 124.398,0.637 124.451,0.866 L124.451,3.124 L124.505,3.124 C125.311,1.105 126.437,0.143 128.424,0.143 C129.712,0.143 130.974,0.607 131.78,1.882 C132.531,3.062 132.531,5.049 132.531,6.478 L132.531,15.766 C132.499,16.027 132.264,16.231 131.98,16.231 L129.097,16.231 C128.831,16.213 128.616,16.018 128.585,15.766 L128.585,7.752 C128.585,6.137 128.773,3.776 126.787,3.776 C126.089,3.776 125.445,4.242 125.122,4.956 C124.719,5.857 124.666,6.758 124.666,7.752 L124.666,15.699 C124.66,15.993 124.412,16.231 124.106,16.231\" fill=\"#232F3E\"></path>\\n<path d=\"M90.909,13.525 C90.384,12.8 89.824,12.209 89.824,10.861 L89.824,6.381 C89.824,4.482 89.959,2.738 88.559,1.432 C87.457,0.372 85.628,0 84.228,0 C81.492,0 78.439,1.022 77.797,4.402 C77.73,4.762 77.991,4.95 78.227,5.004 L81.013,5.306 C81.274,5.293 81.463,5.036 81.513,4.776 C81.753,3.612 82.728,3.05 83.825,3.05 C84.417,3.05 85.089,3.268 85.439,3.797 C85.843,4.389 85.789,5.197 85.789,5.883 L85.789,6.256 C84.12,6.443 81.942,6.567 80.382,7.252 C78.579,8.03 77.315,9.618 77.315,11.953 C77.315,14.94 79.198,16.435 81.618,16.435 C83.664,16.435 84.781,15.952 86.36,14.345 C86.883,15.1 87.053,15.466 88.009,16.26 C88.223,16.376 88.497,16.364 88.688,16.193 L88.695,16.2 C89.269,15.689 90.313,14.782 90.9,14.29 C91.134,14.099 91.094,13.788 90.909,13.525 M85.789,9.183 C85.789,10.304 85.816,11.236 85.25,12.232 C84.794,13.042 84.066,13.54 83.26,13.54 C82.157,13.54 81.512,12.699 81.512,11.454 C81.512,9.005 83.708,8.56 85.789,8.56 L85.789,9.183\" fill=\"#232F3E\"></path>\\n<path d=\"M53.211,13.525 C52.685,12.8 52.125,12.209 52.125,10.861 L52.125,6.381 C52.125,4.482 52.26,2.738 50.861,1.432 C49.758,0.372 47.929,0 46.53,0 C43.792,0 40.739,1.022 40.099,4.402 C40.031,4.762 40.293,4.95 40.529,5.004 L43.316,5.306 C43.576,5.293 43.765,5.036 43.815,4.776 C44.054,3.612 45.03,3.05 46.127,3.05 C46.718,3.05 47.39,3.268 47.74,3.797 C48.144,4.389 48.09,5.197 48.09,5.883 L48.09,6.256 C46.423,6.443 44.242,6.567 42.683,7.252 C40.88,8.03 39.616,9.618 39.616,11.953 C39.616,14.94 41.499,16.435 43.921,16.435 C45.965,16.435 47.083,15.952 48.662,14.345 C49.183,15.1 49.354,15.466 50.31,16.26 C50.525,16.376 50.8,16.364 50.989,16.193 L50.996,16.2 C51.57,15.689 52.614,14.782 53.201,14.29 C53.436,14.099 53.394,13.788 53.211,13.525 M48.09,9.183 C48.09,10.304 48.117,11.236 47.552,12.232 C47.095,13.042 46.368,13.54 45.561,13.54 C44.459,13.54 43.812,12.699 43.812,11.454 C43.812,9.005 46.01,8.56 48.09,8.56 L48.09,9.183\" fill=\"#232F3E\"></path>\\n<path d=\"M4.85,16.634 C3.379,16.634 2.202,16.215 1.321,15.376 C0.44,14.535 0,13.411 0,12.002 C0,10.488 0.538,9.281 1.616,8.379 C2.694,7.478 4.146,7.026 5.97,7.026 C7.131,7.026 8.436,7.202 9.887,7.556 L9.887,5.503 C9.887,4.384 9.633,3.597 9.126,3.14 C8.617,2.684 7.753,2.456 6.53,2.456 C5.099,2.456 3.7,2.664 2.332,3.078 C1.854,3.224 1.554,3.295 1.43,3.295 C1.181,3.295 1.057,3.109 1.057,2.736 L1.057,1.897 C1.057,1.627 1.098,1.43 1.181,1.305 C1.264,1.181 1.43,1.068 1.679,0.963 C2.321,0.674 3.135,0.44 4.119,0.264 C5.104,0.088 6.083,0 7.058,0 C9.028,0 10.479,0.409 11.411,1.228 C12.344,2.047 12.81,3.295 12.81,4.974 L12.81,15.608 C12.81,16.023 12.603,16.231 12.188,16.231 L10.852,16.231 C10.457,16.231 10.229,16.033 10.167,15.64 L10.012,14.613 C9.266,15.256 8.442,15.754 7.54,16.106 C6.638,16.458 5.741,16.634 4.85,16.634 M5.597,14.303 C6.281,14.303 6.996,14.168 7.742,13.898 C8.488,13.63 9.204,13.235 9.887,12.716 L9.887,9.546 C8.768,9.276 7.67,9.141 6.592,9.141 C4.249,9.141 3.078,10.042 3.078,11.847 C3.078,12.635 3.295,13.24 3.731,13.665 C4.167,14.09 4.788,14.303 5.597,14.303\" fill=\"#232F3E\"></path>\\n<path d=\"M18.003,16.231 C17.588,16.231 17.381,16.023 17.381,15.608 L17.381,1.088 C17.381,0.673 17.588,0.466 18.003,0.466 L19.37,0.466 C19.578,0.466 19.738,0.508 19.852,0.59 C19.966,0.673 20.044,0.829 20.086,1.057 L20.273,2.207 C22.241,0.735 24.315,0 26.491,0 C28.004,0 29.155,0.398 29.942,1.196 C30.73,1.995 31.124,3.151 31.124,4.664 L31.124,15.608 C31.124,16.023 30.917,16.231 30.503,16.231 L28.668,16.231 C28.253,16.231 28.046,16.023 28.046,15.608 L28.046,5.69 C28.046,4.592 27.823,3.782 27.377,3.265 C26.931,2.746 26.232,2.486 25.279,2.486 C23.641,2.486 22.034,3.016 20.459,4.073 L20.459,15.608 C20.459,16.023 20.251,16.231 19.837,16.231 L18.003,16.231\" fill=\"#232F3E\"></path>\\n<path d=\"M148.483,16.572 C146.037,16.572 144.166,15.872 142.871,14.474 C141.575,13.074 140.927,11.048 140.927,8.395 C140.927,5.763 141.595,3.726 142.932,2.285 C144.27,0.845 146.161,0.124 148.607,0.124 C149.726,0.124 150.825,0.32 151.903,0.715 C152.131,0.798 152.292,0.901 152.385,1.025 C152.478,1.149 152.525,1.357 152.525,1.648 L152.525,2.486 C152.525,2.902 152.389,3.108 152.12,3.108 C152.016,3.108 151.851,3.078 151.624,3.016 C150.773,2.767 149.913,2.643 149.043,2.643 C147.302,2.643 146.047,3.083 145.28,3.964 C144.512,4.845 144.13,6.249 144.13,8.178 L144.13,8.581 C144.13,10.468 144.518,11.852 145.296,12.732 C146.073,13.613 147.302,14.054 148.98,14.054 C149.851,14.054 150.784,13.909 151.779,13.618 C152.007,13.557 152.162,13.525 152.245,13.525 C152.514,13.525 152.649,13.732 152.649,14.148 L152.649,14.986 C152.649,15.256 152.608,15.453 152.525,15.577 C152.442,15.701 152.276,15.815 152.027,15.92 C151.011,16.355 149.83,16.572 148.483,16.572\" fill=\"#232F3E\"></path>\\n<path d=\"M162.319,16.696 C159.956,16.696 158.11,15.961 156.785,14.489 C155.458,13.018 154.795,10.966 154.795,8.332 C154.795,5.722 155.458,3.679 156.785,2.207 C158.11,0.735 159.956,0 162.319,0 C164.682,0 166.527,0.735 167.853,2.207 C169.18,3.679 169.844,5.722 169.844,8.332 C169.844,10.966 169.18,13.018 167.853,14.489 C166.527,15.961 164.682,16.696 162.319,16.696 M162.319,14.21 C165.242,14.21 166.703,12.25 166.703,8.332 C166.703,4.436 165.242,2.487 162.319,2.487 C159.396,2.487 157.935,4.436 157.935,8.332 C157.935,12.25 159.396,14.21 162.319,14.21\" fill=\"#232F3E\"></path>\\n<path d=\"M174.259,16.231 C173.844,16.231 173.637,16.023 173.637,15.608 L173.637,1.088 C173.637,0.673 173.844,0.466 174.259,0.466 L175.627,0.466 C175.835,0.466 175.995,0.508 176.108,0.59 C176.222,0.673 176.301,0.829 176.342,1.057 L176.529,2.052 C178.519,0.684 180.457,0 182.344,0 C184.271,0 185.577,0.735 186.261,2.207 C188.313,0.735 190.365,0 192.417,0 C193.847,0 194.946,0.403 195.713,1.212 C196.48,2.021 196.864,3.171 196.864,4.664 L196.864,15.608 C196.864,16.023 196.657,16.231 196.242,16.231 L194.407,16.231 C193.992,16.231 193.785,16.023 193.785,15.608 L193.785,5.534 C193.785,4.498 193.588,3.731 193.195,3.232 C192.801,2.735 192.178,2.486 191.329,2.486 C189.815,2.486 188.292,2.953 186.759,3.886 C186.779,4.031 186.79,4.187 186.79,4.353 L186.79,15.608 C186.79,16.023 186.582,16.231 186.168,16.231 L184.333,16.231 C183.918,16.231 183.712,16.023 183.712,15.608 L183.712,5.534 C183.712,4.498 183.513,3.731 183.121,3.232 C182.726,2.735 182.104,2.486 181.255,2.486 C179.679,2.486 178.166,2.943 176.715,3.855 L176.715,15.608 C176.715,16.023 176.508,16.231 176.093,16.231 L174.259,16.231\" fill=\"#232F3E\"></path>\\n<path d=\"M202.025,22.636 C201.61,22.636 201.403,22.428 201.403,22.014 L201.403,1.088 C201.403,0.673 201.61,0.466 202.025,0.466 L203.393,0.466 C203.807,0.466 204.047,0.673 204.108,1.088 L204.263,2.083 C205.84,0.694 207.591,0 209.519,0 C211.529,0 213.115,0.731 214.276,2.191 C215.436,3.652 216.017,5.638 216.017,8.146 C216.017,10.695 215.406,12.737 214.182,14.272 C212.96,15.805 211.332,16.572 209.302,16.572 C207.435,16.572 205.829,15.961 204.481,14.738 L204.481,22.014 C204.481,22.428 204.273,22.636 203.859,22.636 L202.025,22.636 Z M208.586,14.085 C211.446,14.085 212.877,12.157 212.877,8.302 C212.877,6.332 212.529,4.871 211.835,3.918 C211.14,2.964 210.078,2.486 208.648,2.486 C207.176,2.486 205.788,2.964 204.481,3.918 L204.481,12.592 C205.829,13.587 207.196,14.085 208.586,14.085 Z\" fill=\"#232F3E\"></path>\\n<path d=\"M223.666,16.634 C222.194,16.634 221.017,16.215 220.136,15.376 C219.255,14.535 218.815,13.411 218.815,12.002 C218.815,10.488 219.354,9.281 220.432,8.379 C221.51,7.478 222.961,7.026 224.785,7.026 C225.946,7.026 227.252,7.202 228.703,7.556 L228.703,5.503 C228.703,4.384 228.448,3.597 227.941,3.14 C227.432,2.684 226.568,2.456 225.345,2.456 C223.915,2.456 222.515,2.664 221.147,3.078 C220.67,3.224 220.37,3.295 220.245,3.295 C219.997,3.295 219.872,3.109 219.872,2.736 L219.872,1.897 C219.872,1.627 219.914,1.43 219.997,1.305 C220.079,1.181 220.245,1.068 220.494,0.963 C221.136,0.674 221.95,0.44 222.934,0.264 C223.919,0.088 224.898,0 225.874,0 C227.843,0 229.294,0.409 230.226,1.228 C231.16,2.047 231.626,3.295 231.626,4.974 L231.626,15.608 C231.626,16.023 231.418,16.231 231.004,16.231 L229.667,16.231 C229.272,16.231 229.045,16.033 228.982,15.64 L228.827,14.613 C228.081,15.256 227.258,15.754 226.355,16.106 C225.453,16.458 224.556,16.634 223.666,16.634 M224.412,14.303 C225.095,14.303 225.811,14.168 226.557,13.898 C227.303,13.63 228.019,13.235 228.703,12.716 L228.703,9.546 C227.584,9.276 226.485,9.141 225.407,9.141 C223.064,9.141 221.893,10.042 221.893,11.847 C221.893,12.635 222.111,13.24 222.547,13.665 C222.982,14.09 223.603,14.303 224.412,14.303\" fill=\"#232F3E\"></path>\\n<path d=\"M236.818,16.231 C236.404,16.231 236.197,16.023 236.197,15.608 L236.197,1.088 C236.197,0.673 236.404,0.466 236.818,0.466 L238.186,0.466 C238.393,0.466 238.554,0.508 238.668,0.59 C238.782,0.673 238.86,0.829 238.901,1.057 L239.089,2.207 C241.057,0.735 243.131,0 245.306,0 C246.82,0 247.97,0.398 248.758,1.196 C249.546,1.995 249.94,3.151 249.94,4.664 L249.94,15.608 C249.94,16.023 249.732,16.231 249.318,16.231 L247.483,16.231 C247.068,16.231 246.861,16.023 246.861,15.608 L246.861,5.69 C246.861,4.592 246.638,3.782 246.193,3.265 C245.747,2.746 245.048,2.486 244.094,2.486 C242.457,2.486 240.85,3.016 239.274,4.073 L239.274,15.608 C239.274,16.023 239.067,16.231 238.652,16.231 L236.818,16.231\" fill=\"#232F3E\"></path>\\n<path d=\"M255.319,23.009 C254.655,23.009 254.064,22.937 253.547,22.791 C253.298,22.729 253.127,22.625 253.034,22.481 C252.94,22.335 252.893,22.128 252.893,21.858 L252.893,21.05 C252.893,20.656 253.049,20.458 253.36,20.458 C253.464,20.458 253.619,20.48 253.826,20.522 C254.033,20.563 254.313,20.584 254.666,20.584 C255.432,20.584 256.039,20.391 256.485,20.008 C256.93,19.624 257.329,18.945 257.682,17.972 L258.272,16.386 L252.271,1.585 C252.127,1.233 252.054,0.984 252.054,0.839 C252.054,0.591 252.199,0.466 252.49,0.466 L254.355,0.466 C254.686,0.466 254.915,0.518 255.039,0.622 C255.164,0.726 255.287,0.953 255.412,1.306 L259.765,13.37 L263.964,1.306 C264.088,0.953 264.212,0.726 264.336,0.622 C264.461,0.518 264.688,0.466 265.02,0.466 L266.76,0.466 C267.051,0.466 267.197,0.591 267.197,0.839 C267.197,0.984 267.124,1.233 266.979,1.585 L260.138,18.997 C259.579,20.428 258.926,21.453 258.179,22.075 C257.433,22.697 256.48,23.009 255.319,23.009\" fill=\"#232F3E\"></path>\\n</g>\\n</svg>\\n</span>\\n</div>\\n</div>\\n<table class=\"footer\" id=\"amazon-affiliates\">\\n<tr>\\n<td colspan=\"8\">\\n                Amazon Affiliates\\n            </td>\\n</tr>\\n<tr>\\n<td>\\n<div>\\n<a class=\"amazon-affiliate-site-link\" href=\"/offsite/?page-action=ft-aiv&amp;token=BCYmWiGlVNefEpy32SZY4btxaaTpB162lDI42IJqkY5PQ7l7nLRSmm1ja_cHS3K7c-UTdxdp9m3s%0D%0AoFxHyXKFCtdWeGlF3RcWf49YCF4XaFJhhzNj980GiN6nmk6quLjyIQXKfqqnHdvW4KecRMphP3DH%0D%0A5X5XFkK0Rs2pONkwhouXAOtdSdjC3p1leo6C60e00B1dAmAaGINDz5DbzCrKcFdduVIRzuAKziwH%0D%0ASenqHJ2cK1E%0D%0A\">\\n<span class=\"amazon-affiliate-site-name\">Amazon Video</span><br/>\\n<span class=\"amazon-affiliate-site-desc\">Watch Movies &amp;<br/>TV Online</span>\\n</a>\\n</div>\\n</td>\\n<td>\\n<div>\\n<a class=\"amazon-affiliate-site-link\" href=\"/offsite/?page-action=ft-piv&amp;token=BCYi5MVZ52F4rSb_cBKcKe4U0Py0ZVTnBviyJpRDicTpf9ttqKgF82fLFmCJRA-caqbKQRwFT9vq%0D%0APed2PC1TBHXHM7wgmqet2wLLvEHmWIBAtfxpbqY76MqO5eYahqneLFQM_LRRIVsFtheL3xecEJGz%0D%0ADjkMb5yWSJlpawicRTCbjFF3zTQ825ACv0cz5Nmh7HsmqB5H6V4W4Wdy7rWsuwJxrvlowpBqbFFz%0D%0AqIT6y86MqX8%0D%0A\">\\n<span class=\"amazon-affiliate-site-name\">Prime Video</span><br/>\\n<span class=\"amazon-affiliate-site-desc\">Unlimited Streaming<br/>of Movies &amp; TV</span>\\n</a>\\n</div>\\n</td>\\n<td>\\n<div>\\n<a class=\"amazon-affiliate-site-link\" href=\"/offsite/?page-action=ft-amzn-de&amp;token=BCYl8yXiKBk65VG6RQ_g_KmKx91JDhRAZiQBXTaibxw5w7paK1vDgVm2zpFlegd0Qn0t7sY6vi9D%0D%0AzFz-FWLZUewlGPlgVLyn_NCVMfFCfCgPgZOWEdzc9IkeHcu2u8r4zSRXBC4QyZaBK5RF2qR5Uywt%0D%0A2yjNPdqEqxi0MklS0hS-hpZtfOKjwHNBr2jqHKNgYVHWdx2AwmDWnGSHW6QXvUHOD0zFQf2fyyCB%0D%0AZ7TpNjAgNvw%0D%0A\">\\n<span class=\"amazon-affiliate-site-name\">Amazon Germany</span><br/>\\n<span class=\"amazon-affiliate-site-desc\">Buy Movies on<br/>DVD &amp; Blu-ray</span>\\n</a>\\n</div>\\n</td>\\n<td>\\n<div>\\n<a class=\"amazon-affiliate-site-link\" href=\"/offsite/?page-action=ft-amzn-it&amp;token=BCYhUf9viiYoWRs7-8PnbNU7GzqkLqg3pe5PP_6w4jFJl1Y9wKJHVyLNmQKTztYbKpMbgqeTV2q3%0D%0A1nvaDht_hPowUWxHSNclM22vJ93USJlOl2WRxWJkAhcFURGS4rZ15_ALIfZ3L_2VWBV2-9lJiSGn%0D%0A7Tt1iqTiJo_3p8DSbzI5o3SynKye8MeUBrYjBn-0leumEuemgi5IcWNsq5UU0upg3UN5LzHtsMz-%0D%0AmwbX1LMlAkk%0D%0A\">\\n<span class=\"amazon-affiliate-site-name\">Amazon Italy</span><br/>\\n<span class=\"amazon-affiliate-site-desc\">Buy Movies on<br/>DVD &amp; Blu-ray</span>\\n</a>\\n</div>\\n</td>\\n<td>\\n<div>\\n<a class=\"amazon-affiliate-site-link\" href=\"/offsite/?page-action=ft-amzn-fr&amp;token=BCYpY9nR7N3G8dJTfMKEV_kjcBcozJQYv2CsUQq9GZJ-lKhyYc947EhW4L-dgIRj6z2v5klGZF0l%0D%0Aqqzota_N0MwY_WSXwRQCzrBEfnyBoIO5S0zNRRt5UX2A2qxVChhIE5zCV3IWItjjEI1-OlovKwNG%0D%0At-ECPTZiT2KewS8DFip0UhCE-E4CbWWEtkXciks64G8kZQjhoYj4_QRgTVZkKEE6Mj-SKQd_STim%0D%0AokllzuCOX7M%0D%0A\">\\n<span class=\"amazon-affiliate-site-name\">Amazon France</span><br/>\\n<span class=\"amazon-affiliate-site-desc\">Buy Movies on<br/>DVD &amp; Blu-ray</span>\\n</a>\\n</div>\\n</td>\\n<td>\\n<div>\\n<a class=\"amazon-affiliate-site-link\" href=\"/offsite/?page-action=ft-amzn-in&amp;token=BCYsaK6VKTk7dxSQZ8GQFetPZB52kMrnmAJwTsuf0qRDGdpaFxwt15StaumeX3xy4v4qb42R1mXy%0D%0Azrhre8GCz8T3gFP3XR9CiFnwHJimPyPdhzp2sR0Janc4d0djivolT-vT-4gpAd7a1Cr4tQbRU73r%0D%0AAEJFqfRiK1-9pojmqjZQmpvchLFU8_6l-pOz4OWPkT1hE6tA5-TNhXuzfFnl8Zt4NB1cj4G0LMTR%0D%0APW-rUBeH2PK8037sTDhvCsdCbqrB9IDt%0D%0A\">\\n<span class=\"amazon-affiliate-site-name\">Amazon India</span><br/>\\n<span class=\"amazon-affiliate-site-desc\">Buy Movie and<br/>TV Show DVDs</span>\\n</a>\\n</div>\\n</td>\\n<td>\\n<div>\\n<a class=\"amazon-affiliate-site-link\" href=\"/offsite/?page-action=ft-amzn-dpr&amp;token=BCYlizhW8ekngb-ZfuaRR4KsuB6UJRLsg50tXDr_jGU4m9PNn5gqE9tvTqloRKnDSpN_Zej_c_XK%0D%0AUMoPQD7fGAqme4RbXCMM09cRDEBd2QXVvw96IVsBAd5UkGF_kE0t646PEE_eeFiZ3_qnOlxiSbug%0D%0AAhAZ92WT22QUKL8K1Aoz1XU%0D%0A\">\\n<span class=\"amazon-affiliate-site-name\">DPReview</span><br/>\\n<span class=\"amazon-affiliate-site-desc\">Digital<br/>Photography</span>\\n</a>\\n</div>\\n</td>\\n<td>\\n<div>\\n<a class=\"amazon-affiliate-site-link\" href=\"/offsite/?page-action=ft-amzn-aud&amp;token=BCYiOAdp7jyFXvOf6tOc_715_DaAUNUfCcEqvSlswt_bhiSPRgRC8-DWMeICiAP2y91Zw3PazPyJ%0D%0AmqqLLnv5xVFV9TEUf5GhdQjaJcpHBqKAaIMQOQxJIPA4j63FGzgK9A2k1QXXdd9Xm4kOxleJ6jOV%0D%0ALoowEtNiijNG-b6dnfES2-Q%0D%0A\">\\n<span class=\"amazon-affiliate-site-name\">Audible</span><br/>\\n<span class=\"amazon-affiliate-site-desc\">Download<br/>Audio Books</span>\\n</a>\\n</div>\\n</td>\\n</tr>\\n</table>\\n</div>\\n<script>\\n    if (typeof uet == 'function') {\\n      uet(\"be\", \"desktopFooter\", {wb: 1});\\n    }\\n</script>\\n<script>\\n    if (typeof uex == 'function') {\\n      uex(\"ld\", \"desktopFooter\", {wb: 1});\\n    }\\n</script>\\n<script type=\"text/javascript\">\\n        try {\\n            window.lumierePlayer = window.lumierePlayer || {};\\n            window.lumierePlayer.weblab = JSON.parse('{\"IMDB_VIDEO_PLAYER_162496\":\"C\",\"IMDB_VIDEO_PLAYER_177344\":\"T1\"}');\\n        } catch (error) {\\n            if (window.ueLogError) {\\n                window.ueLogError(error, {\\n                    logLevel: \"WARN\",\\n                    attribution: \"videoplayer\",\\n                    message: \"Failed to parse weblabs for video player.\"\\n                });\\n            }\\n        }\\n    </script>\\n</div>\\n</div>\\n<script src=\"https://m.media-amazon.com/images/G/01/imdb/js/collections/common-2839667071._CB479755740_.js\" type=\"text/javascript\"></script>\\n<script src=\"https://m.media-amazon.com/images/G/01/imdb/js/collections/jquery-4293905719._CB480234403_.js\" type=\"text/javascript\"></script>\\n<script src=\"https://m.media-amazon.com/images/G/01/imdb/js/collections/consumersite-524836512._CB478554993_.js\" type=\"text/javascript\"></script>\\n<script src=\"https://m.media-amazon.com/images/G/01/imdb/js/collections/other-2664903318._CB483810204_.js\" type=\"text/javascript\"></script>\\n<script src=\"https://m.media-amazon.com/images/G/01/imdb/js/collections/starbarwidget-335260898._CB470042218_.js\" type=\"text/javascript\"></script>\\n<script src=\"https://m.media-amazon.com/images/G/01/imdb/js/collections/watchlistButton-2798692260._CB483414245_.js\" type=\"text/javascript\"></script>\\n<script type=\"text/javascript\">\\n            function jQueryOnReady(remaining_count) {\\n                if (window.jQuery && typeof $.fn.watchlistRibbon !== 'undefined') {\\n                    jQuery(\\n                            function() {\\n        // Init the watchlist rendering\\n        $(\"a.wlb_watchlist_lite\").wlb_lite();\\n        $(\".lister\").watchlistRibbon(\".ribbonize\");\\n\\n        // Invoke the rating animation\\n        $(\".lister-item\").rating_animation();\\n    }\\n\\n                    );\\n                } else if (remaining_count > 0) {\\n                    setTimeout(function() { jQueryOnReady(remaining_count-1) }, 100);\\n                }\\n            }\\n            jQueryOnReady(50);\\n            </script>\\n<div id=\"servertime\" time=\"140\"></div>\\n<script>\\n    if (typeof uet == 'function') {\\n      uet(\"be\");\\n    }\\n</script>\\n</body>\\n</html>\\n"
      ]
     },
     "execution_count": 11,
     "metadata": {},
     "output_type": "execute_result"
    }
   ],
   "source": [
    "html_soup"
   ]
  },
  {
   "cell_type": "markdown",
   "metadata": {},
   "source": [
    "The html page has different attributes. Let us play a little with some of them. "
   ]
  },
  {
   "cell_type": "code",
   "execution_count": 18,
   "metadata": {},
   "outputs": [
    {
     "data": {
      "text/plain": [
       "<head>\\n<meta charset=\"unicode-escape\"/>\\n<meta content=\"IE=edge\" http-equiv=\"X-UA-Compatible\"/>\\n<meta content=\"app-id=342792525, app-argument=imdb:///?src=mdot\" name=\"apple-itunes-app\"/>\\n<script type=\"text/javascript\">var IMDbTimer={starttime: new Date().getTime(),pt:'java'};</script>\\n<script>\\n    if (typeof uet == 'function') {\\n      uet(\"bb\", \"LoadTitle\", {wb: 1});\\n    }\\n</script>\\n<script>(function(t){ (t.events = t.events || {})[\"csm_head_pre_title\"] = new Date().getTime(); })(IMDbTimer);</script>\\n<title>IMDb: Released between 2018-01-01 and 2018-12-31\\n(Sorted by Number of Votes Descending) - IMDb</title>\\n<script>(function(t){ (t.events = t.events || {})[\"csm_head_post_title\"] = new Date().getTime(); })(IMDbTimer);</script>\\n<script>\\n    if (typeof uet == 'function') {\\n      uet(\"be\", \"LoadTitle\", {wb: 1});\\n    }\\n</script>\\n<script>\\n    if (typeof uex == 'function') {\\n      uex(\"ld\", \"LoadTitle\", {wb: 1});\\n    }\\n</script>\\n<link href=\"https://www.imdb.com/search/title\" rel=\"canonical\"/>\\n<meta content=\"http://www.imdb.com/search/title\" property=\"og:url\">\\n<script>\\n    if (typeof uet == 'function') {\\n      uet(\"bb\", \"LoadIcons\", {wb: 1});\\n    }\\n</script>\\n<script>(function(t){ (t.events = t.events || {})[\"csm_head_pre_icon\"] = new Date().getTime(); })(IMDbTimer);</script>\\n<link href=\"https://m.media-amazon.com/images/G/01/imdb/images/safari-favicon-517611381._CB483525257_.svg\" mask=\"\" rel=\"icon\" sizes=\"any\"/>\\n<link href=\"https://m.media-amazon.com/images/G/01/imdb/images/favicon-2165806970._CB470047330_.ico\" rel=\"icon\" type=\"image/ico\">\\n<meta content=\"#000000\" name=\"theme-color\">\\n<link href=\"https://m.media-amazon.com/images/G/01/imdb/images/desktop-favicon-2165806970._CB484110913_.ico\" rel=\"shortcut icon\" type=\"image/x-icon\"/>\\n<link href=\"https://m.media-amazon.com/images/G/01/imdb/images/mobile/apple-touch-icon-web-4151659188._CB483525313_.png\" rel=\"apple-touch-icon\"/>\\n<link href=\"https://m.media-amazon.com/images/G/01/imdb/images/mobile/apple-touch-icon-web-76x76-53536248._CB484146059_.png\" rel=\"apple-touch-icon\" sizes=\"76x76\"/>\\n<link href=\"https://m.media-amazon.com/images/G/01/imdb/images/mobile/apple-touch-icon-web-120x120-2442878471._CB483525250_.png\" rel=\"apple-touch-icon\" sizes=\"120x120\"/>\\n<link href=\"https://m.media-amazon.com/images/G/01/imdb/images/mobile/apple-touch-icon-web-152x152-1475823641._CB470042035_.png\" rel=\"apple-touch-icon\" sizes=\"152x152\"/>\\n<link href=\"https://m.media-amazon.com/images/G/01/imdb/images/imdbsearch-3349468880._CB470047351_.xml\" rel=\"search\" title=\"IMDb\" type=\"application/opensearchdescription+xml\">\\n<script>(function(t){ (t.events = t.events || {})[\"csm_head_post_icon\"] = new Date().getTime(); })(IMDbTimer);</script>\\n<script>\\n    if (typeof uet == 'function') {\\n      uet(\"be\", \"LoadIcons\", {wb: 1});\\n    }\\n</script>\\n<script>\\n    if (typeof uex == 'function') {\\n      uex(\"ld\", \"LoadIcons\", {wb: 1});\\n    }\\n</script>\\n<meta content=\"search\" property=\"pageType\">\\n<meta content=\"title\" property=\"subpageType\"/>\\n<link href=\"https://m.media-amazon.com/images/G/01/imdb/images-ANDW73HA/imdb_fb_logo._CB1542065250_.png\" rel=\"image_src\"/>\\n<meta content=\"https://m.media-amazon.com/images/G/01/imdb/images-ANDW73HA/imdb_fb_logo._CB1542065250_.png\" property=\"og:image\"/>\\n<meta content=\"115109575169727\" property=\"fb:app_id\"/>\\n<meta content=\"IMDb: Released between 2018-01-01 and 2018-12-31\\n(Sorted by Number of Votes Descending)\" property=\"og:title\"/>\\n<meta content=\"IMDb\" property=\"og:site_name\"/>\\n<meta content=\"IMDb: Released between 2018-01-01 and 2018-12-31\\n(Sorted by Number of Votes Descending) - IMDb\" name=\"title\"/>\\n<meta content=\"IMDb's advanced search allows you to run extremely powerful queries over all people and titles in the database. Find exactly what you're looking for!\" name=\"description\"/>\\n<meta content=\"IMDb's advanced search allows you to run extremely powerful queries over all people and titles in the database. Find exactly what you're looking for!\" property=\"og:description\"/>\\n<meta content=\"RYZ95S11TRAHDNWW350Z\" name=\"request_id\"/>\\n<script>\\n    if (typeof uet == 'function') {\\n      uet(\"bb\", \"LoadCSS\", {wb: 1});\\n    }\\n</script>\\n<script>(function(t){ (t.events = t.events || {})[\"csm_head_pre_css\"] = new Date().getTime(); })(IMDbTimer);</script>\\n<link href=\"https://m.media-amazon.com/images/G/01/imdb/css/collections/consumersite-1494784295._CB460575318_.css\" rel=\"stylesheet\" type=\"text/css\">\\n<!-- h=ics-c42xl-1-1f-4de7a654.us-east-1 -->\\n<link href=\"https://m.media-amazon.com/images/G/01/imdb/css/site/consumer-navbar-mega-4236899592._CB479077956_.css\" rel=\"stylesheet\" type=\"text/css\">\\n<!--[if IE]><link rel=\"stylesheet\" type=\"text/css\" href=\"https://m.media-amazon.com/images/G/01/imdb/css/collections/ie-3579153447._CB470040875_.css\" /><![endif]-->\\n<link href=\"https://m.media-amazon.com/images/G/01/imdb/css/iui/lists-3710000030._CB470256113_.css\" rel=\"stylesheet\" type=\"text/css\">\\n<link href=\"https://m.media-amazon.com/images/G/01/imdb/css/collections/other-3276907539._CB480870133_.css\" rel=\"stylesheet\" type=\"text/css\">\\n<link href=\"https://m.media-amazon.com/images/G/01/imdb/css/collections/starbarwidget-2454701167._CB470040909_.css\" rel=\"stylesheet\" type=\"text/css\"/>\\n<link href=\"https://m.media-amazon.com/images/G/01/imdb/css/collections/watchlistButton-197279306._CB482060654_.css\" rel=\"stylesheet\" type=\"text/css\"/>\\n<noscript>\\n<link href=\"https://m.media-amazon.com/images/G/01/imdb/css/wheel/nojs-2827156349._CB470041026_.css\" rel=\"stylesheet\" type=\"text/css\"/>\\n</noscript>\\n<script>(function(t){ (t.events = t.events || {})[\"csm_head_post_css\"] = new Date().getTime(); })(IMDbTimer);</script>\\n<script>\\n    if (typeof uet == 'function') {\\n      uet(\"be\", \"LoadCSS\", {wb: 1});\\n    }\\n</script>\\n<script>\\n    if (typeof uex == 'function') {\\n      uex(\"ld\", \"LoadCSS\", {wb: 1});\\n    }\\n</script>\\n<script>\\n    if (typeof uet == 'function') {\\n      uet(\"bb\", \"LoadJS\", {wb: 1});\\n    }\\n</script>\\n<script>(function(t){ (t.events = t.events || {})[\"csm_head_pre_ads\"] = new Date().getTime(); })(IMDbTimer);</script>\\n<script type=\"text/javascript\">\\n            // ensures js doesn't die if ads service fails.  \\n            // Note that we need to define the js here, since ad js is being rendered inline after this.\\n            (function(f) {\\n                // Fallback javascript, when the ad Service call fails.  \\n                \\n                if((window.csm == null || window.generic == null || window.consoleLog == null)) {\\n                    if (window.console && console.log) {\\n                        console.log(\"one or more of window.csm, window.generic or window.consoleLog has been stubbed...\");\\n                    }\\n                }\\n                \\n                window.csm = window.csm || { measure:f, record:f, duration:f, listen:f, metrics:{} };\\n                window.generic = window.generic || { monitoring: { start_timing: f, stop_timing: f } };\\n                window.consoleLog = window.consoleLog || f;\\n            })(function() {});\\n        </script>\\n<script>\\n    if ('csm' in window) {\\n      csm.measure('csm_head_delivery_finished');\\n    }\\n  </script>\\n<script>\\n    if (typeof uet == 'function') {\\n      uet(\"be\", \"LoadJS\", {wb: 1});\\n    }\\n</script>\\n<script>\\n    if (typeof uex == 'function') {\\n      uex(\"ld\", \"LoadJS\", {wb: 1});\\n    }\\n</script>\\n</link></link></link></link></meta></link></meta></link></meta></head>"
      ]
     },
     "execution_count": 18,
     "metadata": {},
     "output_type": "execute_result"
    }
   ],
   "source": [
    "html_soup.head"
   ]
  },
  {
   "cell_type": "code",
   "execution_count": 16,
   "metadata": {},
   "outputs": [],
   "source": [
    "testa=html_soup.head"
   ]
  },
  {
   "cell_type": "code",
   "execution_count": 23,
   "metadata": {},
   "outputs": [
    {
     "data": {
      "text/plain": [
       "[u'\\n',\n",
       " <meta charset=\"unicode-escape\"/>,\n",
       " u'\\n',\n",
       " <meta content=\"IE=edge\" http-equiv=\"X-UA-Compatible\"/>,\n",
       " u'\\n',\n",
       " <meta content=\"app-id=342792525, app-argument=imdb:///?src=mdot\" name=\"apple-itunes-app\"/>,\n",
       " u'\\n',\n",
       " <script type=\"text/javascript\">var IMDbTimer={starttime: new Date().getTime(),pt:'java'};</script>,\n",
       " u'\\n',\n",
       " <script>\\n    if (typeof uet == 'function') {\\n      uet(\"bb\", \"LoadTitle\", {wb: 1});\\n    }\\n</script>,\n",
       " u'\\n',\n",
       " <script>(function(t){ (t.events = t.events || {})[\"csm_head_pre_title\"] = new Date().getTime(); })(IMDbTimer);</script>,\n",
       " u'\\n',\n",
       " <title>IMDb: Released between 2018-01-01 and 2018-12-31\\n(Sorted by Number of Votes Descending) - IMDb</title>,\n",
       " u'\\n',\n",
       " <script>(function(t){ (t.events = t.events || {})[\"csm_head_post_title\"] = new Date().getTime(); })(IMDbTimer);</script>,\n",
       " u'\\n',\n",
       " <script>\\n    if (typeof uet == 'function') {\\n      uet(\"be\", \"LoadTitle\", {wb: 1});\\n    }\\n</script>,\n",
       " u'\\n',\n",
       " <script>\\n    if (typeof uex == 'function') {\\n      uex(\"ld\", \"LoadTitle\", {wb: 1});\\n    }\\n</script>,\n",
       " u'\\n',\n",
       " <link href=\"https://www.imdb.com/search/title\" rel=\"canonical\"/>,\n",
       " u'\\n',\n",
       " <meta content=\"http://www.imdb.com/search/title\" property=\"og:url\">\\n<script>\\n    if (typeof uet == 'function') {\\n      uet(\"bb\", \"LoadIcons\", {wb: 1});\\n    }\\n</script>\\n<script>(function(t){ (t.events = t.events || {})[\"csm_head_pre_icon\"] = new Date().getTime(); })(IMDbTimer);</script>\\n<link href=\"https://m.media-amazon.com/images/G/01/imdb/images/safari-favicon-517611381._CB483525257_.svg\" mask=\"\" rel=\"icon\" sizes=\"any\"/>\\n<link href=\"https://m.media-amazon.com/images/G/01/imdb/images/favicon-2165806970._CB470047330_.ico\" rel=\"icon\" type=\"image/ico\">\\n<meta content=\"#000000\" name=\"theme-color\">\\n<link href=\"https://m.media-amazon.com/images/G/01/imdb/images/desktop-favicon-2165806970._CB484110913_.ico\" rel=\"shortcut icon\" type=\"image/x-icon\"/>\\n<link href=\"https://m.media-amazon.com/images/G/01/imdb/images/mobile/apple-touch-icon-web-4151659188._CB483525313_.png\" rel=\"apple-touch-icon\"/>\\n<link href=\"https://m.media-amazon.com/images/G/01/imdb/images/mobile/apple-touch-icon-web-76x76-53536248._CB484146059_.png\" rel=\"apple-touch-icon\" sizes=\"76x76\"/>\\n<link href=\"https://m.media-amazon.com/images/G/01/imdb/images/mobile/apple-touch-icon-web-120x120-2442878471._CB483525250_.png\" rel=\"apple-touch-icon\" sizes=\"120x120\"/>\\n<link href=\"https://m.media-amazon.com/images/G/01/imdb/images/mobile/apple-touch-icon-web-152x152-1475823641._CB470042035_.png\" rel=\"apple-touch-icon\" sizes=\"152x152\"/>\\n<link href=\"https://m.media-amazon.com/images/G/01/imdb/images/imdbsearch-3349468880._CB470047351_.xml\" rel=\"search\" title=\"IMDb\" type=\"application/opensearchdescription+xml\">\\n<script>(function(t){ (t.events = t.events || {})[\"csm_head_post_icon\"] = new Date().getTime(); })(IMDbTimer);</script>\\n<script>\\n    if (typeof uet == 'function') {\\n      uet(\"be\", \"LoadIcons\", {wb: 1});\\n    }\\n</script>\\n<script>\\n    if (typeof uex == 'function') {\\n      uex(\"ld\", \"LoadIcons\", {wb: 1});\\n    }\\n</script>\\n<meta content=\"search\" property=\"pageType\">\\n<meta content=\"title\" property=\"subpageType\"/>\\n<link href=\"https://m.media-amazon.com/images/G/01/imdb/images-ANDW73HA/imdb_fb_logo._CB1542065250_.png\" rel=\"image_src\"/>\\n<meta content=\"https://m.media-amazon.com/images/G/01/imdb/images-ANDW73HA/imdb_fb_logo._CB1542065250_.png\" property=\"og:image\"/>\\n<meta content=\"115109575169727\" property=\"fb:app_id\"/>\\n<meta content=\"IMDb: Released between 2018-01-01 and 2018-12-31\\n(Sorted by Number of Votes Descending)\" property=\"og:title\"/>\\n<meta content=\"IMDb\" property=\"og:site_name\"/>\\n<meta content=\"IMDb: Released between 2018-01-01 and 2018-12-31\\n(Sorted by Number of Votes Descending) - IMDb\" name=\"title\"/>\\n<meta content=\"IMDb's advanced search allows you to run extremely powerful queries over all people and titles in the database. Find exactly what you're looking for!\" name=\"description\"/>\\n<meta content=\"IMDb's advanced search allows you to run extremely powerful queries over all people and titles in the database. Find exactly what you're looking for!\" property=\"og:description\"/>\\n<meta content=\"RYZ95S11TRAHDNWW350Z\" name=\"request_id\"/>\\n<script>\\n    if (typeof uet == 'function') {\\n      uet(\"bb\", \"LoadCSS\", {wb: 1});\\n    }\\n</script>\\n<script>(function(t){ (t.events = t.events || {})[\"csm_head_pre_css\"] = new Date().getTime(); })(IMDbTimer);</script>\\n<link href=\"https://m.media-amazon.com/images/G/01/imdb/css/collections/consumersite-1494784295._CB460575318_.css\" rel=\"stylesheet\" type=\"text/css\">\\n<!-- h=ics-c42xl-1-1f-4de7a654.us-east-1 -->\\n<link href=\"https://m.media-amazon.com/images/G/01/imdb/css/site/consumer-navbar-mega-4236899592._CB479077956_.css\" rel=\"stylesheet\" type=\"text/css\">\\n<!--[if IE]><link rel=\"stylesheet\" type=\"text/css\" href=\"https://m.media-amazon.com/images/G/01/imdb/css/collections/ie-3579153447._CB470040875_.css\" /><![endif]-->\\n<link href=\"https://m.media-amazon.com/images/G/01/imdb/css/iui/lists-3710000030._CB470256113_.css\" rel=\"stylesheet\" type=\"text/css\">\\n<link href=\"https://m.media-amazon.com/images/G/01/imdb/css/collections/other-3276907539._CB480870133_.css\" rel=\"stylesheet\" type=\"text/css\">\\n<link href=\"https://m.media-amazon.com/images/G/01/imdb/css/collections/starbarwidget-2454701167._CB470040909_.css\" rel=\"stylesheet\" type=\"text/css\"/>\\n<link href=\"https://m.media-amazon.com/images/G/01/imdb/css/collections/watchlistButton-197279306._CB482060654_.css\" rel=\"stylesheet\" type=\"text/css\"/>\\n<noscript>\\n<link href=\"https://m.media-amazon.com/images/G/01/imdb/css/wheel/nojs-2827156349._CB470041026_.css\" rel=\"stylesheet\" type=\"text/css\"/>\\n</noscript>\\n<script>(function(t){ (t.events = t.events || {})[\"csm_head_post_css\"] = new Date().getTime(); })(IMDbTimer);</script>\\n<script>\\n    if (typeof uet == 'function') {\\n      uet(\"be\", \"LoadCSS\", {wb: 1});\\n    }\\n</script>\\n<script>\\n    if (typeof uex == 'function') {\\n      uex(\"ld\", \"LoadCSS\", {wb: 1});\\n    }\\n</script>\\n<script>\\n    if (typeof uet == 'function') {\\n      uet(\"bb\", \"LoadJS\", {wb: 1});\\n    }\\n</script>\\n<script>(function(t){ (t.events = t.events || {})[\"csm_head_pre_ads\"] = new Date().getTime(); })(IMDbTimer);</script>\\n<script type=\"text/javascript\">\\n            // ensures js doesn't die if ads service fails.  \\n            // Note that we need to define the js here, since ad js is being rendered inline after this.\\n            (function(f) {\\n                // Fallback javascript, when the ad Service call fails.  \\n                \\n                if((window.csm == null || window.generic == null || window.consoleLog == null)) {\\n                    if (window.console && console.log) {\\n                        console.log(\"one or more of window.csm, window.generic or window.consoleLog has been stubbed...\");\\n                    }\\n                }\\n                \\n                window.csm = window.csm || { measure:f, record:f, duration:f, listen:f, metrics:{} };\\n                window.generic = window.generic || { monitoring: { start_timing: f, stop_timing: f } };\\n                window.consoleLog = window.consoleLog || f;\\n            })(function() {});\\n        </script>\\n<script>\\n    if ('csm' in window) {\\n      csm.measure('csm_head_delivery_finished');\\n    }\\n  </script>\\n<script>\\n    if (typeof uet == 'function') {\\n      uet(\"be\", \"LoadJS\", {wb: 1});\\n    }\\n</script>\\n<script>\\n    if (typeof uex == 'function') {\\n      uex(\"ld\", \"LoadJS\", {wb: 1});\\n    }\\n</script>\\n</link></link></link></link></meta></link></meta></link></meta>]"
      ]
     },
     "execution_count": 23,
     "metadata": {},
     "output_type": "execute_result"
    }
   ],
   "source": [
    "testa.contents"
   ]
  },
  {
   "cell_type": "markdown",
   "metadata": {},
   "source": [
    "Navigate by considering the element of the list of contents..."
   ]
  },
  {
   "cell_type": "code",
   "execution_count": 34,
   "metadata": {},
   "outputs": [
    {
     "data": {
      "text/plain": [
       "<title>IMDb: Released between 2018-01-01 and 2018-12-31\\n(Sorted by Number of Votes Descending) - IMDb</title>"
      ]
     },
     "execution_count": 34,
     "metadata": {},
     "output_type": "execute_result"
    }
   ],
   "source": [
    "testa.contents[13]"
   ]
  },
  {
   "cell_type": "code",
   "execution_count": 35,
   "metadata": {},
   "outputs": [
    {
     "data": {
      "text/plain": [
       "u'title'"
      ]
     },
     "execution_count": 35,
     "metadata": {},
     "output_type": "execute_result"
    }
   ],
   "source": [
    "testa.contents[13].name"
   ]
  },
  {
   "cell_type": "markdown",
   "metadata": {},
   "source": [
    "...or using the tags:"
   ]
  },
  {
   "cell_type": "code",
   "execution_count": 36,
   "metadata": {},
   "outputs": [
    {
     "data": {
      "text/plain": [
       "<title>IMDb: Released between 2018-01-01 and 2018-12-31\\n(Sorted by Number of Votes Descending) - IMDb</title>"
      ]
     },
     "execution_count": 36,
     "metadata": {},
     "output_type": "execute_result"
    }
   ],
   "source": [
    "testa.title"
   ]
  },
  {
   "cell_type": "markdown",
   "metadata": {},
   "source": [
    "[How to navigate in a soup?](https://www.crummy.com/software/BeautifulSoup/bs4/doc/#navigating-the-tree)\n",
    "<br/>An HTML page is organized hierarchically, with parents, children and descendants. Check the link for a more detailed guide."
   ]
  },
  {
   "cell_type": "markdown",
   "metadata": {},
   "source": [
    "### Finding the right tags..."
   ]
  },
  {
   "cell_type": "markdown",
   "metadata": {},
   "source": [
    "I mean, BeautifulSoup is indeed beautiful, but without knowing what we are looking for it is a quite a mess...\n",
    "<br/> Let us investigate the structure of the HTML. This can be done, by going in the **Developer Tools** of your browser (the images are taken from [here](https://www.dataquest.io/blog/web-scraping-beautifulsoup/)). On Chrome:<br>\n",
    "!['developer tools'](l6_developer_tools.png 'Inspect!')"
   ]
  },
  {
   "cell_type": "markdown",
   "metadata": {},
   "source": [
    "There is something similar in each browser. On Firefox:\n",
    "![Firefox](l6_developer_tools_firefox.png 'Sorry, I left it in Italian!')"
   ]
  },
  {
   "cell_type": "markdown",
   "metadata": {},
   "source": [
    "Nevertheless, the important thing is that it permits you to examine the html structure. \n",
    "Going back to Chrome, if you pass the arrow over a certain movie\n",
    "![Logan](l6_container.png 'Still Marvel...')"
   ]
  },
  {
   "cell_type": "markdown",
   "metadata": {},
   "source": [
    "Ok, so the information we are looking for is contained in a 'div' tag. But there is a lot of them! Indeed they contain all we need. For instance, the title is here:\n",
    "![here](l6_h3_title.png)"
   ]
  },
  {
   "cell_type": "markdown",
   "metadata": {},
   "source": [
    "... the rating is here...\n",
    "![Substructure](l6_rating.png 'Here!')"
   ]
  },
  {
   "cell_type": "markdown",
   "metadata": {},
   "source": [
    "... the total number of votes here...\n",
    "![votes](l6_votes.png)"
   ]
  },
  {
   "cell_type": "markdown",
   "metadata": {},
   "source": [
    "... the metascore is here...\n",
    "![cast](l6_metascore.png)"
   ]
  },
  {
   "cell_type": "markdown",
   "metadata": {},
   "source": [
    "... the cast and the directors are here!\n",
    "![cast](l6_directors_actors.png)"
   ]
  },
  {
   "cell_type": "markdown",
   "metadata": {},
   "source": [
    "### Going back to our soup"
   ]
  },
  {
   "cell_type": "markdown",
   "metadata": {},
   "source": [
    "It select all 'div' tags with class 'lister-item mode-advanced' (as the one containing the information about 'Logan')."
   ]
  },
  {
   "cell_type": "code",
   "execution_count": 46,
   "metadata": {},
   "outputs": [],
   "source": [
    "movie_containers = html_soup.find_all('div', class_ = 'lister-item mode-advanced')"
   ]
  },
  {
   "cell_type": "code",
   "execution_count": 49,
   "metadata": {},
   "outputs": [
    {
     "name": "stdout",
     "output_type": "stream",
     "text": [
      "50\n"
     ]
    }
   ],
   "source": [
    "print len(movie_containers)"
   ]
  },
  {
   "cell_type": "markdown",
   "metadata": {},
   "source": [
    "Ok, it starts looking nicer: we have exactly the same number of elements as the results in the search page. But is it indeed nice?"
   ]
  },
  {
   "cell_type": "markdown",
   "metadata": {},
   "source": [
    "### Refining our search"
   ]
  },
  {
   "cell_type": "code",
   "execution_count": 51,
   "metadata": {},
   "outputs": [
    {
     "data": {
      "text/plain": [
       "<div class=\"lister-item mode-advanced\">\\n<div class=\"lister-top-right\">\\n<div class=\"ribbonize\" data-caller=\"filmosearch\" data-tconst=\"tt4154756\"></div>\\n</div>\\n<div class=\"lister-item-image float-left\">\\n<a href=\"/title/tt4154756/?ref_=adv_li_i\"> <img alt=\"Avengers: Infinity War\" class=\"loadlate\" data-tconst=\"tt4154756\" height=\"98\" loadlate=\"https://m.media-amazon.com/images/M/MV5BMjMxNjY2MDU1OV5BMl5BanBnXkFtZTgwNzY1MTUwNTM@._V1_UX67_CR0,0,67,98_AL_.jpg\" src=\"https://m.media-amazon.com/images/G/01/imdb/images/nopicture/large/film-184890147._CB470041630_.png\" width=\"67\"/>\\n</a> </div>\\n<div class=\"lister-item-content\">\\n<h3 class=\"lister-item-header\">\\n<span class=\"lister-item-index unbold text-primary\">1.</span>\\n<a href=\"/title/tt4154756/?ref_=adv_li_tt\">Avengers: Infinity War</a>\\n<span class=\"lister-item-year text-muted unbold\">(2018)</span>\\n</h3>\\n<p class=\"text-muted \">\\n<span class=\"certificate\">PG-13</span>\\n<span class=\"ghost\">|</span>\\n<span class=\"runtime\">149 min</span>\\n<span class=\"ghost\">|</span>\\n<span class=\"genre\">\\nAction, Adventure, Fantasy            </span>\\n</p>\\n<div class=\"ratings-bar\">\\n<div class=\"inline-block ratings-imdb-rating\" data-value=\"8.5\" name=\"ir\">\\n<span class=\"global-sprite rating-star imdb-rating\"></span>\\n<strong>8.5</strong>\\n</div>\\n<div class=\"inline-block ratings-user-rating\">\\n<span class=\"userRatingValue\" data-tconst=\"tt4154756\" id=\"urv_tt4154756\">\\n<span class=\"global-sprite rating-star no-rating\"></span>\\n<span class=\"rate\" data-no-rating=\"Rate this\" data-value=\"0\" name=\"ur\">Rate this</span>\\n</span>\\n<div class=\"starBarWidget\" id=\"sb_tt4154756\">\\n<div class=\"rating rating-list\" data-auth=\"\" data-ga-identifier=\"\" data-starbar-class=\"rating-list\" data-user=\"\" id=\"tt4154756|imdb|8.5|8.5|||search|title\" itemprop=\"aggregateRating\" itemscope=\"\" itemtype=\"http://schema.org/AggregateRating\" title=\"Users rated this 8.5/10 (530,929 votes) - click stars to rate\">\\n<meta content=\"8.5\" itemprop=\"ratingValue\"/>\\n<meta content=\"10\" itemprop=\"bestRating\"/>\\n<meta content=\"530929\" itemprop=\"ratingCount\"/>\\n<span class=\"rating-bg\">\\xa0</span>\\n<span class=\"rating-imdb \" style=\"width: 119px\">\\xa0</span>\\n<span class=\"rating-stars\">\\n<a href=\"/register/login?why=vote&amp;ref_=tt_ov_rt\" rel=\"nofollow\" title=\"Register or login to rate this title\"><span>1</span></a>\\n<a href=\"/register/login?why=vote&amp;ref_=tt_ov_rt\" rel=\"nofollow\" title=\"Register or login to rate this title\"><span>2</span></a>\\n<a href=\"/register/login?why=vote&amp;ref_=tt_ov_rt\" rel=\"nofollow\" title=\"Register or login to rate this title\"><span>3</span></a>\\n<a href=\"/register/login?why=vote&amp;ref_=tt_ov_rt\" rel=\"nofollow\" title=\"Register or login to rate this title\"><span>4</span></a>\\n<a href=\"/register/login?why=vote&amp;ref_=tt_ov_rt\" rel=\"nofollow\" title=\"Register or login to rate this title\"><span>5</span></a>\\n<a href=\"/register/login?why=vote&amp;ref_=tt_ov_rt\" rel=\"nofollow\" title=\"Register or login to rate this title\"><span>6</span></a>\\n<a href=\"/register/login?why=vote&amp;ref_=tt_ov_rt\" rel=\"nofollow\" title=\"Register or login to rate this title\"><span>7</span></a>\\n<a href=\"/register/login?why=vote&amp;ref_=tt_ov_rt\" rel=\"nofollow\" title=\"Register or login to rate this title\"><span>8</span></a>\\n<a href=\"/register/login?why=vote&amp;ref_=tt_ov_rt\" rel=\"nofollow\" title=\"Register or login to rate this title\"><span>9</span></a>\\n<a href=\"/register/login?why=vote&amp;ref_=tt_ov_rt\" rel=\"nofollow\" title=\"Register or login to rate this title\"><span>10</span></a>\\n</span>\\n<span class=\"rating-rating \"><span class=\"value\">8.5</span><span class=\"grey\">/</span><span class=\"grey\">10</span></span>\\n<span class=\"rating-cancel \"><a href=\"/title/tt4154756/vote?v=X;k=\" rel=\"nofollow\" title=\"Delete\"><span>X</span></a></span>\\n\\xa0</div>\\n</div>\\n</div>\\n<div class=\"inline-block ratings-metascore\">\\n<span class=\"metascore favorable\">68        </span>\\n        Metascore\\n            </div>\\n</div>\\n<p class=\"text-muted\">\\n    The Avengers and their allies must be willing to sacrifice all in an attempt to defeat the powerful Thanos before his blitz of devastation and ruin puts an end to the universe.</p>\\n<p class=\"\">\\n    Directors:\\n<a href=\"/name/nm0751577/?ref_=adv_li_dr_0\">Anthony Russo</a>, \\n<a href=\"/name/nm0751648/?ref_=adv_li_dr_1\">Joe Russo</a>\\n<span class=\"ghost\">|</span> \\n    Stars:\\n<a href=\"/name/nm0000375/?ref_=adv_li_st_0\">Robert Downey Jr.</a>, \\n<a href=\"/name/nm1165110/?ref_=adv_li_st_1\">Chris Hemsworth</a>, \\n<a href=\"/name/nm0749263/?ref_=adv_li_st_2\">Mark Ruffalo</a>, \\n<a href=\"/name/nm0262635/?ref_=adv_li_st_3\">Chris Evans</a>\\n</p>\\n<p class=\"sort-num_votes-visible\">\\n<span class=\"text-muted\">Votes:</span>\\n<span data-value=\"530929\" name=\"nv\">530,929</span>\\n<span class=\"ghost\">|</span> <span class=\"text-muted\">Gross:</span>\\n<span data-value=\"678,815,482\" name=\"nv\">$678.82M</span>\\n</p>\\n</div>\\n</div>"
      ]
     },
     "execution_count": 51,
     "metadata": {},
     "output_type": "execute_result"
    }
   ],
   "source": [
    "first_movie = movie_containers[0]\n",
    "first_movie"
   ]
  },
  {
   "cell_type": "markdown",
   "metadata": {},
   "source": [
    "#### The title"
   ]
  },
  {
   "cell_type": "markdown",
   "metadata": {},
   "source": [
    "It could be nicer... Anyway, that's not a big issue since we know that the title is inside the tag 'h3'..."
   ]
  },
  {
   "cell_type": "code",
   "execution_count": 52,
   "metadata": {},
   "outputs": [
    {
     "data": {
      "text/plain": [
       "<h3 class=\"lister-item-header\">\\n<span class=\"lister-item-index unbold text-primary\">1.</span>\\n<a href=\"/title/tt4154756/?ref_=adv_li_tt\">Avengers: Infinity War</a>\\n<span class=\"lister-item-year text-muted unbold\">(2018)</span>\\n</h3>"
      ]
     },
     "execution_count": 52,
     "metadata": {},
     "output_type": "execute_result"
    }
   ],
   "source": [
    "first_movie.h3"
   ]
  },
  {
   "cell_type": "markdown",
   "metadata": {},
   "source": [
    "... then let us look for the inner tag with the title..."
   ]
  },
  {
   "cell_type": "code",
   "execution_count": 55,
   "metadata": {},
   "outputs": [
    {
     "data": {
      "text/plain": [
       "<a href=\"/title/tt4154756/?ref_=adv_li_tt\">Avengers: Infinity War</a>"
      ]
     },
     "execution_count": 55,
     "metadata": {},
     "output_type": "execute_result"
    }
   ],
   "source": [
    "first_movie.h3.a"
   ]
  },
  {
   "cell_type": "markdown",
   "metadata": {},
   "source": [
    "... and get the text:"
   ]
  },
  {
   "cell_type": "code",
   "execution_count": 56,
   "metadata": {},
   "outputs": [
    {
     "data": {
      "text/plain": [
       "u'Avengers: Infinity War'"
      ]
     },
     "execution_count": 56,
     "metadata": {},
     "output_type": "execute_result"
    }
   ],
   "source": [
    "first_movie.h3.a.text"
   ]
  },
  {
   "cell_type": "markdown",
   "metadata": {},
   "source": [
    "**Cool!** We can get even the year (if we would have been interested...)"
   ]
  },
  {
   "cell_type": "markdown",
   "metadata": {},
   "source": [
    "#### The year"
   ]
  },
  {
   "cell_type": "code",
   "execution_count": 68,
   "metadata": {},
   "outputs": [
    {
     "data": {
      "text/plain": [
       "<span class=\"lister-item-index unbold text-primary\">1.</span>"
      ]
     },
     "execution_count": 68,
     "metadata": {},
     "output_type": "execute_result"
    }
   ],
   "source": [
    "first_movie.h3.span"
   ]
  },
  {
   "cell_type": "markdown",
   "metadata": {},
   "source": [
    "Where is the second one? BeautifulSoup consider only the first item it finds with that name."
   ]
  },
  {
   "cell_type": "code",
   "execution_count": 74,
   "metadata": {},
   "outputs": [
    {
     "data": {
      "text/plain": [
       "u'(2018)'"
      ]
     },
     "execution_count": 74,
     "metadata": {},
     "output_type": "execute_result"
    }
   ],
   "source": [
    "first_movie.find('span', class_=\"lister-item-year text-muted unbold\").text"
   ]
  },
  {
   "cell_type": "markdown",
   "metadata": {},
   "source": [
    "#### The rating"
   ]
  },
  {
   "cell_type": "markdown",
   "metadata": {},
   "source": [
    "The rating is instead contained in the strong tag..."
   ]
  },
  {
   "cell_type": "code",
   "execution_count": 84,
   "metadata": {},
   "outputs": [
    {
     "data": {
      "text/plain": [
       "u'8.5'"
      ]
     },
     "execution_count": 84,
     "metadata": {},
     "output_type": "execute_result"
    }
   ],
   "source": [
    "first_movie.strong.text"
   ]
  },
  {
   "cell_type": "markdown",
   "metadata": {},
   "source": [
    "#### The metascore"
   ]
  },
  {
   "cell_type": "markdown",
   "metadata": {},
   "source": [
    "The metascore is still in another 'span':"
   ]
  },
  {
   "cell_type": "code",
   "execution_count": 85,
   "metadata": {},
   "outputs": [
    {
     "data": {
      "text/plain": [
       "u'68        '"
      ]
     },
     "execution_count": 85,
     "metadata": {},
     "output_type": "execute_result"
    }
   ],
   "source": [
    "first_movie.find('span', class_= \"metascore favorable\").text"
   ]
  },
  {
   "cell_type": "markdown",
   "metadata": {},
   "source": [
    "#### The number of voters"
   ]
  },
  {
   "cell_type": "markdown",
   "metadata": {},
   "source": [
    "The number of votes is a little more involved: we have to look for the 'span' which has attribute 'name' with value 'nv': "
   ]
  },
  {
   "cell_type": "code",
   "execution_count": 95,
   "metadata": {},
   "outputs": [
    {
     "data": {
      "text/plain": [
       "<span data-value=\"530929\" name=\"nv\">530,929</span>"
      ]
     },
     "execution_count": 95,
     "metadata": {},
     "output_type": "execute_result"
    }
   ],
   "source": [
    "first_movie.find('span', attrs = {'name':'nv'})"
   ]
  },
  {
   "cell_type": "code",
   "execution_count": 92,
   "metadata": {},
   "outputs": [],
   "source": [
    "aux=first_movie.find('span', attrs = {'name':'nv'})"
   ]
  },
  {
   "cell_type": "markdown",
   "metadata": {},
   "source": [
    "Final trick:"
   ]
  },
  {
   "cell_type": "code",
   "execution_count": 93,
   "metadata": {},
   "outputs": [
    {
     "data": {
      "text/plain": [
       "u'530,929'"
      ]
     },
     "execution_count": 93,
     "metadata": {},
     "output_type": "execute_result"
    }
   ],
   "source": [
    "aux.text"
   ]
  },
  {
   "cell_type": "markdown",
   "metadata": {},
   "source": [
    "whose datatype is"
   ]
  },
  {
   "cell_type": "code",
   "execution_count": 94,
   "metadata": {},
   "outputs": [
    {
     "data": {
      "text/plain": [
       "unicode"
      ]
     },
     "execution_count": 94,
     "metadata": {},
     "output_type": "execute_result"
    }
   ],
   "source": [
    "type(aux.text)"
   ]
  },
  {
   "cell_type": "code",
   "execution_count": 96,
   "metadata": {},
   "outputs": [
    {
     "data": {
      "text/plain": [
       "u'530929'"
      ]
     },
     "execution_count": 96,
     "metadata": {},
     "output_type": "execute_result"
    }
   ],
   "source": [
    "aux['data-value']"
   ]
  },
  {
   "cell_type": "code",
   "execution_count": 97,
   "metadata": {},
   "outputs": [
    {
     "ename": "ValueError",
     "evalue": "invalid literal for int() with base 10: '530,929'",
     "output_type": "error",
     "traceback": [
      "\u001b[0;31m---------------------------------------------------------------------------\u001b[0m",
      "\u001b[0;31mValueError\u001b[0m                                Traceback (most recent call last)",
      "\u001b[0;32m<ipython-input-97-def8471a955e>\u001b[0m in \u001b[0;36m<module>\u001b[0;34m()\u001b[0m\n\u001b[0;32m----> 1\u001b[0;31m \u001b[0mint\u001b[0m\u001b[0;34m(\u001b[0m\u001b[0maux\u001b[0m\u001b[0;34m.\u001b[0m\u001b[0mtext\u001b[0m\u001b[0;34m)\u001b[0m\u001b[0;34m\u001b[0m\u001b[0m\n\u001b[0m",
      "\u001b[0;31mValueError\u001b[0m: invalid literal for int() with base 10: '530,929'"
     ]
    }
   ],
   "source": [
    "int(aux.text)"
   ]
  },
  {
   "cell_type": "code",
   "execution_count": 98,
   "metadata": {},
   "outputs": [
    {
     "data": {
      "text/plain": [
       "530929"
      ]
     },
     "execution_count": 98,
     "metadata": {},
     "output_type": "execute_result"
    }
   ],
   "source": [
    "int(aux['data-value'])"
   ]
  },
  {
   "cell_type": "markdown",
   "metadata": {},
   "source": [
    "Better considering the second one!"
   ]
  },
  {
   "cell_type": "markdown",
   "metadata": {},
   "source": [
    "### Exercise: Get the actors and the directors for first_movie"
   ]
  },
  {
   "cell_type": "code",
   "execution_count": null,
   "metadata": {},
   "outputs": [],
   "source": []
  },
  {
   "cell_type": "markdown",
   "metadata": {},
   "source": [
    "#### Fabio's solution"
   ]
  },
  {
   "cell_type": "code",
   "execution_count": 154,
   "metadata": {},
   "outputs": [
    {
     "data": {
      "text/plain": [
       "[<p class=\"text-muted \">\\n<span class=\"certificate\">PG-13</span>\\n<span class=\"ghost\">|</span>\\n<span class=\"runtime\">149 min</span>\\n<span class=\"ghost\">|</span>\\n<span class=\"genre\">\\nAction, Adventure, Fantasy            </span>\\n</p>,\n",
       " <p class=\"\">\\n    Directors:\\n<a href=\"/name/nm0751577/?ref_=adv_li_dr_0\">Anthony Russo</a>, \\n<a href=\"/name/nm0751648/?ref_=adv_li_dr_1\">Joe Russo</a>\\n<span class=\"ghost\">|</span> \\n    Stars:\\n<a href=\"/name/nm0000375/?ref_=adv_li_st_0\">Robert Downey Jr.</a>, \\n<a href=\"/name/nm1165110/?ref_=adv_li_st_1\">Chris Hemsworth</a>, \\n<a href=\"/name/nm0749263/?ref_=adv_li_st_2\">Mark Ruffalo</a>, \\n<a href=\"/name/nm0262635/?ref_=adv_li_st_3\">Chris Evans</a>\\n</p>]"
      ]
     },
     "execution_count": 154,
     "metadata": {},
     "output_type": "execute_result"
    }
   ],
   "source": [
    "first_movie.find_all('p', class_=\"\")"
   ]
  },
  {
   "cell_type": "code",
   "execution_count": 155,
   "metadata": {},
   "outputs": [],
   "source": [
    "aux_p=first_movie.find_all('p', class_=\"\")"
   ]
  },
  {
   "cell_type": "code",
   "execution_count": 156,
   "metadata": {},
   "outputs": [],
   "source": [
    "for aux in aux_p:\n",
    "    if aux.text.find('Director')>0:\n",
    "        da_tag=aux"
   ]
  },
  {
   "cell_type": "code",
   "execution_count": 157,
   "metadata": {},
   "outputs": [],
   "source": [
    "da_vec=[[],[]]\n",
    "\n",
    "helper=0\n",
    "for tagga in da_tag.contents:\n",
    "    if type(tagga)==bs4.element.NavigableString:\n",
    "        if tagga.find('Star')>0:\n",
    "            helper+=1\n",
    "    else:\n",
    "        if tagga.text!='|':\n",
    "            da_vec[helper].append(tagga.text)"
   ]
  },
  {
   "cell_type": "code",
   "execution_count": 158,
   "metadata": {},
   "outputs": [
    {
     "data": {
      "text/plain": [
       "[u'Anthony Russo', u'Joe Russo']"
      ]
     },
     "execution_count": 158,
     "metadata": {},
     "output_type": "execute_result"
    }
   ],
   "source": [
    "da_vec[0]"
   ]
  },
  {
   "cell_type": "code",
   "execution_count": 159,
   "metadata": {},
   "outputs": [
    {
     "data": {
      "text/plain": [
       "[u'Robert Downey Jr.', u'Chris Hemsworth', u'Mark Ruffalo', u'Chris Evans']"
      ]
     },
     "execution_count": 159,
     "metadata": {},
     "output_type": "execute_result"
    }
   ],
   "source": [
    "da_vec[1]"
   ]
  },
  {
   "cell_type": "markdown",
   "metadata": {},
   "source": [
    "### Exercise: download all movies with a metascore among the first 50 (disregard the directors and the cast)"
   ]
  },
  {
   "cell_type": "code",
   "execution_count": null,
   "metadata": {},
   "outputs": [],
   "source": []
  },
  {
   "cell_type": "markdown",
   "metadata": {
    "heading_collapsed": true
   },
   "source": [
    "#### Fabio's solution"
   ]
  },
  {
   "cell_type": "code",
   "execution_count": 163,
   "metadata": {
    "hidden": true
   },
   "outputs": [],
   "source": [
    "fifty=np.zeros(50, dtype=[('title','S30'),('year','i4'),('rating','f4'),('metascore','i4'),('votes','i4')])"
   ]
  },
  {
   "cell_type": "code",
   "execution_count": 177,
   "metadata": {
    "hidden": true
   },
   "outputs": [
    {
     "name": "stdout",
     "output_type": "stream",
     "text": [
      "Avengers: Infinity War\n",
      "Black Panther\n",
      "Deadpool 2\n",
      "Ready Player One\n",
      "A Quiet Place\n",
      "Annihilation\n",
      "Jurassic World: Fallen Kingdom\n",
      "Solo: A Star Wars Story\n",
      "Mission: Impossible - Fallout\n",
      "Ant-Man and the Wasp\n",
      "Venom\n",
      "Incredibles 2\n",
      "Tomb Raider\n",
      "Bohemian Rhapsody\n",
      "Game Night\n",
      "Red Sparrow\n",
      "A Star Is Born\n",
      "Ocean's Eight\n",
      "Hereditary\n",
      "Rampage\n",
      "Isle of Dogs\n",
      "Maze Runner: The Death Cure\n",
      "Pacific Rim: Uprising\n",
      "The Meg\n",
      "The Cloverfield Paradox\n",
      "Upgrade\n",
      "Fantastic Beasts: The Crimes of Grindelwald\n",
      "The Commuter\n",
      "Sicario: Day of the Soldado\n",
      "Love, Simon\n",
      "The Nun\n",
      "BlacKkKlansman\n",
      "Skyscraper\n",
      "Tag\n",
      "The Equalizer 2\n",
      "Den of Thieves\n",
      "First Man\n",
      "The Predator\n",
      "Halloween\n",
      "Crazy Rich Asians\n",
      "Searching\n",
      "To All the Boys I've Loved Before\n",
      "Mamma Mia! Here We Go Again\n",
      "Blockers\n",
      "12 Strong\n"
     ]
    }
   ],
   "source": [
    "offset=0\n",
    "for i in xrange(50):\n",
    "    movie=movie_containers[i]\n",
    "    if movie.find('div', class_ = 'ratings-metascore') is not None:\n",
    "        fifty[i-offset]['title']=movie.h3.a.text\n",
    "        print movie.h3.a.text\n",
    "        aux=movie.find('span', class_=\"lister-item-year text-muted unbold\").text\n",
    "        fifty[i-offset]['year']=aux[-5:-1]\n",
    "        fifty[i-offset]['rating']=movie.strong.text\n",
    "        fifty[i-offset]['metascore']=movie.find('span', class_= \"metascore\").text\n",
    "        fifty[i-offset]['votes']=movie.find('span', attrs = {'name':'nv'})['data-value']\n",
    "    else:\n",
    "        offset+=1"
   ]
  },
  {
   "cell_type": "code",
   "execution_count": 181,
   "metadata": {
    "hidden": true
   },
   "outputs": [],
   "source": [
    "fifty=fifty[fifty['year']>0]"
   ]
  },
  {
   "cell_type": "markdown",
   "metadata": {},
   "source": [
    "### Exercise: download the first 400 movies with a metascore (disregard the directors and the cast)\n",
    "Hints: \n",
    "- [ASCII vs UNICODE](https://stackoverflow.com/questions/2365411/convert-unicode-to-ascii-without-errors-in-python)\n",
    "- [time module and sleep](https://docs.python.org/2/library/time.html#time.sleep) (Do not access too much in order to avoid to get banned)"
   ]
  },
  {
   "cell_type": "code",
   "execution_count": null,
   "metadata": {},
   "outputs": [],
   "source": []
  },
  {
   "cell_type": "markdown",
   "metadata": {},
   "source": [
    "#### Fabio's solution"
   ]
  },
  {
   "cell_type": "code",
   "execution_count": 213,
   "metadata": {},
   "outputs": [],
   "source": [
    "import time\n",
    "import datetime as dt"
   ]
  },
  {
   "cell_type": "markdown",
   "metadata": {},
   "source": [
    "##### asciify"
   ]
  },
  {
   "cell_type": "code",
   "execution_count": 197,
   "metadata": {},
   "outputs": [],
   "source": [
    "def asciify(s):\n",
    "    # In case of non ascii file, it returns a '?'\n",
    "    return \"\".join([x if ord(x) < 128 else '?' for x in s])"
   ]
  },
  {
   "cell_type": "markdown",
   "metadata": {},
   "source": [
    "In ascii we have just 128 characters. In Unicode, more. [ord](https://docs.python.org/2/library/functions.html#ord) returns the unicode position of the argument."
   ]
  },
  {
   "cell_type": "code",
   "execution_count": 203,
   "metadata": {},
   "outputs": [
    {
     "data": {
      "text/plain": [
       "[99, 97, 99, 99, 195, 164]"
      ]
     },
     "execution_count": 203,
     "metadata": {},
     "output_type": "execute_result"
    }
   ],
   "source": [
    "[ord(i) for i in 'caccä']"
   ]
  },
  {
   "cell_type": "markdown",
   "metadata": {},
   "source": [
    "##### Loading"
   ]
  },
  {
   "cell_type": "code",
   "execution_count": 207,
   "metadata": {},
   "outputs": [],
   "source": [
    "films=np.zeros(400, dtype=[('title','S50'),('year','i4'),('rating','f4'),('metascore','i4'),('votes','i4')])"
   ]
  },
  {
   "cell_type": "code",
   "execution_count": 217,
   "metadata": {},
   "outputs": [
    {
     "name": "stdout",
     "output_type": "stream",
     "text": [
      "12:50:58  page=0\n",
      "12:51:01 0) Avengers: Infinity War\n",
      "12:51:01 1) Black Panther\n",
      "12:51:01 2) Deadpool 2\n",
      "12:51:01 3) Ready Player One\n",
      "12:51:01 4) A Quiet Place\n",
      "12:51:01 5) Annihilation\n",
      "12:51:01 6) Jurassic World: Fallen Kingdom\n",
      "12:51:01 7) Solo: A Star Wars Story\n",
      "12:51:01 8) Mission: Impossible - Fallout\n",
      "12:51:01 9) Ant-Man and the Wasp\n",
      "12:51:01 10) Venom\n",
      "12:51:01 11) Incredibles 2\n",
      "12:51:01 12) Tomb Raider\n",
      "12:51:01 13) Bohemian Rhapsody\n",
      "12:51:01 14) Game Night\n",
      "12:51:01 15) Red Sparrow\n",
      "12:51:01 16) A Star Is Born\n",
      "12:51:01 17) Ocean's Eight\n",
      "12:51:01 18) Hereditary\n",
      "12:51:01 19) Rampage\n",
      "12:51:01 20) Isle of Dogs\n",
      "12:51:01 21) Maze Runner: The Death Cure\n",
      "12:51:01 22) Pacific Rim: Uprising\n",
      "12:51:01 23) The Meg\n",
      "12:51:01 24) The Cloverfield Paradox\n",
      "12:51:01 25) Fantastic Beasts: The Crimes o\n",
      "12:51:01 26) Upgrade\n",
      "12:51:01 27) The Commuter\n",
      "12:51:01 28) Sicario: Day of the Soldado\n",
      "12:51:01 29) Love, Simon\n",
      "12:51:01 30) The Nun\n",
      "12:51:01 31) BlacKkKlansman\n",
      "12:51:01 32) Skyscraper\n",
      "12:51:01 33) Tag\n",
      "12:51:01 34) The Equalizer 2\n",
      "12:51:01 35) Den of Thieves\n",
      "12:51:01 36) First Man\n",
      "12:51:01 37) The Predator\n",
      "12:51:01 38) Halloween\n",
      "12:51:01 39) Crazy Rich Asians\n",
      "12:51:01 40) Searching\n",
      "12:51:01 41) To All the Boys I've Loved Bef\n",
      "12:51:01 42) Mamma Mia! Here We Go Again\n",
      "12:51:01 43) Blockers\n",
      "12:51:01 44) 12 Strong\n",
      "12:51:01  page=1\n",
      "12:51:03 45) Death Wish\n",
      "12:51:03 46) Fifty Shades Freed\n",
      "12:51:03 47) Insidious: L'ultima chiave\n",
      "12:51:03 48) The First Purge\n",
      "12:51:03 49) The Spy Who Dumped Me\n",
      "12:51:03 50) Christopher Robin\n",
      "12:51:03 51) Extinction\n",
      "12:51:03 52) The Ballad of Buster Scruggs\n",
      "12:51:03 53) When We First Met\n",
      "12:51:03 54) I Feel Pretty\n",
      "12:51:03 55) Hotel Transylvania 3: Summer V\n",
      "12:51:03 56) Mile 22\n",
      "12:51:03 57) How It Ends\n",
      "12:51:03 58) Tully\n",
      "12:51:03 59) A Wrinkle in Time\n",
      "12:51:03 60) Outlaw King\n",
      "12:51:03 61) Mandy\n",
      "12:51:03 62) Truth or Dare\n",
      "12:51:03 63) A Simple Favor\n",
      "12:51:03 64) Alpha\n",
      "12:51:03 65) Adrift\n",
      "12:51:03 66) Set It Up\n",
      "12:51:03 67) Unsane\n",
      "12:51:03 68) Anon\n",
      "12:51:03 69) Bad Times at the El Royale\n",
      "12:51:03 70) Peter Rabbit\n",
      "12:51:03 71) Mute\n",
      "12:51:03 72) Sorry to Bother You\n",
      "12:51:03 73) Eighth Grade\n",
      "12:51:03 74) The Titan\n",
      "12:51:03 75) American Animals\n",
      "12:51:03 76) Padmaavat\n",
      "12:51:03 77) La vedova Winchester\n",
      "12:51:03  page=2\n",
      "12:51:05 78) Hotel Artemis\n",
      "12:51:05 79) Sierra Burgess Is a Loser\n",
      "12:51:05 80) Game Over, Man!\n",
      "12:51:05 81) Overboard\n",
      "12:51:05 82) Braven - Il coraggioso\n",
      "12:51:05 83) Apostle\n",
      "12:51:05 84) Hold the Dark\n",
      "12:51:05 85) Life of the Party\n",
      "12:51:05 86) The Strangers: Prey at Night\n",
      "12:51:05 87) The 15:17 to Paris\n",
      "12:51:05 88) Leave No Trace\n",
      "12:51:05 89) Gringo\n",
      "12:51:05 90) Tau\n",
      "12:51:05 91) Widows\n",
      "12:51:05 92) Overlord\n",
      "12:51:05 93) The Guernsey Literary and Pota\n",
      "12:51:05 94) Super Troopers 2\n",
      "12:51:05 95) Johnny English Strikes Again\n",
      "12:51:05 96) Traffik\n",
      "12:51:05 97) The Darkest Minds\n",
      "12:51:05 98) The Outsider\n",
      "12:51:05 99) Summer of 84\n",
      "12:51:05 100) Peppermint\n",
      "12:51:05 101) Incident in a Ghostland\n",
      "12:51:05 102) Book Club\n",
      "12:51:05 103) 22 July\n",
      "12:51:05 104) Slender Man\n",
      "12:51:05 105) The House with a Clock in Its \n",
      "12:51:05 106) Like Father\n",
      "12:51:05 107) Early Man\n",
      "12:51:05 108) Operation Finale\n",
      "12:51:05 109) Ralph Breaks the Internet\n",
      "12:51:05  page=3\n",
      "12:51:07 110) The Hurricane Heist\n",
      "12:51:07 111) Midnight Sun\n",
      "12:51:07 112) Beirut\n",
      "12:51:07 113) Calibre\n",
      "12:51:07 114) The Week Of\n",
      "12:51:07 115) Creed II\n",
      "12:51:07 116) Terminal\n",
      "12:51:07 117) The Christmas Chronicles\n",
      "12:51:07 118) Ibiza\n",
      "12:51:07 119) Won't You Be My Neighbor?\n",
      "12:51:07 120) Bad Samaritan\n",
      "12:51:07 121) Every Day\n",
      "12:51:07 122) I Can Only Imagine\n",
      "12:51:07 123) The Happytime Murders\n",
      "12:51:07 124) Alex Strangelove\n",
      "12:51:07 125) A Futile and Stupid Gesture\n",
      "12:51:07 126) Suspiria\n",
      "12:51:07 127) Destination Wedding\n",
      "12:51:07 128) Teen Titans Go! To the Movies\n",
      "12:51:07 129) The Night Comes for Us\n",
      "12:51:07  page=4\n",
      "12:51:08 130) Il Grinch\n",
      "12:51:08 131) Cold War\n",
      "12:51:09 132) Unfriended: Dark Web\n",
      "12:51:09 133) Don't Worry, He Won't Get Far \n",
      "12:51:09 134) Occupation\n",
      "12:51:09 135) The Nutcracker and the Four Re\n",
      "12:51:09 136) 7 Days in Entebbe\n",
      "12:51:09 137) The Girl in the Spider's Web\n",
      "12:51:09 138) Breaking In\n",
      "12:51:09 139) The Tale\n",
      "12:51:09 140) In Darkness\n",
      "12:51:09 141) Hunter Killer\n",
      "12:51:09 142) Forever My Girl\n",
      "12:51:09 143) Robin Hood\n",
      "12:51:09 144) Smallfoot\n",
      "12:51:09 145) Blindspotting\n",
      "12:51:09 146) Cam\n",
      "12:51:09 147) Gotti - Il primo padrino\n",
      "12:51:09 148) The Hate U Give\n",
      "12:51:09 149) The Guilty\n",
      "12:51:09 150) Three Identical Strangers\n",
      "12:51:09  page=5\n",
      "12:51:11 151) Uncle Drew\n",
      "12:51:11 152) Father of the Year\n",
      "12:51:11 153) Wildling\n",
      "12:51:11 154) Active Measures\n",
      "12:51:11 155) Siberia\n",
      "12:51:11 156) Sherlock Gnomes\n",
      "12:51:11 157) Burning\n",
      "12:51:11 158) Acts of Violence\n",
      "12:51:11 159) The Miseducation of Cameron Po\n",
      "12:51:11 160) Night School\n",
      "12:51:11 161) L'albero dei frutti selvatici\n",
      "12:51:11 162) Juliet, Naked\n",
      "12:51:11 163) Dogman\n",
      "12:51:11 164) Billionaire Boys Club\n",
      "12:51:11 165) Proud Mary\n",
      "12:51:11 166) Spinning Man\n",
      "12:51:11  page=6\n",
      "12:51:12 167) Private Life\n",
      "12:51:12 168) Climax\n",
      "12:51:12 169) Irreplaceable You\n",
      "12:51:13 170) Un affare di famiglia\n",
      "12:51:13 171) Fahrenheit 11/9\n",
      "12:51:13 172) Death of a Nation\n",
      "12:51:13 173) Kin\n",
      "12:51:13 174) Nappily Ever After\n",
      "12:51:13 175) Dark Hall\n",
      "12:51:13 176) Action Point\n",
      "12:51:13 177) Beautiful Boy\n",
      "12:51:13 178) The Sisters Brothers\n",
      "12:51:13 179) Ut?ya: July 22\n",
      "12:51:13 180) Tutti lo sanno\n",
      "12:51:13 181) Paul, Apostle of Christ\n",
      "12:51:13 182) Acrimony\n",
      "12:51:13 183) Mary Magdalene\n",
      "12:51:13  page=7\n",
      "12:51:14 184) Thunder Road\n",
      "12:51:14 185) The Kindergarten Teacher\n",
      "12:51:14 186) Green Book\n",
      "12:51:15 187) Final Score\n",
      "12:51:15 188) Mid90s\n",
      "12:51:15 189) The Mercy\n",
      "12:51:15 190) Black '47\n",
      "12:51:15 191) The Old Man & the Gun\n",
      "12:51:15 192) The House That Jack Built\n",
      "12:51:15 193) Hearts Beat Loud\n",
      "12:51:15 194) Robin Williams: Come Inside My\n",
      "12:51:15 195) Ideal Home\n",
      "12:51:15  page=8\n",
      "12:51:16 196) RBG\n",
      "12:51:16 197) Zoe\n",
      "12:51:16 198) Goosebumps 2: Haunted Hallowee\n",
      "12:51:16 199) I Think We're Alone Now\n",
      "12:51:16 200) They Shall Not Grow Old\n",
      "12:51:16 201) 211\n",
      "12:51:16 202) Future World\n",
      "12:51:16 203) SuperFly\n",
      "12:51:17 204) White Boy Rick\n",
      "12:51:17 205) The Night Eats the World\n",
      "12:51:17  page=9\n",
      "12:51:18 206) Hell Fest\n",
      "12:51:18 207) Boy Erased\n",
      "12:51:18 208) Instant Family\n",
      "12:51:18 209) L'uomo che uccise Don Chisciot\n",
      "12:51:18 210) Little Italy\n",
      "12:51:18 211) Galveston\n",
      "12:51:18 212) The Land of Steady Habits\n",
      "12:51:18 213) Arizona\n",
      "12:51:18 214) Looking Glass - Oltre lo specc\n",
      "12:51:18 215) Take Your Pills\n",
      "12:51:18 216) Show Dogs\n",
      "12:51:18 217) The Catcher Was a Spy\n",
      "12:51:18 Taking a nap...\n",
      "12:52:18  page=10\n",
      "12:52:20 218) The Favourite\n",
      "12:52:20 219) Kickboxer: Retaliation\n",
      "12:52:20 220) McQueen\n",
      "12:52:20 221) A-X-L\n",
      "12:52:20 222) Reprisal\n",
      "12:52:20 223) Samson\n",
      "12:52:20 224) Whitney\n",
      "12:52:20 225) Under the Silver Lake\n",
      "12:52:20 226) The Other Side of the Wind\n",
      "12:52:21 227) Wildlife\n",
      "12:52:21  page=11\n",
      "12:52:22 228) Assassination Nation\n",
      "12:52:22 229) Our House\n",
      "12:52:22 230) 6 Balloons\n",
      "12:52:22 231) Girl\n",
      "12:52:22 232) The Legacy of a Whitetail Deer\n",
      "12:52:22 233) Roma\n",
      "12:52:23 234) The Clovehitch Killer\n",
      "12:52:23 235) Border\n",
      "12:52:23 236) Can You Ever Forgive Me?\n",
      "12:52:23 237) The Little Stranger\n",
      "12:52:23 238) Giochi di potere\n",
      "12:52:23 239) Lazzaro felice\n",
      "12:52:23  page=12\n",
      "12:52:25 240) The Miracle Season\n",
      "12:52:25 241) Benji\n",
      "12:52:25 242) Black Water\n",
      "12:52:25 243) Scorched Earth\n",
      "12:52:25  page=13\n",
      "12:52:27 244) Mara\n",
      "12:52:27 245) God's Not Dead: A Light in Dar\n",
      "12:52:27 246) I Still See You\n",
      "12:52:27 247) Blood Fest\n",
      "12:52:27 248) Colette\n",
      "12:52:27 249) El Angel\n",
      "12:52:27 250) The Happy Prince\n",
      "12:52:27  page=14\n",
      "12:52:29 251) Free Solo\n",
      "12:52:29 252) Cafarnao\n",
      "12:52:29 253) Summer\n",
      "12:52:29  page=15\n",
      "12:52:31 254) Puzzle\n",
      "12:52:32 255) Museo\n",
      "12:52:32  page=16\n",
      "12:52:34 256) Birthmarked\n",
      "12:52:34 257) Life Itself\n",
      "12:52:34 258) Puppet Master: The Littlest Re\n",
      "12:52:34 259) They'll Love Me When I'm Dead\n",
      "12:52:34 260) Support the Girls\n",
      "12:52:34 261) Quincy\n",
      "12:52:34  page=17\n",
      "12:52:36 262) Slice\n",
      "12:52:36 263) La donna dello scrittore\n",
      "12:52:36 264) Heavy Trip\n",
      "12:52:36  page=18\n",
      "12:52:38 265) The Dark\n",
      "12:52:38 266) Duck Butter\n",
      "12:52:38 267) The Laws of Thermodynamics\n",
      "12:52:38 268) Sunday's Illness\n",
      "12:52:38 269) Damsel\n",
      "12:52:38 270) The Devil's Doorway\n",
      "12:52:38 271) River Runs Red\n",
      "12:52:38  page=19\n"
     ]
    },
    {
     "name": "stdout",
     "output_type": "stream",
     "text": [
      "12:52:41 272) Zanna Bianca\n",
      "12:52:41 273) Elizabeth Harvest\n",
      "12:52:41 274) Birds of Passage\n",
      "12:52:41 275) Boarding School\n",
      "12:52:41 276) First Match\n",
      "12:52:41 277) The Bleeding Edge\n",
      "12:52:41 Taking a nap...\n",
      "12:53:41  page=20\n",
      "12:53:43 278) Nobody's Fool\n",
      "12:53:43 279) Come Sunday\n",
      "12:53:43 280) Jonathan\n",
      "12:53:44  page=21\n",
      "12:53:46 281) A Kid Like Jake\n",
      "12:53:46 282) The Rachel Divide\n",
      "12:53:46  page=22\n",
      "12:53:48 283) The Festival\n",
      "12:53:48 284) Boundaries\n",
      "12:53:48 285) What Keeps You Alive\n",
      "12:53:48 286) Do You Trust this Computer?\n",
      "12:53:48 287) The Possession of Hannah Grace\n",
      "12:53:48 288) Coldplay: A Head Full of Dream\n",
      "12:53:48  page=23\n",
      "12:53:50 289) A Private War\n",
      "12:53:50 290) We the Animals\n",
      "12:53:50 291) The Front Runner\n",
      "12:53:50  page=24\n",
      "12:53:52 292) Ash Is Purest White\n",
      "12:53:52 293) Skate Kitchen\n",
      "12:53:52 294) Dog Days\n",
      "12:53:52 295) Madeline's Madeline\n",
      "12:53:53 296) An Evening with Beverly Luff L\n",
      "12:53:53  page=25\n",
      "12:53:55 297) The Seagull\n",
      "12:53:55 298) Detective Chinatown 2\n",
      "12:53:55 299) Josie\n",
      "12:53:55 300) Dovlatov\n",
      "12:53:55  page=26\n",
      "12:53:57 301) Sorry Angel\n",
      "12:53:57 302) Papa Francesco - Un uomo di pa\n",
      "12:53:57 303) Tramonto\n",
      "12:53:57 304) 3 Faces\n",
      "12:53:57 305) Nancy\n",
      "12:53:57  page=27\n",
      "12:54:00 306) 14 Cameras\n",
      "12:54:00 307) Lizzie\n",
      "12:54:00 308) La donna elettrica\n",
      "12:54:00 309) Mug\n",
      "12:54:00  page=28\n",
      "12:54:02 310) Vox Lux\n",
      "12:54:02 311) Mirai\n",
      "12:54:02 312) Bel Canto\n",
      "12:54:02 313) If Beale Street Could Talk\n",
      "12:54:02  page=29\n",
      "12:54:04 314) Detective Dee e i quattro Re c\n",
      "12:54:04 315) Never Goin' Back\n",
      "12:54:04 Taking a nap...\n",
      "12:55:04  page=30\n",
      "12:55:07 316) Touch Me Not\n",
      "12:55:07 317) Shadow\n",
      "12:55:07 318) Le Ereditiere\n",
      "12:55:07 319) Yardie\n",
      "12:55:07 320) Peterloo\n",
      "12:55:07 321) The Monkey King 3\n",
      "12:55:07  page=31\n",
      "12:55:09 322) The cleaners\n",
      "12:55:09 323) The Most Unknown\n",
      "12:55:09 324) Luis & the Aliens\n",
      "12:55:09 325) At First Light\n",
      "12:55:09 326) BuyBust\n",
      "12:55:09 327) Maquia: When the Promised Flow\n",
      "12:55:09 328) Opera senza autore\n",
      "12:55:09  page=32\n",
      "12:55:11 329) The World Is Yours\n",
      "12:55:11 330) Donbass\n",
      "12:55:11 331) Knife+Heart\n",
      "12:55:11 332) Jane Fonda in Five Acts\n",
      "12:55:12 333) Minding the Gap\n",
      "12:55:12 334) High Life\n",
      "12:55:12 335) Van Gogh - At Eternity's Gate\n",
      "12:55:12  page=33\n",
      "12:55:14 336) Shirkers\n",
      "12:55:14 337) Monster Hunt 2\n",
      "12:55:14 338) Half Magic\n",
      "12:55:14 339) Seeing Allred\n",
      "12:55:14 340) Possum\n",
      "12:55:14  page=34\n",
      "12:55:16 341) Generation Wealth\n",
      "12:55:16  page=35\n",
      "12:55:18 342) Sgt. Stubby: An American Hero\n",
      "12:55:18  page=36\n",
      "12:55:21 343) The Island\n",
      "12:55:21  page=37\n",
      "12:55:23 344) Social Animals\n",
      "12:55:23 345) Blaze\n",
      "12:55:23 346) Becoming Astrid\n",
      "12:55:23 347) London Fields\n",
      "12:55:23 348) Survivors Guide to Prison\n",
      "12:55:23  page=38\n",
      "12:55:25 349) Monster Party\n",
      "12:55:26 350) Blue Iguana\n",
      "12:55:26 351) They Remain\n",
      "12:55:26  page=39\n",
      "12:55:28 352) Speed Kills\n",
      "12:55:28 353) Nostalgia\n",
      "12:55:28 354) Delirium\n",
      "12:55:28 355) Believer\n",
      "12:55:28 356) The Spy Gone North\n",
      "12:55:28 357) Mercury 13\n",
      "12:55:28 Taking a nap...\n",
      "12:56:28  page=40\n",
      "12:56:30 358) Dragged Across Concrete\n",
      "12:56:30 359) Piercing\n",
      "12:56:30 360) Destroyer\n",
      "12:56:31 361) Tea with the Dames\n",
      "12:56:31 362) Unbroken: Path to Redemption\n",
      "12:56:31 363) Bigger\n",
      "12:56:31  page=41\n",
      "12:56:33 364) L'apparizione\n",
      "12:56:33 365) Kursk\n",
      "12:56:33 366) Yomeddine\n",
      "12:56:33  page=42\n",
      "12:56:35 367) Matangi/Maya/M.I.A.\n",
      "12:56:35 368) Studio 54\n",
      "12:56:35 369) The Prayer\n",
      "12:56:35  page=43\n",
      "12:56:38 370) Reversing Roe\n",
      "12:56:38 371) Welcome Home\n",
      "12:56:38 372) Double Lives\n",
      "12:56:38 373) Prospect\n",
      "12:56:38 374) The Escape of Prisoner 614\n",
      "12:56:38 375) The Image Book\n",
      "12:56:38 376) In a Relationship\n",
      "12:56:38 377) Ruben Brandt, Collector\n",
      "12:56:38 378) Pity\n",
      "12:56:38  page=44\n",
      "12:56:40 379) The Ranger\n",
      "12:56:40 380) Loveling\n",
      "12:56:40 381) In guerra\n",
      "12:56:40 382) Eva\n",
      "12:56:40  page=45\n",
      "12:56:43 383) The Long Dumb Road\n",
      "12:56:43 384) Supercon\n",
      "12:56:43 385) Monsters and Men\n",
      "12:56:43 386) Rafiki\n",
      "12:56:43  page=46\n",
      "12:56:45 387) Diamantino\n",
      "12:56:45 388) Don't Go\n",
      "12:56:46  page=47\n",
      "12:56:48 389) Figlia mia\n",
      "12:56:48 390) Dead in a Week: Or Your Money \n",
      "12:56:48 391) Been So Long\n",
      "12:56:48  page=48\n",
      "12:56:51  page=49\n",
      "12:56:53 392) Paradox\n",
      "12:56:53 393) Pass Over\n",
      "12:56:53 Taking a nap...\n",
      "12:57:53  page=50\n",
      "12:57:56 394) Don't Leave Home\n",
      "12:57:56  page=51\n",
      "12:57:59 395) Love, Gilda\n",
      "12:57:59 396) Ride\n",
      "12:57:59 397) Knuckleball\n",
      "12:57:59  page=52\n",
      "12:58:01 398) Dark Money\n",
      "12:58:01 399) Asako I & II\n"
     ]
    }
   ],
   "source": [
    "position=0\n",
    "page=0\n",
    "while position<400:\n",
    "    url = 'https://www.imdb.com/search/title?release_date=2018-01-01,2018-12-31&sort=num_votes,desc&start='+str(1+page*50)+'&ref_=adv_nxt'\n",
    "    print '{0:%H:%M:%S } page={1:d}'.format(dt.datetime.now(),page)\n",
    "    response = get(url,headers = {\"Accept-Language\": \"en-US, en;q=0.5\"})\n",
    "    html_soup = BeautifulSoup(response.text, 'html.parser')\n",
    "    movie_containers = html_soup.find_all('div', class_ = 'lister-item mode-advanced')\n",
    "    for i in xrange(50):\n",
    "        if position>=400:\n",
    "            break\n",
    "        else:\n",
    "            movie=movie_containers[i]\n",
    "            if movie.find('div', class_ = 'ratings-metascore') is not None:\n",
    "                films[position]['title']=asciify(movie.h3.a.text)\n",
    "                print '{0:%H:%M:%S} {1:d}) {2:s}'.format(dt.datetime.now(),position, films[position]['title'])\n",
    "                aux=movie.find('span', class_=\"lister-item-year text-muted unbold\").text\n",
    "                films[position]['year']=aux[-5:-1]\n",
    "                films[position]['rating']=movie.strong.text\n",
    "                films[position]['metascore']=movie.find('span', class_= \"metascore\").text\n",
    "                films[position]['votes']=movie.find('span', attrs = {'name':'nv'})['data-value']\n",
    "                position+=1\n",
    "    page+=1\n",
    "    if page % 10==0:\n",
    "        print '{0:%H:%M:%S} Taking a nap...'.format(dt.datetime.now())\n",
    "        time.sleep(60)"
   ]
  },
  {
   "cell_type": "markdown",
   "metadata": {},
   "source": [
    "##### Some checks"
   ]
  },
  {
   "cell_type": "code",
   "execution_count": 223,
   "metadata": {},
   "outputs": [
    {
     "data": {
      "text/plain": [
       "array([('Un affare di famiglia', 2018, 8.1, 95, 5095),\n",
       "       ('Roma', 2018, 8.6, 95, 2509)],\n",
       "      dtype=[('title', 'S30'), ('year', '<i4'), ('rating', '<f4'), ('metascore', '<i4'), ('votes', '<i4')])"
      ]
     },
     "execution_count": 223,
     "metadata": {},
     "output_type": "execute_result"
    }
   ],
   "source": [
    "films[films['metascore']==np.max(films['metascore'])]"
   ]
  },
  {
   "cell_type": "code",
   "execution_count": 224,
   "metadata": {},
   "outputs": [
    {
     "data": {
      "text/plain": [
       "array([('Death of a Nation', 2018, 4.9, 1, 5029)],\n",
       "      dtype=[('title', 'S30'), ('year', '<i4'), ('rating', '<f4'), ('metascore', '<i4'), ('votes', '<i4')])"
      ]
     },
     "execution_count": 224,
     "metadata": {},
     "output_type": "execute_result"
    }
   ],
   "source": [
    "films[films['metascore']==np.min(films['metascore'])]"
   ]
  },
  {
   "cell_type": "code",
   "execution_count": 226,
   "metadata": {},
   "outputs": [
    {
     "data": {
      "text/plain": [
       "array([('They Shall Not Grow Old', 2018, 8.7, 88, 3464),\n",
       "       ('Free Solo', 2018, 8.7, 83, 1935)],\n",
       "      dtype=[('title', 'S30'), ('year', '<i4'), ('rating', '<f4'), ('metascore', '<i4'), ('votes', '<i4')])"
      ]
     },
     "execution_count": 226,
     "metadata": {},
     "output_type": "execute_result"
    }
   ],
   "source": [
    "films[films['rating']==np.max(films['rating'])]"
   ]
  },
  {
   "cell_type": "code",
   "execution_count": 225,
   "metadata": {},
   "outputs": [
    {
     "data": {
      "text/plain": [
       "array([('Future World', 2018, 3.1, 10, 3417),\n",
       "       ('Delirium', 2018, 3.1, 27,  592)],\n",
       "      dtype=[('title', 'S30'), ('year', '<i4'), ('rating', '<f4'), ('metascore', '<i4'), ('votes', '<i4')])"
      ]
     },
     "execution_count": 225,
     "metadata": {},
     "output_type": "execute_result"
    }
   ],
   "source": [
    "films[films['rating']==np.min(films['rating'])]"
   ]
  },
  {
   "cell_type": "markdown",
   "metadata": {},
   "source": [
    "### Exercise: build on the fly the edgelist of the bipartite network actors/movies for the first 400 films"
   ]
  },
  {
   "cell_type": "code",
   "execution_count": null,
   "metadata": {},
   "outputs": [],
   "source": []
  },
  {
   "cell_type": "markdown",
   "metadata": {},
   "source": [
    "#### Fabio's solution"
   ]
  },
  {
   "cell_type": "markdown",
   "metadata": {},
   "source": [
    "Respect to the previous case the problem is that we do not know in advance what is the number of edges."
   ]
  },
  {
   "cell_type": "code",
   "execution_count": null,
   "metadata": {},
   "outputs": [],
   "source": []
  },
  {
   "cell_type": "code",
   "execution_count": 293,
   "metadata": {},
   "outputs": [
    {
     "name": "stdout",
     "output_type": "stream",
     "text": [
      "15:26:31  page=0\n",
      "15:26:32 0) Avengers: Infinity War                            \n",
      "15:26:32 1) Black Panther                                     \n",
      "15:26:33 2) Deadpool 2                                        \n",
      "15:26:33 3) Ready Player One                                  \n",
      "15:26:33 4) A Quiet Place                                     \n",
      "15:26:33 5) Annihilation                                      \n",
      "15:26:33 6) Jurassic World: Fallen Kingdom                    \n",
      "15:26:33 7) Solo: A Star Wars Story                           \n",
      "15:26:33 8) Mission: Impossible - Fallout                     \n",
      "15:26:33 9) Ant-Man and the Wasp                              \n",
      "15:26:33 10) Venom                                             \n",
      "15:26:33 11) Incredibles 2                                     \n",
      "15:26:33 12) Tomb Raider                                       \n",
      "15:26:33 13) Bohemian Rhapsody                                 \n",
      "15:26:33 14) Game Night                                        \n",
      "15:26:33 15) Red Sparrow                                       \n",
      "15:26:33 16) A Star Is Born                                    \n",
      "15:26:33 17) Ocean's Eight                                     \n",
      "15:26:33 18) Hereditary                                        \n",
      "15:26:33 19) Rampage                                           \n",
      "15:26:33 20) Isle of Dogs                                      \n",
      "15:26:33 21) Maze Runner: The Death Cure                       \n",
      "15:26:33 22) The Meg                                           \n",
      "15:26:33 23) Pacific Rim: Uprising                             \n",
      "15:26:33 24) The Cloverfield Paradox                           \n",
      "15:26:33 25) Fantastic Beasts: The Crimes of Grindelwald       \n",
      "15:26:33 26) Upgrade                                           \n",
      "15:26:33 27) The Commuter                                      \n",
      "15:26:33 28) Sicario: Day of the Soldado                       \n",
      "15:26:33 29) Love, Simon                                       \n",
      "15:26:33 30) The Nun                                           \n",
      "15:26:33 31) BlacKkKlansman                                    \n",
      "15:26:33 32) Skyscraper                                        \n",
      "15:26:33 33) Tag                                               \n",
      "15:26:33 34) The Equalizer 2                                   \n",
      "15:26:33 35) Den of Thieves                                    \n",
      "15:26:33 36) First Man                                         \n",
      "15:26:33 37) The Predator                                      \n",
      "15:26:33 38) Halloween                                         \n",
      "15:26:33 39) Crazy Rich Asians                                 \n",
      "15:26:33 40) Searching                                         \n",
      "15:26:33 41) To All the Boys I've Loved Before                 \n",
      "15:26:33 42) Mamma Mia! Here We Go Again                       \n",
      "15:26:33 43) Blockers                                          \n",
      "15:26:33 44) 12 Strong                                         \n",
      "15:26:33  page=1\n",
      "15:26:34 45) Death Wish                                        \n",
      "15:26:35 46) Fifty Shades Freed                                \n",
      "15:26:35 47) Insidious: L'ultima chiave                        \n",
      "15:26:35 48) The First Purge                                   \n",
      "15:26:35 49) The Spy Who Dumped Me                             \n",
      "15:26:35 50) Christopher Robin                                 \n",
      "15:26:35 51) The Ballad of Buster Scruggs                      \n",
      "15:26:35 52) Extinction                                        \n",
      "15:26:35 53) When We First Met                                 \n",
      "15:26:35 54) I Feel Pretty                                     \n",
      "15:26:35 55) Hotel Transylvania 3: Summer Vacation             \n",
      "15:26:35 56) Mile 22                                           \n",
      "15:26:35 57) How It Ends                                       \n",
      "15:26:35 58) Tully                                             \n",
      "15:26:35 59) A Wrinkle in Time                                 \n",
      "15:26:35 60) Outlaw King                                       \n",
      "15:26:35 61) Mandy                                             \n",
      "15:26:35 62) Truth or Dare                                     \n",
      "15:26:35 63) A Simple Favor                                    \n",
      "15:26:35 64) Alpha                                             \n",
      "15:26:35 65) Adrift                                            \n",
      "15:26:35 66) Set It Up                                         \n",
      "15:26:35 67) Unsane                                            \n",
      "15:26:35 68) Anon                                              \n",
      "15:26:35 69) Bad Times at the El Royale                        \n",
      "15:26:35 70) Peter Rabbit                                      \n",
      "15:26:35 71) Mute                                              \n",
      "15:26:35 72) Sorry to Bother You                               \n",
      "15:26:35 73) Eighth Grade                                      \n",
      "15:26:35 74) The Titan                                         \n",
      "15:26:35 75) American Animals                                  \n",
      "15:26:35 76) Padmaavat                                         \n",
      "15:26:35 77) La vedova Winchester                              \n",
      "15:26:35  page=2\n",
      "15:26:37 78) Hotel Artemis                                     \n",
      "15:26:37 79) Sierra Burgess Is a Loser                         \n",
      "15:26:37 80) Game Over, Man!                                   \n",
      "15:26:37 81) Overboard                                         \n",
      "15:26:37 82) Braven - Il coraggioso                            \n",
      "15:26:37 83) Apostle                                           \n",
      "15:26:37 84) Hold the Dark                                     \n",
      "15:26:37 85) Life of the Party                                 \n",
      "15:26:37 86) The Strangers: Prey at Night                      \n",
      "15:26:37 87) The 15:17 to Paris                                \n",
      "15:26:37 88) Leave No Trace                                    \n",
      "15:26:37 89) Gringo                                            \n",
      "15:26:37 90) Tau                                               \n",
      "15:26:37 91) Widows                                            \n",
      "15:26:37 92) Overlord                                          \n",
      "15:26:37 93) The Guernsey Literary and Potato Peel Pie Society \n",
      "15:26:37 94) Super Troopers 2                                  \n",
      "15:26:37 95) Johnny English Strikes Again                      \n",
      "15:26:37 96) Traffik                                           \n",
      "15:26:37 97) The Darkest Minds                                 \n",
      "15:26:37 98) The Outsider                                      \n",
      "15:26:37 99) Summer of 84                                      \n",
      "15:26:37 100) Peppermint                                        \n",
      "15:26:37 101) Incident in a Ghostland                           \n",
      "15:26:37 102) Book Club                                         \n",
      "15:26:37 103) 22 July                                           \n",
      "15:26:37 104) Slender Man                                       \n",
      "15:26:37 105) The House with a Clock in Its Walls               \n",
      "15:26:37 106) Like Father                                       \n",
      "15:26:37 107) Early Man                                         \n",
      "15:26:37 108) Operation Finale                                  \n",
      "15:26:37 109) Ralph Breaks the Internet                         \n",
      "15:26:37  page=3\n",
      "15:26:39 110) The Hurricane Heist                               \n",
      "15:26:39 111) Midnight Sun                                      \n",
      "15:26:39 112) Beirut                                            \n",
      "15:26:39 113) Calibre                                           \n",
      "15:26:39 114) Creed II                                          \n",
      "15:26:39 115) The Week Of                                       \n",
      "15:26:39 116) Terminal                                          \n",
      "15:26:39 117) The Christmas Chronicles                          \n",
      "15:26:39 118) Ibiza                                             \n",
      "15:26:39 119) Won't You Be My Neighbor?                         \n",
      "15:26:39 120) Bad Samaritan                                     \n",
      "15:26:39 121) Every Day                                         \n",
      "15:26:39 122) I Can Only Imagine                                \n",
      "15:26:39 123) The Happytime Murders                             \n",
      "15:26:39 124) Alex Strangelove                                  \n",
      "15:26:39 125) A Futile and Stupid Gesture                       \n",
      "15:26:39 126) Suspiria                                          \n"
     ]
    },
    {
     "name": "stdout",
     "output_type": "stream",
     "text": [
      "15:26:39 127) Destination Wedding                               \n",
      "15:26:39 128) Teen Titans Go! To the Movies                     \n",
      "15:26:39 129) The Night Comes for Us                            \n",
      "15:26:39  page=4\n",
      "15:26:41 130) Il Grinch                                         \n",
      "15:26:41 131) Cold War                                          \n",
      "15:26:41 132) Unfriended: Dark Web                              \n",
      "15:26:41 133) Don't Worry, He Won't Get Far on Foot             \n",
      "15:26:41 134) Occupation                                        \n",
      "15:26:41 135) The Nutcracker and the Four Realms                \n",
      "15:26:41 136) 7 Days in Entebbe                                 \n",
      "15:26:41 137) The Girl in the Spider's Web                      \n",
      "15:26:41 138) Breaking In                                       \n",
      "15:26:41 139) The Tale                                          \n",
      "15:26:41 140) In Darkness                                       \n",
      "15:26:41 141) Hunter Killer                                     \n",
      "15:26:41 142) Forever My Girl                                   \n",
      "15:26:41 143) Robin Hood                                        \n",
      "15:26:41 144) Smallfoot                                         \n",
      "15:26:41 145) Blindspotting                                     \n",
      "15:26:41 146) Cam                                               \n",
      "15:26:41 147) Gotti - Il primo padrino                          \n",
      "15:26:41 148) The Hate U Give                                   \n",
      "15:26:41 149) The Guilty                                        \n",
      "15:26:41 150) Three Identical Strangers                         \n",
      "15:26:41  page=5\n",
      "15:26:43 151) Uncle Drew                                        \n",
      "15:26:43 152) Father of the Year                                \n",
      "15:26:43 153) Wildling                                          \n",
      "15:26:43 154) Active Measures                                   \n",
      "15:26:43 155) Siberia                                           \n",
      "15:26:43 156) Sherlock Gnomes                                   \n",
      "15:26:43 157) Burning                                           \n",
      "15:26:43 158) Acts of Violence                                  \n",
      "15:26:43 159) The Miseducation of Cameron Post                  \n",
      "15:26:43 160) Night School                                      \n",
      "15:26:43 161) L'albero dei frutti selvatici                     \n",
      "15:26:43 162) Juliet, Naked                                     \n",
      "15:26:43 163) Dogman                                            \n",
      "15:26:43 164) Billionaire Boys Club                             \n",
      "15:26:43 165) Proud Mary                                        \n",
      "15:26:43 166) Spinning Man                                      \n",
      "15:26:43  page=6\n",
      "15:26:45 167) Private Life                                      \n",
      "15:26:45 168) Climax                                            \n",
      "15:26:45 169) Irreplaceable You                                 \n",
      "15:26:45 170) Un affare di famiglia                             \n",
      "15:26:45 171) Death of a Nation                                 \n",
      "15:26:45 172) Fahrenheit 11/9                                   \n",
      "15:26:45 173) Kin                                               \n",
      "15:26:46 174) Nappily Ever After                                \n",
      "15:26:46 175) Dark Hall                                         \n",
      "15:26:46 176) Beautiful Boy                                     \n",
      "15:26:46 177) Action Point                                      \n",
      "15:26:46 178) The Sisters Brothers                              \n",
      "15:26:46 179) Ut?ya: July 22                                    \n",
      "15:26:46 180) Tutti lo sanno                                    \n",
      "15:26:46 181) Paul, Apostle of Christ                           \n",
      "15:26:46 182) Acrimony                                          \n",
      "15:26:46 183) Mary Magdalene                                    \n",
      "15:26:46  page=7\n",
      "15:26:48 184) Thunder Road                                      \n",
      "15:26:48 185) The Kindergarten Teacher                          \n",
      "15:26:48 186) Green Book                                        \n",
      "15:26:48 187) Final Score                                       \n",
      "15:26:48 188) Mid90s                                            \n",
      "15:26:48 189) The Mercy                                         \n",
      "15:26:48 190) Black '47                                         \n",
      "15:26:48 191) The Old Man & the Gun                             \n",
      "15:26:48 192) The House That Jack Built                         \n",
      "15:26:48 193) Hearts Beat Loud                                  \n",
      "15:26:48 194) Robin Williams: Come Inside My Mind               \n",
      "15:26:48 195) Ideal Home                                        \n",
      "15:26:48  page=8\n",
      "15:26:50 196) RBG                                               \n",
      "15:26:50 197) Zoe                                               \n",
      "15:26:50 198) Goosebumps 2: Haunted Halloween                   \n",
      "15:26:50 199) I Think We're Alone Now                           \n",
      "15:26:50 200) They Shall Not Grow Old                           \n",
      "15:26:50 201) 211                                               \n",
      "15:26:50 202) Future World                                      \n",
      "15:26:50 203) SuperFly                                          \n",
      "15:26:50 204) White Boy Rick                                    \n",
      "15:26:50 205) The Night Eats the World                          \n",
      "15:26:50  page=9\n",
      "15:26:52 206) Hell Fest                                         \n",
      "15:26:52 207) Boy Erased                                        \n",
      "15:26:52 208) Instant Family                                    \n",
      "15:26:52 209) L'uomo che uccise Don Chisciotte                  \n",
      "15:26:52 210) Little Italy                                      \n",
      "15:26:52 211) Galveston                                         \n",
      "15:26:52 212) The Land of Steady Habits                         \n",
      "15:26:52 213) Arizona                                           \n",
      "15:26:52 214) Looking Glass - Oltre lo specchio                 \n",
      "15:26:53 215) Take Your Pills                                   \n",
      "15:26:53 216) Show Dogs                                         \n",
      "15:26:53 217) The Catcher Was a Spy                             \n",
      "15:26:53 Taking a nap...\n",
      "15:27:53  page=10\n",
      "15:27:54 218) The Favourite                                     \n",
      "15:27:54 219) Kickboxer: Retaliation                            \n",
      "15:27:54 220) McQueen                                           \n",
      "15:27:54 221) A-X-L                                             \n",
      "15:27:54 222) Reprisal                                          \n",
      "15:27:54 223) Samson                                            \n",
      "15:27:54 224) Whitney                                           \n",
      "15:27:54 225) Under the Silver Lake                             \n",
      "15:27:54 226) The Other Side of the Wind                        \n",
      "15:27:54 227) Wildlife                                          \n",
      "15:27:54  page=11\n",
      "15:27:56 228) Assassination Nation                              \n",
      "15:27:56 229) Our House                                         \n",
      "15:27:56 230) 6 Balloons                                        \n",
      "15:27:56 231) Girl                                              \n",
      "15:27:56 232) Roma                                              \n",
      "15:27:56 233) The Legacy of a Whitetail Deer Hunter             \n",
      "15:27:56 234) Border                                            \n",
      "15:27:56 235) The Clovehitch Killer                             \n",
      "15:27:57 236) Can You Ever Forgive Me?                          \n",
      "15:27:57 237) The Little Stranger                               \n",
      "15:27:57 238) Giochi di potere                                  \n",
      "15:27:57 239) Lazzaro felice                                    \n",
      "15:27:57  page=12\n",
      "15:27:59 240) The Miracle Season                                \n",
      "15:27:59 241) Benji                                             \n",
      "15:27:59 242) Black Water                                       \n",
      "15:27:59 243) Scorched Earth                                    \n",
      "15:27:59  page=13\n",
      "15:28:01 244) Mara                                              \n",
      "15:28:01 245) God's Not Dead: A Light in Darkness               \n",
      "15:28:01 246) I Still See You                                   \n",
      "15:28:01 247) Blood Fest                                        \n",
      "15:28:01 248) Colette                                           \n",
      "15:28:01 249) El Angel                                          \n",
      "15:28:01 250) The Happy Prince                                  \n",
      "15:28:01 251) Cafarnao                                          \n",
      "15:28:01  page=14\n"
     ]
    },
    {
     "name": "stdout",
     "output_type": "stream",
     "text": [
      "15:28:03 252) Free Solo                                         \n",
      "15:28:03 253) Summer                                            \n",
      "15:28:03  page=15\n",
      "15:28:05 254) Puzzle                                            \n",
      "15:28:05 255) Museo                                             \n",
      "15:28:05  page=16\n",
      "15:28:08 256) Birthmarked                                       \n",
      "15:28:08 257) Life Itself                                       \n",
      "15:28:08 258) Puppet Master: The Littlest Reich                 \n",
      "15:28:08 259) They'll Love Me When I'm Dead                     \n",
      "15:28:08 260) Support the Girls                                 \n",
      "15:28:08 261) Quincy                                            \n",
      "15:28:08  page=17\n",
      "15:28:10 262) Slice                                             \n",
      "15:28:10 263) La donna dello scrittore                          \n",
      "15:28:10 264) Heavy Trip                                        \n",
      "15:28:10  page=18\n",
      "15:28:12 265) The Dark                                          \n",
      "15:28:12 266) Duck Butter                                       \n",
      "15:28:12 267) The Laws of Thermodynamics                        \n",
      "15:28:12 268) Sunday's Illness                                  \n",
      "15:28:12 269) Damsel                                            \n",
      "15:28:12 270) The Devil's Doorway                               \n",
      "15:28:12 271) River Runs Red                                    \n",
      "15:28:12  page=19\n",
      "15:28:15 272) Zanna Bianca                                      \n",
      "15:28:15 273) Elizabeth Harvest                                 \n",
      "15:28:15 274) Birds of Passage                                  \n",
      "15:28:15 275) Boarding School                                   \n",
      "15:28:15 276) First Match                                       \n",
      "15:28:15 277) The Bleeding Edge                                 \n",
      "15:28:15 Taking a nap...\n",
      "15:29:15  page=20\n",
      "15:29:18 278) Nobody's Fool                                     \n",
      "15:29:18 279) Come Sunday                                       \n",
      "15:29:18 280) Jonathan                                          \n",
      "15:29:18  page=21\n",
      "15:29:20 281) A Kid Like Jake                                   \n",
      "15:29:20 282) The Rachel Divide                                 \n",
      "15:29:20  page=22\n",
      "15:29:22 283) The Festival                                      \n",
      "15:29:22 284) Boundaries                                        \n",
      "15:29:23 285) What Keeps You Alive                              \n",
      "15:29:23 286) The Possession of Hannah Grace                    \n",
      "15:29:23 287) Do You Trust this Computer?                       \n",
      "15:29:23 288) Coldplay: A Head Full of Dreams                   \n",
      "15:29:23  page=23\n",
      "15:29:25 289) A Private War                                     \n",
      "15:29:25 290) We the Animals                                    \n",
      "15:29:25 291) The Front Runner                                  \n",
      "15:29:25  page=24\n",
      "15:29:28 292) Ash Is Purest White                               \n",
      "15:29:28 293) Skate Kitchen                                     \n",
      "15:29:28 294) Dog Days                                          \n",
      "15:29:28 295) Madeline's Madeline                               \n",
      "15:29:28 296) An Evening with Beverly Luff Linn                 \n",
      "15:29:28  page=25\n",
      "15:29:30 297) The Seagull                                       \n",
      "15:29:30 298) Detective Chinatown 2                             \n",
      "15:29:30 299) Josie                                             \n",
      "15:29:30 300) Dovlatov                                          \n",
      "15:29:30  page=26\n",
      "15:29:33 301) Sorry Angel                                       \n",
      "15:29:33 302) Papa Francesco - Un uomo di parola                \n",
      "15:29:33 303) Tramonto                                          \n",
      "15:29:33 304) 3 Faces                                           \n",
      "15:29:33 305) Nancy                                             \n",
      "15:29:33  page=27\n",
      "15:29:35 306) 14 Cameras                                        \n",
      "15:29:36 307) Lizzie                                            \n",
      "15:29:36 308) La donna elettrica                                \n",
      "15:29:36 309) Mug                                               \n",
      "15:29:36  page=28\n",
      "15:29:38 310) Vox Lux                                           \n",
      "15:29:38 311) Mirai                                             \n",
      "15:29:38 312) Bel Canto                                         \n",
      "15:29:38 313) If Beale Street Could Talk                        \n",
      "15:29:38  page=29\n",
      "15:29:41 314) Detective Dee e i quattro Re celesti              \n",
      "15:29:41 315) Never Goin' Back                                  \n",
      "15:29:41 Taking a nap...\n",
      "15:30:41  page=30\n",
      "15:30:43 316) Shadow                                            \n",
      "15:30:43 317) Touch Me Not                                      \n",
      "15:30:43 318) Le Ereditiere                                     \n",
      "15:30:43 319) Yardie                                            \n",
      "15:30:43 320) Peterloo                                          \n",
      "15:30:43 321) The Monkey King 3                                 \n",
      "15:30:43  page=31\n",
      "15:30:46 322) The cleaners                                      \n",
      "15:30:46 323) The Most Unknown                                  \n",
      "15:30:46 324) Luis & the Aliens                                 \n",
      "15:30:46 325) At First Light                                    \n",
      "15:30:46 326) BuyBust                                           \n",
      "15:30:46 327) Maquia: When the Promised Flower Blooms           \n",
      "15:30:46 328) Opera senza autore                                \n",
      "15:30:46 329) The World Is Yours                                \n",
      "15:30:46  page=32\n",
      "15:30:49 330) Donbass                                           \n",
      "15:30:49 331) Knife+Heart                                       \n",
      "15:30:49 332) Jane Fonda in Five Acts                           \n",
      "15:30:49 333) Minding the Gap                                   \n",
      "15:30:49 334) High Life                                         \n",
      "15:30:49 335) Van Gogh - At Eternity's Gate                     \n",
      "15:30:49  page=33\n",
      "15:30:51 336) Shirkers                                          \n",
      "15:30:51 337) Monster Hunt 2                                    \n",
      "15:30:52 338) Half Magic                                        \n",
      "15:30:52 339) Seeing Allred                                     \n",
      "15:30:52 340) Possum                                            \n",
      "15:30:52  page=34\n",
      "15:30:54 341) Generation Wealth                                 \n",
      "15:30:54  page=35\n",
      "15:30:56 342) Sgt. Stubby: An American Hero                     \n",
      "15:30:56  page=36\n",
      "15:30:59 343) The Island                                        \n",
      "15:30:59 344) Social Animals                                    \n",
      "15:30:59  page=37\n",
      "15:31:01 345) Blaze                                             \n",
      "15:31:01 346) Becoming Astrid                                   \n",
      "15:31:01 347) London Fields                                     \n",
      "15:31:01 348) Survivors Guide to Prison                         \n",
      "15:31:01 349) Monster Party                                     \n",
      "15:31:01  page=38\n",
      "15:31:04 350) Blue Iguana                                       \n",
      "15:31:04 351) They Remain                                       \n",
      "15:31:04  page=39\n",
      "15:31:06 352) Speed Kills                                       \n",
      "15:31:06 353) Nostalgia                                         \n",
      "15:31:06 354) Delirium                                          \n",
      "15:31:06 355) Believer                                          \n",
      "15:31:06 356) The Spy Gone North                                \n",
      "15:31:06 357) Mercury 13                                        \n",
      "15:31:06 Taking a nap...\n",
      "15:32:06  page=40\n",
      "15:32:08 358) Dragged Across Concrete                           \n",
      "15:32:09 359) Piercing                                          \n",
      "15:32:09 360) Destroyer                                         \n",
      "15:32:09 361) Tea with the Dames                                \n",
      "15:32:09 362) Unbroken: Path to Redemption                      \n",
      "15:32:09 363) Bigger                                            \n",
      "15:32:09  page=41\n",
      "15:32:11 364) L'apparizione                                     \n",
      "15:32:11 365) Kursk                                             \n",
      "15:32:11 366) Yomeddine                                         \n",
      "15:32:11  page=42\n",
      "15:32:14 367) Matangi/Maya/M.I.A.                               \n",
      "15:32:14 368) Studio 54                                         \n",
      "15:32:14 369) The Prayer                                        \n",
      "15:32:14  page=43\n"
     ]
    },
    {
     "name": "stdout",
     "output_type": "stream",
     "text": [
      "15:32:16 370) Reversing Roe                                     \n",
      "15:32:16 371) Welcome Home                                      \n",
      "15:32:16 372) Double Lives                                      \n",
      "15:32:16 373) Prospect                                          \n",
      "15:32:16 374) The Escape of Prisoner 614                        \n",
      "15:32:16 375) The Image Book                                    \n",
      "15:32:16 376) Ruben Brandt, Collector                           \n",
      "15:32:16 377) In a Relationship                                 \n",
      "15:32:16 378) The Ranger                                        \n",
      "15:32:16  page=44\n",
      "15:32:18 379) Pity                                              \n",
      "15:32:18 380) Loveling                                          \n",
      "15:32:18 381) In guerra                                         \n",
      "15:32:18 382) Eva                                               \n",
      "15:32:18  page=45\n",
      "15:32:21 383) The Long Dumb Road                                \n",
      "15:32:21 384) Supercon                                          \n",
      "15:32:21 385) Monsters and Men                                  \n",
      "15:32:21 386) Rafiki                                            \n",
      "15:32:21  page=46\n",
      "15:32:23 387) Diamantino                                        \n",
      "15:32:23 388) Don't Go                                          \n",
      "15:32:23  page=47\n",
      "15:32:26 389) Dead in a Week: Or Your Money Back                \n",
      "15:32:26 390) Figlia mia                                        \n",
      "15:32:26 391) Been So Long                                      \n",
      "15:32:26  page=48\n",
      "15:32:28  page=49\n",
      "15:32:30 392) Paradox                                           \n",
      "15:32:30 393) Pass Over                                         \n",
      "15:32:30 Taking a nap...\n",
      "15:33:30  page=50\n",
      "15:33:33 394) Don't Leave Home                                  \n",
      "15:33:33  page=51\n",
      "15:33:36 395) Love, Gilda                                       \n",
      "15:33:36 396) Ride                                              \n",
      "15:33:36 397) Knuckleball                                       \n",
      "15:33:36  page=52\n",
      "15:33:38 398) Dark Money                                        \n",
      "15:33:38 399) Asako I & II                                      \n",
      "15:33:38 Download finished, checking lists=1\n"
     ]
    }
   ],
   "source": [
    "position=0\n",
    "page=0\n",
    "movie_list=[]\n",
    "actor_list=[]\n",
    "while position<400:\n",
    "    url = 'https://www.imdb.com/search/title?release_date=2018-01-01,2018-12-31&sort=num_votes,desc&start='+str(1+page*50)+'&ref_=adv_nxt'\n",
    "    print '{0:%H:%M:%S } page={1:d}'.format(dt.datetime.now(),page)\n",
    "    response = get(url,headers = {\"Accept-Language\": \"en-US, en;q=0.5\"})\n",
    "    html_soup = BeautifulSoup(response.text, 'html.parser')\n",
    "    movie_containers = html_soup.find_all('div', class_ = 'lister-item mode-advanced')\n",
    "    for i in xrange(50):\n",
    "        if position>=400:\n",
    "            break\n",
    "        else:\n",
    "            movie=movie_containers[i]\n",
    "            if movie.find('div', class_ = 'ratings-metascore') is not None:\n",
    "                title=asciify(movie.h3.a.text)\n",
    "                print '{0:%H:%M:%S} {1:d}) {2:50s}'.format(dt.datetime.now(),position, title)\n",
    "                \n",
    "                aux_p=movie.find_all('p', class_=\"\")\n",
    "                for aux in aux_p:\n",
    "                    if aux.text.find('Director')>0:\n",
    "                        da_tag=aux\n",
    "                helper=0\n",
    "                for tagga in da_tag.contents:\n",
    "                    if type(tagga)==bs4.element.NavigableString:\n",
    "                        if tagga.find('Star')>0:\n",
    "                            helper+=1\n",
    "                    else:\n",
    "                        if tagga.text!='|' and helper==1:\n",
    "                            movie_list.append(title)\n",
    "                            actor_list.append(asciify(tagga.text))\n",
    "                position+=1\n",
    "    page+=1\n",
    "    if page % 10==0:\n",
    "        print '{0:%H:%M:%S} Taking a nap...'.format(dt.datetime.now())\n",
    "        time.sleep(60)\n",
    "print '{0:%H:%M:%S} Download finished, checking lists={1:b}'.format(dt.datetime.now(),len(movie_list)==len(actor_list))\n",
    "    \n",
    "outcome=np.zeros(len(actor_list), dtype=[('film','S40'),('actor','S40')])\n",
    "outcome['film']=movie_list\n",
    "outcome['actor']=actor_list\n",
    "        "
   ]
  },
  {
   "cell_type": "markdown",
   "metadata": {},
   "source": [
    "#### Check"
   ]
  },
  {
   "cell_type": "markdown",
   "metadata": {},
   "source": [
    "4 stars for each film"
   ]
  },
  {
   "cell_type": "code",
   "execution_count": 294,
   "metadata": {},
   "outputs": [],
   "source": [
    "film_edli,film_edli_k= np.unique(outcome['film'], return_counts=True)"
   ]
  },
  {
   "cell_type": "code",
   "execution_count": 295,
   "metadata": {},
   "outputs": [
    {
     "data": {
      "text/plain": [
       "array([1, 2, 3, 4])"
      ]
     },
     "execution_count": 295,
     "metadata": {},
     "output_type": "execute_result"
    }
   ],
   "source": [
    "np.unique(film_edli_k)"
   ]
  },
  {
   "cell_type": "code",
   "execution_count": 296,
   "metadata": {},
   "outputs": [],
   "source": [
    "actor_edli, actor_edli_k=np.unique(outcome['actor'],return_counts=True)"
   ]
  },
  {
   "cell_type": "code",
   "execution_count": 297,
   "metadata": {},
   "outputs": [
    {
     "data": {
      "text/plain": [
       "array(['Paul Rudd', 'Rashida Jones'], dtype='|S40')"
      ]
     },
     "execution_count": 297,
     "metadata": {},
     "output_type": "execute_result"
    }
   ],
   "source": [
    "actor_edli[actor_edli_k==np.max(actor_edli_k)]"
   ]
  },
  {
   "cell_type": "code",
   "execution_count": null,
   "metadata": {},
   "outputs": [],
   "source": []
  }
 ],
 "metadata": {
  "kernelspec": {
   "display_name": "Python 2",
   "language": "python",
   "name": "python2"
  },
  "language_info": {
   "codemirror_mode": {
    "name": "ipython",
    "version": 2
   },
   "file_extension": ".py",
   "mimetype": "text/x-python",
   "name": "python",
   "nbconvert_exporter": "python",
   "pygments_lexer": "ipython2",
   "version": "2.7.15"
  },
  "latex_envs": {
   "LaTeX_envs_menu_present": true,
   "autoclose": false,
   "autocomplete": true,
   "bibliofile": "biblio.bib",
   "cite_by": "apalike",
   "current_citInitial": 1,
   "eqLabelWithNumbers": true,
   "eqNumInitial": 1,
   "hotkeys": {
    "equation": "Ctrl-E",
    "itemize": "Ctrl-I"
   },
   "labels_anchors": false,
   "latex_user_defs": false,
   "report_style_numbering": false,
   "user_envs_cfg": false
  },
  "toc": {
   "base_numbering": 1,
   "nav_menu": {},
   "number_sections": false,
   "sideBar": true,
   "skip_h1_title": false,
   "title_cell": "Table of Contents",
   "title_sidebar": "Contents",
   "toc_cell": false,
   "toc_position": {},
   "toc_section_display": true,
   "toc_window_display": true
  },
  "varInspector": {
   "cols": {
    "lenName": 16,
    "lenType": 16,
    "lenVar": 40
   },
   "kernels_config": {
    "python": {
     "delete_cmd_postfix": "",
     "delete_cmd_prefix": "del ",
     "library": "var_list.py",
     "varRefreshCmd": "print(var_dic_list())"
    },
    "r": {
     "delete_cmd_postfix": ") ",
     "delete_cmd_prefix": "rm(",
     "library": "var_list.r",
     "varRefreshCmd": "cat(var_dic_list()) "
    }
   },
   "types_to_exclude": [
    "module",
    "function",
    "builtin_function_or_method",
    "instance",
    "_Feature"
   ],
   "window_display": false
  }
 },
 "nbformat": 4,
 "nbformat_minor": 2
}
